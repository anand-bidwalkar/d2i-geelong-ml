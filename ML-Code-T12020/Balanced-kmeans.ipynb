{
 "cells": [
  {
   "cell_type": "code",
   "execution_count": 1,
   "metadata": {
    "colab": {},
    "colab_type": "code",
    "id": "2Y7Rv9DDiA4b"
   },
   "outputs": [],
   "source": [
    "import pandas as pd\n",
    "import numpy as np\n",
    "import matplotlib.pyplot as plt\n",
    "import seaborn as sns\n",
    "import sklearn\n",
    "import scipy\n",
    "from sklearn.metrics import classification_report,accuracy_score\n",
    "from sklearn.ensemble import IsolationForest\n",
    "from sklearn.neighbors import LocalOutlierFactor\n",
    "from sklearn.svm import OneClassSVM\n",
    "from sklearn.model_selection import train_test_split\n",
    "from sklearn.ensemble import RandomForestClassifier\n",
    "from sklearn.metrics import accuracy_score\n",
    "from sklearn.feature_selection import VarianceThreshold\n",
    "from pylab import rcParams\n",
    "rcParams['figure.figsize']= 14,8\n",
    "random_seed=42\n",
    "LABELS=[\"Present\",\"not present\"] "
   ]
  },
  {
   "cell_type": "code",
   "execution_count": 2,
   "metadata": {
    "colab": {
     "base_uri": "https://localhost:8080/",
     "height": 217
    },
    "colab_type": "code",
    "id": "mOe3YLzyj3y6",
    "outputId": "1a72f225-ccf2-4604-f845-e3defad0edbf"
   },
   "outputs": [
    {
     "data": {
      "text/html": [
       "<div>\n",
       "<style scoped>\n",
       "    .dataframe tbody tr th:only-of-type {\n",
       "        vertical-align: middle;\n",
       "    }\n",
       "\n",
       "    .dataframe tbody tr th {\n",
       "        vertical-align: top;\n",
       "    }\n",
       "\n",
       "    .dataframe thead th {\n",
       "        text-align: right;\n",
       "    }\n",
       "</style>\n",
       "<table border=\"1\" class=\"dataframe\">\n",
       "  <thead>\n",
       "    <tr style=\"text-align: right;\">\n",
       "      <th></th>\n",
       "      <th>LUM</th>\n",
       "      <th>LUMquintile</th>\n",
       "      <th>TrainDistThresh</th>\n",
       "      <th>TrainPres</th>\n",
       "      <th>BusDistThresh</th>\n",
       "      <th>BusPres</th>\n",
       "      <th>AccUtDestPres</th>\n",
       "      <th>AccUtDestPresquintile</th>\n",
       "      <th>AccUtDestDist</th>\n",
       "      <th>AccUtDestDistquintile</th>\n",
       "      <th>...</th>\n",
       "      <th>ActCenDist</th>\n",
       "      <th>ActCenDistquintile</th>\n",
       "      <th>TobPopDensp1000</th>\n",
       "      <th>TobPopDensp1000quintile</th>\n",
       "      <th>TobTobVendDist</th>\n",
       "      <th>TobTobVendDistquintile</th>\n",
       "      <th>RatioTrailsToRoads</th>\n",
       "      <th>RatioTrailsToRoadsquintile</th>\n",
       "      <th>Latitude</th>\n",
       "      <th>Longitude</th>\n",
       "    </tr>\n",
       "  </thead>\n",
       "  <tbody>\n",
       "    <tr>\n",
       "      <th>0</th>\n",
       "      <td>0.418636</td>\n",
       "      <td>4</td>\n",
       "      <td>0</td>\n",
       "      <td>0</td>\n",
       "      <td>1</td>\n",
       "      <td>1</td>\n",
       "      <td>2</td>\n",
       "      <td>2</td>\n",
       "      <td>2</td>\n",
       "      <td>2</td>\n",
       "      <td>...</td>\n",
       "      <td>21768.170070</td>\n",
       "      <td>4</td>\n",
       "      <td>0.419933</td>\n",
       "      <td>2</td>\n",
       "      <td>775.371825</td>\n",
       "      <td>3</td>\n",
       "      <td>0.063443</td>\n",
       "      <td>2</td>\n",
       "      <td>-38.1567</td>\n",
       "      <td>144.5551</td>\n",
       "    </tr>\n",
       "    <tr>\n",
       "      <th>1</th>\n",
       "      <td>0.512726</td>\n",
       "      <td>4</td>\n",
       "      <td>1</td>\n",
       "      <td>0</td>\n",
       "      <td>1</td>\n",
       "      <td>1</td>\n",
       "      <td>7</td>\n",
       "      <td>5</td>\n",
       "      <td>7</td>\n",
       "      <td>5</td>\n",
       "      <td>...</td>\n",
       "      <td>1812.155338</td>\n",
       "      <td>1</td>\n",
       "      <td>2.996704</td>\n",
       "      <td>4</td>\n",
       "      <td>315.721995</td>\n",
       "      <td>1</td>\n",
       "      <td>0.025997</td>\n",
       "      <td>1</td>\n",
       "      <td>-38.1333</td>\n",
       "      <td>144.3500</td>\n",
       "    </tr>\n",
       "    <tr>\n",
       "      <th>2</th>\n",
       "      <td>0.209689</td>\n",
       "      <td>2</td>\n",
       "      <td>0</td>\n",
       "      <td>0</td>\n",
       "      <td>1</td>\n",
       "      <td>1</td>\n",
       "      <td>5</td>\n",
       "      <td>3</td>\n",
       "      <td>4</td>\n",
       "      <td>4</td>\n",
       "      <td>...</td>\n",
       "      <td>5267.718643</td>\n",
       "      <td>2</td>\n",
       "      <td>2.670940</td>\n",
       "      <td>4</td>\n",
       "      <td>746.243079</td>\n",
       "      <td>2</td>\n",
       "      <td>0.135687</td>\n",
       "      <td>3</td>\n",
       "      <td>-38.1700</td>\n",
       "      <td>144.3960</td>\n",
       "    </tr>\n",
       "    <tr>\n",
       "      <th>3</th>\n",
       "      <td>0.847546</td>\n",
       "      <td>5</td>\n",
       "      <td>1</td>\n",
       "      <td>1</td>\n",
       "      <td>1</td>\n",
       "      <td>1</td>\n",
       "      <td>7</td>\n",
       "      <td>5</td>\n",
       "      <td>7</td>\n",
       "      <td>5</td>\n",
       "      <td>...</td>\n",
       "      <td>1663.495404</td>\n",
       "      <td>1</td>\n",
       "      <td>9.479434</td>\n",
       "      <td>5</td>\n",
       "      <td>316.179185</td>\n",
       "      <td>1</td>\n",
       "      <td>0.172038</td>\n",
       "      <td>3</td>\n",
       "      <td>-38.1674</td>\n",
       "      <td>144.3658</td>\n",
       "    </tr>\n",
       "    <tr>\n",
       "      <th>4</th>\n",
       "      <td>0.307938</td>\n",
       "      <td>3</td>\n",
       "      <td>0</td>\n",
       "      <td>0</td>\n",
       "      <td>1</td>\n",
       "      <td>1</td>\n",
       "      <td>3</td>\n",
       "      <td>2</td>\n",
       "      <td>4</td>\n",
       "      <td>3</td>\n",
       "      <td>...</td>\n",
       "      <td>4325.191244</td>\n",
       "      <td>1</td>\n",
       "      <td>0.329327</td>\n",
       "      <td>2</td>\n",
       "      <td>669.341899</td>\n",
       "      <td>2</td>\n",
       "      <td>0.157551</td>\n",
       "      <td>3</td>\n",
       "      <td>-38.1200</td>\n",
       "      <td>144.3200</td>\n",
       "    </tr>\n",
       "  </tbody>\n",
       "</table>\n",
       "<p>5 rows × 40 columns</p>\n",
       "</div>"
      ],
      "text/plain": [
       "        LUM  LUMquintile  TrainDistThresh  TrainPres  BusDistThresh  BusPres  \\\n",
       "0  0.418636            4                0          0              1        1   \n",
       "1  0.512726            4                1          0              1        1   \n",
       "2  0.209689            2                0          0              1        1   \n",
       "3  0.847546            5                1          1              1        1   \n",
       "4  0.307938            3                0          0              1        1   \n",
       "\n",
       "   AccUtDestPres  AccUtDestPresquintile  AccUtDestDist  AccUtDestDistquintile  \\\n",
       "0              2                      2              2                      2   \n",
       "1              7                      5              7                      5   \n",
       "2              5                      3              4                      4   \n",
       "3              7                      5              7                      5   \n",
       "4              3                      2              4                      3   \n",
       "\n",
       "   ...    ActCenDist  ActCenDistquintile  TobPopDensp1000  \\\n",
       "0  ...  21768.170070                   4         0.419933   \n",
       "1  ...   1812.155338                   1         2.996704   \n",
       "2  ...   5267.718643                   2         2.670940   \n",
       "3  ...   1663.495404                   1         9.479434   \n",
       "4  ...   4325.191244                   1         0.329327   \n",
       "\n",
       "   TobPopDensp1000quintile  TobTobVendDist  TobTobVendDistquintile  \\\n",
       "0                        2      775.371825                       3   \n",
       "1                        4      315.721995                       1   \n",
       "2                        4      746.243079                       2   \n",
       "3                        5      316.179185                       1   \n",
       "4                        2      669.341899                       2   \n",
       "\n",
       "   RatioTrailsToRoads  RatioTrailsToRoadsquintile  Latitude  Longitude  \n",
       "0            0.063443                           2  -38.1567   144.5551  \n",
       "1            0.025997                           1  -38.1333   144.3500  \n",
       "2            0.135687                           3  -38.1700   144.3960  \n",
       "3            0.172038                           3  -38.1674   144.3658  \n",
       "4            0.157551                           3  -38.1200   144.3200  \n",
       "\n",
       "[5 rows x 40 columns]"
      ]
     },
     "execution_count": 2,
     "metadata": {},
     "output_type": "execute_result"
    }
   ],
   "source": [
    "df=pd.read_csv('./geo_lo.csv',sep=',')\n",
    "df.head()"
   ]
  },
  {
   "cell_type": "code",
   "execution_count": 3,
   "metadata": {
    "colab": {
     "base_uri": "https://localhost:8080/",
     "height": 852
    },
    "colab_type": "code",
    "id": "0k8gU8RqkQLr",
    "outputId": "4142f5cb-1a4a-4d4e-c762-7808009e228d"
   },
   "outputs": [
    {
     "name": "stdout",
     "output_type": "stream",
     "text": [
      "<class 'pandas.core.frame.DataFrame'>\n",
      "RangeIndex: 46 entries, 0 to 45\n",
      "Data columns (total 40 columns):\n",
      " #   Column                      Non-Null Count  Dtype  \n",
      "---  ------                      --------------  -----  \n",
      " 0   LUM                         46 non-null     float64\n",
      " 1   LUMquintile                 46 non-null     int64  \n",
      " 2   TrainDistThresh             46 non-null     int64  \n",
      " 3   TrainPres                   46 non-null     int64  \n",
      " 4   BusDistThresh               46 non-null     int64  \n",
      " 5   BusPres                     46 non-null     int64  \n",
      " 6   AccUtDestPres               46 non-null     int64  \n",
      " 7   AccUtDestPresquintile       46 non-null     int64  \n",
      " 8   AccUtDestDist               46 non-null     int64  \n",
      " 9   AccUtDestDistquintile       46 non-null     int64  \n",
      " 10  SprtLeiDens                 46 non-null     float64\n",
      " 11  SprtLeiDensquintile         46 non-null     int64  \n",
      " 12  SprtLeiDist                 46 non-null     float64\n",
      " 13  SprtLeiDistquintile         46 non-null     int64  \n",
      " 14  POSDist                     46 non-null     float64\n",
      " 15  POSDistquintile             46 non-null     int64  \n",
      " 16  POSAreaPct                  46 non-null     float64\n",
      " 17  POSAreaPctquintile          46 non-null     int64  \n",
      " 18  TakeawayDens                46 non-null     float64\n",
      " 19  TakeawayDensquintile        46 non-null     int64  \n",
      " 20  TakeawayDist                46 non-null     float64\n",
      " 21  TakeawayDistquintile        46 non-null     int64  \n",
      " 22  HealthyFoodDensity          46 non-null     float64\n",
      " 23  HealthyFoodDensityquintile  46 non-null     int64  \n",
      " 24  HealthyFoodDist             46 non-null     float64\n",
      " 25  HealthyFoodDistquintile     46 non-null     int64  \n",
      " 26  GrossDwlDens                46 non-null     float64\n",
      " 27  GrossDwlDensquintile        46 non-null     int64  \n",
      " 28  StrtConn                    46 non-null     float64\n",
      " 29  StrtConnquintile            46 non-null     int64  \n",
      " 30  ActCenDist                  46 non-null     float64\n",
      " 31  ActCenDistquintile          46 non-null     int64  \n",
      " 32  TobPopDensp1000             46 non-null     float64\n",
      " 33  TobPopDensp1000quintile     46 non-null     int64  \n",
      " 34  TobTobVendDist              46 non-null     float64\n",
      " 35  TobTobVendDistquintile      46 non-null     int64  \n",
      " 36  RatioTrailsToRoads          46 non-null     float64\n",
      " 37  RatioTrailsToRoadsquintile  46 non-null     int64  \n",
      " 38  Latitude                    46 non-null     float64\n",
      " 39  Longitude                   46 non-null     float64\n",
      "dtypes: float64(17), int64(23)\n",
      "memory usage: 14.5 KB\n"
     ]
    }
   ],
   "source": [
    "df.info()"
   ]
  },
  {
   "cell_type": "code",
   "execution_count": 4,
   "metadata": {
    "colab": {
     "base_uri": "https://localhost:8080/",
     "height": 52
    },
    "colab_type": "code",
    "id": "JR5oU1nsk-uN",
    "outputId": "bfb8d8d5-c9cf-49de-e873-0780aa874c03"
   },
   "outputs": [
    {
     "name": "stdout",
     "output_type": "stream",
     "text": [
      "(46, 39)\n",
      "(46,)\n"
     ]
    }
   ],
   "source": [
    "#creating dependent and independent attributes\n",
    "columns=df.columns.tolist()\n",
    "columns=[c for c in columns if c not in ['TrainPres']]\n",
    "target='TrainPres'\n",
    "state=np.random.RandomState(42)\n",
    "x=df[columns]\n",
    "y=df[target]\n",
    "x_outliers=state.uniform(low=0,high=1,size=(x.shape[0],x.shape[1]))\n",
    "print(x.shape)\n",
    "print(y.shape)"
   ]
  },
  {
   "cell_type": "code",
   "execution_count": 5,
   "metadata": {
    "colab": {
     "base_uri": "https://localhost:8080/",
     "height": 34
    },
    "colab_type": "code",
    "id": "Z0B5r3t-pcZR",
    "outputId": "8440c305-5ab5-443e-d16a-b777adc7481c"
   },
   "outputs": [
    {
     "data": {
      "text/plain": [
       "False"
      ]
     },
     "execution_count": 5,
     "metadata": {},
     "output_type": "execute_result"
    }
   ],
   "source": [
    "df.isnull().values.any()"
   ]
  },
  {
   "cell_type": "code",
   "execution_count": 6,
   "metadata": {
    "colab": {
     "base_uri": "https://localhost:8080/",
     "height": 531
    },
    "colab_type": "code",
    "id": "o8ef-MZCwJsn",
    "outputId": "d566453a-2da9-4b61-b9d9-764d2d6ae4e2"
   },
   "outputs": [
    {
     "data": {
      "text/plain": [
       "Text(0, 0.5, 'Frequency')"
      ]
     },
     "execution_count": 6,
     "metadata": {},
     "output_type": "execute_result"
    },
    {
     "data": {
      "image/png": "[encoded data removed]",
      "text/plain": [
       "<Figure size 1008x576 with 1 Axes>"
      ]
     },
     "metadata": {
      "needs_background": "light"
     },
     "output_type": "display_data"
    }
   ],
   "source": [
    "count_TrainPres=pd.value_counts(df['TrainPres'],sort =True)\n",
    "count_TrainPres.plot(kind='bar',rot=0)\n",
    "plt.title('train station prediction')\n",
    "plt.xticks(range(2),LABELS)\n",
    "plt.xlabel('TrainPres')\n",
    "plt.ylabel('Frequency')\n"
   ]
  },
  {
   "cell_type": "code",
   "execution_count": 27,
   "metadata": {
    "colab": {
     "base_uri": "https://localhost:8080/",
     "height": 34
    },
    "colab_type": "code",
    "id": "8PNelu6byBcv",
    "outputId": "277045bb-e824-42b5-c2dc-c805f7bde514"
   },
   "outputs": [
    {
     "data": {
      "text/html": [
       "<div>\n",
       "<style scoped>\n",
       "    .dataframe tbody tr th:only-of-type {\n",
       "        vertical-align: middle;\n",
       "    }\n",
       "\n",
       "    .dataframe tbody tr th {\n",
       "        vertical-align: top;\n",
       "    }\n",
       "\n",
       "    .dataframe thead th {\n",
       "        text-align: right;\n",
       "    }\n",
       "</style>\n",
       "<table border=\"1\" class=\"dataframe\">\n",
       "  <thead>\n",
       "    <tr style=\"text-align: right;\">\n",
       "      <th></th>\n",
       "      <th>LUM</th>\n",
       "      <th>LUMquintile</th>\n",
       "      <th>TrainDistThresh</th>\n",
       "      <th>TrainPres</th>\n",
       "      <th>BusDistThresh</th>\n",
       "      <th>BusPres</th>\n",
       "      <th>AccUtDestPres</th>\n",
       "      <th>AccUtDestPresquintile</th>\n",
       "      <th>AccUtDestDist</th>\n",
       "      <th>AccUtDestDistquintile</th>\n",
       "      <th>...</th>\n",
       "      <th>ActCenDist</th>\n",
       "      <th>ActCenDistquintile</th>\n",
       "      <th>TobPopDensp1000</th>\n",
       "      <th>TobPopDensp1000quintile</th>\n",
       "      <th>TobTobVendDist</th>\n",
       "      <th>TobTobVendDistquintile</th>\n",
       "      <th>RatioTrailsToRoads</th>\n",
       "      <th>RatioTrailsToRoadsquintile</th>\n",
       "      <th>Latitude</th>\n",
       "      <th>Longitude</th>\n",
       "    </tr>\n",
       "  </thead>\n",
       "  <tbody>\n",
       "    <tr>\n",
       "      <th>3</th>\n",
       "      <td>0.847546</td>\n",
       "      <td>5</td>\n",
       "      <td>1</td>\n",
       "      <td>1</td>\n",
       "      <td>1</td>\n",
       "      <td>1</td>\n",
       "      <td>7</td>\n",
       "      <td>5</td>\n",
       "      <td>7</td>\n",
       "      <td>5</td>\n",
       "      <td>...</td>\n",
       "      <td>1663.495404</td>\n",
       "      <td>1</td>\n",
       "      <td>9.479434</td>\n",
       "      <td>5</td>\n",
       "      <td>316.179185</td>\n",
       "      <td>1</td>\n",
       "      <td>0.172038</td>\n",
       "      <td>3</td>\n",
       "      <td>-38.1674</td>\n",
       "      <td>144.3658</td>\n",
       "    </tr>\n",
       "    <tr>\n",
       "      <th>9</th>\n",
       "      <td>0.533334</td>\n",
       "      <td>5</td>\n",
       "      <td>1</td>\n",
       "      <td>1</td>\n",
       "      <td>1</td>\n",
       "      <td>1</td>\n",
       "      <td>8</td>\n",
       "      <td>5</td>\n",
       "      <td>6</td>\n",
       "      <td>5</td>\n",
       "      <td>...</td>\n",
       "      <td>7280.750816</td>\n",
       "      <td>3</td>\n",
       "      <td>0.877358</td>\n",
       "      <td>3</td>\n",
       "      <td>792.878963</td>\n",
       "      <td>3</td>\n",
       "      <td>0.166972</td>\n",
       "      <td>3</td>\n",
       "      <td>-38.2000</td>\n",
       "      <td>144.3500</td>\n",
       "    </tr>\n",
       "    <tr>\n",
       "      <th>10</th>\n",
       "      <td>0.213630</td>\n",
       "      <td>2</td>\n",
       "      <td>1</td>\n",
       "      <td>1</td>\n",
       "      <td>1</td>\n",
       "      <td>1</td>\n",
       "      <td>6</td>\n",
       "      <td>4</td>\n",
       "      <td>6</td>\n",
       "      <td>4</td>\n",
       "      <td>...</td>\n",
       "      <td>20319.729240</td>\n",
       "      <td>4</td>\n",
       "      <td>1.617749</td>\n",
       "      <td>4</td>\n",
       "      <td>999.489893</td>\n",
       "      <td>3</td>\n",
       "      <td>0.138250</td>\n",
       "      <td>3</td>\n",
       "      <td>-38.1809</td>\n",
       "      <td>144.5985</td>\n",
       "    </tr>\n",
       "    <tr>\n",
       "      <th>17</th>\n",
       "      <td>0.366360</td>\n",
       "      <td>3</td>\n",
       "      <td>1</td>\n",
       "      <td>1</td>\n",
       "      <td>1</td>\n",
       "      <td>1</td>\n",
       "      <td>5</td>\n",
       "      <td>3</td>\n",
       "      <td>5</td>\n",
       "      <td>4</td>\n",
       "      <td>...</td>\n",
       "      <td>3146.363437</td>\n",
       "      <td>1</td>\n",
       "      <td>3.180212</td>\n",
       "      <td>5</td>\n",
       "      <td>483.667379</td>\n",
       "      <td>1</td>\n",
       "      <td>0.229948</td>\n",
       "      <td>5</td>\n",
       "      <td>-38.1236</td>\n",
       "      <td>144.3563</td>\n",
       "    </tr>\n",
       "    <tr>\n",
       "      <th>22</th>\n",
       "      <td>0.503964</td>\n",
       "      <td>4</td>\n",
       "      <td>0</td>\n",
       "      <td>1</td>\n",
       "      <td>1</td>\n",
       "      <td>1</td>\n",
       "      <td>6</td>\n",
       "      <td>4</td>\n",
       "      <td>5</td>\n",
       "      <td>4</td>\n",
       "      <td>...</td>\n",
       "      <td>7262.991040</td>\n",
       "      <td>3</td>\n",
       "      <td>1.595320</td>\n",
       "      <td>4</td>\n",
       "      <td>534.844319</td>\n",
       "      <td>2</td>\n",
       "      <td>0.157992</td>\n",
       "      <td>3</td>\n",
       "      <td>-38.0741</td>\n",
       "      <td>144.3586</td>\n",
       "    </tr>\n",
       "    <tr>\n",
       "      <th>23</th>\n",
       "      <td>0.205386</td>\n",
       "      <td>2</td>\n",
       "      <td>1</td>\n",
       "      <td>1</td>\n",
       "      <td>0</td>\n",
       "      <td>1</td>\n",
       "      <td>7</td>\n",
       "      <td>5</td>\n",
       "      <td>2</td>\n",
       "      <td>5</td>\n",
       "      <td>...</td>\n",
       "      <td>8640.036685</td>\n",
       "      <td>3</td>\n",
       "      <td>0.577951</td>\n",
       "      <td>2</td>\n",
       "      <td>1362.216799</td>\n",
       "      <td>4</td>\n",
       "      <td>0.181499</td>\n",
       "      <td>4</td>\n",
       "      <td>-38.0229</td>\n",
       "      <td>144.3964</td>\n",
       "    </tr>\n",
       "    <tr>\n",
       "      <th>28</th>\n",
       "      <td>0.658778</td>\n",
       "      <td>5</td>\n",
       "      <td>1</td>\n",
       "      <td>1</td>\n",
       "      <td>1</td>\n",
       "      <td>1</td>\n",
       "      <td>7</td>\n",
       "      <td>5</td>\n",
       "      <td>7</td>\n",
       "      <td>5</td>\n",
       "      <td>...</td>\n",
       "      <td>6724.783286</td>\n",
       "      <td>3</td>\n",
       "      <td>2.269470</td>\n",
       "      <td>4</td>\n",
       "      <td>405.319499</td>\n",
       "      <td>1</td>\n",
       "      <td>0.187973</td>\n",
       "      <td>4</td>\n",
       "      <td>-38.0920</td>\n",
       "      <td>144.3560</td>\n",
       "    </tr>\n",
       "    <tr>\n",
       "      <th>38</th>\n",
       "      <td>0.034904</td>\n",
       "      <td>1</td>\n",
       "      <td>0</td>\n",
       "      <td>1</td>\n",
       "      <td>0</td>\n",
       "      <td>0</td>\n",
       "      <td>3</td>\n",
       "      <td>2</td>\n",
       "      <td>1</td>\n",
       "      <td>3</td>\n",
       "      <td>...</td>\n",
       "      <td>11609.054380</td>\n",
       "      <td>4</td>\n",
       "      <td>0.000000</td>\n",
       "      <td>1</td>\n",
       "      <td>9174.590991</td>\n",
       "      <td>5</td>\n",
       "      <td>0.000000</td>\n",
       "      <td>1</td>\n",
       "      <td>-37.9616</td>\n",
       "      <td>144.4997</td>\n",
       "    </tr>\n",
       "  </tbody>\n",
       "</table>\n",
       "<p>8 rows × 40 columns</p>\n",
       "</div>"
      ],
      "text/plain": [
       "         LUM  LUMquintile  TrainDistThresh  TrainPres  BusDistThresh  BusPres  \\\n",
       "3   0.847546            5                1          1              1        1   \n",
       "9   0.533334            5                1          1              1        1   \n",
       "10  0.213630            2                1          1              1        1   \n",
       "17  0.366360            3                1          1              1        1   \n",
       "22  0.503964            4                0          1              1        1   \n",
       "23  0.205386            2                1          1              0        1   \n",
       "28  0.658778            5                1          1              1        1   \n",
       "38  0.034904            1                0          1              0        0   \n",
       "\n",
       "    AccUtDestPres  AccUtDestPresquintile  AccUtDestDist  \\\n",
       "3               7                      5              7   \n",
       "9               8                      5              6   \n",
       "10              6                      4              6   \n",
       "17              5                      3              5   \n",
       "22              6                      4              5   \n",
       "23              7                      5              2   \n",
       "28              7                      5              7   \n",
       "38              3                      2              1   \n",
       "\n",
       "    AccUtDestDistquintile  ...    ActCenDist  ActCenDistquintile  \\\n",
       "3                       5  ...   1663.495404                   1   \n",
       "9                       5  ...   7280.750816                   3   \n",
       "10                      4  ...  20319.729240                   4   \n",
       "17                      4  ...   3146.363437                   1   \n",
       "22                      4  ...   7262.991040                   3   \n",
       "23                      5  ...   8640.036685                   3   \n",
       "28                      5  ...   6724.783286                   3   \n",
       "38                      3  ...  11609.054380                   4   \n",
       "\n",
       "    TobPopDensp1000  TobPopDensp1000quintile  TobTobVendDist  \\\n",
       "3          9.479434                        5      316.179185   \n",
       "9          0.877358                        3      792.878963   \n",
       "10         1.617749                        4      999.489893   \n",
       "17         3.180212                        5      483.667379   \n",
       "22         1.595320                        4      534.844319   \n",
       "23         0.577951                        2     1362.216799   \n",
       "28         2.269470                        4      405.319499   \n",
       "38         0.000000                        1     9174.590991   \n",
       "\n",
       "    TobTobVendDistquintile  RatioTrailsToRoads  RatioTrailsToRoadsquintile  \\\n",
       "3                        1            0.172038                           3   \n",
       "9                        3            0.166972                           3   \n",
       "10                       3            0.138250                           3   \n",
       "17                       1            0.229948                           5   \n",
       "22                       2            0.157992                           3   \n",
       "23                       4            0.181499                           4   \n",
       "28                       1            0.187973                           4   \n",
       "38                       5            0.000000                           1   \n",
       "\n",
       "    Latitude  Longitude  \n",
       "3   -38.1674   144.3658  \n",
       "9   -38.2000   144.3500  \n",
       "10  -38.1809   144.5985  \n",
       "17  -38.1236   144.3563  \n",
       "22  -38.0741   144.3586  \n",
       "23  -38.0229   144.3964  \n",
       "28  -38.0920   144.3560  \n",
       "38  -37.9616   144.4997  \n",
       "\n",
       "[8 rows x 40 columns]"
      ]
     },
     "execution_count": 27,
     "metadata": {},
     "output_type": "execute_result"
    }
   ],
   "source": [
    "notpresent=df[df['TrainPres']==0]\n",
    "present=df[df['TrainPres']==1]\n",
    "print(notpresent.shape,present.shape)"
   ]
  },
  {
   "cell_type": "code",
   "execution_count": 8,
   "metadata": {
    "colab": {},
    "colab_type": "code",
    "id": "NugOPxHPyvg2"
   },
   "outputs": [],
   "source": [
    "from imblearn.combine import SMOTETomek\n"
   ]
  },
  {
   "cell_type": "code",
   "execution_count": 9,
   "metadata": {
    "colab": {
     "base_uri": "https://localhost:8080/",
     "height": 125
    },
    "colab_type": "code",
    "id": "23VnlS9Jz39E",
    "outputId": "90c8494e-2b70-4932-b123-29ad5ecf00a4"
   },
   "outputs": [
    {
     "data": {
      "text/plain": [
       "((68, 39), (68,))"
      ]
     },
     "execution_count": 9,
     "metadata": {},
     "output_type": "execute_result"
    }
   ],
   "source": [
    "##oversampling\n",
    "smk=SMOTETomek(random_state=42)\n",
    "x_res,y_res=smk.fit_sample(x,y)\n",
    "x_res.shape,y_res.shape\n"
   ]
  },
  {
   "cell_type": "code",
   "execution_count": 10,
   "metadata": {
    "colab": {
     "base_uri": "https://localhost:8080/",
     "height": 52
    },
    "colab_type": "code",
    "id": "HcnHXeyX0uK2",
    "outputId": "d7396d58-8e1c-4966-dcdc-439aba60e46f"
   },
   "outputs": [
    {
     "name": "stdout",
     "output_type": "stream",
     "text": [
      "orginal dataset shapeCounter({0: 38, 1: 8})\n",
      "resampled dataset shapeCounter({0: 34, 1: 34})\n"
     ]
    }
   ],
   "source": [
    "from collections import Counter\n",
    "print('orginal dataset shape{}'.format(Counter(y)))\n",
    "print('resampled dataset shape{}'.format(Counter(y_res)))"
   ]
  },
  {
   "cell_type": "code",
   "execution_count": 43,
   "metadata": {
    "colab": {
     "base_uri": "https://localhost:8080/",
     "height": 90
    },
    "colab_type": "code",
    "id": "dLHG5VyM3y-S",
    "outputId": "f82ad2a6-2c94-4150-8e1b-f95b8989f1d2"
   },
   "outputs": [
    {
     "ename": "TypeError",
     "evalue": "__init__() got an unexpected keyword argument 'ratio'",
     "output_type": "error",
     "traceback": [
      "\u001b[0;31m---------------------------------------------------------------------------\u001b[0m",
      "\u001b[0;31mTypeError\u001b[0m                                 Traceback (most recent call last)",
      "\u001b[0;32m<ipython-input-43-4321acac9f46>\u001b[0m in \u001b[0;36m<module>\u001b[0;34m\u001b[0m\n\u001b[1;32m      1\u001b[0m \u001b[0;31m#Random oversampling\u001b[0m\u001b[0;34m\u001b[0m\u001b[0;34m\u001b[0m\u001b[0;34m\u001b[0m\u001b[0m\n\u001b[1;32m      2\u001b[0m \u001b[0;32mfrom\u001b[0m \u001b[0mimblearn\u001b[0m\u001b[0;34m.\u001b[0m\u001b[0mover_sampling\u001b[0m \u001b[0;32mimport\u001b[0m \u001b[0mRandomOverSampler\u001b[0m\u001b[0;34m\u001b[0m\u001b[0;34m\u001b[0m\u001b[0m\n\u001b[0;32m----> 3\u001b[0;31m \u001b[0mos\u001b[0m\u001b[0;34m=\u001b[0m\u001b[0mRandomOverSampler\u001b[0m\u001b[0;34m(\u001b[0m\u001b[0mratio\u001b[0m\u001b[0;34m=\u001b[0m\u001b[0;36m1\u001b[0m\u001b[0;34m)\u001b[0m\u001b[0;34m\u001b[0m\u001b[0;34m\u001b[0m\u001b[0m\n\u001b[0m\u001b[1;32m      4\u001b[0m \u001b[0mx_train_res\u001b[0m\u001b[0;34m,\u001b[0m\u001b[0my_train_res\u001b[0m\u001b[0;34m=\u001b[0m\u001b[0mos\u001b[0m\u001b[0;34m.\u001b[0m\u001b[0mfit_sample\u001b[0m\u001b[0;34m(\u001b[0m\u001b[0mx\u001b[0m\u001b[0;34m,\u001b[0m\u001b[0my\u001b[0m\u001b[0;34m)\u001b[0m\u001b[0;34m\u001b[0m\u001b[0;34m\u001b[0m\u001b[0m\n\u001b[1;32m      5\u001b[0m \u001b[0mx_train_res\u001b[0m\u001b[0;34m.\u001b[0m\u001b[0mshape\u001b[0m\u001b[0;34m,\u001b[0m\u001b[0my_train_res\u001b[0m\u001b[0;34m.\u001b[0m\u001b[0mshape\u001b[0m\u001b[0;34m\u001b[0m\u001b[0;34m\u001b[0m\u001b[0m\n",
      "\u001b[0;31mTypeError\u001b[0m: __init__() got an unexpected keyword argument 'ratio'"
     ]
    }
   ],
   "source": [
    "#Random oversampling\n",
    "from imblearn.over_sampling import RandomOverSampler\n",
    "os=RandomOverSampler(ratio=1)\n",
    "x_train_res,y_train_res=os.fit_sample(x,y)\n",
    "x_train_res.shape,y_train_res.shape"
   ]
  },
  {
   "cell_type": "code",
   "execution_count": 55,
   "metadata": {
    "colab": {
     "base_uri": "https://localhost:8080/",
     "height": 52
    },
    "colab_type": "code",
    "id": "04Vya-AR5HFu",
    "outputId": "f20daa88-96e0-4a33-9aeb-e03695d15a30"
   },
   "outputs": [
    {
     "name": "stdout",
     "output_type": "stream",
     "text": [
      "orginal dataset shapeCounter({0: 38, 1: 8})\n",
      "resampled dataset shapeCounter({0: 38, 1: 38})\n"
     ]
    }
   ],
   "source": [
    "print('orginal dataset shape{}'.format(Counter(y)))\n",
    "print('resampled dataset shape{}'.format(Counter(y_train_res)))"
   ]
  },
  {
   "cell_type": "code",
   "execution_count": 12,
   "metadata": {
    "colab": {
     "base_uri": "https://localhost:8080/",
     "height": 34
    },
    "colab_type": "code",
    "id": "3X6l_ksJ6fvH",
    "outputId": "98ed6ed1-97c6-49da-ba34-8c6426b9d2e8"
   },
   "outputs": [
    {
     "data": {
      "text/plain": [
       "((46, 39), (46,))"
      ]
     },
     "execution_count": 12,
     "metadata": {},
     "output_type": "execute_result"
    }
   ],
   "source": [
    "#co-relation\n",
    "x=df.drop('TrainPres' , axis=1)\n",
    "y=df['TrainPres']\n",
    "\n",
    "x.shape,y.shape"
   ]
  },
  {
   "cell_type": "code",
   "execution_count": 13,
   "metadata": {
    "colab": {},
    "colab_type": "code",
    "id": "9f7o4iSf-TMA"
   },
   "outputs": [],
   "source": [
    "x_train,x_test,y_train,y_test=train_test_split(x,y,test_size=0.2,random_state=0,stratify=y)"
   ]
  },
  {
   "cell_type": "code",
   "execution_count": 19,
   "metadata": {
    "colab": {
     "base_uri": "https://localhost:8080/",
     "height": 34
    },
    "colab_type": "code",
    "id": "5Jj3IXp8616S",
    "outputId": "a1b24ce3-88d8-4f9c-c9d2-2ba94b78d95a"
   },
   "outputs": [
    {
     "data": {
      "text/plain": [
       "VarianceThreshold(threshold=0)"
      ]
     },
     "execution_count": 19,
     "metadata": {},
     "output_type": "execute_result"
    }
   ],
   "source": [
    "#constant removal\n",
    "# constant_filter=VarianceThreshold(threshold=0)\n",
    "# constant_filter.fit(x_train)"
   ]
  },
  {
   "cell_type": "code",
   "execution_count": null,
   "metadata": {},
   "outputs": [],
   "source": []
  },
  {
   "cell_type": "code",
   "execution_count": 1,
   "metadata": {
    "colab": {},
    "colab_type": "code",
    "id": "CsiKuoJM-dgx"
   },
   "outputs": [
    {
     "ename": "NameError",
     "evalue": "name 'x_train' is not defined",
     "output_type": "error",
     "traceback": [
      "\u001b[1;31m---------------------------------------------------------------------------\u001b[0m",
      "\u001b[1;31mNameError\u001b[0m                                 Traceback (most recent call last)",
      "\u001b[1;32m<ipython-input-1-e6a8abc8643e>\u001b[0m in \u001b[0;36m<module>\u001b[1;34m\u001b[0m\n\u001b[0;32m      1\u001b[0m \u001b[1;32mfrom\u001b[0m \u001b[0msklearn\u001b[0m\u001b[1;33m.\u001b[0m\u001b[0mcluster\u001b[0m \u001b[1;32mimport\u001b[0m \u001b[0mKMeans\u001b[0m\u001b[1;33m\u001b[0m\u001b[1;33m\u001b[0m\u001b[0m\n\u001b[0;32m      2\u001b[0m \u001b[1;32mimport\u001b[0m \u001b[0mnumpy\u001b[0m \u001b[1;32mas\u001b[0m \u001b[0mnp\u001b[0m\u001b[1;33m\u001b[0m\u001b[1;33m\u001b[0m\u001b[0m\n\u001b[1;32m----> 3\u001b[1;33m \u001b[0mkmeans\u001b[0m \u001b[1;33m=\u001b[0m \u001b[0mKMeans\u001b[0m\u001b[1;33m(\u001b[0m\u001b[0mn_clusters\u001b[0m\u001b[1;33m=\u001b[0m\u001b[1;36m8\u001b[0m\u001b[1;33m,\u001b[0m \u001b[0mrandom_state\u001b[0m\u001b[1;33m=\u001b[0m\u001b[1;36m42\u001b[0m\u001b[1;33m)\u001b[0m\u001b[1;33m.\u001b[0m\u001b[0mfit\u001b[0m\u001b[1;33m(\u001b[0m\u001b[0mx_train\u001b[0m\u001b[1;33m)\u001b[0m\u001b[1;33m\u001b[0m\u001b[1;33m\u001b[0m\u001b[0m\n\u001b[0m",
      "\u001b[1;31mNameError\u001b[0m: name 'x_train' is not defined"
     ]
    }
   ],
   "source": [
    "from sklearn.cluster import KMeans\n",
    "import numpy as np\n",
    "kmeans = KMeans(n_clusters=8, random_state=42).fit(x_train) "
   ]
  },
  {
   "cell_type": "code",
   "execution_count": null,
   "metadata": {},
   "outputs": [],
   "source": [
    "kmeans.labels_"
   ]
  },
  {
   "cell_type": "code",
   "execution_count": null,
   "metadata": {},
   "outputs": [],
   "source": [
    "testing = np.array(x.iloc[45])\n",
    "testing"
   ]
  },
  {
   "cell_type": "code",
   "execution_count": 59,
   "metadata": {},
   "outputs": [
    {
     "data": {
      "text/plain": [
       "array([3], dtype=int32)"
      ]
     },
     "execution_count": 59,
     "metadata": {},
     "output_type": "execute_result"
    }
   ],
   "source": [
    "kmeans.predict([testing])"
   ]
  },
  {
   "cell_type": "code",
   "execution_count": null,
   "metadata": {},
   "outputs": [],
   "source": [
    "kmeans.cluster_centers_"
   ]
  },
  {
   "cell_type": "code",
   "execution_count": null,
   "metadata": {},
   "outputs": [],
   "source": []
  }
 ],
 "metadata": {
  "colab": {
   "name": "Balanced.ipynb",
   "provenance": []
  },
  "kernelspec": {
   "display_name": "Python 3",
   "language": "python",
   "name": "python3"
  },
  "language_info": {
   "codemirror_mode": {
    "name": "ipython",
    "version": 3
   },
   "file_extension": ".py",
   "mimetype": "text/x-python",
   "name": "python",
   "nbconvert_exporter": "python",
   "pygments_lexer": "ipython3",
   "version": "3.7.3"
  }
 },
 "nbformat": 4,
 "nbformat_minor": 4
}
