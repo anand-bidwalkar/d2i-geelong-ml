{
 "cells": [
  {
   "cell_type": "markdown",
   "metadata": {
    "colab_type": "text",
    "id": "hzmqnKyI8Xvk"
   },
   "source": [
    "## Install & Import Libraries"
   ]
  },
  {
   "cell_type": "code",
   "execution_count": null,
   "metadata": {
    "colab": {
     "base_uri": "https://localhost:8080/",
     "height": 90
    },
    "colab_type": "code",
    "id": "lddP4PKd4v5-",
    "outputId": "3f840ef6-302c-45d2-8823-6d24e735c837"
   },
   "outputs": [
    {
     "name": "stdout",
     "output_type": "stream",
     "text": [
      "Requirement already satisfied: xgboost in /usr/local/lib/python3.6/dist-packages (0.90)\n",
      "Requirement already satisfied: numpy in /usr/local/lib/python3.6/dist-packages (from xgboost) (1.18.5)\n",
      "Requirement already satisfied: scipy in /usr/local/lib/python3.6/dist-packages (from xgboost) (1.4.1)\n",
      "Requirement already satisfied: joblib in /usr/local/lib/python3.6/dist-packages (0.16.0)\n"
     ]
    }
   ],
   "source": [
    "!pip install xgboost\n",
    "!pip install joblib"
   ]
  },
  {
   "cell_type": "code",
   "execution_count": 2,
   "metadata": {
    "colab": {
     "base_uri": "https://localhost:8080/",
     "height": 74
    },
    "colab_type": "code",
    "id": "4GZTswo_CaA0",
    "outputId": "1fcc6864-fc33-462c-9d57-a85437b0d93c"
   },
   "outputs": [],
   "source": [
    "import pandas as pd\n",
    "import numpy as np\n",
    "\n",
    "# for easier visualization\n",
    "#import seaborn as sns\n",
    "\n",
    "# for visualization and to display plots\n",
    "##from matplotlib import pyplot as plt\n",
    "#%matplotlib inline\n",
    "\n",
    "# import color maps\n",
    "#from matplotlib.colors import ListedColormap\n",
    "\n",
    "# Ignore Warnings\n",
    "import warnings\n",
    "warnings.filterwarnings(\"ignore\")\n",
    "\n",
    "from math import sqrt\n",
    "\n",
    "\n",
    "# to perform hyperparameter tuning\n",
    "from sklearn.model_selection import GridSearchCV\n",
    "from sklearn.model_selection import RandomizedSearchCV\n",
    "\n",
    "from sklearn.linear_model import Ridge  # Linear Regression + L2 regularization\n",
    "from sklearn.linear_model import Lasso  # Linear Regression + L1 regularization\n",
    "from sklearn.svm import SVR # Support Vector Regressor\n",
    "from sklearn.ensemble import RandomForestRegressor\n",
    "from sklearn.neighbors import KNeighborsRegressor \n",
    "from sklearn.model_selection import cross_val_score\n",
    "from sklearn.tree import DecisionTreeRegressor\n",
    "\n",
    "\n",
    "from sklearn.metrics import classification_report\n",
    "\n",
    "#from xgboost import XGBRegressor\n",
    "#from xgboost import plot_importance  # to plot feature importance"
   ]
  },
  {
   "cell_type": "markdown",
   "metadata": {
    "colab_type": "text",
    "id": "iYCO58MD8faH"
   },
   "source": [
    "## Load Data"
   ]
  },
  {
   "cell_type": "code",
   "execution_count": 3,
   "metadata": {
    "colab": {
     "base_uri": "https://localhost:8080/"
    },
    "colab_type": "code",
    "id": "-xa3sBMxCaBM",
    "outputId": "8fdd9203-02c8-4bb6-ca49-d8b2a630edc2"
   },
   "outputs": [
    {
     "data": {
      "text/html": [
       "<div>\n",
       "<style scoped>\n",
       "    .dataframe tbody tr th:only-of-type {\n",
       "        vertical-align: middle;\n",
       "    }\n",
       "\n",
       "    .dataframe tbody tr th {\n",
       "        vertical-align: top;\n",
       "    }\n",
       "\n",
       "    .dataframe thead th {\n",
       "        text-align: right;\n",
       "    }\n",
       "</style>\n",
       "<table border=\"1\" class=\"dataframe\">\n",
       "  <thead>\n",
       "    <tr style=\"text-align: right;\">\n",
       "      <th></th>\n",
       "      <th>Unnamed: 0</th>\n",
       "      <th>address</th>\n",
       "      <th>Sell Price</th>\n",
       "      <th>Sell Date</th>\n",
       "      <th>Auction</th>\n",
       "      <th>Last Sell Price</th>\n",
       "      <th>Last Sell Date</th>\n",
       "      <th>Rent Amount PW</th>\n",
       "      <th>Rent Date</th>\n",
       "      <th>Land Size SQM</th>\n",
       "      <th>...</th>\n",
       "      <th>Suburb_Code</th>\n",
       "      <th>Train Station</th>\n",
       "      <th>Bus Station</th>\n",
       "      <th>Hospitals</th>\n",
       "      <th>Schools</th>\n",
       "      <th>Restaurants</th>\n",
       "      <th>Shopping Center</th>\n",
       "      <th>Park</th>\n",
       "      <th>Sub_Lat</th>\n",
       "      <th>Sub_Long</th>\n",
       "    </tr>\n",
       "  </thead>\n",
       "  <tbody>\n",
       "    <tr>\n",
       "      <th>0</th>\n",
       "      <td>0</td>\n",
       "      <td>4/44 Myers Street</td>\n",
       "      <td>510000.0</td>\n",
       "      <td>2020-09-01</td>\n",
       "      <td>0</td>\n",
       "      <td>NaN</td>\n",
       "      <td>NaN</td>\n",
       "      <td>NaN</td>\n",
       "      <td>NaN</td>\n",
       "      <td>NaN</td>\n",
       "      <td>...</td>\n",
       "      <td>10</td>\n",
       "      <td>1</td>\n",
       "      <td>8</td>\n",
       "      <td>20</td>\n",
       "      <td>3</td>\n",
       "      <td>85</td>\n",
       "      <td>4</td>\n",
       "      <td>1</td>\n",
       "      <td>-38.150341</td>\n",
       "      <td>144.361257</td>\n",
       "    </tr>\n",
       "    <tr>\n",
       "      <th>1</th>\n",
       "      <td>1</td>\n",
       "      <td>9 The Esplanade</td>\n",
       "      <td>2375000.0</td>\n",
       "      <td>2020-08-29</td>\n",
       "      <td>1</td>\n",
       "      <td>NaN</td>\n",
       "      <td>NaN</td>\n",
       "      <td>NaN</td>\n",
       "      <td>NaN</td>\n",
       "      <td>NaN</td>\n",
       "      <td>...</td>\n",
       "      <td>10</td>\n",
       "      <td>1</td>\n",
       "      <td>8</td>\n",
       "      <td>20</td>\n",
       "      <td>3</td>\n",
       "      <td>85</td>\n",
       "      <td>4</td>\n",
       "      <td>1</td>\n",
       "      <td>-38.150341</td>\n",
       "      <td>144.361257</td>\n",
       "    </tr>\n",
       "    <tr>\n",
       "      <th>2</th>\n",
       "      <td>2</td>\n",
       "      <td>158 Garden Street</td>\n",
       "      <td>1240000.0</td>\n",
       "      <td>2020-08-01</td>\n",
       "      <td>0</td>\n",
       "      <td>155000.0</td>\n",
       "      <td>2001-08-01</td>\n",
       "      <td>NaN</td>\n",
       "      <td>NaN</td>\n",
       "      <td>667.0</td>\n",
       "      <td>...</td>\n",
       "      <td>10</td>\n",
       "      <td>1</td>\n",
       "      <td>8</td>\n",
       "      <td>20</td>\n",
       "      <td>3</td>\n",
       "      <td>85</td>\n",
       "      <td>4</td>\n",
       "      <td>1</td>\n",
       "      <td>-38.150341</td>\n",
       "      <td>144.361257</td>\n",
       "    </tr>\n",
       "    <tr>\n",
       "      <th>3</th>\n",
       "      <td>3</td>\n",
       "      <td>86 Sydney Parade</td>\n",
       "      <td>560000.0</td>\n",
       "      <td>2020-08-15</td>\n",
       "      <td>1</td>\n",
       "      <td>65000.0</td>\n",
       "      <td>1996-03-01</td>\n",
       "      <td>NaN</td>\n",
       "      <td>NaN</td>\n",
       "      <td>319.0</td>\n",
       "      <td>...</td>\n",
       "      <td>10</td>\n",
       "      <td>1</td>\n",
       "      <td>8</td>\n",
       "      <td>20</td>\n",
       "      <td>3</td>\n",
       "      <td>85</td>\n",
       "      <td>4</td>\n",
       "      <td>1</td>\n",
       "      <td>-38.150341</td>\n",
       "      <td>144.361257</td>\n",
       "    </tr>\n",
       "    <tr>\n",
       "      <th>4</th>\n",
       "      <td>4</td>\n",
       "      <td>2/52 Mundy Street</td>\n",
       "      <td>720000.0</td>\n",
       "      <td>2020-08-01</td>\n",
       "      <td>0</td>\n",
       "      <td>657000.0</td>\n",
       "      <td>2016-01-01</td>\n",
       "      <td>500.0</td>\n",
       "      <td>2014-09-01</td>\n",
       "      <td>410.0</td>\n",
       "      <td>...</td>\n",
       "      <td>10</td>\n",
       "      <td>1</td>\n",
       "      <td>8</td>\n",
       "      <td>20</td>\n",
       "      <td>3</td>\n",
       "      <td>85</td>\n",
       "      <td>4</td>\n",
       "      <td>1</td>\n",
       "      <td>-38.150341</td>\n",
       "      <td>144.361257</td>\n",
       "    </tr>\n",
       "  </tbody>\n",
       "</table>\n",
       "<p>5 rows × 25 columns</p>\n",
       "</div>"
      ],
      "text/plain": [
       "   Unnamed: 0            address  Sell Price   Sell Date  Auction  \\\n",
       "0           0  4/44 Myers Street    510000.0  2020-09-01        0   \n",
       "1           1    9 The Esplanade   2375000.0  2020-08-29        1   \n",
       "2           2  158 Garden Street   1240000.0  2020-08-01        0   \n",
       "3           3   86 Sydney Parade    560000.0  2020-08-15        1   \n",
       "4           4  2/52 Mundy Street    720000.0  2020-08-01        0   \n",
       "\n",
       "   Last Sell Price Last Sell Date  Rent Amount PW   Rent Date  Land Size SQM  \\\n",
       "0              NaN            NaN             NaN         NaN            NaN   \n",
       "1              NaN            NaN             NaN         NaN            NaN   \n",
       "2         155000.0     2001-08-01             NaN         NaN          667.0   \n",
       "3          65000.0     1996-03-01             NaN         NaN          319.0   \n",
       "4         657000.0     2016-01-01           500.0  2014-09-01          410.0   \n",
       "\n",
       "   ...  Suburb_Code  Train Station  Bus Station  Hospitals Schools  \\\n",
       "0  ...           10              1            8         20       3   \n",
       "1  ...           10              1            8         20       3   \n",
       "2  ...           10              1            8         20       3   \n",
       "3  ...           10              1            8         20       3   \n",
       "4  ...           10              1            8         20       3   \n",
       "\n",
       "   Restaurants  Shopping Center  Park    Sub_Lat    Sub_Long  \n",
       "0           85                4     1 -38.150341  144.361257  \n",
       "1           85                4     1 -38.150341  144.361257  \n",
       "2           85                4     1 -38.150341  144.361257  \n",
       "3           85                4     1 -38.150341  144.361257  \n",
       "4           85                4     1 -38.150341  144.361257  \n",
       "\n",
       "[5 rows x 25 columns]"
      ]
     },
     "execution_count": 3,
     "metadata": {},
     "output_type": "execute_result"
    }
   ],
   "source": [
    "property_data = pd.read_csv('Property Record With Profile.csv')\n",
    "property_data.head()"
   ]
  },
  {
   "cell_type": "code",
   "execution_count": 4,
   "metadata": {
    "colab": {
     "base_uri": "https://localhost:8080/"
    },
    "colab_type": "code",
    "id": "bUASb_1mCaCB",
    "outputId": "8e9c2b06-c048-4d23-8add-2d25414b34ab"
   },
   "outputs": [
    {
     "data": {
      "text/html": [
       "<div>\n",
       "<style scoped>\n",
       "    .dataframe tbody tr th:only-of-type {\n",
       "        vertical-align: middle;\n",
       "    }\n",
       "\n",
       "    .dataframe tbody tr th {\n",
       "        vertical-align: top;\n",
       "    }\n",
       "\n",
       "    .dataframe thead th {\n",
       "        text-align: right;\n",
       "    }\n",
       "</style>\n",
       "<table border=\"1\" class=\"dataframe\">\n",
       "  <thead>\n",
       "    <tr style=\"text-align: right;\">\n",
       "      <th></th>\n",
       "      <th>Sell Price</th>\n",
       "      <th>Sell Date</th>\n",
       "      <th>Auction</th>\n",
       "      <th>Last Sell Price</th>\n",
       "      <th>Last Sell Date</th>\n",
       "      <th>Rent Amount PW</th>\n",
       "      <th>Rent Date</th>\n",
       "      <th>Land Size SQM</th>\n",
       "      <th>Building Size SQM</th>\n",
       "      <th>Bedrooms</th>\n",
       "      <th>...</th>\n",
       "      <th>Cars</th>\n",
       "      <th>Suburb</th>\n",
       "      <th>Suburb_Code</th>\n",
       "      <th>Train Station</th>\n",
       "      <th>Bus Station</th>\n",
       "      <th>Hospitals</th>\n",
       "      <th>Schools</th>\n",
       "      <th>Restaurants</th>\n",
       "      <th>Shopping Center</th>\n",
       "      <th>Park</th>\n",
       "    </tr>\n",
       "  </thead>\n",
       "  <tbody>\n",
       "    <tr>\n",
       "      <th>0</th>\n",
       "      <td>510000.0</td>\n",
       "      <td>2020-09-01</td>\n",
       "      <td>0</td>\n",
       "      <td>NaN</td>\n",
       "      <td>NaN</td>\n",
       "      <td>NaN</td>\n",
       "      <td>NaN</td>\n",
       "      <td>NaN</td>\n",
       "      <td>NaN</td>\n",
       "      <td>0</td>\n",
       "      <td>...</td>\n",
       "      <td>0</td>\n",
       "      <td>Geelong</td>\n",
       "      <td>10</td>\n",
       "      <td>1</td>\n",
       "      <td>8</td>\n",
       "      <td>20</td>\n",
       "      <td>3</td>\n",
       "      <td>85</td>\n",
       "      <td>4</td>\n",
       "      <td>1</td>\n",
       "    </tr>\n",
       "    <tr>\n",
       "      <th>1</th>\n",
       "      <td>2375000.0</td>\n",
       "      <td>2020-08-29</td>\n",
       "      <td>1</td>\n",
       "      <td>NaN</td>\n",
       "      <td>NaN</td>\n",
       "      <td>NaN</td>\n",
       "      <td>NaN</td>\n",
       "      <td>NaN</td>\n",
       "      <td>NaN</td>\n",
       "      <td>0</td>\n",
       "      <td>...</td>\n",
       "      <td>0</td>\n",
       "      <td>Geelong</td>\n",
       "      <td>10</td>\n",
       "      <td>1</td>\n",
       "      <td>8</td>\n",
       "      <td>20</td>\n",
       "      <td>3</td>\n",
       "      <td>85</td>\n",
       "      <td>4</td>\n",
       "      <td>1</td>\n",
       "    </tr>\n",
       "    <tr>\n",
       "      <th>2</th>\n",
       "      <td>1240000.0</td>\n",
       "      <td>2020-08-01</td>\n",
       "      <td>0</td>\n",
       "      <td>155000.0</td>\n",
       "      <td>2001-08-01</td>\n",
       "      <td>NaN</td>\n",
       "      <td>NaN</td>\n",
       "      <td>667.0</td>\n",
       "      <td>214.0</td>\n",
       "      <td>3</td>\n",
       "      <td>...</td>\n",
       "      <td>1</td>\n",
       "      <td>Geelong</td>\n",
       "      <td>10</td>\n",
       "      <td>1</td>\n",
       "      <td>8</td>\n",
       "      <td>20</td>\n",
       "      <td>3</td>\n",
       "      <td>85</td>\n",
       "      <td>4</td>\n",
       "      <td>1</td>\n",
       "    </tr>\n",
       "    <tr>\n",
       "      <th>3</th>\n",
       "      <td>560000.0</td>\n",
       "      <td>2020-08-15</td>\n",
       "      <td>1</td>\n",
       "      <td>65000.0</td>\n",
       "      <td>1996-03-01</td>\n",
       "      <td>NaN</td>\n",
       "      <td>NaN</td>\n",
       "      <td>319.0</td>\n",
       "      <td>NaN</td>\n",
       "      <td>3</td>\n",
       "      <td>...</td>\n",
       "      <td>0</td>\n",
       "      <td>Geelong</td>\n",
       "      <td>10</td>\n",
       "      <td>1</td>\n",
       "      <td>8</td>\n",
       "      <td>20</td>\n",
       "      <td>3</td>\n",
       "      <td>85</td>\n",
       "      <td>4</td>\n",
       "      <td>1</td>\n",
       "    </tr>\n",
       "    <tr>\n",
       "      <th>4</th>\n",
       "      <td>720000.0</td>\n",
       "      <td>2020-08-01</td>\n",
       "      <td>0</td>\n",
       "      <td>657000.0</td>\n",
       "      <td>2016-01-01</td>\n",
       "      <td>500.0</td>\n",
       "      <td>2014-09-01</td>\n",
       "      <td>410.0</td>\n",
       "      <td>NaN</td>\n",
       "      <td>5</td>\n",
       "      <td>...</td>\n",
       "      <td>2</td>\n",
       "      <td>Geelong</td>\n",
       "      <td>10</td>\n",
       "      <td>1</td>\n",
       "      <td>8</td>\n",
       "      <td>20</td>\n",
       "      <td>3</td>\n",
       "      <td>85</td>\n",
       "      <td>4</td>\n",
       "      <td>1</td>\n",
       "    </tr>\n",
       "  </tbody>\n",
       "</table>\n",
       "<p>5 rows × 21 columns</p>\n",
       "</div>"
      ],
      "text/plain": [
       "   Sell Price   Sell Date  Auction  Last Sell Price Last Sell Date  \\\n",
       "0    510000.0  2020-09-01        0              NaN            NaN   \n",
       "1   2375000.0  2020-08-29        1              NaN            NaN   \n",
       "2   1240000.0  2020-08-01        0         155000.0     2001-08-01   \n",
       "3    560000.0  2020-08-15        1          65000.0     1996-03-01   \n",
       "4    720000.0  2020-08-01        0         657000.0     2016-01-01   \n",
       "\n",
       "   Rent Amount PW   Rent Date  Land Size SQM  Building Size SQM  Bedrooms  \\\n",
       "0             NaN         NaN            NaN                NaN         0   \n",
       "1             NaN         NaN            NaN                NaN         0   \n",
       "2             NaN         NaN          667.0              214.0         3   \n",
       "3             NaN         NaN          319.0                NaN         3   \n",
       "4           500.0  2014-09-01          410.0                NaN         5   \n",
       "\n",
       "   ...  Cars   Suburb Suburb_Code  Train Station  Bus Station  Hospitals  \\\n",
       "0  ...     0  Geelong          10              1            8         20   \n",
       "1  ...     0  Geelong          10              1            8         20   \n",
       "2  ...     1  Geelong          10              1            8         20   \n",
       "3  ...     0  Geelong          10              1            8         20   \n",
       "4  ...     2  Geelong          10              1            8         20   \n",
       "\n",
       "   Schools  Restaurants  Shopping Center  Park  \n",
       "0        3           85                4     1  \n",
       "1        3           85                4     1  \n",
       "2        3           85                4     1  \n",
       "3        3           85                4     1  \n",
       "4        3           85                4     1  \n",
       "\n",
       "[5 rows x 21 columns]"
      ]
     },
     "execution_count": 4,
     "metadata": {},
     "output_type": "execute_result"
    }
   ],
   "source": [
    "property_data = property_data.drop(['Unnamed: 0', 'address', 'Sub_Lat', 'Sub_Long'], axis=1)\n",
    "property_data.head()"
   ]
  },
  {
   "cell_type": "code",
   "execution_count": 5,
   "metadata": {
    "colab": {
     "base_uri": "https://localhost:8080/"
    },
    "colab_type": "code",
    "id": "HFwGi4pYCaCd",
    "outputId": "0a2e1643-a3b7-4cf4-f036-f569f5b0f687"
   },
   "outputs": [
    {
     "data": {
      "text/html": [
       "<div>\n",
       "<style scoped>\n",
       "    .dataframe tbody tr th:only-of-type {\n",
       "        vertical-align: middle;\n",
       "    }\n",
       "\n",
       "    .dataframe tbody tr th {\n",
       "        vertical-align: top;\n",
       "    }\n",
       "\n",
       "    .dataframe thead th {\n",
       "        text-align: right;\n",
       "    }\n",
       "</style>\n",
       "<table border=\"1\" class=\"dataframe\">\n",
       "  <thead>\n",
       "    <tr style=\"text-align: right;\">\n",
       "      <th></th>\n",
       "      <th>Sell Price</th>\n",
       "      <th>Auction</th>\n",
       "      <th>Last Sell Price</th>\n",
       "      <th>Rent Amount PW</th>\n",
       "      <th>Land Size SQM</th>\n",
       "      <th>Building Size SQM</th>\n",
       "      <th>Bedrooms</th>\n",
       "      <th>Toilets</th>\n",
       "      <th>Cars</th>\n",
       "      <th>Suburb_Code</th>\n",
       "      <th>Train Station</th>\n",
       "      <th>Bus Station</th>\n",
       "      <th>Hospitals</th>\n",
       "      <th>Schools</th>\n",
       "      <th>Restaurants</th>\n",
       "      <th>Shopping Center</th>\n",
       "      <th>Park</th>\n",
       "    </tr>\n",
       "  </thead>\n",
       "  <tbody>\n",
       "    <tr>\n",
       "      <th>count</th>\n",
       "      <td>1.308000e+04</td>\n",
       "      <td>13080.000000</td>\n",
       "      <td>5.674000e+03</td>\n",
       "      <td>2274.000000</td>\n",
       "      <td>1.250600e+04</td>\n",
       "      <td>6750.000000</td>\n",
       "      <td>13080.000000</td>\n",
       "      <td>13080.000000</td>\n",
       "      <td>13080.000000</td>\n",
       "      <td>13080.000000</td>\n",
       "      <td>13080.000000</td>\n",
       "      <td>13080.000000</td>\n",
       "      <td>13080.000000</td>\n",
       "      <td>13080.000000</td>\n",
       "      <td>13080.000000</td>\n",
       "      <td>13080.000000</td>\n",
       "      <td>13080.000000</td>\n",
       "    </tr>\n",
       "    <tr>\n",
       "      <th>mean</th>\n",
       "      <td>5.497499e+05</td>\n",
       "      <td>0.086009</td>\n",
       "      <td>2.854985e+05</td>\n",
       "      <td>469.868514</td>\n",
       "      <td>2.519515e+03</td>\n",
       "      <td>70.574118</td>\n",
       "      <td>2.626453</td>\n",
       "      <td>1.245795</td>\n",
       "      <td>1.588226</td>\n",
       "      <td>15.422324</td>\n",
       "      <td>0.265138</td>\n",
       "      <td>5.390826</td>\n",
       "      <td>3.394113</td>\n",
       "      <td>2.239450</td>\n",
       "      <td>13.533869</td>\n",
       "      <td>1.610092</td>\n",
       "      <td>1.455581</td>\n",
       "    </tr>\n",
       "    <tr>\n",
       "      <th>std</th>\n",
       "      <td>3.079223e+05</td>\n",
       "      <td>0.280388</td>\n",
       "      <td>1.788578e+05</td>\n",
       "      <td>2089.096219</td>\n",
       "      <td>2.867698e+04</td>\n",
       "      <td>209.604103</td>\n",
       "      <td>1.432714</td>\n",
       "      <td>0.830398</td>\n",
       "      <td>1.355813</td>\n",
       "      <td>8.703548</td>\n",
       "      <td>0.441423</td>\n",
       "      <td>1.968832</td>\n",
       "      <td>3.510248</td>\n",
       "      <td>2.039747</td>\n",
       "      <td>13.607040</td>\n",
       "      <td>0.765765</td>\n",
       "      <td>0.597174</td>\n",
       "    </tr>\n",
       "    <tr>\n",
       "      <th>min</th>\n",
       "      <td>5.133000e+04</td>\n",
       "      <td>0.000000</td>\n",
       "      <td>5.000000e+04</td>\n",
       "      <td>100.000000</td>\n",
       "      <td>0.000000e+00</td>\n",
       "      <td>0.000000</td>\n",
       "      <td>0.000000</td>\n",
       "      <td>0.000000</td>\n",
       "      <td>0.000000</td>\n",
       "      <td>1.000000</td>\n",
       "      <td>0.000000</td>\n",
       "      <td>2.000000</td>\n",
       "      <td>0.000000</td>\n",
       "      <td>0.000000</td>\n",
       "      <td>4.000000</td>\n",
       "      <td>1.000000</td>\n",
       "      <td>1.000000</td>\n",
       "    </tr>\n",
       "    <tr>\n",
       "      <th>25%</th>\n",
       "      <td>3.950000e+05</td>\n",
       "      <td>0.000000</td>\n",
       "      <td>1.691250e+05</td>\n",
       "      <td>310.000000</td>\n",
       "      <td>3.990000e+02</td>\n",
       "      <td>0.000000</td>\n",
       "      <td>2.000000</td>\n",
       "      <td>1.000000</td>\n",
       "      <td>1.000000</td>\n",
       "      <td>8.000000</td>\n",
       "      <td>0.000000</td>\n",
       "      <td>4.000000</td>\n",
       "      <td>1.000000</td>\n",
       "      <td>1.000000</td>\n",
       "      <td>6.000000</td>\n",
       "      <td>1.000000</td>\n",
       "      <td>1.000000</td>\n",
       "    </tr>\n",
       "    <tr>\n",
       "      <th>50%</th>\n",
       "      <td>5.050000e+05</td>\n",
       "      <td>0.000000</td>\n",
       "      <td>2.550000e+05</td>\n",
       "      <td>350.000000</td>\n",
       "      <td>5.860000e+02</td>\n",
       "      <td>0.000000</td>\n",
       "      <td>3.000000</td>\n",
       "      <td>1.000000</td>\n",
       "      <td>2.000000</td>\n",
       "      <td>15.000000</td>\n",
       "      <td>0.000000</td>\n",
       "      <td>5.000000</td>\n",
       "      <td>2.000000</td>\n",
       "      <td>1.000000</td>\n",
       "      <td>12.000000</td>\n",
       "      <td>1.000000</td>\n",
       "      <td>1.000000</td>\n",
       "    </tr>\n",
       "    <tr>\n",
       "      <th>75%</th>\n",
       "      <td>6.310000e+05</td>\n",
       "      <td>0.000000</td>\n",
       "      <td>3.600000e+05</td>\n",
       "      <td>420.000000</td>\n",
       "      <td>6.840000e+02</td>\n",
       "      <td>121.000000</td>\n",
       "      <td>4.000000</td>\n",
       "      <td>2.000000</td>\n",
       "      <td>2.000000</td>\n",
       "      <td>22.000000</td>\n",
       "      <td>1.000000</td>\n",
       "      <td>7.000000</td>\n",
       "      <td>5.000000</td>\n",
       "      <td>3.000000</td>\n",
       "      <td>15.000000</td>\n",
       "      <td>2.000000</td>\n",
       "      <td>2.000000</td>\n",
       "    </tr>\n",
       "    <tr>\n",
       "      <th>max</th>\n",
       "      <td>1.300000e+07</td>\n",
       "      <td>1.000000</td>\n",
       "      <td>2.250000e+06</td>\n",
       "      <td>70000.000000</td>\n",
       "      <td>1.039838e+06</td>\n",
       "      <td>7014.000000</td>\n",
       "      <td>12.000000</td>\n",
       "      <td>12.000000</td>\n",
       "      <td>17.000000</td>\n",
       "      <td>31.000000</td>\n",
       "      <td>1.000000</td>\n",
       "      <td>10.000000</td>\n",
       "      <td>20.000000</td>\n",
       "      <td>7.000000</td>\n",
       "      <td>85.000000</td>\n",
       "      <td>4.000000</td>\n",
       "      <td>3.000000</td>\n",
       "    </tr>\n",
       "  </tbody>\n",
       "</table>\n",
       "</div>"
      ],
      "text/plain": [
       "         Sell Price       Auction  Last Sell Price  Rent Amount PW  \\\n",
       "count  1.308000e+04  13080.000000     5.674000e+03     2274.000000   \n",
       "mean   5.497499e+05      0.086009     2.854985e+05      469.868514   \n",
       "std    3.079223e+05      0.280388     1.788578e+05     2089.096219   \n",
       "min    5.133000e+04      0.000000     5.000000e+04      100.000000   \n",
       "25%    3.950000e+05      0.000000     1.691250e+05      310.000000   \n",
       "50%    5.050000e+05      0.000000     2.550000e+05      350.000000   \n",
       "75%    6.310000e+05      0.000000     3.600000e+05      420.000000   \n",
       "max    1.300000e+07      1.000000     2.250000e+06    70000.000000   \n",
       "\n",
       "       Land Size SQM  Building Size SQM      Bedrooms       Toilets  \\\n",
       "count   1.250600e+04        6750.000000  13080.000000  13080.000000   \n",
       "mean    2.519515e+03          70.574118      2.626453      1.245795   \n",
       "std     2.867698e+04         209.604103      1.432714      0.830398   \n",
       "min     0.000000e+00           0.000000      0.000000      0.000000   \n",
       "25%     3.990000e+02           0.000000      2.000000      1.000000   \n",
       "50%     5.860000e+02           0.000000      3.000000      1.000000   \n",
       "75%     6.840000e+02         121.000000      4.000000      2.000000   \n",
       "max     1.039838e+06        7014.000000     12.000000     12.000000   \n",
       "\n",
       "               Cars   Suburb_Code  Train Station   Bus Station     Hospitals  \\\n",
       "count  13080.000000  13080.000000   13080.000000  13080.000000  13080.000000   \n",
       "mean       1.588226     15.422324       0.265138      5.390826      3.394113   \n",
       "std        1.355813      8.703548       0.441423      1.968832      3.510248   \n",
       "min        0.000000      1.000000       0.000000      2.000000      0.000000   \n",
       "25%        1.000000      8.000000       0.000000      4.000000      1.000000   \n",
       "50%        2.000000     15.000000       0.000000      5.000000      2.000000   \n",
       "75%        2.000000     22.000000       1.000000      7.000000      5.000000   \n",
       "max       17.000000     31.000000       1.000000     10.000000     20.000000   \n",
       "\n",
       "            Schools   Restaurants  Shopping Center          Park  \n",
       "count  13080.000000  13080.000000     13080.000000  13080.000000  \n",
       "mean       2.239450     13.533869         1.610092      1.455581  \n",
       "std        2.039747     13.607040         0.765765      0.597174  \n",
       "min        0.000000      4.000000         1.000000      1.000000  \n",
       "25%        1.000000      6.000000         1.000000      1.000000  \n",
       "50%        1.000000     12.000000         1.000000      1.000000  \n",
       "75%        3.000000     15.000000         2.000000      2.000000  \n",
       "max        7.000000     85.000000         4.000000      3.000000  "
      ]
     },
     "execution_count": 5,
     "metadata": {},
     "output_type": "execute_result"
    }
   ],
   "source": [
    "property_data.describe()"
   ]
  },
  {
   "cell_type": "code",
   "execution_count": 6,
   "metadata": {
    "colab": {
     "base_uri": "https://localhost:8080/"
    },
    "colab_type": "code",
    "id": "u96SHdp2CaCu",
    "outputId": "91b6ae04-1a4b-4019-c5df-f09de7b4683b"
   },
   "outputs": [
    {
     "data": {
      "text/html": [
       "<div>\n",
       "<style scoped>\n",
       "    .dataframe tbody tr th:only-of-type {\n",
       "        vertical-align: middle;\n",
       "    }\n",
       "\n",
       "    .dataframe tbody tr th {\n",
       "        vertical-align: top;\n",
       "    }\n",
       "\n",
       "    .dataframe thead th {\n",
       "        text-align: right;\n",
       "    }\n",
       "</style>\n",
       "<table border=\"1\" class=\"dataframe\">\n",
       "  <thead>\n",
       "    <tr style=\"text-align: right;\">\n",
       "      <th></th>\n",
       "      <th>Sell Date</th>\n",
       "      <th>Last Sell Date</th>\n",
       "      <th>Rent Date</th>\n",
       "      <th>Suburb</th>\n",
       "    </tr>\n",
       "  </thead>\n",
       "  <tbody>\n",
       "    <tr>\n",
       "      <th>count</th>\n",
       "      <td>13080</td>\n",
       "      <td>5674</td>\n",
       "      <td>2274</td>\n",
       "      <td>13080</td>\n",
       "    </tr>\n",
       "    <tr>\n",
       "      <th>unique</th>\n",
       "      <td>1114</td>\n",
       "      <td>420</td>\n",
       "      <td>176</td>\n",
       "      <td>30</td>\n",
       "    </tr>\n",
       "    <tr>\n",
       "      <th>top</th>\n",
       "      <td>2020-08-01</td>\n",
       "      <td>2000-02-01</td>\n",
       "      <td>2019-11-01</td>\n",
       "      <td>Highton</td>\n",
       "    </tr>\n",
       "    <tr>\n",
       "      <th>freq</th>\n",
       "      <td>412</td>\n",
       "      <td>190</td>\n",
       "      <td>107</td>\n",
       "      <td>727</td>\n",
       "    </tr>\n",
       "  </tbody>\n",
       "</table>\n",
       "</div>"
      ],
      "text/plain": [
       "         Sell Date Last Sell Date   Rent Date   Suburb\n",
       "count        13080           5674        2274    13080\n",
       "unique        1114            420         176       30\n",
       "top     2020-08-01     2000-02-01  2019-11-01  Highton\n",
       "freq           412            190         107      727"
      ]
     },
     "execution_count": 6,
     "metadata": {},
     "output_type": "execute_result"
    }
   ],
   "source": [
    "property_data.describe(include=['object'])"
   ]
  },
  {
   "cell_type": "code",
   "execution_count": 6,
   "metadata": {
    "colab": {
     "base_uri": "https://localhost:8080/"
    },
    "colab_type": "code",
    "id": "QOYUGjC0CaDJ",
    "outputId": "5241b261-d4d4-4b1e-a06d-6512c32ba558"
   },
   "outputs": [
    {
     "data": {
      "text/plain": [
       "<AxesSubplot:xlabel='count', ylabel='Suburb'>"
      ]
     },
     "execution_count": 6,
     "metadata": {},
     "output_type": "execute_result"
    },
    {
     "data": {
      "image/png": "[encoded data removed]",
      "text/plain": [
       "<Figure size 576x576 with 1 Axes>"
      ]
     },
     "metadata": {
      "needs_background": "light"
     },
     "output_type": "display_data"
    }
   ],
   "source": [
    "plt.figure(figsize=(8,8))\n",
    "sns.countplot(y='Suburb', data=property_data)"
   ]
  },
  {
   "cell_type": "markdown",
   "metadata": {
    "colab_type": "text",
    "id": "azjNPJL8CaDl"
   },
   "source": [
    "## Feature Engineering"
   ]
  },
  {
   "cell_type": "code",
   "execution_count": 7,
   "metadata": {
    "colab": {
     "base_uri": "https://localhost:8080/"
    },
    "colab_type": "code",
    "id": "r9spPOOCCaDo",
    "outputId": "9a16bf66-ad24-4952-b7ec-66d5f3a0cbff"
   },
   "outputs": [
    {
     "data": {
      "text/html": [
       "<div>\n",
       "<style scoped>\n",
       "    .dataframe tbody tr th:only-of-type {\n",
       "        vertical-align: middle;\n",
       "    }\n",
       "\n",
       "    .dataframe tbody tr th {\n",
       "        vertical-align: top;\n",
       "    }\n",
       "\n",
       "    .dataframe thead th {\n",
       "        text-align: right;\n",
       "    }\n",
       "</style>\n",
       "<table border=\"1\" class=\"dataframe\">\n",
       "  <thead>\n",
       "    <tr style=\"text-align: right;\">\n",
       "      <th></th>\n",
       "      <th>Sell Price</th>\n",
       "      <th>Auction</th>\n",
       "      <th>Last Sell Price</th>\n",
       "      <th>Rent Amount PW</th>\n",
       "      <th>Land Size SQM</th>\n",
       "      <th>Building Size SQM</th>\n",
       "      <th>Bedrooms</th>\n",
       "      <th>Toilets</th>\n",
       "      <th>Cars</th>\n",
       "      <th>Suburb_Code</th>\n",
       "      <th>Train Station</th>\n",
       "      <th>Bus Station</th>\n",
       "      <th>Hospitals</th>\n",
       "      <th>Schools</th>\n",
       "      <th>Restaurants</th>\n",
       "      <th>Shopping Center</th>\n",
       "      <th>Park</th>\n",
       "    </tr>\n",
       "  </thead>\n",
       "  <tbody>\n",
       "    <tr>\n",
       "      <th>Sell Price</th>\n",
       "      <td>1.000000</td>\n",
       "      <td>0.072449</td>\n",
       "      <td>0.516942</td>\n",
       "      <td>0.144757</td>\n",
       "      <td>0.072441</td>\n",
       "      <td>0.060355</td>\n",
       "      <td>0.235797</td>\n",
       "      <td>0.280441</td>\n",
       "      <td>0.153390</td>\n",
       "      <td>-0.013067</td>\n",
       "      <td>-0.032947</td>\n",
       "      <td>0.201215</td>\n",
       "      <td>0.167023</td>\n",
       "      <td>0.137299</td>\n",
       "      <td>0.177536</td>\n",
       "      <td>0.219437</td>\n",
       "      <td>-0.011306</td>\n",
       "    </tr>\n",
       "    <tr>\n",
       "      <th>Auction</th>\n",
       "      <td>0.072449</td>\n",
       "      <td>1.000000</td>\n",
       "      <td>0.049670</td>\n",
       "      <td>-0.020129</td>\n",
       "      <td>-0.015031</td>\n",
       "      <td>0.099123</td>\n",
       "      <td>0.008040</td>\n",
       "      <td>-0.022501</td>\n",
       "      <td>-0.013426</td>\n",
       "      <td>-0.021684</td>\n",
       "      <td>-0.044033</td>\n",
       "      <td>0.043119</td>\n",
       "      <td>0.076566</td>\n",
       "      <td>0.005297</td>\n",
       "      <td>0.068646</td>\n",
       "      <td>0.091392</td>\n",
       "      <td>-0.066909</td>\n",
       "    </tr>\n",
       "    <tr>\n",
       "      <th>Last Sell Price</th>\n",
       "      <td>0.516942</td>\n",
       "      <td>0.049670</td>\n",
       "      <td>1.000000</td>\n",
       "      <td>0.043921</td>\n",
       "      <td>0.112195</td>\n",
       "      <td>0.125588</td>\n",
       "      <td>0.142622</td>\n",
       "      <td>0.224907</td>\n",
       "      <td>0.125063</td>\n",
       "      <td>-0.041813</td>\n",
       "      <td>0.019102</td>\n",
       "      <td>0.153721</td>\n",
       "      <td>0.177907</td>\n",
       "      <td>0.085314</td>\n",
       "      <td>0.187748</td>\n",
       "      <td>0.200119</td>\n",
       "      <td>-0.025840</td>\n",
       "    </tr>\n",
       "    <tr>\n",
       "      <th>Rent Amount PW</th>\n",
       "      <td>0.144757</td>\n",
       "      <td>-0.020129</td>\n",
       "      <td>0.043921</td>\n",
       "      <td>1.000000</td>\n",
       "      <td>0.000988</td>\n",
       "      <td>0.170370</td>\n",
       "      <td>-0.058798</td>\n",
       "      <td>-0.047143</td>\n",
       "      <td>-0.028700</td>\n",
       "      <td>0.035362</td>\n",
       "      <td>0.057793</td>\n",
       "      <td>0.076927</td>\n",
       "      <td>-0.006396</td>\n",
       "      <td>-0.015367</td>\n",
       "      <td>0.029874</td>\n",
       "      <td>0.068614</td>\n",
       "      <td>-0.025748</td>\n",
       "    </tr>\n",
       "    <tr>\n",
       "      <th>Land Size SQM</th>\n",
       "      <td>0.072441</td>\n",
       "      <td>-0.015031</td>\n",
       "      <td>0.112195</td>\n",
       "      <td>0.000988</td>\n",
       "      <td>1.000000</td>\n",
       "      <td>0.022947</td>\n",
       "      <td>-0.074679</td>\n",
       "      <td>-0.054505</td>\n",
       "      <td>-0.040321</td>\n",
       "      <td>-0.042533</td>\n",
       "      <td>-0.034024</td>\n",
       "      <td>-0.044880</td>\n",
       "      <td>-0.062791</td>\n",
       "      <td>-0.009824</td>\n",
       "      <td>-0.007890</td>\n",
       "      <td>-0.050722</td>\n",
       "      <td>-0.045394</td>\n",
       "    </tr>\n",
       "    <tr>\n",
       "      <th>Building Size SQM</th>\n",
       "      <td>0.060355</td>\n",
       "      <td>0.099123</td>\n",
       "      <td>0.125588</td>\n",
       "      <td>0.170370</td>\n",
       "      <td>0.022947</td>\n",
       "      <td>1.000000</td>\n",
       "      <td>-0.014562</td>\n",
       "      <td>0.013776</td>\n",
       "      <td>0.010024</td>\n",
       "      <td>0.032046</td>\n",
       "      <td>0.031680</td>\n",
       "      <td>0.018956</td>\n",
       "      <td>-0.040566</td>\n",
       "      <td>-0.080061</td>\n",
       "      <td>-0.015446</td>\n",
       "      <td>-0.012291</td>\n",
       "      <td>-0.037597</td>\n",
       "    </tr>\n",
       "    <tr>\n",
       "      <th>Bedrooms</th>\n",
       "      <td>0.235797</td>\n",
       "      <td>0.008040</td>\n",
       "      <td>0.142622</td>\n",
       "      <td>-0.058798</td>\n",
       "      <td>-0.074679</td>\n",
       "      <td>-0.014562</td>\n",
       "      <td>1.000000</td>\n",
       "      <td>0.786674</td>\n",
       "      <td>0.579082</td>\n",
       "      <td>-0.041183</td>\n",
       "      <td>-0.054347</td>\n",
       "      <td>0.045526</td>\n",
       "      <td>0.011777</td>\n",
       "      <td>0.079979</td>\n",
       "      <td>-0.065797</td>\n",
       "      <td>-0.042587</td>\n",
       "      <td>0.094634</td>\n",
       "    </tr>\n",
       "    <tr>\n",
       "      <th>Toilets</th>\n",
       "      <td>0.280441</td>\n",
       "      <td>-0.022501</td>\n",
       "      <td>0.224907</td>\n",
       "      <td>-0.047143</td>\n",
       "      <td>-0.054505</td>\n",
       "      <td>0.013776</td>\n",
       "      <td>0.786674</td>\n",
       "      <td>1.000000</td>\n",
       "      <td>0.554686</td>\n",
       "      <td>-0.044588</td>\n",
       "      <td>-0.049105</td>\n",
       "      <td>0.082472</td>\n",
       "      <td>0.027409</td>\n",
       "      <td>0.056162</td>\n",
       "      <td>-0.029120</td>\n",
       "      <td>-0.026025</td>\n",
       "      <td>0.113526</td>\n",
       "    </tr>\n",
       "    <tr>\n",
       "      <th>Cars</th>\n",
       "      <td>0.153390</td>\n",
       "      <td>-0.013426</td>\n",
       "      <td>0.125063</td>\n",
       "      <td>-0.028700</td>\n",
       "      <td>-0.040321</td>\n",
       "      <td>0.010024</td>\n",
       "      <td>0.579082</td>\n",
       "      <td>0.554686</td>\n",
       "      <td>1.000000</td>\n",
       "      <td>-0.027377</td>\n",
       "      <td>0.008947</td>\n",
       "      <td>0.009566</td>\n",
       "      <td>-0.010817</td>\n",
       "      <td>0.050309</td>\n",
       "      <td>-0.062380</td>\n",
       "      <td>-0.042863</td>\n",
       "      <td>0.089122</td>\n",
       "    </tr>\n",
       "    <tr>\n",
       "      <th>Suburb_Code</th>\n",
       "      <td>-0.013067</td>\n",
       "      <td>-0.021684</td>\n",
       "      <td>-0.041813</td>\n",
       "      <td>0.035362</td>\n",
       "      <td>-0.042533</td>\n",
       "      <td>0.032046</td>\n",
       "      <td>-0.041183</td>\n",
       "      <td>-0.044588</td>\n",
       "      <td>-0.027377</td>\n",
       "      <td>1.000000</td>\n",
       "      <td>0.147414</td>\n",
       "      <td>-0.064613</td>\n",
       "      <td>-0.286072</td>\n",
       "      <td>-0.364284</td>\n",
       "      <td>-0.142524</td>\n",
       "      <td>-0.060642</td>\n",
       "      <td>-0.062926</td>\n",
       "    </tr>\n",
       "    <tr>\n",
       "      <th>Train Station</th>\n",
       "      <td>-0.032947</td>\n",
       "      <td>-0.044033</td>\n",
       "      <td>0.019102</td>\n",
       "      <td>0.057793</td>\n",
       "      <td>-0.034024</td>\n",
       "      <td>0.031680</td>\n",
       "      <td>-0.054347</td>\n",
       "      <td>-0.049105</td>\n",
       "      <td>0.008947</td>\n",
       "      <td>0.147414</td>\n",
       "      <td>1.000000</td>\n",
       "      <td>0.353452</td>\n",
       "      <td>0.316847</td>\n",
       "      <td>-0.042663</td>\n",
       "      <td>0.331059</td>\n",
       "      <td>0.477987</td>\n",
       "      <td>0.462349</td>\n",
       "    </tr>\n",
       "    <tr>\n",
       "      <th>Bus Station</th>\n",
       "      <td>0.201215</td>\n",
       "      <td>0.043119</td>\n",
       "      <td>0.153721</td>\n",
       "      <td>0.076927</td>\n",
       "      <td>-0.044880</td>\n",
       "      <td>0.018956</td>\n",
       "      <td>0.045526</td>\n",
       "      <td>0.082472</td>\n",
       "      <td>0.009566</td>\n",
       "      <td>-0.064613</td>\n",
       "      <td>0.353452</td>\n",
       "      <td>1.000000</td>\n",
       "      <td>0.480277</td>\n",
       "      <td>0.477341</td>\n",
       "      <td>0.431338</td>\n",
       "      <td>0.612424</td>\n",
       "      <td>0.369052</td>\n",
       "    </tr>\n",
       "    <tr>\n",
       "      <th>Hospitals</th>\n",
       "      <td>0.167023</td>\n",
       "      <td>0.076566</td>\n",
       "      <td>0.177907</td>\n",
       "      <td>-0.006396</td>\n",
       "      <td>-0.062791</td>\n",
       "      <td>-0.040566</td>\n",
       "      <td>0.011777</td>\n",
       "      <td>0.027409</td>\n",
       "      <td>-0.010817</td>\n",
       "      <td>-0.286072</td>\n",
       "      <td>0.316847</td>\n",
       "      <td>0.480277</td>\n",
       "      <td>1.000000</td>\n",
       "      <td>0.410201</td>\n",
       "      <td>0.870044</td>\n",
       "      <td>0.560462</td>\n",
       "      <td>0.158462</td>\n",
       "    </tr>\n",
       "    <tr>\n",
       "      <th>Schools</th>\n",
       "      <td>0.137299</td>\n",
       "      <td>0.005297</td>\n",
       "      <td>0.085314</td>\n",
       "      <td>-0.015367</td>\n",
       "      <td>-0.009824</td>\n",
       "      <td>-0.080061</td>\n",
       "      <td>0.079979</td>\n",
       "      <td>0.056162</td>\n",
       "      <td>0.050309</td>\n",
       "      <td>-0.364284</td>\n",
       "      <td>-0.042663</td>\n",
       "      <td>0.477341</td>\n",
       "      <td>0.410201</td>\n",
       "      <td>1.000000</td>\n",
       "      <td>0.315146</td>\n",
       "      <td>0.324010</td>\n",
       "      <td>0.414223</td>\n",
       "    </tr>\n",
       "    <tr>\n",
       "      <th>Restaurants</th>\n",
       "      <td>0.177536</td>\n",
       "      <td>0.068646</td>\n",
       "      <td>0.187748</td>\n",
       "      <td>0.029874</td>\n",
       "      <td>-0.007890</td>\n",
       "      <td>-0.015446</td>\n",
       "      <td>-0.065797</td>\n",
       "      <td>-0.029120</td>\n",
       "      <td>-0.062380</td>\n",
       "      <td>-0.142524</td>\n",
       "      <td>0.331059</td>\n",
       "      <td>0.431338</td>\n",
       "      <td>0.870044</td>\n",
       "      <td>0.315146</td>\n",
       "      <td>1.000000</td>\n",
       "      <td>0.639760</td>\n",
       "      <td>0.045087</td>\n",
       "    </tr>\n",
       "    <tr>\n",
       "      <th>Shopping Center</th>\n",
       "      <td>0.219437</td>\n",
       "      <td>0.091392</td>\n",
       "      <td>0.200119</td>\n",
       "      <td>0.068614</td>\n",
       "      <td>-0.050722</td>\n",
       "      <td>-0.012291</td>\n",
       "      <td>-0.042587</td>\n",
       "      <td>-0.026025</td>\n",
       "      <td>-0.042863</td>\n",
       "      <td>-0.060642</td>\n",
       "      <td>0.477987</td>\n",
       "      <td>0.612424</td>\n",
       "      <td>0.560462</td>\n",
       "      <td>0.324010</td>\n",
       "      <td>0.639760</td>\n",
       "      <td>1.000000</td>\n",
       "      <td>0.225961</td>\n",
       "    </tr>\n",
       "    <tr>\n",
       "      <th>Park</th>\n",
       "      <td>-0.011306</td>\n",
       "      <td>-0.066909</td>\n",
       "      <td>-0.025840</td>\n",
       "      <td>-0.025748</td>\n",
       "      <td>-0.045394</td>\n",
       "      <td>-0.037597</td>\n",
       "      <td>0.094634</td>\n",
       "      <td>0.113526</td>\n",
       "      <td>0.089122</td>\n",
       "      <td>-0.062926</td>\n",
       "      <td>0.462349</td>\n",
       "      <td>0.369052</td>\n",
       "      <td>0.158462</td>\n",
       "      <td>0.414223</td>\n",
       "      <td>0.045087</td>\n",
       "      <td>0.225961</td>\n",
       "      <td>1.000000</td>\n",
       "    </tr>\n",
       "  </tbody>\n",
       "</table>\n",
       "</div>"
      ],
      "text/plain": [
       "                   Sell Price   Auction  Last Sell Price  Rent Amount PW  \\\n",
       "Sell Price           1.000000  0.072449         0.516942        0.144757   \n",
       "Auction              0.072449  1.000000         0.049670       -0.020129   \n",
       "Last Sell Price      0.516942  0.049670         1.000000        0.043921   \n",
       "Rent Amount PW       0.144757 -0.020129         0.043921        1.000000   \n",
       "Land Size SQM        0.072441 -0.015031         0.112195        0.000988   \n",
       "Building Size SQM    0.060355  0.099123         0.125588        0.170370   \n",
       "Bedrooms             0.235797  0.008040         0.142622       -0.058798   \n",
       "Toilets              0.280441 -0.022501         0.224907       -0.047143   \n",
       "Cars                 0.153390 -0.013426         0.125063       -0.028700   \n",
       "Suburb_Code         -0.013067 -0.021684        -0.041813        0.035362   \n",
       "Train Station       -0.032947 -0.044033         0.019102        0.057793   \n",
       "Bus Station          0.201215  0.043119         0.153721        0.076927   \n",
       "Hospitals            0.167023  0.076566         0.177907       -0.006396   \n",
       "Schools              0.137299  0.005297         0.085314       -0.015367   \n",
       "Restaurants          0.177536  0.068646         0.187748        0.029874   \n",
       "Shopping Center      0.219437  0.091392         0.200119        0.068614   \n",
       "Park                -0.011306 -0.066909        -0.025840       -0.025748   \n",
       "\n",
       "                   Land Size SQM  Building Size SQM  Bedrooms   Toilets  \\\n",
       "Sell Price              0.072441           0.060355  0.235797  0.280441   \n",
       "Auction                -0.015031           0.099123  0.008040 -0.022501   \n",
       "Last Sell Price         0.112195           0.125588  0.142622  0.224907   \n",
       "Rent Amount PW          0.000988           0.170370 -0.058798 -0.047143   \n",
       "Land Size SQM           1.000000           0.022947 -0.074679 -0.054505   \n",
       "Building Size SQM       0.022947           1.000000 -0.014562  0.013776   \n",
       "Bedrooms               -0.074679          -0.014562  1.000000  0.786674   \n",
       "Toilets                -0.054505           0.013776  0.786674  1.000000   \n",
       "Cars                   -0.040321           0.010024  0.579082  0.554686   \n",
       "Suburb_Code            -0.042533           0.032046 -0.041183 -0.044588   \n",
       "Train Station          -0.034024           0.031680 -0.054347 -0.049105   \n",
       "Bus Station            -0.044880           0.018956  0.045526  0.082472   \n",
       "Hospitals              -0.062791          -0.040566  0.011777  0.027409   \n",
       "Schools                -0.009824          -0.080061  0.079979  0.056162   \n",
       "Restaurants            -0.007890          -0.015446 -0.065797 -0.029120   \n",
       "Shopping Center        -0.050722          -0.012291 -0.042587 -0.026025   \n",
       "Park                   -0.045394          -0.037597  0.094634  0.113526   \n",
       "\n",
       "                       Cars  Suburb_Code  Train Station  Bus Station  \\\n",
       "Sell Price         0.153390    -0.013067      -0.032947     0.201215   \n",
       "Auction           -0.013426    -0.021684      -0.044033     0.043119   \n",
       "Last Sell Price    0.125063    -0.041813       0.019102     0.153721   \n",
       "Rent Amount PW    -0.028700     0.035362       0.057793     0.076927   \n",
       "Land Size SQM     -0.040321    -0.042533      -0.034024    -0.044880   \n",
       "Building Size SQM  0.010024     0.032046       0.031680     0.018956   \n",
       "Bedrooms           0.579082    -0.041183      -0.054347     0.045526   \n",
       "Toilets            0.554686    -0.044588      -0.049105     0.082472   \n",
       "Cars               1.000000    -0.027377       0.008947     0.009566   \n",
       "Suburb_Code       -0.027377     1.000000       0.147414    -0.064613   \n",
       "Train Station      0.008947     0.147414       1.000000     0.353452   \n",
       "Bus Station        0.009566    -0.064613       0.353452     1.000000   \n",
       "Hospitals         -0.010817    -0.286072       0.316847     0.480277   \n",
       "Schools            0.050309    -0.364284      -0.042663     0.477341   \n",
       "Restaurants       -0.062380    -0.142524       0.331059     0.431338   \n",
       "Shopping Center   -0.042863    -0.060642       0.477987     0.612424   \n",
       "Park               0.089122    -0.062926       0.462349     0.369052   \n",
       "\n",
       "                   Hospitals   Schools  Restaurants  Shopping Center      Park  \n",
       "Sell Price          0.167023  0.137299     0.177536         0.219437 -0.011306  \n",
       "Auction             0.076566  0.005297     0.068646         0.091392 -0.066909  \n",
       "Last Sell Price     0.177907  0.085314     0.187748         0.200119 -0.025840  \n",
       "Rent Amount PW     -0.006396 -0.015367     0.029874         0.068614 -0.025748  \n",
       "Land Size SQM      -0.062791 -0.009824    -0.007890        -0.050722 -0.045394  \n",
       "Building Size SQM  -0.040566 -0.080061    -0.015446        -0.012291 -0.037597  \n",
       "Bedrooms            0.011777  0.079979    -0.065797        -0.042587  0.094634  \n",
       "Toilets             0.027409  0.056162    -0.029120        -0.026025  0.113526  \n",
       "Cars               -0.010817  0.050309    -0.062380        -0.042863  0.089122  \n",
       "Suburb_Code        -0.286072 -0.364284    -0.142524        -0.060642 -0.062926  \n",
       "Train Station       0.316847 -0.042663     0.331059         0.477987  0.462349  \n",
       "Bus Station         0.480277  0.477341     0.431338         0.612424  0.369052  \n",
       "Hospitals           1.000000  0.410201     0.870044         0.560462  0.158462  \n",
       "Schools             0.410201  1.000000     0.315146         0.324010  0.414223  \n",
       "Restaurants         0.870044  0.315146     1.000000         0.639760  0.045087  \n",
       "Shopping Center     0.560462  0.324010     0.639760         1.000000  0.225961  \n",
       "Park                0.158462  0.414223     0.045087         0.225961  1.000000  "
      ]
     },
     "execution_count": 7,
     "metadata": {},
     "output_type": "execute_result"
    }
   ],
   "source": [
    "property_data.corr()"
   ]
  },
  {
   "cell_type": "code",
   "execution_count": 8,
   "metadata": {
    "colab": {
     "base_uri": "https://localhost:8080/"
    },
    "colab_type": "code",
    "id": "7LbF1Qt7CaEP",
    "outputId": "29310b9a-881f-4563-81ab-12619f158f15"
   },
   "outputs": [
    {
     "data": {
      "image/png": "[encoded data removed]",
      "text/plain": [
       "<Figure size 720x720 with 2 Axes>"
      ]
     },
     "metadata": {
      "needs_background": "light"
     },
     "output_type": "display_data"
    }
   ],
   "source": [
    "mask=np.zeros_like(property_data.corr())\n",
    "mask[np.triu_indices_from(mask)] = True\n",
    "plt.figure(figsize=(10,10))\n",
    "with sns.axes_style(\"white\"):\n",
    "    ax = sns.heatmap(property_data.corr()*100, mask=mask, fmt='.0f', annot=True, lw=1, cmap=ListedColormap(['green', 'yellow', 'red','blue']))"
   ]
  },
  {
   "cell_type": "markdown",
   "metadata": {
    "colab_type": "text",
    "id": "fR81swFwCaEe"
   },
   "source": [
    "## Outliers"
   ]
  },
  {
   "cell_type": "code",
   "execution_count": 9,
   "metadata": {
    "colab": {
     "base_uri": "https://localhost:8080/"
    },
    "colab_type": "code",
    "id": "nIS-26_OCaEh",
    "outputId": "b40e52f2-25b7-4ced-e518-1e1e24e2de26"
   },
   "outputs": [
    {
     "data": {
      "text/plain": [
       "<AxesSubplot:xlabel='Cars'>"
      ]
     },
     "execution_count": 9,
     "metadata": {},
     "output_type": "execute_result"
    },
    {
     "data": {
      "image/png": "[encoded data removed]",
      "text/plain": [
       "<Figure size 432x288 with 1 Axes>"
      ]
     },
     "metadata": {
      "needs_background": "light"
     },
     "output_type": "display_data"
    }
   ],
   "source": [
    "sns.boxplot(property_data['Cars'])"
   ]
  },
  {
   "cell_type": "code",
   "execution_count": 8,
   "metadata": {
    "colab": {
     "base_uri": "https://localhost:8080/"
    },
    "colab_type": "code",
    "id": "KZpJGaBaCaE0",
    "outputId": "b3ca1866-3ca7-483c-c407-ea415eff9286"
   },
   "outputs": [
    {
     "data": {
      "text/plain": [
       "4719     17\n",
       "3957     16\n",
       "10330    15\n",
       "5824     15\n",
       "7715     14\n",
       "Name: Cars, dtype: int64"
      ]
     },
     "execution_count": 8,
     "metadata": {},
     "output_type": "execute_result"
    }
   ],
   "source": [
    "property_data['Cars'].sort_values(ascending=False).head()"
   ]
  },
  {
   "cell_type": "code",
   "execution_count": 9,
   "metadata": {
    "colab": {
     "base_uri": "https://localhost:8080/"
    },
    "colab_type": "code",
    "id": "Wo5rNlTdCaFW",
    "outputId": "01b4b71b-efdf-4a60-f250-4c7cc92e8eea"
   },
   "outputs": [
    {
     "data": {
      "text/html": [
       "<div>\n",
       "<style scoped>\n",
       "    .dataframe tbody tr th:only-of-type {\n",
       "        vertical-align: middle;\n",
       "    }\n",
       "\n",
       "    .dataframe tbody tr th {\n",
       "        vertical-align: top;\n",
       "    }\n",
       "\n",
       "    .dataframe thead th {\n",
       "        text-align: right;\n",
       "    }\n",
       "</style>\n",
       "<table border=\"1\" class=\"dataframe\">\n",
       "  <thead>\n",
       "    <tr style=\"text-align: right;\">\n",
       "      <th></th>\n",
       "      <th>Sell Price</th>\n",
       "      <th>Sell Date</th>\n",
       "      <th>Auction</th>\n",
       "      <th>Last Sell Price</th>\n",
       "      <th>Last Sell Date</th>\n",
       "      <th>Rent Amount PW</th>\n",
       "      <th>Rent Date</th>\n",
       "      <th>Land Size SQM</th>\n",
       "      <th>Building Size SQM</th>\n",
       "      <th>Bedrooms</th>\n",
       "      <th>...</th>\n",
       "      <th>Cars</th>\n",
       "      <th>Suburb</th>\n",
       "      <th>Suburb_Code</th>\n",
       "      <th>Train Station</th>\n",
       "      <th>Bus Station</th>\n",
       "      <th>Hospitals</th>\n",
       "      <th>Schools</th>\n",
       "      <th>Restaurants</th>\n",
       "      <th>Shopping Center</th>\n",
       "      <th>Park</th>\n",
       "    </tr>\n",
       "  </thead>\n",
       "  <tbody>\n",
       "    <tr>\n",
       "      <th>4719</th>\n",
       "      <td>1050000.0</td>\n",
       "      <td>2019-02-08</td>\n",
       "      <td>0</td>\n",
       "      <td>NaN</td>\n",
       "      <td>NaN</td>\n",
       "      <td>NaN</td>\n",
       "      <td>NaN</td>\n",
       "      <td>20234.0</td>\n",
       "      <td>0.0</td>\n",
       "      <td>5</td>\n",
       "      <td>...</td>\n",
       "      <td>17</td>\n",
       "      <td>Lara</td>\n",
       "      <td>16</td>\n",
       "      <td>1</td>\n",
       "      <td>6</td>\n",
       "      <td>6</td>\n",
       "      <td>3</td>\n",
       "      <td>15</td>\n",
       "      <td>2</td>\n",
       "      <td>3</td>\n",
       "    </tr>\n",
       "  </tbody>\n",
       "</table>\n",
       "<p>1 rows × 21 columns</p>\n",
       "</div>"
      ],
      "text/plain": [
       "      Sell Price   Sell Date  Auction  Last Sell Price Last Sell Date  \\\n",
       "4719   1050000.0  2019-02-08        0              NaN            NaN   \n",
       "\n",
       "      Rent Amount PW Rent Date  Land Size SQM  Building Size SQM  Bedrooms  \\\n",
       "4719             NaN       NaN        20234.0                0.0         5   \n",
       "\n",
       "      ...  Cars  Suburb Suburb_Code  Train Station  Bus Station  Hospitals  \\\n",
       "4719  ...    17    Lara          16              1            6          6   \n",
       "\n",
       "      Schools  Restaurants  Shopping Center  Park  \n",
       "4719        3           15                2     3  \n",
       "\n",
       "[1 rows x 21 columns]"
      ]
     },
     "execution_count": 9,
     "metadata": {},
     "output_type": "execute_result"
    }
   ],
   "source": [
    "property_data[property_data['Cars'] == 17]"
   ]
  },
  {
   "cell_type": "markdown",
   "metadata": {
    "colab_type": "text",
    "id": "l2hUanN8CaFu"
   },
   "source": [
    "## Fill NaN Values"
   ]
  },
  {
   "cell_type": "code",
   "execution_count": 10,
   "metadata": {
    "colab": {
     "base_uri": "https://localhost:8080/"
    },
    "colab_type": "code",
    "id": "unRbYsb4CaFx",
    "outputId": "31102649-86c1-47fb-cd34-799b0858bbe8",
    "scrolled": false
   },
   "outputs": [
    {
     "data": {
      "text/plain": [
       "Sell Price               0\n",
       "Auction                  0\n",
       "Last Sell Price       7406\n",
       "Rent Amount PW       10806\n",
       "Land Size SQM          574\n",
       "Building Size SQM     6330\n",
       "Bedrooms                 0\n",
       "Toilets                  0\n",
       "Cars                     0\n",
       "Suburb_Code              0\n",
       "Train Station            0\n",
       "Bus Station              0\n",
       "Hospitals                0\n",
       "Schools                  0\n",
       "Restaurants              0\n",
       "Shopping Center          0\n",
       "Park                     0\n",
       "dtype: int64"
      ]
     },
     "execution_count": 10,
     "metadata": {},
     "output_type": "execute_result"
    }
   ],
   "source": [
    "# Display number of missing values by numeric feature\n",
    "property_data.select_dtypes(exclude=['object']).isnull().sum()"
   ]
  },
  {
   "cell_type": "code",
   "execution_count": 11,
   "metadata": {
    "colab": {},
    "colab_type": "code",
    "id": "BdouiKzXCaGj"
   },
   "outputs": [],
   "source": [
    "property_data['Last Sell Price'] = property_data['Last Sell Price'].fillna(0.0)\n",
    "property_data['Rent Amount PW'] = property_data['Rent Amount PW'].fillna(0.0)"
   ]
  },
  {
   "cell_type": "code",
   "execution_count": 12,
   "metadata": {
    "colab": {
     "base_uri": "https://localhost:8080/"
    },
    "colab_type": "code",
    "id": "WL7i3kShCaGu",
    "outputId": "39b2215e-b4de-4347-bce7-b2922fe11b57"
   },
   "outputs": [
    {
     "data": {
      "text/plain": [
       "Suburb\n",
       "Armstrong Creek        707.661626\n",
       "Bell Park              541.458228\n",
       "Bell Post Hill         589.218593\n",
       "Belmont                611.720177\n",
       "Corio                  608.577273\n",
       "Drumcondra             655.457143\n",
       "East Geelong           433.532808\n",
       "Freshwater Creek    196583.734513\n",
       "Geelong                548.960000\n",
       "Geelong West           415.029350\n",
       "Grovedale              616.534456\n",
       "Hamlyn Heights         594.088036\n",
       "Herne Hill             510.331536\n",
       "Highton                704.931755\n",
       "Lara                  1386.087977\n",
       "Manifold Heights       530.380814\n",
       "Marshall               853.646884\n",
       "Mount Duneed          2944.775449\n",
       "Newcomb                611.501266\n",
       "Newtown                623.234940\n",
       "Norlane                589.049336\n",
       "North Geelong          510.874302\n",
       "North Shore            510.749104\n",
       "Ripple Side            538.800687\n",
       "South Geelong         1264.990228\n",
       "St Albans Park         660.691517\n",
       "Thomson                492.310241\n",
       "Wandana Heights       1164.261682\n",
       "Waurn Ponds           1207.388140\n",
       "Whittington            615.658192\n",
       "Name: Land Size SQM, dtype: float64"
      ]
     },
     "execution_count": 12,
     "metadata": {},
     "output_type": "execute_result"
    }
   ],
   "source": [
    "s = property_data.groupby('Suburb')['Land Size SQM'].mean()\n",
    "property_data['Land Size SQM'] = property_data['Land Size SQM'].fillna(property_data['Suburb'].map(s))\n",
    "s"
   ]
  },
  {
   "cell_type": "code",
   "execution_count": 13,
   "metadata": {
    "colab": {
     "base_uri": "https://localhost:8080/"
    },
    "colab_type": "code",
    "id": "a6Pk0WU4CaG3",
    "outputId": "d3e6a016-5ec8-40b6-c37e-e4af059d2869"
   },
   "outputs": [
    {
     "data": {
      "text/plain": [
       "Suburb\n",
       "Armstrong Creek      76.177845\n",
       "Bell Park           112.704690\n",
       "Bell Post Hill      117.637030\n",
       "Belmont              25.262868\n",
       "Corio                47.111243\n",
       "Drumcondra          175.411765\n",
       "East Geelong         70.717772\n",
       "Freshwater Creek    212.916667\n",
       "Geelong              73.347773\n",
       "Geelong West         52.945297\n",
       "Grovedale            46.111846\n",
       "Hamlyn Heights       48.187976\n",
       "Herne Hill           61.425150\n",
       "Highton              53.903282\n",
       "Lara                 59.774350\n",
       "Manifold Heights    105.427398\n",
       "Marshall            103.752866\n",
       "Mount Duneed        100.932184\n",
       "Newcomb              89.796602\n",
       "Newtown              55.257046\n",
       "Norlane              58.013127\n",
       "North Geelong       123.240464\n",
       "North Shore          79.565217\n",
       "Ripple Side         142.989362\n",
       "South Geelong       179.333333\n",
       "St Albans Park       70.381839\n",
       "Thomson               0.865332\n",
       "Wandana Heights     191.638285\n",
       "Waurn Ponds         114.044125\n",
       "Whittington          72.461107\n",
       "Name: Building Size SQM, dtype: float64"
      ]
     },
     "execution_count": 13,
     "metadata": {},
     "output_type": "execute_result"
    }
   ],
   "source": [
    "s = property_data.groupby('Suburb')['Building Size SQM'].mean()\n",
    "property_data['Building Size SQM'] = property_data['Building Size SQM'].fillna(property_data['Suburb'].map(s))\n",
    "s"
   ]
  },
  {
   "cell_type": "code",
   "execution_count": 14,
   "metadata": {
    "colab": {
     "base_uri": "https://localhost:8080/"
    },
    "colab_type": "code",
    "id": "ml2LEyjhCaHB",
    "outputId": "1c8e7003-ecfd-4fe0-94a2-2e6eeca17073"
   },
   "outputs": [
    {
     "data": {
      "text/html": [
       "<div>\n",
       "<style scoped>\n",
       "    .dataframe tbody tr th:only-of-type {\n",
       "        vertical-align: middle;\n",
       "    }\n",
       "\n",
       "    .dataframe tbody tr th {\n",
       "        vertical-align: top;\n",
       "    }\n",
       "\n",
       "    .dataframe thead th {\n",
       "        text-align: right;\n",
       "    }\n",
       "</style>\n",
       "<table border=\"1\" class=\"dataframe\">\n",
       "  <thead>\n",
       "    <tr style=\"text-align: right;\">\n",
       "      <th></th>\n",
       "      <th>Sell Date</th>\n",
       "      <th>Last Sell Date</th>\n",
       "      <th>Last Sell Days</th>\n",
       "    </tr>\n",
       "  </thead>\n",
       "  <tbody>\n",
       "    <tr>\n",
       "      <th>0</th>\n",
       "      <td>2020-09-01</td>\n",
       "      <td>NaT</td>\n",
       "      <td>0.0</td>\n",
       "    </tr>\n",
       "    <tr>\n",
       "      <th>1</th>\n",
       "      <td>2020-08-29</td>\n",
       "      <td>NaT</td>\n",
       "      <td>0.0</td>\n",
       "    </tr>\n",
       "    <tr>\n",
       "      <th>2</th>\n",
       "      <td>2020-08-01</td>\n",
       "      <td>2001-08-01</td>\n",
       "      <td>6940.0</td>\n",
       "    </tr>\n",
       "    <tr>\n",
       "      <th>3</th>\n",
       "      <td>2020-08-15</td>\n",
       "      <td>1996-03-01</td>\n",
       "      <td>8933.0</td>\n",
       "    </tr>\n",
       "    <tr>\n",
       "      <th>4</th>\n",
       "      <td>2020-08-01</td>\n",
       "      <td>2016-01-01</td>\n",
       "      <td>1674.0</td>\n",
       "    </tr>\n",
       "  </tbody>\n",
       "</table>\n",
       "</div>"
      ],
      "text/plain": [
       "   Sell Date Last Sell Date  Last Sell Days\n",
       "0 2020-09-01            NaT             0.0\n",
       "1 2020-08-29            NaT             0.0\n",
       "2 2020-08-01     2001-08-01          6940.0\n",
       "3 2020-08-15     1996-03-01          8933.0\n",
       "4 2020-08-01     2016-01-01          1674.0"
      ]
     },
     "execution_count": 14,
     "metadata": {},
     "output_type": "execute_result"
    }
   ],
   "source": [
    "property_data['Sell Date'] = pd.to_datetime(property_data['Sell Date'])\n",
    "property_data['Last Sell Date'] = pd.to_datetime(property_data['Last Sell Date'])\n",
    "property_data['Last Sell Days'] = property_data['Sell Date'].sub(property_data['Last Sell Date'], axis=0)\n",
    "property_data['Last Sell Days'] = property_data['Last Sell Days'] / np.timedelta64(1, 'D')\n",
    "property_data['Last Sell Days'] = property_data['Last Sell Days'].fillna(0.0)\n",
    "property_data[['Sell Date', 'Last Sell Date', 'Last Sell Days']].head()"
   ]
  },
  {
   "cell_type": "code",
   "execution_count": 15,
   "metadata": {
    "colab": {},
    "colab_type": "code",
    "id": "kr-rV3xRCaHY"
   },
   "outputs": [],
   "source": [
    "property_data = property_data.drop(['Rent Date', 'Sell Date', 'Last Sell Date', 'Suburb'], axis=1)"
   ]
  },
  {
   "cell_type": "code",
   "execution_count": 16,
   "metadata": {
    "colab": {
     "base_uri": "https://localhost:8080/"
    },
    "colab_type": "code",
    "id": "5U46CX9nCaHh",
    "outputId": "cd23b78b-e075-4106-8bff-58acb269bb14"
   },
   "outputs": [
    {
     "data": {
      "text/html": [
       "<div>\n",
       "<style scoped>\n",
       "    .dataframe tbody tr th:only-of-type {\n",
       "        vertical-align: middle;\n",
       "    }\n",
       "\n",
       "    .dataframe tbody tr th {\n",
       "        vertical-align: top;\n",
       "    }\n",
       "\n",
       "    .dataframe thead th {\n",
       "        text-align: right;\n",
       "    }\n",
       "</style>\n",
       "<table border=\"1\" class=\"dataframe\">\n",
       "  <thead>\n",
       "    <tr style=\"text-align: right;\">\n",
       "      <th></th>\n",
       "      <th>Sell Price</th>\n",
       "      <th>Auction</th>\n",
       "      <th>Last Sell Price</th>\n",
       "      <th>Rent Amount PW</th>\n",
       "      <th>Land Size SQM</th>\n",
       "      <th>Building Size SQM</th>\n",
       "      <th>Bedrooms</th>\n",
       "      <th>Toilets</th>\n",
       "      <th>Cars</th>\n",
       "      <th>Suburb_Code</th>\n",
       "      <th>Train Station</th>\n",
       "      <th>Bus Station</th>\n",
       "      <th>Hospitals</th>\n",
       "      <th>Schools</th>\n",
       "      <th>Restaurants</th>\n",
       "      <th>Shopping Center</th>\n",
       "      <th>Park</th>\n",
       "      <th>Last Sell Days</th>\n",
       "    </tr>\n",
       "  </thead>\n",
       "  <tbody>\n",
       "    <tr>\n",
       "      <th>0</th>\n",
       "      <td>510000.0</td>\n",
       "      <td>0</td>\n",
       "      <td>0.0</td>\n",
       "      <td>0.0</td>\n",
       "      <td>548.96</td>\n",
       "      <td>73.347773</td>\n",
       "      <td>0</td>\n",
       "      <td>0</td>\n",
       "      <td>0</td>\n",
       "      <td>10</td>\n",
       "      <td>1</td>\n",
       "      <td>8</td>\n",
       "      <td>20</td>\n",
       "      <td>3</td>\n",
       "      <td>85</td>\n",
       "      <td>4</td>\n",
       "      <td>1</td>\n",
       "      <td>0.0</td>\n",
       "    </tr>\n",
       "    <tr>\n",
       "      <th>1</th>\n",
       "      <td>2375000.0</td>\n",
       "      <td>1</td>\n",
       "      <td>0.0</td>\n",
       "      <td>0.0</td>\n",
       "      <td>548.96</td>\n",
       "      <td>73.347773</td>\n",
       "      <td>0</td>\n",
       "      <td>0</td>\n",
       "      <td>0</td>\n",
       "      <td>10</td>\n",
       "      <td>1</td>\n",
       "      <td>8</td>\n",
       "      <td>20</td>\n",
       "      <td>3</td>\n",
       "      <td>85</td>\n",
       "      <td>4</td>\n",
       "      <td>1</td>\n",
       "      <td>0.0</td>\n",
       "    </tr>\n",
       "    <tr>\n",
       "      <th>2</th>\n",
       "      <td>1240000.0</td>\n",
       "      <td>0</td>\n",
       "      <td>155000.0</td>\n",
       "      <td>0.0</td>\n",
       "      <td>667.00</td>\n",
       "      <td>214.000000</td>\n",
       "      <td>3</td>\n",
       "      <td>1</td>\n",
       "      <td>1</td>\n",
       "      <td>10</td>\n",
       "      <td>1</td>\n",
       "      <td>8</td>\n",
       "      <td>20</td>\n",
       "      <td>3</td>\n",
       "      <td>85</td>\n",
       "      <td>4</td>\n",
       "      <td>1</td>\n",
       "      <td>6940.0</td>\n",
       "    </tr>\n",
       "    <tr>\n",
       "      <th>3</th>\n",
       "      <td>560000.0</td>\n",
       "      <td>1</td>\n",
       "      <td>65000.0</td>\n",
       "      <td>0.0</td>\n",
       "      <td>319.00</td>\n",
       "      <td>73.347773</td>\n",
       "      <td>3</td>\n",
       "      <td>0</td>\n",
       "      <td>0</td>\n",
       "      <td>10</td>\n",
       "      <td>1</td>\n",
       "      <td>8</td>\n",
       "      <td>20</td>\n",
       "      <td>3</td>\n",
       "      <td>85</td>\n",
       "      <td>4</td>\n",
       "      <td>1</td>\n",
       "      <td>8933.0</td>\n",
       "    </tr>\n",
       "    <tr>\n",
       "      <th>4</th>\n",
       "      <td>720000.0</td>\n",
       "      <td>0</td>\n",
       "      <td>657000.0</td>\n",
       "      <td>500.0</td>\n",
       "      <td>410.00</td>\n",
       "      <td>73.347773</td>\n",
       "      <td>5</td>\n",
       "      <td>2</td>\n",
       "      <td>2</td>\n",
       "      <td>10</td>\n",
       "      <td>1</td>\n",
       "      <td>8</td>\n",
       "      <td>20</td>\n",
       "      <td>3</td>\n",
       "      <td>85</td>\n",
       "      <td>4</td>\n",
       "      <td>1</td>\n",
       "      <td>1674.0</td>\n",
       "    </tr>\n",
       "  </tbody>\n",
       "</table>\n",
       "</div>"
      ],
      "text/plain": [
       "   Sell Price  Auction  Last Sell Price  Rent Amount PW  Land Size SQM  \\\n",
       "0    510000.0        0              0.0             0.0         548.96   \n",
       "1   2375000.0        1              0.0             0.0         548.96   \n",
       "2   1240000.0        0         155000.0             0.0         667.00   \n",
       "3    560000.0        1          65000.0             0.0         319.00   \n",
       "4    720000.0        0         657000.0           500.0         410.00   \n",
       "\n",
       "   Building Size SQM  Bedrooms  Toilets  Cars  Suburb_Code  Train Station  \\\n",
       "0          73.347773         0        0     0           10              1   \n",
       "1          73.347773         0        0     0           10              1   \n",
       "2         214.000000         3        1     1           10              1   \n",
       "3          73.347773         3        0     0           10              1   \n",
       "4          73.347773         5        2     2           10              1   \n",
       "\n",
       "   Bus Station  Hospitals  Schools  Restaurants  Shopping Center  Park  \\\n",
       "0            8         20        3           85                4     1   \n",
       "1            8         20        3           85                4     1   \n",
       "2            8         20        3           85                4     1   \n",
       "3            8         20        3           85                4     1   \n",
       "4            8         20        3           85                4     1   \n",
       "\n",
       "   Last Sell Days  \n",
       "0             0.0  \n",
       "1             0.0  \n",
       "2          6940.0  \n",
       "3          8933.0  \n",
       "4          1674.0  "
      ]
     },
     "execution_count": 16,
     "metadata": {},
     "output_type": "execute_result"
    }
   ],
   "source": [
    "property_data.head()"
   ]
  },
  {
   "cell_type": "markdown",
   "metadata": {
    "colab_type": "text",
    "id": "rO5PJaHeCaIN"
   },
   "source": [
    "## Apply Scalling"
   ]
  },
  {
   "cell_type": "code",
   "execution_count": 17,
   "metadata": {
    "colab": {
     "base_uri": "https://localhost:8080/",
     "height": 348
    },
    "colab_type": "code",
    "id": "KdT-YS-VCaIQ",
    "outputId": "ee45854c-bf47-421f-f6bb-084475652df0"
   },
   "outputs": [
    {
     "data": {
      "text/plain": [
       "['Sell Price',\n",
       " 'Auction',\n",
       " 'Last Sell Price',\n",
       " 'Rent Amount PW',\n",
       " 'Land Size SQM',\n",
       " 'Building Size SQM',\n",
       " 'Bedrooms',\n",
       " 'Toilets',\n",
       " 'Cars',\n",
       " 'Suburb_Code',\n",
       " 'Train Station',\n",
       " 'Bus Station',\n",
       " 'Hospitals',\n",
       " 'Schools',\n",
       " 'Restaurants',\n",
       " 'Shopping Center',\n",
       " 'Park',\n",
       " 'Last Sell Days']"
      ]
     },
     "execution_count": 17,
     "metadata": {},
     "output_type": "execute_result"
    }
   ],
   "source": [
    "feature_cols = property_data.columns.tolist()\n",
    "feature_cols"
   ]
  },
  {
   "cell_type": "code",
   "execution_count": 18,
   "metadata": {
    "colab": {},
    "colab_type": "code",
    "id": "rMov-Fp5CaI8"
   },
   "outputs": [],
   "source": [
    "from sklearn.preprocessing import StandardScaler\n",
    "from pandas import DataFrame\n"
   ]
  },
  {
   "cell_type": "code",
   "execution_count": 19,
   "metadata": {
    "colab": {},
    "colab_type": "code",
    "id": "pkznBPpcCaJY"
   },
   "outputs": [],
   "source": [
    "# Create separate object for target variable\n",
    "y = property_data['Sell Price']\n",
    "\n",
    "# Create separate object for input features\n",
    "X = property_data.drop('Sell Price', axis=1)\n",
    "\n",
    "#y = y.values.reshape(-1, 1)"
   ]
  },
  {
   "cell_type": "markdown",
   "metadata": {
    "colab_type": "text",
    "id": "lvEv8-jtCaJG"
   },
   "source": [
    "## Split Dataset for Test-Train"
   ]
  },
  {
   "cell_type": "code",
   "execution_count": 20,
   "metadata": {
    "colab": {},
    "colab_type": "code",
    "id": "0XghLhwYCaJH"
   },
   "outputs": [],
   "source": [
    "from sklearn import model_selection\n",
    "# Evaluation Metrics\n",
    "from sklearn.metrics import mean_squared_error as mse\n",
    "from sklearn.metrics import r2_score as rs\n",
    "from sklearn.metrics import mean_absolute_error as mae"
   ]
  },
  {
   "cell_type": "code",
   "execution_count": null,
   "metadata": {
    "colab": {},
    "colab_type": "code",
    "id": "JtMpY1u0CaJ5"
   },
   "outputs": [],
   "source": [
    "# Split X and y into train and test sets: 80-20\n",
    "X_train, X_test, y_train, y_test = model_selection.train_test_split(X, y, test_size=0.3, random_state=1234)"
   ]
  },
  {
   "cell_type": "code",
   "execution_count": null,
   "metadata": {
    "colab": {
     "base_uri": "https://localhost:8080/",
     "height": 35
    },
    "colab_type": "code",
    "id": "gb7nxM5mCaKO",
    "outputId": "ec5d1efe-de02-4735-9a57-d527ba100e0a"
   },
   "outputs": [
    {
     "name": "stdout",
     "output_type": "stream",
     "text": [
      "(9156, 17) (3924, 17) (9156,) (3924,)\n"
     ]
    }
   ],
   "source": [
    "print(X_train.shape, X_test.shape, y_train.shape, y_test.shape)"
   ]
  },
  {
   "cell_type": "code",
   "execution_count": null,
   "metadata": {
    "colab": {},
    "colab_type": "code",
    "id": "RF9eDPOAGQDw"
   },
   "outputs": [],
   "source": [
    "'''scalerX = StandardScaler().fit(X_train)\n",
    "scalery = StandardScaler().fit(y_train)\n",
    "X_train = scalerX.transform(X_train)\n",
    "y_train = scalery.transform(y_train)\n",
    "X_test = scalerX.transform(X_test)\n",
    "y_test = scalery.transform(y_test)'''"
   ]
  },
  {
   "cell_type": "markdown",
   "metadata": {
    "colab_type": "text",
    "id": "gnylux7_CaKl"
   },
   "source": [
    "## Baseline Model"
   ]
  },
  {
   "cell_type": "code",
   "execution_count": null,
   "metadata": {
    "colab": {},
    "colab_type": "code",
    "id": "dwbnTaUFCaKn"
   },
   "outputs": [],
   "source": [
    "## Predict Train results\n",
    "y_train_pred = np.ones(y_train.shape[0])*y_train.mean()"
   ]
  },
  {
   "cell_type": "code",
   "execution_count": null,
   "metadata": {
    "colab": {},
    "colab_type": "code",
    "id": "n-1FQcMYCaLM"
   },
   "outputs": [],
   "source": [
    "## Predict Test results\n",
    "y_pred = np.ones(y_test.shape[0])*y_train.mean()"
   ]
  },
  {
   "cell_type": "code",
   "execution_count": null,
   "metadata": {
    "colab": {
     "base_uri": "https://localhost:8080/"
    },
    "colab_type": "code",
    "id": "omCiS7gQCaMQ",
    "outputId": "e7eced89-d64e-44d8-d247-0dd32eed08c2"
   },
   "outputs": [
    {
     "name": "stdout",
     "output_type": "stream",
     "text": [
      "Train Results for Baseline Model:\n",
      "*******************************\n",
      "Root mean squared error:  1.0170309324388513\n",
      "R-squared:  0.0\n",
      "Mean Absolute Error:  0.5787655450234297\n"
     ]
    }
   ],
   "source": [
    "print(\"Train Results for Baseline Model:\")\n",
    "print(\"*******************************\")\n",
    "print(\"Root mean squared error: \", sqrt(mse(y_train.values, y_train_pred)))\n",
    "print(\"R-squared: \", rs(y_train.values, y_train_pred))\n",
    "print(\"Mean Absolute Error: \", mae(y_train.values, y_train_pred))"
   ]
  },
  {
   "cell_type": "code",
   "execution_count": null,
   "metadata": {
    "colab": {
     "base_uri": "https://localhost:8080/"
    },
    "colab_type": "code",
    "id": "8mNFUHFMCaMX",
    "outputId": "5e1dc9d6-04e7-4f45-ebab-9fbf38142b3e"
   },
   "outputs": [
    {
     "name": "stdout",
     "output_type": "stream",
     "text": [
      "Results for Baseline Model:\n",
      "*******************************\n",
      "Root mean squared error:  0.9591034826270118\n",
      "R-squared:  -0.0001230915658156917\n",
      "Mean Absolute Error:  0.5682765572726205\n"
     ]
    }
   ],
   "source": [
    "print(\"Results for Baseline Model:\")\n",
    "print(\"*******************************\")\n",
    "print(\"Root mean squared error: \", sqrt(mse(y_test, y_pred)))\n",
    "print(\"R-squared: \", rs(y_test, y_pred))\n",
    "print(\"Mean Absolute Error: \", mae(y_test, y_pred))"
   ]
  },
  {
   "cell_type": "markdown",
   "metadata": {
    "colab_type": "text",
    "id": "4QHbL-x0CaMk"
   },
   "source": [
    "## Decision Tree Regression"
   ]
  },
  {
   "cell_type": "code",
   "execution_count": null,
   "metadata": {
    "colab": {
     "base_uri": "https://localhost:8080/",
     "height": 403
    },
    "colab_type": "code",
    "id": "ngC9kYOcCaNH",
    "outputId": "3ea4ac64-3883-4a93-bcfc-a8c77c0a82e1"
   },
   "outputs": [
    {
     "data": {
      "text/plain": [
       "RandomizedSearchCV(cv=10, error_score=nan,\n",
       "                   estimator=DecisionTreeRegressor(ccp_alpha=0.0,\n",
       "                                                   criterion='mse',\n",
       "                                                   max_depth=None,\n",
       "                                                   max_features=None,\n",
       "                                                   max_leaf_nodes=None,\n",
       "                                                   min_impurity_decrease=0.0,\n",
       "                                                   min_impurity_split=None,\n",
       "                                                   min_samples_leaf=1,\n",
       "                                                   min_samples_split=2,\n",
       "                                                   min_weight_fraction_leaf=0.0,\n",
       "                                                   presort='deprecated',\n",
       "                                                   random_state=None,\n",
       "                                                   splitter='best'),\n",
       "                   iid='deprecated', n_iter=20, n_jobs=-1,\n",
       "                   param_distributions={'max_depth': [2, 3, 4, 5, 6, 7],\n",
       "                                        'min_samples_leaf': [1, 2, 3, 4, 6],\n",
       "                                        'min_samples_split': [2, 3, 4, 5, 7]},\n",
       "                   pre_dispatch='2*n_jobs', random_state=None, refit=True,\n",
       "                   return_train_score=False, scoring='neg_mean_absolute_error',\n",
       "                   verbose=0)"
      ]
     },
     "execution_count": 30,
     "metadata": {
      "tags": []
     },
     "output_type": "execute_result"
    }
   ],
   "source": [
    "tuned_params = {'min_samples_split': [2, 3, 4, 5, 7], 'min_samples_leaf': [1, 2, 3, 4, 6], 'max_depth': [2, 3, 4, 5, 6, 7]}\n",
    "model = RandomizedSearchCV(DecisionTreeRegressor(), tuned_params, n_iter=20, scoring = 'neg_mean_absolute_error', cv=10, n_jobs=-1)\n",
    "model.fit(X_train, y_train)"
   ]
  },
  {
   "cell_type": "code",
   "execution_count": null,
   "metadata": {
    "colab": {
     "base_uri": "https://localhost:8080/",
     "height": 127
    },
    "colab_type": "code",
    "id": "5VCfgHMAeSZG",
    "outputId": "f2776baa-2b58-4bd2-bff7-baf2f748d206"
   },
   "outputs": [
    {
     "name": "stdout",
     "output_type": "stream",
     "text": [
      "DecisionTreeRegressor(ccp_alpha=0.0, criterion='mse', max_depth=7,\n",
      "                      max_features=None, max_leaf_nodes=None,\n",
      "                      min_impurity_decrease=0.0, min_impurity_split=None,\n",
      "                      min_samples_leaf=1, min_samples_split=7,\n",
      "                      min_weight_fraction_leaf=0.0, presort='deprecated',\n",
      "                      random_state=None, splitter='best')\n"
     ]
    }
   ],
   "source": [
    "print(model.best_estimator_)"
   ]
  },
  {
   "cell_type": "code",
   "execution_count": null,
   "metadata": {
    "colab": {},
    "colab_type": "code",
    "id": "7ugE2oLOeYLH"
   },
   "outputs": [],
   "source": [
    "dt_model = DecisionTreeRegressor(ccp_alpha=0.0, criterion='mse', max_depth=7,\n",
    "                      max_features=None, max_leaf_nodes=None,\n",
    "                      min_impurity_decrease=0.0, min_impurity_split=None,\n",
    "                      min_samples_leaf=3, min_samples_split=2,\n",
    "                      min_weight_fraction_leaf=0.0, presort='deprecated',\n",
    "                      random_state=None, splitter='best')"
   ]
  },
  {
   "cell_type": "code",
   "execution_count": null,
   "metadata": {
    "colab": {
     "base_uri": "https://localhost:8080/",
     "height": 127
    },
    "colab_type": "code",
    "id": "cy7vmbX_ejLQ",
    "outputId": "2b6a1c0e-0d0f-408c-c8ea-d439101ac03a"
   },
   "outputs": [
    {
     "data": {
      "text/plain": [
       "DecisionTreeRegressor(ccp_alpha=0.0, criterion='mse', max_depth=7,\n",
       "                      max_features=None, max_leaf_nodes=None,\n",
       "                      min_impurity_decrease=0.0, min_impurity_split=None,\n",
       "                      min_samples_leaf=3, min_samples_split=2,\n",
       "                      min_weight_fraction_leaf=0.0, presort='deprecated',\n",
       "                      random_state=None, splitter='best')"
      ]
     },
     "execution_count": 33,
     "metadata": {
      "tags": []
     },
     "output_type": "execute_result"
    }
   ],
   "source": [
    "dt_model.fit(X_train, y_train)"
   ]
  },
  {
   "cell_type": "code",
   "execution_count": null,
   "metadata": {
    "colab": {},
    "colab_type": "code",
    "id": "cKzVrFlTCaNP"
   },
   "outputs": [],
   "source": [
    "## Predict Train results\n",
    "y_train_pred = dt_model.predict(X_train)"
   ]
  },
  {
   "cell_type": "code",
   "execution_count": null,
   "metadata": {
    "colab": {
     "base_uri": "https://localhost:8080/",
     "height": 54
    },
    "colab_type": "code",
    "id": "hgzzwwEiCaNW",
    "outputId": "fda1f9cf-e939-4b53-9886-ca18b9f0bbc3"
   },
   "outputs": [
    {
     "name": "stdout",
     "output_type": "stream",
     "text": [
      "[629967.67515924 419440.20714631 419440.20714631 ... 581914.26858108\n",
      " 348513.78187919 419440.20714631]\n"
     ]
    }
   ],
   "source": [
    "## Predict Test results\n",
    "y_pred = dt_model.predict(X_test)\n",
    "print(y_pred)"
   ]
  },
  {
   "cell_type": "code",
   "execution_count": null,
   "metadata": {
    "colab": {},
    "colab_type": "code",
    "id": "f0kdulzeFjCA"
   },
   "outputs": [],
   "source": [
    "#y_new_inverse = scalery.inverse_transform(y_pred)\n",
    "#y_new_inverse"
   ]
  },
  {
   "cell_type": "code",
   "execution_count": null,
   "metadata": {
    "colab": {
     "base_uri": "https://localhost:8080/",
     "height": 109
    },
    "colab_type": "code",
    "id": "h7P_Je5ZCaNg",
    "outputId": "48de22d6-ce61-4d72-afed-43876c3037d7"
   },
   "outputs": [
    {
     "name": "stdout",
     "output_type": "stream",
     "text": [
      "Train Results for Decision Tree Regression:\n",
      "*******************************\n",
      "Root mean squared error:  217292.38948838055\n",
      "R-squared:  0.5185273995093157\n",
      "Mean Absolute Error:  117813.28731738785\n"
     ]
    }
   ],
   "source": [
    "print(\"Train Results for Decision Tree Regression:\")\n",
    "print(\"*******************************\")\n",
    "print(\"Root mean squared error: \", sqrt(mse(y_train, y_train_pred)))\n",
    "print(\"R-squared: \", rs(y_train, y_train_pred))\n",
    "print(\"Mean Absolute Error: \", mae(y_train, y_train_pred))"
   ]
  },
  {
   "cell_type": "code",
   "execution_count": null,
   "metadata": {
    "colab": {
     "base_uri": "https://localhost:8080/",
     "height": 109
    },
    "colab_type": "code",
    "id": "d26RwDX1CaN1",
    "outputId": "8a4f5c7e-29bb-4281-828b-58abec96cbe1"
   },
   "outputs": [
    {
     "name": "stdout",
     "output_type": "stream",
     "text": [
      "Test Results for Decision Tree Regression:\n",
      "*******************************\n",
      "Root mean squared error:  218157.9101614007\n",
      "R-squared:  0.4542228892350044\n",
      "Mean Absolute Error:  121458.11624601936\n"
     ]
    }
   ],
   "source": [
    "print(\"Test Results for Decision Tree Regression:\")\n",
    "print(\"*******************************\")\n",
    "print(\"Root mean squared error: \", sqrt(mse(y_test, y_pred)))\n",
    "print(\"R-squared: \", rs(y_test, y_pred))\n",
    "print(\"Mean Absolute Error: \", mae(y_test, y_pred))"
   ]
  },
  {
   "cell_type": "code",
   "execution_count": null,
   "metadata": {
    "colab": {
     "base_uri": "https://localhost:8080/",
     "height": 366
    },
    "colab_type": "code",
    "id": "hagmPqTDd7Sx",
    "outputId": "ebefd218-8351-4960-d653-eafd8a914867"
   },
   "outputs": [
    {
     "name": "stdout",
     "output_type": "stream",
     "text": [
      "The features in order of importance are:\n",
      "--------------------------------------------------\n",
      "Land Size SQM\n",
      "Last Sell Price\n",
      "Toilets\n",
      "Schools\n",
      "Suburb_Code\n",
      "Hospitals\n",
      "Shopping Center\n",
      "Bedrooms\n",
      "Bus Station\n",
      "Restaurants\n",
      "Last Sell Days\n",
      "Building Size SQM\n",
      "Rent Amount PW\n",
      "Cars\n",
      "Park\n",
      "Train Station\n",
      "Auction\n"
     ]
    }
   ],
   "source": [
    "indices = np.argsort(-dt_model.feature_importances_)\n",
    "print(\"The features in order of importance are:\")\n",
    "print(50*'-')\n",
    "for feature in X.columns[indices]:\n",
    "    print(feature)"
   ]
  },
  {
   "cell_type": "markdown",
   "metadata": {
    "colab_type": "text",
    "id": "2g4SCaMJCaN-"
   },
   "source": [
    "## Random Forest Regression"
   ]
  },
  {
   "cell_type": "code",
   "execution_count": null,
   "metadata": {
    "colab": {
     "base_uri": "https://localhost:8080/",
     "height": 476
    },
    "colab_type": "code",
    "id": "8TXwuFGdCaN_",
    "outputId": "aa659da8-c87b-4128-bec3-25ccaeff2a3c"
   },
   "outputs": [
    {
     "data": {
      "text/plain": [
       "RandomizedSearchCV(cv=5, error_score=nan,\n",
       "                   estimator=RandomForestRegressor(bootstrap=True,\n",
       "                                                   ccp_alpha=0.0,\n",
       "                                                   criterion='mse',\n",
       "                                                   max_depth=None,\n",
       "                                                   max_features='auto',\n",
       "                                                   max_leaf_nodes=None,\n",
       "                                                   max_samples=None,\n",
       "                                                   min_impurity_decrease=0.0,\n",
       "                                                   min_impurity_split=None,\n",
       "                                                   min_samples_leaf=1,\n",
       "                                                   min_samples_split=2,\n",
       "                                                   min_weight_fraction_leaf=0.0,\n",
       "                                                   n_estimators=100,\n",
       "                                                   n_jobs=None, oob_score=False,\n",
       "                                                   random_state=None, verbose=0,\n",
       "                                                   warm_start=False),\n",
       "                   iid='deprecated', n_iter=20, n_jobs=-1,\n",
       "                   param_distributions={'min_samples_leaf': [1, 2, 4],\n",
       "                                        'min_samples_split': [2, 5, 10],\n",
       "                                        'n_estimators': [100, 200, 300, 400,\n",
       "                                                         500]},\n",
       "                   pre_dispatch='2*n_jobs', random_state=None, refit=True,\n",
       "                   return_train_score=False, scoring='neg_mean_absolute_error',\n",
       "                   verbose=0)"
      ]
     },
     "execution_count": 41,
     "metadata": {
      "tags": []
     },
     "output_type": "execute_result"
    }
   ],
   "source": [
    "tuned_params = {'n_estimators': [100, 200, 300, 400, 500], 'min_samples_split': [2, 5, 10], 'min_samples_leaf': [1, 2, 4]}\n",
    "model = RandomizedSearchCV(RandomForestRegressor(), tuned_params, n_iter=20, scoring = 'neg_mean_absolute_error', cv=5, n_jobs=-1)\n",
    "model.fit(X_train, y_train)\n",
    "## This takes around 15 minutes"
   ]
  },
  {
   "cell_type": "code",
   "execution_count": null,
   "metadata": {
    "colab": {
     "base_uri": "https://localhost:8080/",
     "height": 146
    },
    "colab_type": "code",
    "id": "MDhk6iRUCaOG",
    "outputId": "4555558b-35ae-4836-8a26-4346e0456b0c"
   },
   "outputs": [
    {
     "name": "stdout",
     "output_type": "stream",
     "text": [
      "RandomForestRegressor(bootstrap=True, ccp_alpha=0.0, criterion='mse',\n",
      "                      max_depth=None, max_features='auto', max_leaf_nodes=None,\n",
      "                      max_samples=None, min_impurity_decrease=0.0,\n",
      "                      min_impurity_split=None, min_samples_leaf=4,\n",
      "                      min_samples_split=5, min_weight_fraction_leaf=0.0,\n",
      "                      n_estimators=500, n_jobs=None, oob_score=False,\n",
      "                      random_state=None, verbose=0, warm_start=False)\n"
     ]
    }
   ],
   "source": [
    "print(model.best_estimator_)"
   ]
  },
  {
   "cell_type": "code",
   "execution_count": null,
   "metadata": {
    "colab": {
     "base_uri": "https://localhost:8080/",
     "height": 146
    },
    "colab_type": "code",
    "id": "Cv2KdULBCaO9",
    "outputId": "7305d430-50fd-442a-887b-06621471ec5d"
   },
   "outputs": [
    {
     "data": {
      "text/plain": [
       "RandomForestRegressor(bootstrap=True, ccp_alpha=0.0, criterion='mse',\n",
       "                      max_depth=None, max_features='auto', max_leaf_nodes=None,\n",
       "                      max_samples=None, min_impurity_decrease=0.0,\n",
       "                      min_impurity_split=None, min_samples_leaf=4,\n",
       "                      min_samples_split=5, min_weight_fraction_leaf=0.0,\n",
       "                      n_estimators=400, n_jobs=None, oob_score=False,\n",
       "                      random_state=None, verbose=0, warm_start=False)"
      ]
     },
     "execution_count": 43,
     "metadata": {
      "tags": []
     },
     "output_type": "execute_result"
    }
   ],
   "source": [
    "## Building the model again with the best hyperparameters\n",
    "model = RandomForestRegressor(bootstrap=True, criterion='mse', max_depth=None,\n",
    "           max_features='auto', max_leaf_nodes=None,\n",
    "           min_impurity_decrease=0.0, min_impurity_split=None,\n",
    "           min_samples_leaf=4, min_samples_split=5,\n",
    "           min_weight_fraction_leaf=0.0, n_estimators=400, n_jobs=None,\n",
    "           oob_score=False, random_state=None, verbose=0, warm_start=False)\n",
    "model.fit(X_train, y_train)"
   ]
  },
  {
   "cell_type": "code",
   "execution_count": null,
   "metadata": {
    "colab": {},
    "colab_type": "code",
    "id": "M_jNwFcDCaOM"
   },
   "outputs": [],
   "source": [
    "## Predict Train results\n",
    "y_train_pred = model.predict(X_train)"
   ]
  },
  {
   "cell_type": "code",
   "execution_count": null,
   "metadata": {
    "colab": {},
    "colab_type": "code",
    "id": "7mkdqxFFCaOR"
   },
   "outputs": [],
   "source": [
    "## Predict Test results\n",
    "y_pred = model.predict(X_test)"
   ]
  },
  {
   "cell_type": "code",
   "execution_count": null,
   "metadata": {
    "colab": {},
    "colab_type": "code",
    "id": "TUxhZtrfCaOp"
   },
   "outputs": [],
   "source": [
    "#y_pred = model.predict([[0, 0.0, 0.0, 371.0, 0.0, 3, 1, 1, 0, 7, 2, 1, 5, 3, 1, 0.0, 9]])\n",
    "#y_pred"
   ]
  },
  {
   "cell_type": "code",
   "execution_count": null,
   "metadata": {
    "colab": {
     "base_uri": "https://localhost:8080/",
     "height": 109
    },
    "colab_type": "code",
    "id": "n23CTMEFCaOu",
    "outputId": "966ee351-9f31-4234-918d-e9b0925ab2dd"
   },
   "outputs": [
    {
     "name": "stdout",
     "output_type": "stream",
     "text": [
      "Train Results for Random Forest Regression:\n",
      "*******************************\n",
      "Root mean squared error:  185360.47231687914\n",
      "R-squared:  0.6496381581102527\n",
      "Mean Absolute Error:  68633.64561483277\n"
     ]
    }
   ],
   "source": [
    "print(\"Train Results for Random Forest Regression:\")\n",
    "print(\"*******************************\")\n",
    "print(\"Root mean squared error: \", sqrt(mse(y_train, y_train_pred)))\n",
    "print(\"R-squared: \", rs(y_train, y_train_pred))\n",
    "print(\"Mean Absolute Error: \", mae(y_train, y_train_pred))"
   ]
  },
  {
   "cell_type": "code",
   "execution_count": null,
   "metadata": {
    "colab": {
     "base_uri": "https://localhost:8080/",
     "height": 109
    },
    "colab_type": "code",
    "id": "FuIwpw_OCaO0",
    "outputId": "03219274-c06a-4e89-e9f3-68ca6b8cb38b"
   },
   "outputs": [
    {
     "name": "stdout",
     "output_type": "stream",
     "text": [
      "Test Results for Random Forest Regression:\n",
      "*******************************\n",
      "Root mean squared error:  200249.6779477898\n",
      "R-squared:  0.5401490995261626\n",
      "Mean Absolute Error:  93003.05731938295\n"
     ]
    }
   ],
   "source": [
    "print(\"Test Results for Random Forest Regression:\")\n",
    "print(\"*******************************\")\n",
    "print(\"Root mean squared error: \", sqrt(mse(y_test, y_pred)))\n",
    "print(\"R-squared: \", rs(y_test, y_pred))\n",
    "print(\"Mean Absolute Error: \", mae(y_test, y_pred))"
   ]
  },
  {
   "cell_type": "code",
   "execution_count": null,
   "metadata": {
    "colab": {
     "base_uri": "https://localhost:8080/",
     "height": 366
    },
    "colab_type": "code",
    "id": "0VRPvhSUCaPD",
    "outputId": "17918c8b-7005-4544-f3a0-368bee1e285a"
   },
   "outputs": [
    {
     "name": "stdout",
     "output_type": "stream",
     "text": [
      "The features in order of importance are:\n",
      "--------------------------------------------------\n",
      "Land Size SQM\n",
      "Last Sell Price\n",
      "Toilets\n",
      "Schools\n",
      "Bedrooms\n",
      "Suburb_Code\n",
      "Bus Station\n",
      "Restaurants\n",
      "Building Size SQM\n",
      "Shopping Center\n",
      "Last Sell Days\n",
      "Hospitals\n",
      "Cars\n",
      "Rent Amount PW\n",
      "Park\n",
      "Auction\n",
      "Train Station\n"
     ]
    }
   ],
   "source": [
    "indices = np.argsort(-model.feature_importances_)\n",
    "print(\"The features in order of importance are:\")\n",
    "print(50*'-')\n",
    "for feature in X.columns[indices]:\n",
    "    print(feature)"
   ]
  },
  {
   "cell_type": "markdown",
   "metadata": {
    "colab_type": "text",
    "id": "oBAHAeOmCaPI"
   },
   "source": [
    "## Ridge Regression"
   ]
  },
  {
   "cell_type": "code",
   "execution_count": null,
   "metadata": {
    "colab": {},
    "colab_type": "code",
    "id": "rkNDqdhpCaPU",
    "outputId": "b8e43b53-c010-49a5-88c2-d7f73b93cc6a"
   },
   "outputs": [
    {
     "name": "stdout",
     "output_type": "stream",
     "text": [
      "Ridge(alpha=1000, copy_X=True, fit_intercept=True, max_iter=None,\n",
      "   normalize=False, random_state=None, solver='auto', tol=0.001)\n",
      "-0.4751640542005072\n"
     ]
    }
   ],
   "source": [
    "from sklearn.linear_model import Ridge\n",
    "\n",
    "tuned_params = {'alpha': [0.0001, 0.001, 0.01, 0.1, 1, 10, 100, 1000, 10000, 100000]}\n",
    "ridge_reg = GridSearchCV(Ridge(), tuned_params, scoring = 'neg_mean_absolute_error', cv=10, n_jobs=-1)\n",
    "\n",
    "ridge_reg.fit(X_train, y_train)\n",
    "\n",
    "print(ridge_reg.best_estimator_)\n",
    "print(ridge_reg.best_score_)"
   ]
  },
  {
   "cell_type": "code",
   "execution_count": null,
   "metadata": {
    "colab": {},
    "colab_type": "code",
    "id": "2jikLxtLCaPb",
    "outputId": "bdef3889-b5fa-41c7-a0b0-244a0db4c220"
   },
   "outputs": [
    {
     "data": {
      "text/plain": [
       "Ridge(alpha=1000, copy_X=True, fit_intercept=True, max_iter=None,\n",
       "   normalize=False, random_state=None, solver='auto', tol=0.001)"
      ]
     },
     "execution_count": 77,
     "metadata": {
      "tags": []
     },
     "output_type": "execute_result"
    }
   ],
   "source": [
    "ridge_reg.best_estimator_"
   ]
  },
  {
   "cell_type": "code",
   "execution_count": null,
   "metadata": {
    "colab": {},
    "colab_type": "code",
    "id": "HB-rXH7PCaPg"
   },
   "outputs": [],
   "source": [
    "## Predict Train results\n",
    "y_train_pred = ridge_reg.predict(X_train)"
   ]
  },
  {
   "cell_type": "code",
   "execution_count": null,
   "metadata": {
    "colab": {},
    "colab_type": "code",
    "id": "EpYXjtrmCaPm"
   },
   "outputs": [],
   "source": [
    "## Predict Test results\n",
    "y_pred = model.predict(X_test)"
   ]
  },
  {
   "cell_type": "code",
   "execution_count": null,
   "metadata": {
    "colab": {},
    "colab_type": "code",
    "id": "F_yO5qMQCaPs",
    "outputId": "c4c8a6b3-93bf-4cce-ed4e-814f6a212325"
   },
   "outputs": [
    {
     "name": "stdout",
     "output_type": "stream",
     "text": [
      "Train Results for Ridge Regression:\n",
      "*******************************\n",
      "Root mean squared error:  0.9173838411922751\n",
      "R-squared:  0.1863570823319608\n",
      "Mean Absolute Error:  0.47383397949500305\n"
     ]
    }
   ],
   "source": [
    "print(\"Train Results for Ridge Regression:\")\n",
    "print(\"*******************************\")\n",
    "print(\"Root mean squared error: \", sqrt(mse(y_train.values, y_train_pred)))\n",
    "print(\"R-squared: \", rs(y_train.values, y_train_pred))\n",
    "print(\"Mean Absolute Error: \", mae(y_train.values, y_train_pred))"
   ]
  },
  {
   "cell_type": "code",
   "execution_count": null,
   "metadata": {
    "colab": {},
    "colab_type": "code",
    "id": "XwaT9jCKCaP_",
    "outputId": "9f7e36ba-38fb-43f7-c151-e242992f2325"
   },
   "outputs": [
    {
     "name": "stdout",
     "output_type": "stream",
     "text": [
      "Test Results for Ridge Regression:\n",
      "*******************************\n",
      "Root mean squared error:  0.7451064194721831\n",
      "R-squared:  0.3963862434625798\n",
      "Mean Absolute Error:  0.39984717173452056\n"
     ]
    }
   ],
   "source": [
    "print(\"Test Results for Ridge Regression:\")\n",
    "print(\"*******************************\")\n",
    "print(\"Root mean squared error: \", sqrt(mse(y_test, y_pred)))\n",
    "print(\"R-squared: \", rs(y_test, y_pred))\n",
    "print(\"Mean Absolute Error: \", mae(y_test, y_pred))"
   ]
  },
  {
   "cell_type": "code",
   "execution_count": null,
   "metadata": {
    "colab": {},
    "colab_type": "code",
    "id": "WNc9uUk_CaQG",
    "outputId": "91bf6410-647a-472d-ca15-d2d9fe329aba"
   },
   "outputs": [
    {
     "data": {
      "text/plain": [
       "Ridge(alpha=1000, copy_X=True, fit_intercept=True, max_iter=None,\n",
       "   normalize=False, random_state=None, solver='auto', tol=0.001)"
      ]
     },
     "execution_count": 85,
     "metadata": {
      "tags": []
     },
     "output_type": "execute_result"
    }
   ],
   "source": [
    "## Building the model again with the best hyperparameters\n",
    "model = Ridge(alpha=1000, copy_X=True, fit_intercept=True, max_iter=None,\n",
    "   normalize=False, random_state=None, solver='auto', tol=0.001)\n",
    "model.fit(X_train, y_train)"
   ]
  },
  {
   "cell_type": "code",
   "execution_count": null,
   "metadata": {
    "colab": {},
    "colab_type": "code",
    "id": "bShdvyDXCaQO",
    "outputId": "52145cbd-e13f-45d0-ddf3-37fbbbdbdd3b"
   },
   "outputs": [
    {
     "name": "stdout",
     "output_type": "stream",
     "text": [
      "The features in order of importance are:\n",
      "--------------------------------------------------\n",
      "Toilets\n",
      "Shopping Center\n",
      "Last Sell Price\n",
      "Train Station\n",
      "Bus Station\n",
      "Bedrooms\n",
      "Land Size SQM\n",
      "Restaurants\n",
      "Suburb_Code\n",
      "Park\n",
      "Auction\n",
      "Schools\n",
      "Last Sell Days\n",
      "Building Size SQM\n",
      "Cars\n",
      "Rent Amount PW\n",
      "Hospitals\n"
     ]
    }
   ],
   "source": [
    "indices = np.argsort(-abs(model.coef_))\n",
    "print(\"The features in order of importance are:\")\n",
    "print(50*'-')\n",
    "for feature in X.columns[indices]:\n",
    "    print(feature)"
   ]
  },
  {
   "cell_type": "markdown",
   "metadata": {
    "colab_type": "text",
    "id": "MW2P9W3mCaQX"
   },
   "source": [
    "## Lasso"
   ]
  },
  {
   "cell_type": "code",
   "execution_count": null,
   "metadata": {
    "colab": {},
    "colab_type": "code",
    "id": "Y624HSvUCaQX",
    "outputId": "313946ea-fd97-4cea-d0b7-3d9c99767d7b"
   },
   "outputs": [
    {
     "name": "stdout",
     "output_type": "stream",
     "text": [
      "Lasso(alpha=0.01, copy_X=True, fit_intercept=True, max_iter=1000,\n",
      "   normalize=False, positive=False, precompute=False, random_state=None,\n",
      "   selection='cyclic', tol=0.0001, warm_start=False)\n",
      "-0.4747180761263331\n"
     ]
    }
   ],
   "source": [
    "from sklearn.linear_model import Lasso\n",
    "\n",
    "tuned_params = {'alpha': [0.0001, 0.001, 0.01, 0.1, 1, 10, 100, 1000, 10000, 100000]}\n",
    "lasso_reg = GridSearchCV(Lasso(), tuned_params, scoring = 'neg_mean_absolute_error', cv=10, n_jobs=-1)\n",
    "\n",
    "lasso_reg.fit(X_train, y_train)\n",
    "\n",
    "print(lasso_reg.best_estimator_)\n",
    "print(lasso_reg.best_score_)"
   ]
  },
  {
   "cell_type": "code",
   "execution_count": null,
   "metadata": {
    "colab": {},
    "colab_type": "code",
    "id": "iii3KEn6CaQc",
    "outputId": "eee97fa1-a773-433b-863f-6b5130194733"
   },
   "outputs": [
    {
     "data": {
      "text/plain": [
       "Lasso(alpha=0.01, copy_X=True, fit_intercept=True, max_iter=1000,\n",
       "   normalize=False, positive=False, precompute=False, random_state=None,\n",
       "   selection='cyclic', tol=0.0001, warm_start=False)"
      ]
     },
     "execution_count": 88,
     "metadata": {
      "tags": []
     },
     "output_type": "execute_result"
    }
   ],
   "source": [
    "lasso_reg.best_estimator_"
   ]
  },
  {
   "cell_type": "code",
   "execution_count": null,
   "metadata": {
    "colab": {},
    "colab_type": "code",
    "id": "iXTqUwdoCaQu"
   },
   "outputs": [],
   "source": [
    "## Predict Train results\n",
    "y_train_pred = lasso_reg.predict(X_train)"
   ]
  },
  {
   "cell_type": "code",
   "execution_count": null,
   "metadata": {
    "colab": {},
    "colab_type": "code",
    "id": "LRVlXVe5CaQ3"
   },
   "outputs": [],
   "source": [
    "## Predict Test results\n",
    "y_pred = lasso_reg.predict(X_test)"
   ]
  },
  {
   "cell_type": "code",
   "execution_count": null,
   "metadata": {
    "colab": {},
    "colab_type": "code",
    "id": "rXeiwhahCaQ7",
    "outputId": "0cf8e648-1300-4bd1-9aa5-9043b6982a48"
   },
   "outputs": [
    {
     "name": "stdout",
     "output_type": "stream",
     "text": [
      "Train Results for Lasso Regression:\n",
      "*******************************\n",
      "Root mean squared error:  0.9172399606746269\n",
      "R-squared:  0.1866122823444778\n",
      "Mean Absolute Error:  0.4735078117328407\n"
     ]
    }
   ],
   "source": [
    "print(\"Train Results for Lasso Regression:\")\n",
    "print(\"*******************************\")\n",
    "print(\"Root mean squared error: \", sqrt(mse(y_train.values, y_train_pred)))\n",
    "print(\"R-squared: \", rs(y_train.values, y_train_pred))\n",
    "print(\"Mean Absolute Error: \", mae(y_train.values, y_train_pred))"
   ]
  },
  {
   "cell_type": "code",
   "execution_count": null,
   "metadata": {
    "colab": {},
    "colab_type": "code",
    "id": "J2th_cJgCaRB",
    "outputId": "003f8b6d-917c-4b86-83bb-fad4f916db29"
   },
   "outputs": [
    {
     "name": "stdout",
     "output_type": "stream",
     "text": [
      "Test Results for Lasso Regression:\n",
      "*******************************\n",
      "Root mean squared error:  0.8434106334873407\n",
      "R-squared:  0.22660624108635508\n",
      "Mean Absolute Error:  0.4671290912670208\n"
     ]
    }
   ],
   "source": [
    "print(\"Test Results for Lasso Regression:\")\n",
    "print(\"*******************************\")\n",
    "print(\"Root mean squared error: \", sqrt(mse(y_test, y_pred)))\n",
    "print(\"R-squared: \", rs(y_test, y_pred))\n",
    "print(\"Mean Absolute Error: \", mae(y_test, y_pred))"
   ]
  },
  {
   "cell_type": "code",
   "execution_count": null,
   "metadata": {
    "colab": {},
    "colab_type": "code",
    "id": "BuJGpQCaCaRG",
    "outputId": "eeaa642e-7681-468f-9ace-68833455d95f"
   },
   "outputs": [
    {
     "data": {
      "text/plain": [
       "Lasso(alpha=0.01, copy_X=True, fit_intercept=True, max_iter=1000,\n",
       "   normalize=False, positive=False, precompute=False, random_state=None,\n",
       "   selection='cyclic', tol=0.0001, warm_start=False)"
      ]
     },
     "execution_count": 96,
     "metadata": {
      "tags": []
     },
     "output_type": "execute_result"
    }
   ],
   "source": [
    "## Building the model again with the best hyperparameters\n",
    "lasso_model = Lasso(alpha=0.01, copy_X=True, fit_intercept=True, max_iter=1000,\n",
    "   normalize=False, positive=False, precompute=False, random_state=None,\n",
    "   selection='cyclic', tol=0.0001, warm_start=False)\n",
    "lasso_model.fit(X_train, y_train)"
   ]
  },
  {
   "cell_type": "code",
   "execution_count": null,
   "metadata": {
    "colab": {},
    "colab_type": "code",
    "id": "k7LANby7CaRL",
    "outputId": "b200f984-c506-46d1-9cd5-8953123874b1"
   },
   "outputs": [
    {
     "name": "stdout",
     "output_type": "stream",
     "text": [
      "The features in order of importance are:\n",
      "--------------------------------------------------\n",
      "Toilets\n",
      "Shopping Center\n",
      "Last Sell Price\n",
      "Train Station\n",
      "Bus Station\n",
      "Land Size SQM\n",
      "Bedrooms\n",
      "Restaurants\n",
      "Suburb_Code\n",
      "Auction\n",
      "Last Sell Days\n",
      "Park\n",
      "Rent Amount PW\n",
      "Building Size SQM\n",
      "Cars\n",
      "Schools\n",
      "Hospitals\n"
     ]
    }
   ],
   "source": [
    "indices = np.argsort(-abs(lasso_model.coef_))\n",
    "print(\"The features in order of importance are:\")\n",
    "print(50*'-')\n",
    "for feature in X.columns[indices]:\n",
    "    print(feature)"
   ]
  },
  {
   "cell_type": "markdown",
   "metadata": {
    "colab_type": "text",
    "id": "PiZpCrscCaRW"
   },
   "source": [
    "## SVM Regression"
   ]
  },
  {
   "cell_type": "code",
   "execution_count": null,
   "metadata": {
    "colab": {
     "base_uri": "https://localhost:8080/",
     "height": 201
    },
    "colab_type": "code",
    "id": "x7--VqG2CaRY",
    "outputId": "4d557db3-a644-4fbd-e2bf-1f9901703bf2"
   },
   "outputs": [
    {
     "data": {
      "text/plain": [
       "GridSearchCV(cv=5, error_score=nan,\n",
       "             estimator=SVR(C=1.0, cache_size=200, coef0=0.0, degree=3,\n",
       "                           epsilon=0.1, gamma='scale', kernel='rbf',\n",
       "                           max_iter=-1, shrinking=True, tol=0.001,\n",
       "                           verbose=False),\n",
       "             iid='deprecated', n_jobs=-1,\n",
       "             param_grid={'C': [0.01, 0.1, 1, 10, 100, 1000],\n",
       "                         'gamma': [0.01, 0.1, 1, 10, 100, 1000]},\n",
       "             pre_dispatch='2*n_jobs', refit=True, return_train_score=False,\n",
       "             scoring='neg_mean_absolute_error', verbose=0)"
      ]
     },
     "execution_count": 42,
     "metadata": {
      "tags": []
     },
     "output_type": "execute_result"
    }
   ],
   "source": [
    "tuned_params = {'C': [0.01, 0.1, 1, 10, 100, 1000], 'gamma': [0.01, 0.1, 1, 10, 100, 1000]}\n",
    "model = GridSearchCV(SVR(), tuned_params, scoring = 'neg_mean_absolute_error', cv=5, n_jobs=-1)\n",
    "model.fit(X_train, y_train)\n",
    "## This takes around 20 minutes"
   ]
  },
  {
   "cell_type": "code",
   "execution_count": null,
   "metadata": {
    "colab": {
     "base_uri": "https://localhost:8080/",
     "height": 54
    },
    "colab_type": "code",
    "id": "SGwktA1UCaRe",
    "outputId": "20269613-194a-451f-dde2-1f3ea6b1cee1"
   },
   "outputs": [
    {
     "data": {
      "text/plain": [
       "SVR(C=10, cache_size=200, coef0=0.0, degree=3, epsilon=0.1, gamma=0.1,\n",
       "    kernel='rbf', max_iter=-1, shrinking=True, tol=0.001, verbose=False)"
      ]
     },
     "execution_count": 43,
     "metadata": {
      "tags": []
     },
     "output_type": "execute_result"
    }
   ],
   "source": [
    "model.best_estimator_"
   ]
  },
  {
   "cell_type": "code",
   "execution_count": null,
   "metadata": {
    "colab": {
     "base_uri": "https://localhost:8080/",
     "height": 54
    },
    "colab_type": "code",
    "id": "EQuFlT3XCaRl",
    "outputId": "e4cbd4eb-52b6-47d7-b232-d41503357a88"
   },
   "outputs": [
    {
     "data": {
      "text/plain": [
       "SVR(C=10, cache_size=200, coef0=0.0, degree=3, epsilon=0.1, gamma=0.1,\n",
       "    kernel='rbf', max_iter=-1, shrinking=True, tol=0.001, verbose=False)"
      ]
     },
     "execution_count": 44,
     "metadata": {
      "tags": []
     },
     "output_type": "execute_result"
    }
   ],
   "source": [
    "## Building the model again with the best hyperparameters\n",
    "model = SVR(C=10, cache_size=200, coef0=0.0, degree=3, epsilon=0.1, gamma=0.1,\n",
    "    kernel='rbf', max_iter=-1, shrinking=True, tol=0.001, verbose=False)\n",
    "model.fit(X_train, y_train)"
   ]
  },
  {
   "cell_type": "code",
   "execution_count": null,
   "metadata": {
    "colab": {},
    "colab_type": "code",
    "id": "5fdw8O91CaRp"
   },
   "outputs": [],
   "source": [
    "## Predict Train results\n",
    "y_train_pred = model.predict(X_train)"
   ]
  },
  {
   "cell_type": "code",
   "execution_count": null,
   "metadata": {
    "colab": {},
    "colab_type": "code",
    "id": "ATm1wRk8CaSG"
   },
   "outputs": [],
   "source": [
    "## Predict Test results\n",
    "y_pred = model.predict(X_test)"
   ]
  },
  {
   "cell_type": "code",
   "execution_count": null,
   "metadata": {
    "colab": {
     "base_uri": "https://localhost:8080/",
     "height": 109
    },
    "colab_type": "code",
    "id": "aNbQFvmRCaSO",
    "outputId": "0b2a6492-5361-41e4-b795-98aa464f0caf"
   },
   "outputs": [
    {
     "name": "stdout",
     "output_type": "stream",
     "text": [
      "Train Results for Support Vector Regression:\n",
      "*******************************\n",
      "Root mean squared error:  0.6875570652897678\n",
      "R-squared:  0.542965300286431\n",
      "Mean Absolute Error:  0.24699026289908924\n"
     ]
    }
   ],
   "source": [
    "print(\"Train Results for Support Vector Regression:\")\n",
    "print(\"*******************************\")\n",
    "print(\"Root mean squared error: \", sqrt(mse(y_train.values, y_train_pred)))\n",
    "print(\"R-squared: \", rs(y_train.values, y_train_pred))\n",
    "print(\"Mean Absolute Error: \", mae(y_train.values, y_train_pred))"
   ]
  },
  {
   "cell_type": "code",
   "execution_count": null,
   "metadata": {
    "colab": {
     "base_uri": "https://localhost:8080/",
     "height": 109
    },
    "colab_type": "code",
    "id": "EkDSYKncCaST",
    "outputId": "432dada9-cd6f-4b57-9f61-ea63b17937e8"
   },
   "outputs": [
    {
     "name": "stdout",
     "output_type": "stream",
     "text": [
      "Test Results for Support Vector Regression:\n",
      "*******************************\n",
      "Root mean squared error:  0.719008965586855\n",
      "R-squared:  0.4379290623138742\n",
      "Mean Absolute Error:  0.32564223730484015\n"
     ]
    }
   ],
   "source": [
    "print(\"Test Results for Support Vector Regression:\")\n",
    "print(\"*******************************\")\n",
    "print(\"Root mean squared error: \", sqrt(mse(y_test, y_pred)))\n",
    "print(\"R-squared: \", rs(y_test, y_pred))\n",
    "print(\"Mean Absolute Error: \", mae(y_test, y_pred))"
   ]
  },
  {
   "cell_type": "markdown",
   "metadata": {
    "colab_type": "text",
    "id": "vmpRpkEwCaSr"
   },
   "source": [
    "## KNN Regression "
   ]
  },
  {
   "cell_type": "code",
   "execution_count": null,
   "metadata": {
    "colab": {
     "base_uri": "https://localhost:8080/",
     "height": 54
    },
    "colab_type": "code",
    "id": "CTYcsnwKCaSr",
    "outputId": "1e5f39d7-0b50-4bc7-c5f3-2d583ce635dc"
   },
   "outputs": [
    {
     "name": "stdout",
     "output_type": "stream",
     "text": [
      "\n",
      "The optimal number of neighbors is 7.\n"
     ]
    }
   ],
   "source": [
    "# creating odd list of K for KNN\n",
    "neighbors = list(range(1,50,2))\n",
    "# empty list that will hold cv scores\n",
    "cv_scores = []\n",
    "\n",
    "# perform 10-fold cross validation\n",
    "for k in neighbors:\n",
    "    knn = KNeighborsRegressor(n_neighbors=k)\n",
    "    scores = cross_val_score(knn, X_train, y_train, cv=10, scoring='neg_mean_absolute_error')\n",
    "    cv_scores.append(scores.mean())\n",
    "\n",
    "# changing to misclassification error\n",
    "MSE = [1 - x for x in cv_scores]\n",
    "\n",
    "# determining best k\n",
    "optimal_k = neighbors[MSE.index(min(MSE))]\n",
    "print('\\nThe optimal number of neighbors is %d.' % optimal_k)"
   ]
  },
  {
   "cell_type": "code",
   "execution_count": null,
   "metadata": {
    "colab": {
     "base_uri": "https://localhost:8080/",
     "height": 72
    },
    "colab_type": "code",
    "id": "ruuKXF5O4mjT",
    "outputId": "bf11d00e-7ccd-451d-b11c-10ad95bc37ad"
   },
   "outputs": [
    {
     "data": {
      "text/plain": [
       "KNeighborsRegressor(algorithm='auto', leaf_size=30, metric='minkowski',\n",
       "                    metric_params=None, n_jobs=None, n_neighbors=7, p=2,\n",
       "                    weights='uniform')"
      ]
     },
     "execution_count": 49,
     "metadata": {
      "tags": []
     },
     "output_type": "execute_result"
    }
   ],
   "source": [
    "model = KNeighborsRegressor(n_neighbors = optimal_k)\n",
    "model.fit(X_train, y_train)"
   ]
  },
  {
   "cell_type": "code",
   "execution_count": null,
   "metadata": {
    "colab": {},
    "colab_type": "code",
    "id": "2yXMSVfK4mxy"
   },
   "outputs": [],
   "source": [
    "## Predict Train results\n",
    "y_train_pred = model.predict(X_train)"
   ]
  },
  {
   "cell_type": "code",
   "execution_count": null,
   "metadata": {
    "colab": {},
    "colab_type": "code",
    "id": "VkUZPEyk4m6v"
   },
   "outputs": [],
   "source": [
    "## Predict Test results\n",
    "y_pred = model.predict(X_test)"
   ]
  },
  {
   "cell_type": "code",
   "execution_count": null,
   "metadata": {
    "colab": {
     "base_uri": "https://localhost:8080/",
     "height": 109
    },
    "colab_type": "code",
    "id": "OwNSoz1K4nJ0",
    "outputId": "e2bade15-bb76-49d5-a5aa-5cf0bc8d1914"
   },
   "outputs": [
    {
     "name": "stdout",
     "output_type": "stream",
     "text": [
      "Train Results for KN Regression:\n",
      "*******************************\n",
      "Root mean squared error:  0.7020517659241378\n",
      "R-squared:  0.5234922721363253\n",
      "Mean Absolute Error:  0.2961569960258551\n"
     ]
    }
   ],
   "source": [
    "print(\"Train Results for KN Regression:\")\n",
    "print(\"*******************************\")\n",
    "print(\"Root mean squared error: \", sqrt(mse(y_train.values, y_train_pred)))\n",
    "print(\"R-squared: \", rs(y_train.values, y_train_pred))\n",
    "print(\"Mean Absolute Error: \", mae(y_train.values, y_train_pred))"
   ]
  },
  {
   "cell_type": "code",
   "execution_count": null,
   "metadata": {
    "colab": {
     "base_uri": "https://localhost:8080/",
     "height": 109
    },
    "colab_type": "code",
    "id": "_iaCCu0_5Nmw",
    "outputId": "b4dfc2d1-6952-4955-f6a9-720c7693486f"
   },
   "outputs": [
    {
     "name": "stdout",
     "output_type": "stream",
     "text": [
      "Test Results for KN Regression:\n",
      "*******************************\n",
      "Root mean squared error:  0.7363156161691472\n",
      "R-squared:  0.41054515543757153\n",
      "Mean Absolute Error:  0.34953452327074924\n"
     ]
    }
   ],
   "source": [
    "print(\"Test Results for KN Regression:\")\n",
    "print(\"*******************************\")\n",
    "print(\"Root mean squared error: \", sqrt(mse(y_test, y_pred)))\n",
    "print(\"R-squared: \", rs(y_test, y_pred))\n",
    "print(\"Mean Absolute Error: \", mae(y_test, y_pred))"
   ]
  },
  {
   "cell_type": "code",
   "execution_count": null,
   "metadata": {
    "colab": {
     "base_uri": "https://localhost:8080/",
     "height": 329
    },
    "colab_type": "code",
    "id": "vPWsXR4tg7QZ",
    "outputId": "f91651ef-85a7-489d-c7f9-c4ce06bed49b"
   },
   "outputs": [
    {
     "name": "stdout",
     "output_type": "stream",
     "text": [
      "Feature: 0, Score: 0.04305\n",
      "Feature: 1, Score: 0.24264\n",
      "Feature: 2, Score: 0.00574\n",
      "Feature: 3, Score: 0.06420\n",
      "Feature: 4, Score: 0.01734\n",
      "Feature: 5, Score: 0.13101\n",
      "Feature: 6, Score: 0.10724\n",
      "Feature: 7, Score: 0.06321\n",
      "Feature: 8, Score: 0.08497\n",
      "Feature: 9, Score: 0.09711\n",
      "Feature: 10, Score: 0.06155\n",
      "Feature: 11, Score: 0.02251\n",
      "Feature: 12, Score: 0.09527\n",
      "Feature: 13, Score: 0.02143\n",
      "Feature: 14, Score: 0.06231\n",
      "Feature: 15, Score: 0.10689\n",
      "Feature: 16, Score: 0.04960\n"
     ]
    }
   ],
   "source": [
    "from sklearn.inspection import permutation_importance\n",
    "results = permutation_importance(model, X, y, scoring='neg_mean_squared_error')\n",
    "# get importance\n",
    "importance = results.importances_mean\n",
    "# summarize feature importance\n",
    "for i,v in enumerate(importance):\n",
    "\tprint('Feature: %0d, Score: %.5f' % (i,v))"
   ]
  },
  {
   "cell_type": "code",
   "execution_count": null,
   "metadata": {
    "colab": {
     "base_uri": "https://localhost:8080/",
     "height": 366
    },
    "colab_type": "code",
    "id": "xQA0uupVnB3V",
    "outputId": "932c3536-bb56-4535-bca8-80afa8c08b8d"
   },
   "outputs": [
    {
     "name": "stdout",
     "output_type": "stream",
     "text": [
      "The features in order of importance are:\n",
      "--------------------------------------------------\n",
      "Last Sell Price\n",
      "Bedrooms\n",
      "Toilets\n",
      "Park\n",
      "Train Station\n",
      "Schools\n",
      "Suburb_Code\n",
      "Land Size SQM\n",
      "Cars\n",
      "Shopping Center\n",
      "Bus Station\n",
      "Last Sell Days\n",
      "Auction\n",
      "Hospitals\n",
      "Restaurants\n",
      "Building Size SQM\n",
      "Rent Amount PW\n"
     ]
    }
   ],
   "source": [
    "indices = np.argsort(-abs(importance))\n",
    "print(\"The features in order of importance are:\")\n",
    "print(50*'-')\n",
    "for feature in X.columns[indices]:\n",
    "    print(feature)"
   ]
  },
  {
   "cell_type": "markdown",
   "metadata": {
    "colab_type": "text",
    "id": "iiW7BeOcCaSw"
   },
   "source": [
    "## XGBoost Regression"
   ]
  },
  {
   "cell_type": "code",
   "execution_count": null,
   "metadata": {
    "colab": {
     "base_uri": "https://localhost:8080/",
     "height": 496
    },
    "colab_type": "code",
    "id": "gWVxjL02CaSx",
    "outputId": "031ab75a-efcb-4bac-babc-fd09a16668f6"
   },
   "outputs": [
    {
     "name": "stdout",
     "output_type": "stream",
     "text": [
      "[07:51:40] WARNING: /workspace/src/objective/regression_obj.cu:152: reg:linear is now deprecated in favor of reg:squarederror.\n"
     ]
    },
    {
     "data": {
      "text/plain": [
       "RandomizedSearchCV(cv=5, error_score=nan,\n",
       "                   estimator=XGBRegressor(base_score=0.5, booster='gbtree',\n",
       "                                          colsample_bylevel=1,\n",
       "                                          colsample_bynode=1,\n",
       "                                          colsample_bytree=1, gamma=0,\n",
       "                                          importance_type='gain',\n",
       "                                          learning_rate=0.1, max_delta_step=0,\n",
       "                                          max_depth=3, min_child_weight=1,\n",
       "                                          missing=None, n_estimators=100,\n",
       "                                          n_jobs=1, nthread=None,\n",
       "                                          objective='reg:linear',\n",
       "                                          random_state=0, reg_alpha=...\n",
       "                                          seed=None, silent=None, subsample=1,\n",
       "                                          verbosity=1),\n",
       "                   iid='deprecated', n_iter=20, n_jobs=-1,\n",
       "                   param_distributions={'learning_rate': [0.01, 0.05, 0.1],\n",
       "                                        'max_depth': [1, 2, 3, 4, 5],\n",
       "                                        'n_estimators': [100, 200, 300, 400,\n",
       "                                                         500],\n",
       "                                        'reg_lambda': [0.001, 0.1, 1.0, 10.0,\n",
       "                                                       100.0]},\n",
       "                   pre_dispatch='2*n_jobs', random_state=None, refit=True,\n",
       "                   return_train_score=False, scoring='neg_mean_absolute_error',\n",
       "                   verbose=0)"
      ]
     },
     "execution_count": 24,
     "metadata": {
      "tags": []
     },
     "output_type": "execute_result"
    }
   ],
   "source": [
    "tuned_params = {'max_depth': [1, 2, 3, 4, 5], 'learning_rate': [0.01, 0.05, 0.1], 'n_estimators': [100, 200, 300, 400, 500], 'reg_lambda': [0.001, 0.1, 1.0, 10.0, 100.0]}\n",
    "model = RandomizedSearchCV(XGBRegressor(), tuned_params, n_iter=20, scoring = 'neg_mean_absolute_error', cv=5, n_jobs=-1)\n",
    "model.fit(X_train, y_train)"
   ]
  },
  {
   "cell_type": "code",
   "execution_count": null,
   "metadata": {
    "colab": {
     "base_uri": "https://localhost:8080/",
     "height": 146
    },
    "colab_type": "code",
    "id": "qGbGD9qc5ejL",
    "outputId": "ed24fe8a-3aba-4728-ced5-323a44fcc6d5"
   },
   "outputs": [
    {
     "data": {
      "text/plain": [
       "XGBRegressor(base_score=0.5, booster='gbtree', colsample_bylevel=1,\n",
       "             colsample_bynode=1, colsample_bytree=1, gamma=0,\n",
       "             importance_type='gain', learning_rate=0.1, max_delta_step=0,\n",
       "             max_depth=5, min_child_weight=1, missing=None, n_estimators=400,\n",
       "             n_jobs=1, nthread=None, objective='reg:linear', random_state=0,\n",
       "             reg_alpha=0, reg_lambda=1.0, scale_pos_weight=1, seed=None,\n",
       "             silent=None, subsample=1, verbosity=1)"
      ]
     },
     "execution_count": 25,
     "metadata": {
      "tags": []
     },
     "output_type": "execute_result"
    }
   ],
   "source": [
    "model.best_estimator_"
   ]
  },
  {
   "cell_type": "code",
   "execution_count": null,
   "metadata": {
    "colab": {},
    "colab_type": "code",
    "id": "c3DmiDuO5e39"
   },
   "outputs": [],
   "source": [
    "## Predict Train results\n",
    "y_train_pred = model.predict(X_train)"
   ]
  },
  {
   "cell_type": "code",
   "execution_count": null,
   "metadata": {
    "colab": {},
    "colab_type": "code",
    "id": "FIRIV2AY5fEm"
   },
   "outputs": [],
   "source": [
    "## Predict Test results\n",
    "y_pred = model.predict(X_test)"
   ]
  },
  {
   "cell_type": "code",
   "execution_count": null,
   "metadata": {
    "colab": {
     "base_uri": "https://localhost:8080/",
     "height": 109
    },
    "colab_type": "code",
    "id": "FeMdVeEz5fRG",
    "outputId": "d9ede6c4-1c53-411b-e902-c07b8f7127b3"
   },
   "outputs": [
    {
     "name": "stdout",
     "output_type": "stream",
     "text": [
      "Train Results for XGBoost Regression:\n",
      "*******************************\n",
      "Root mean squared error:  0.3541776628866251\n",
      "R-squared:  0.8787242380847703\n",
      "Mean Absolute Error:  0.20839584440569117\n"
     ]
    }
   ],
   "source": [
    "print(\"Train Results for XGBoost Regression:\")\n",
    "print(\"*******************************\")\n",
    "print(\"Root mean squared error: \", sqrt(mse(y_train.values, y_train_pred)))\n",
    "print(\"R-squared: \", rs(y_train.values, y_train_pred))\n",
    "print(\"Mean Absolute Error: \", mae(y_train.values, y_train_pred))"
   ]
  },
  {
   "cell_type": "code",
   "execution_count": null,
   "metadata": {
    "colab": {
     "base_uri": "https://localhost:8080/",
     "height": 109
    },
    "colab_type": "code",
    "id": "sWxy0b7J5q3w",
    "outputId": "83b97f4d-38cf-45f6-909b-4480dd5d00e7"
   },
   "outputs": [
    {
     "name": "stdout",
     "output_type": "stream",
     "text": [
      "Test Results for XGBoost Regression:\n",
      "*******************************\n",
      "Root mean squared error:  0.9089520909026281\n",
      "R-squared:  0.10173494496583368\n",
      "Mean Absolute Error:  0.3153826290887328\n"
     ]
    }
   ],
   "source": [
    "print(\"Test Results for XGBoost Regression:\")\n",
    "print(\"*******************************\")\n",
    "print(\"Root mean squared error: \", sqrt(mse(y_test, y_pred)))\n",
    "print(\"R-squared: \", rs(y_test, y_pred))\n",
    "print(\"Mean Absolute Error: \", mae(y_test, y_pred))"
   ]
  },
  {
   "cell_type": "code",
   "execution_count": null,
   "metadata": {
    "colab": {
     "base_uri": "https://localhost:8080/",
     "height": 184
    },
    "colab_type": "code",
    "id": "DHGy2_9Y7AD1",
    "outputId": "09e0a739-5abd-447c-c1ae-761bbe27576f"
   },
   "outputs": [
    {
     "name": "stdout",
     "output_type": "stream",
     "text": [
      "[07:58:47] WARNING: /workspace/src/objective/regression_obj.cu:152: reg:linear is now deprecated in favor of reg:squarederror.\n"
     ]
    },
    {
     "data": {
      "text/plain": [
       "XGBRegressor(base_score=0.5, booster='gbtree', colsample_bylevel=1,\n",
       "             colsample_bynode=1, colsample_bytree=1, gamma=0,\n",
       "             importance_type='gain', learning_rate=0.1, max_delta_step=0,\n",
       "             max_depth=5, min_child_weight=1, missing=None, n_estimators=400,\n",
       "             n_jobs=1, nthread=None, objective='reg:linear', random_state=0,\n",
       "             reg_alpha=0, reg_lambda=1.0, scale_pos_weight=1, seed=None,\n",
       "             silent=None, subsample=1, verbosity=1)"
      ]
     },
     "execution_count": 39,
     "metadata": {
      "tags": []
     },
     "output_type": "execute_result"
    }
   ],
   "source": [
    "## Building the model again with the best hyperparameters\n",
    "model = XGBRegressor(base_score=0.5, booster='gbtree', colsample_bylevel=1,\n",
    "             colsample_bynode=1, colsample_bytree=1, gamma=0,\n",
    "             importance_type='gain', learning_rate=0.1, max_delta_step=0,\n",
    "             max_depth=5, min_child_weight=1, missing=None, n_estimators=400,\n",
    "             n_jobs=1, nthread=None, objective='reg:linear', random_state=0,\n",
    "             reg_alpha=0, reg_lambda=1.0, scale_pos_weight=1, seed=None,\n",
    "             silent=None, subsample=1, verbosity=1)\n",
    "model.fit(X_train, y_train)"
   ]
  },
  {
   "cell_type": "code",
   "execution_count": null,
   "metadata": {
    "colab": {},
    "colab_type": "code",
    "id": "_877GnuK7GbV"
   },
   "outputs": [],
   "source": [
    "def my_plot_importance(booster, figsize, **kwargs): \n",
    "    from matplotlib import pyplot as plt\n",
    "    from xgboost import plot_importance\n",
    "    fig, ax = plt.subplots(1,1,figsize=figsize)\n",
    "    return plot_importance(booster=booster, ax=ax, **kwargs)"
   ]
  },
  {
   "cell_type": "code",
   "execution_count": null,
   "metadata": {
    "colab": {
     "base_uri": "https://localhost:8080/",
     "height": 639
    },
    "colab_type": "code",
    "id": "HYl_KILn7LCW",
    "outputId": "b7e07f11-6717-4d93-fd7f-1155f53c9b5e"
   },
   "outputs": [
    {
     "data": {
      "text/plain": [
       "<matplotlib.axes._subplots.AxesSubplot at 0x7fd698b769e8>"
      ]
     },
     "execution_count": 41,
     "metadata": {
      "tags": []
     },
     "output_type": "execute_result"
    },
    {
     "data": {
      "image/png": "[encoded data removed]",
      "text/plain": [
       "<Figure size 720x720 with 1 Axes>"
      ]
     },
     "metadata": {
      "needs_background": "light",
      "tags": []
     },
     "output_type": "display_data"
    }
   ],
   "source": [
    "my_plot_importance(model, (10,10))"
   ]
  },
  {
   "cell_type": "markdown",
   "metadata": {
    "colab_type": "text",
    "id": "XsMgkrLy-4gN"
   },
   "source": [
    "## Neural Network"
   ]
  },
  {
   "cell_type": "code",
   "execution_count": null,
   "metadata": {
    "colab": {
     "base_uri": "https://localhost:8080/",
     "height": 55
    },
    "colab_type": "code",
    "id": "3rghFxmM-0my",
    "outputId": "879e091a-0995-4c93-fddc-33e37e033bdc"
   },
   "outputs": [
    {
     "name": "stdout",
     "output_type": "stream",
     "text": [
      "WARNING:tensorflow:11 out of the last 11 calls to <function Model.make_test_function.<locals>.test_function at 0x7efe383e31e0> triggered tf.function retracing. Tracing is expensive and the excessive number of tracings could be due to (1) creating @tf.function repeatedly in a loop, (2) passing tensors with different shapes, (3) passing Python objects instead of tensors. For (1), please define your @tf.function outside of the loop. For (2), @tf.function has experimental_relax_shapes=True option that relaxes argument shapes that can avoid unnecessary retracing. For (3), please refer to https://www.tensorflow.org/tutorials/customization/performance#python_or_tensor_args and https://www.tensorflow.org/api_docs/python/tf/function for  more details.\n"
     ]
    }
   ],
   "source": [
    "# Regression Example With Boston Dataset: Standardized\n",
    "from pandas import read_csv\n",
    "from keras.models import Sequential\n",
    "from keras.layers import Dense\n",
    "from keras.wrappers.scikit_learn import KerasRegressor\n",
    "from sklearn.model_selection import cross_val_score\n",
    "from sklearn.model_selection import KFold\n",
    "from sklearn.preprocessing import StandardScaler\n",
    "from sklearn.pipeline import Pipeline\n",
    "\n",
    "# define base model\n",
    "def baseline_model():\n",
    "\t# create model\n",
    "\tmodel = Sequential()\n",
    "\tmodel.add(Dense(32, input_dim=17, kernel_initializer='normal', activation='relu'))\n",
    "\tmodel.add(Dense(1, kernel_initializer='normal'))\n",
    "\t# Compile model\n",
    "\tmodel.compile(loss='mean_squared_error', optimizer='adam')\n",
    "\treturn model\n",
    "# evaluate model with standardized dataset\n",
    "estimators = []\n",
    "estimators.append(('standardize', StandardScaler()))\n",
    "estimators.append(('mlp', KerasRegressor(build_fn=baseline_model, epochs=50, batch_size=5, verbose=0)))\n",
    "pipeline = Pipeline(estimators)\n",
    "kfold = KFold(n_splits=10)\n",
    "results = cross_val_score(pipeline, X_train, y_train, cv=kfold)\n",
    "print(\"Standardized: %.2f (%.2f) MSE\" % (results.mean(), results.std()))"
   ]
  },
  {
   "cell_type": "code",
   "execution_count": null,
   "metadata": {
    "colab": {
     "base_uri": "https://localhost:8080/",
     "height": 72
    },
    "colab_type": "code",
    "id": "zxeep2KAD9dI",
    "outputId": "5372e830-b7ea-4587-baa7-b9f6058e26f7"
   },
   "outputs": [
    {
     "name": "stdout",
     "output_type": "stream",
     "text": [
      "R-squared:  -3.490869642647721\n",
      "[3.9003831e-01 7.0196161e+02 5.3407245e+02 ... 6.6518521e-01 5.4658759e+02\n",
      " 2.0097809e-01]\n"
     ]
    }
   ],
   "source": [
    "from sklearn.metrics import accuracy_score\n",
    "estimator.fit(X, y)\n",
    "prediction = estimator.predict(X_test)\n",
    "print(\"R-squared: \", rs(y_test, prediction))\n",
    "print(prediction)"
   ]
  },
  {
   "cell_type": "markdown",
   "metadata": {
    "colab_type": "text",
    "id": "W-J_X0n3Z2QQ"
   },
   "source": [
    "## Re-Train Best Model With Important Features"
   ]
  },
  {
   "cell_type": "code",
   "execution_count": 21,
   "metadata": {
    "colab": {
     "base_uri": "https://localhost:8080/",
     "height": 109
    },
    "colab_type": "code",
    "id": "lmguO1B2fISM",
    "outputId": "31a90b6e-4f41-49f8-83e4-527216617f26"
   },
   "outputs": [
    {
     "data": {
      "text/plain": [
       "Index(['Sell Price', 'Auction', 'Last Sell Price', 'Rent Amount PW',\n",
       "       'Land Size SQM', 'Building Size SQM', 'Bedrooms', 'Toilets', 'Cars',\n",
       "       'Suburb_Code', 'Train Station', 'Bus Station', 'Hospitals', 'Schools',\n",
       "       'Restaurants', 'Shopping Center', 'Park', 'Last Sell Days'],\n",
       "      dtype='object')"
      ]
     },
     "execution_count": 21,
     "metadata": {},
     "output_type": "execute_result"
    }
   ],
   "source": [
    "property_data.columns"
   ]
  },
  {
   "cell_type": "code",
   "execution_count": 22,
   "metadata": {
    "colab": {},
    "colab_type": "code",
    "id": "Yy5iauM5Z_mO"
   },
   "outputs": [],
   "source": [
    "# Create separate object for target variable\n",
    "y = property_data['Sell Price']\n",
    "\n",
    "non_contrib_feature = ['Sell Price', 'Auction', 'Rent Amount PW', 'Restaurants', 'Park', 'Last Sell Days', 'Train Station']\n",
    "       \n",
    "# Create separate object for input features\n",
    "X = property_data.drop(non_contrib_feature, axis=1)\n",
    "\n",
    "#y = y.values.reshape(-1, 1)\n",
    "\n",
    "# Split X and y into train and test sets: 80-20\n",
    "X_train, X_test, y_train, y_test = model_selection.train_test_split(X, y, test_size=0.3, random_state=1234)"
   ]
  },
  {
   "cell_type": "code",
   "execution_count": 23,
   "metadata": {
    "colab": {
     "base_uri": "https://localhost:8080/",
     "height": 224
    },
    "colab_type": "code",
    "id": "rf1Tjv8EidOr",
    "outputId": "1bc59b39-e2c0-41f7-8845-dcc2dafe078d"
   },
   "outputs": [
    {
     "data": {
      "text/html": [
       "<div>\n",
       "<style scoped>\n",
       "    .dataframe tbody tr th:only-of-type {\n",
       "        vertical-align: middle;\n",
       "    }\n",
       "\n",
       "    .dataframe tbody tr th {\n",
       "        vertical-align: top;\n",
       "    }\n",
       "\n",
       "    .dataframe thead th {\n",
       "        text-align: right;\n",
       "    }\n",
       "</style>\n",
       "<table border=\"1\" class=\"dataframe\">\n",
       "  <thead>\n",
       "    <tr style=\"text-align: right;\">\n",
       "      <th></th>\n",
       "      <th>Last Sell Price</th>\n",
       "      <th>Land Size SQM</th>\n",
       "      <th>Building Size SQM</th>\n",
       "      <th>Bedrooms</th>\n",
       "      <th>Toilets</th>\n",
       "      <th>Cars</th>\n",
       "      <th>Suburb_Code</th>\n",
       "      <th>Bus Station</th>\n",
       "      <th>Hospitals</th>\n",
       "      <th>Schools</th>\n",
       "      <th>Shopping Center</th>\n",
       "    </tr>\n",
       "  </thead>\n",
       "  <tbody>\n",
       "    <tr>\n",
       "      <th>0</th>\n",
       "      <td>0.0</td>\n",
       "      <td>548.96</td>\n",
       "      <td>73.347773</td>\n",
       "      <td>0</td>\n",
       "      <td>0</td>\n",
       "      <td>0</td>\n",
       "      <td>10</td>\n",
       "      <td>8</td>\n",
       "      <td>20</td>\n",
       "      <td>3</td>\n",
       "      <td>4</td>\n",
       "    </tr>\n",
       "    <tr>\n",
       "      <th>1</th>\n",
       "      <td>0.0</td>\n",
       "      <td>548.96</td>\n",
       "      <td>73.347773</td>\n",
       "      <td>0</td>\n",
       "      <td>0</td>\n",
       "      <td>0</td>\n",
       "      <td>10</td>\n",
       "      <td>8</td>\n",
       "      <td>20</td>\n",
       "      <td>3</td>\n",
       "      <td>4</td>\n",
       "    </tr>\n",
       "    <tr>\n",
       "      <th>2</th>\n",
       "      <td>155000.0</td>\n",
       "      <td>667.00</td>\n",
       "      <td>214.000000</td>\n",
       "      <td>3</td>\n",
       "      <td>1</td>\n",
       "      <td>1</td>\n",
       "      <td>10</td>\n",
       "      <td>8</td>\n",
       "      <td>20</td>\n",
       "      <td>3</td>\n",
       "      <td>4</td>\n",
       "    </tr>\n",
       "    <tr>\n",
       "      <th>3</th>\n",
       "      <td>65000.0</td>\n",
       "      <td>319.00</td>\n",
       "      <td>73.347773</td>\n",
       "      <td>3</td>\n",
       "      <td>0</td>\n",
       "      <td>0</td>\n",
       "      <td>10</td>\n",
       "      <td>8</td>\n",
       "      <td>20</td>\n",
       "      <td>3</td>\n",
       "      <td>4</td>\n",
       "    </tr>\n",
       "    <tr>\n",
       "      <th>4</th>\n",
       "      <td>657000.0</td>\n",
       "      <td>410.00</td>\n",
       "      <td>73.347773</td>\n",
       "      <td>5</td>\n",
       "      <td>2</td>\n",
       "      <td>2</td>\n",
       "      <td>10</td>\n",
       "      <td>8</td>\n",
       "      <td>20</td>\n",
       "      <td>3</td>\n",
       "      <td>4</td>\n",
       "    </tr>\n",
       "  </tbody>\n",
       "</table>\n",
       "</div>"
      ],
      "text/plain": [
       "   Last Sell Price  Land Size SQM  Building Size SQM  Bedrooms  Toilets  Cars  \\\n",
       "0              0.0         548.96          73.347773         0        0     0   \n",
       "1              0.0         548.96          73.347773         0        0     0   \n",
       "2         155000.0         667.00         214.000000         3        1     1   \n",
       "3          65000.0         319.00          73.347773         3        0     0   \n",
       "4         657000.0         410.00          73.347773         5        2     2   \n",
       "\n",
       "   Suburb_Code  Bus Station  Hospitals  Schools  Shopping Center  \n",
       "0           10            8         20        3                4  \n",
       "1           10            8         20        3                4  \n",
       "2           10            8         20        3                4  \n",
       "3           10            8         20        3                4  \n",
       "4           10            8         20        3                4  "
      ]
     },
     "execution_count": 23,
     "metadata": {},
     "output_type": "execute_result"
    }
   ],
   "source": [
    "X.head()"
   ]
  },
  {
   "cell_type": "code",
   "execution_count": 24,
   "metadata": {
    "colab": {},
    "colab_type": "code",
    "id": "6Pfq8cFwheSd"
   },
   "outputs": [],
   "source": [
    "## Building the model again with the best hyperparameters\n",
    "model = RandomForestRegressor(bootstrap=True, criterion='mse', max_depth=None,\n",
    "           max_features='auto', max_leaf_nodes=None,\n",
    "           min_impurity_decrease=0.0, min_impurity_split=None,\n",
    "           min_samples_leaf=4, min_samples_split=5,\n",
    "           min_weight_fraction_leaf=0.0, n_estimators=400, n_jobs=None,\n",
    "           oob_score=False, random_state=None, verbose=0, warm_start=False)\n",
    "model.fit(X_train, y_train)\n",
    "\n",
    "## Predict Test results\n",
    "y_pred = model.predict(X_test)"
   ]
  },
  {
   "cell_type": "code",
   "execution_count": 25,
   "metadata": {
    "colab": {
     "base_uri": "https://localhost:8080/",
     "height": 109
    },
    "colab_type": "code",
    "id": "6csbQjuNhy8U",
    "outputId": "0d02fea2-1fee-44be-e05d-a4489734b5d1"
   },
   "outputs": [
    {
     "name": "stdout",
     "output_type": "stream",
     "text": [
      "Test Results for Random Forest Regression:\n",
      "*******************************\n",
      "Root mean squared error:  204316.4245164842\n",
      "R-squared:  0.5212817893559585\n",
      "Mean Absolute Error:  95864.93376960364\n"
     ]
    }
   ],
   "source": [
    "print(\"Test Results for Random Forest Regression:\")\n",
    "print(\"*******************************\")\n",
    "print(\"Root mean squared error: \", sqrt(mse(y_test, y_pred)))\n",
    "print(\"R-squared: \", rs(y_test, y_pred))\n",
    "print(\"Mean Absolute Error: \", mae(y_test, y_pred))"
   ]
  },
  {
   "cell_type": "code",
   "execution_count": 26,
   "metadata": {
    "colab": {
     "base_uri": "https://localhost:8080/",
     "height": 256
    },
    "colab_type": "code",
    "id": "-DQlMHJxiSSN",
    "outputId": "9e37b797-a9bf-4a46-fef3-9893a4398f48"
   },
   "outputs": [
    {
     "name": "stdout",
     "output_type": "stream",
     "text": [
      "The features in order of importance are:\n",
      "--------------------------------------------------\n",
      "Land Size SQM\n",
      "Last Sell Price\n",
      "Toilets\n",
      "Schools\n",
      "Suburb_Code\n",
      "Bedrooms\n",
      "Bus Station\n",
      "Building Size SQM\n",
      "Shopping Center\n",
      "Hospitals\n",
      "Cars\n"
     ]
    }
   ],
   "source": [
    "indices = np.argsort(-model.feature_importances_)\n",
    "print(\"The features in order of importance are:\")\n",
    "print(50*'-')\n",
    "for feature in X.columns[indices]:\n",
    "    print(feature)"
   ]
  },
  {
   "cell_type": "code",
   "execution_count": null,
   "metadata": {
    "colab": {},
    "colab_type": "code",
    "id": "hEjaFjL3iVJN"
   },
   "outputs": [],
   "source": []
  },
  {
   "cell_type": "markdown",
   "metadata": {
    "colab_type": "text",
    "id": "qlZzb9ZWCaS2"
   },
   "source": [
    "## Save Model"
   ]
  },
  {
   "cell_type": "code",
   "execution_count": 27,
   "metadata": {
    "colab": {
     "base_uri": "https://localhost:8080/",
     "height": 35
    },
    "colab_type": "code",
    "id": "8v11wXcVCaS3",
    "outputId": "ddb56c87-7fd8-460e-b77f-39b9b39b94bb"
   },
   "outputs": [
    {
     "name": "stdout",
     "output_type": "stream",
     "text": [
      "Export the model to model.pkl\n"
     ]
    }
   ],
   "source": [
    "import zipfile\n",
    "import pickle\n",
    "print(\"Export the model to model.pkl\")\n",
    "f=open('model.pkl', 'wb')\n",
    "pickle.dump(model,f)\n",
    "f.close()\n",
    "\n",
    "zipfile.ZipFile('model.zip', mode='w').write('model.pkl')"
   ]
  },
  {
   "cell_type": "code",
   "execution_count": 30,
   "metadata": {
    "colab": {},
    "colab_type": "code",
    "id": "3WWp8UoznNI4"
   },
   "outputs": [],
   "source": [
    "X.to_csv('Training_Data.csv', header=True)"
   ]
  },
  {
   "cell_type": "code",
   "execution_count": 31,
   "metadata": {},
   "outputs": [
    {
     "data": {
      "text/html": [
       "<div>\n",
       "<style scoped>\n",
       "    .dataframe tbody tr th:only-of-type {\n",
       "        vertical-align: middle;\n",
       "    }\n",
       "\n",
       "    .dataframe tbody tr th {\n",
       "        vertical-align: top;\n",
       "    }\n",
       "\n",
       "    .dataframe thead th {\n",
       "        text-align: right;\n",
       "    }\n",
       "</style>\n",
       "<table border=\"1\" class=\"dataframe\">\n",
       "  <thead>\n",
       "    <tr style=\"text-align: right;\">\n",
       "      <th></th>\n",
       "      <th>Last Sell Price</th>\n",
       "      <th>Land Size SQM</th>\n",
       "      <th>Building Size SQM</th>\n",
       "      <th>Bedrooms</th>\n",
       "      <th>Toilets</th>\n",
       "      <th>Cars</th>\n",
       "      <th>Suburb_Code</th>\n",
       "      <th>Bus Station</th>\n",
       "      <th>Hospitals</th>\n",
       "      <th>Schools</th>\n",
       "      <th>Shopping Center</th>\n",
       "    </tr>\n",
       "  </thead>\n",
       "  <tbody>\n",
       "    <tr>\n",
       "      <th>0</th>\n",
       "      <td>0.0</td>\n",
       "      <td>548.96</td>\n",
       "      <td>73.347773</td>\n",
       "      <td>0</td>\n",
       "      <td>0</td>\n",
       "      <td>0</td>\n",
       "      <td>10</td>\n",
       "      <td>8</td>\n",
       "      <td>20</td>\n",
       "      <td>3</td>\n",
       "      <td>4</td>\n",
       "    </tr>\n",
       "    <tr>\n",
       "      <th>1</th>\n",
       "      <td>0.0</td>\n",
       "      <td>548.96</td>\n",
       "      <td>73.347773</td>\n",
       "      <td>0</td>\n",
       "      <td>0</td>\n",
       "      <td>0</td>\n",
       "      <td>10</td>\n",
       "      <td>8</td>\n",
       "      <td>20</td>\n",
       "      <td>3</td>\n",
       "      <td>4</td>\n",
       "    </tr>\n",
       "    <tr>\n",
       "      <th>2</th>\n",
       "      <td>155000.0</td>\n",
       "      <td>667.00</td>\n",
       "      <td>214.000000</td>\n",
       "      <td>3</td>\n",
       "      <td>1</td>\n",
       "      <td>1</td>\n",
       "      <td>10</td>\n",
       "      <td>8</td>\n",
       "      <td>20</td>\n",
       "      <td>3</td>\n",
       "      <td>4</td>\n",
       "    </tr>\n",
       "    <tr>\n",
       "      <th>3</th>\n",
       "      <td>65000.0</td>\n",
       "      <td>319.00</td>\n",
       "      <td>73.347773</td>\n",
       "      <td>3</td>\n",
       "      <td>0</td>\n",
       "      <td>0</td>\n",
       "      <td>10</td>\n",
       "      <td>8</td>\n",
       "      <td>20</td>\n",
       "      <td>3</td>\n",
       "      <td>4</td>\n",
       "    </tr>\n",
       "    <tr>\n",
       "      <th>4</th>\n",
       "      <td>657000.0</td>\n",
       "      <td>410.00</td>\n",
       "      <td>73.347773</td>\n",
       "      <td>5</td>\n",
       "      <td>2</td>\n",
       "      <td>2</td>\n",
       "      <td>10</td>\n",
       "      <td>8</td>\n",
       "      <td>20</td>\n",
       "      <td>3</td>\n",
       "      <td>4</td>\n",
       "    </tr>\n",
       "  </tbody>\n",
       "</table>\n",
       "</div>"
      ],
      "text/plain": [
       "   Last Sell Price  Land Size SQM  Building Size SQM  Bedrooms  Toilets  Cars  \\\n",
       "0              0.0         548.96          73.347773         0        0     0   \n",
       "1              0.0         548.96          73.347773         0        0     0   \n",
       "2         155000.0         667.00         214.000000         3        1     1   \n",
       "3          65000.0         319.00          73.347773         3        0     0   \n",
       "4         657000.0         410.00          73.347773         5        2     2   \n",
       "\n",
       "   Suburb_Code  Bus Station  Hospitals  Schools  Shopping Center  \n",
       "0           10            8         20        3                4  \n",
       "1           10            8         20        3                4  \n",
       "2           10            8         20        3                4  \n",
       "3           10            8         20        3                4  \n",
       "4           10            8         20        3                4  "
      ]
     },
     "execution_count": 31,
     "metadata": {},
     "output_type": "execute_result"
    }
   ],
   "source": [
    "X.head()"
   ]
  },
  {
   "cell_type": "code",
   "execution_count": null,
   "metadata": {},
   "outputs": [],
   "source": []
  }
 ],
 "metadata": {
  "colab": {
   "name": "Model.ipynb",
   "provenance": []
  },
  "kernelspec": {
   "display_name": "Python 3",
   "language": "python",
   "name": "python3"
  },
  "language_info": {
   "codemirror_mode": {
    "name": "ipython",
    "version": 3
   },
   "file_extension": ".py",
   "mimetype": "text/x-python",
   "name": "python",
   "nbconvert_exporter": "python",
   "pygments_lexer": "ipython3",
   "version": "3.7.7"
  }
 },
 "nbformat": 4,
 "nbformat_minor": 1
}
