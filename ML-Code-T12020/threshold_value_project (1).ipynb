{
  "nbformat": 4,
  "nbformat_minor": 0,
  "metadata": {
    "colab": {
      "name": "threshold_value_project.ipynb",
      "provenance": []
    },
    "kernelspec": {
      "name": "python3",
      "display_name": "Python 3"
    },
    "accelerator": "GPU"
  },
  "cells": [
    {
      "cell_type": "markdown",
      "metadata": {
        "id": "NWFxe26H7uTt",
        "colab_type": "text"
      },
      "source": [
        "# Finding the threshold value. "
      ]
    },
    {
      "cell_type": "code",
      "metadata": {
        "id": "9_CF1th4e8b5",
        "colab_type": "code",
        "colab": {
          "base_uri": "https://localhost:8080/",
          "height": 71
        },
        "outputId": "47c09e91-f6dd-4aab-cb3f-c3d8af047532"
      },
      "source": [
        "import pandas as pd\n",
        "import numpy as np\n",
        "import matplotlib.pyplot as plt\n",
        "import seaborn as sns\n",
        "from sklearn import linear_model"
      ],
      "execution_count": 2,
      "outputs": [
        {
          "output_type": "stream",
          "text": [
            "/usr/local/lib/python3.6/dist-packages/statsmodels/tools/_testing.py:19: FutureWarning: pandas.util.testing is deprecated. Use the functions in the public API at pandas.testing instead.\n",
            "  import pandas.util.testing as tm\n"
          ],
          "name": "stderr"
        }
      ]
    },
    {
      "cell_type": "code",
      "metadata": {
        "id": "opScUT0o_REk",
        "colab_type": "code",
        "outputId": "2dd3921a-db81-4c66-9d51-5fb493474e22",
        "colab": {
          "base_uri": "https://localhost:8080/",
          "height": 1000
        }
      },
      "source": [
        "df = pd.read_csv(\"geelong_data.csv\")\n",
        "df"
      ],
      "execution_count": 55,
      "outputs": [
        {
          "output_type": "execute_result",
          "data": {
            "text/html": [
              "<div>\n",
              "<style scoped>\n",
              "    .dataframe tbody tr th:only-of-type {\n",
              "        vertical-align: middle;\n",
              "    }\n",
              "\n",
              "    .dataframe tbody tr th {\n",
              "        vertical-align: top;\n",
              "    }\n",
              "\n",
              "    .dataframe thead th {\n",
              "        text-align: right;\n",
              "    }\n",
              "</style>\n",
              "<table border=\"1\" class=\"dataframe\">\n",
              "  <thead>\n",
              "    <tr style=\"text-align: right;\">\n",
              "      <th></th>\n",
              "      <th>Unnamed: 0</th>\n",
              "      <th>WebID</th>\n",
              "      <th>Area</th>\n",
              "      <th>Total dwellings_2016</th>\n",
              "      <th>Total dwellings_2011</th>\n",
              "      <th>Total dwellings_2006</th>\n",
              "      <th>Total dwellings_2001</th>\n",
              "      <th>Train_2016</th>\n",
              "      <th>Train_2011</th>\n",
              "      <th>Train_2006</th>\n",
              "      <th>Train_2001</th>\n",
              "      <th>pop_2016</th>\n",
              "      <th>pop_2011</th>\n",
              "      <th>pop_2006</th>\n",
              "      <th>pop_2001</th>\n",
              "    </tr>\n",
              "  </thead>\n",
              "  <tbody>\n",
              "    <tr>\n",
              "      <th>0</th>\n",
              "      <td>0</td>\n",
              "      <td>270</td>\n",
              "      <td>Leopold</td>\n",
              "      <td>5219</td>\n",
              "      <td>4075</td>\n",
              "      <td>3318</td>\n",
              "      <td>2839</td>\n",
              "      <td>107</td>\n",
              "      <td>75</td>\n",
              "      <td>80</td>\n",
              "      <td>66</td>\n",
              "      <td>12814</td>\n",
              "      <td>10117</td>\n",
              "      <td>8818</td>\n",
              "      <td>7654</td>\n",
              "    </tr>\n",
              "    <tr>\n",
              "      <th>1</th>\n",
              "      <td>1</td>\n",
              "      <td>330</td>\n",
              "      <td>North Geelong - Rippleside</td>\n",
              "      <td>1601</td>\n",
              "      <td>1326</td>\n",
              "      <td>1309</td>\n",
              "      <td>1279</td>\n",
              "      <td>114</td>\n",
              "      <td>80</td>\n",
              "      <td>48</td>\n",
              "      <td>45</td>\n",
              "      <td>3843</td>\n",
              "      <td>2893</td>\n",
              "      <td>3026</td>\n",
              "      <td>2955</td>\n",
              "    </tr>\n",
              "    <tr>\n",
              "      <th>2</th>\n",
              "      <td>2</td>\n",
              "      <td>130</td>\n",
              "      <td>Bell Post Hill</td>\n",
              "      <td>2171</td>\n",
              "      <td>2165</td>\n",
              "      <td>2116</td>\n",
              "      <td>2053</td>\n",
              "      <td>64</td>\n",
              "      <td>32</td>\n",
              "      <td>50</td>\n",
              "      <td>58</td>\n",
              "      <td>4914</td>\n",
              "      <td>5016</td>\n",
              "      <td>5135</td>\n",
              "      <td>5370</td>\n",
              "    </tr>\n",
              "    <tr>\n",
              "      <th>3</th>\n",
              "      <td>3</td>\n",
              "      <td>110</td>\n",
              "      <td>Barwon Heads - Connewarre - Breamlea</td>\n",
              "      <td>2558</td>\n",
              "      <td>2345</td>\n",
              "      <td>1827</td>\n",
              "      <td>1827</td>\n",
              "      <td>97</td>\n",
              "      <td>74</td>\n",
              "      <td>24</td>\n",
              "      <td>18</td>\n",
              "      <td>4554</td>\n",
              "      <td>4046</td>\n",
              "      <td>2873</td>\n",
              "      <td>2953</td>\n",
              "    </tr>\n",
              "    <tr>\n",
              "      <th>4</th>\n",
              "      <td>4</td>\n",
              "      <td>190</td>\n",
              "      <td>East Geelong</td>\n",
              "      <td>1832</td>\n",
              "      <td>1756</td>\n",
              "      <td>1780</td>\n",
              "      <td>1742</td>\n",
              "      <td>117</td>\n",
              "      <td>107</td>\n",
              "      <td>56</td>\n",
              "      <td>70</td>\n",
              "      <td>3865</td>\n",
              "      <td>3812</td>\n",
              "      <td>3843</td>\n",
              "      <td>3742</td>\n",
              "    </tr>\n",
              "    <tr>\n",
              "      <th>5</th>\n",
              "      <td>5</td>\n",
              "      <td>420</td>\n",
              "      <td>Whittington</td>\n",
              "      <td>1839</td>\n",
              "      <td>1778</td>\n",
              "      <td>1714</td>\n",
              "      <td>1680</td>\n",
              "      <td>35</td>\n",
              "      <td>24</td>\n",
              "      <td>13</td>\n",
              "      <td>22</td>\n",
              "      <td>3879</td>\n",
              "      <td>4068</td>\n",
              "      <td>4052</td>\n",
              "      <td>4239</td>\n",
              "    </tr>\n",
              "    <tr>\n",
              "      <th>6</th>\n",
              "      <td>6</td>\n",
              "      <td>370</td>\n",
              "      <td>Rural North</td>\n",
              "      <td>652</td>\n",
              "      <td>668</td>\n",
              "      <td>638</td>\n",
              "      <td>651</td>\n",
              "      <td>38</td>\n",
              "      <td>34</td>\n",
              "      <td>34</td>\n",
              "      <td>31</td>\n",
              "      <td>1734</td>\n",
              "      <td>1608</td>\n",
              "      <td>1769</td>\n",
              "      <td>1676</td>\n",
              "    </tr>\n",
              "    <tr>\n",
              "      <th>7</th>\n",
              "      <td>7</td>\n",
              "      <td>320</td>\n",
              "      <td>Norlane - North Shore</td>\n",
              "      <td>4342</td>\n",
              "      <td>3936</td>\n",
              "      <td>3922</td>\n",
              "      <td>4000</td>\n",
              "      <td>80</td>\n",
              "      <td>27</td>\n",
              "      <td>80</td>\n",
              "      <td>56</td>\n",
              "      <td>8669</td>\n",
              "      <td>8314</td>\n",
              "      <td>8229</td>\n",
              "      <td>8975</td>\n",
              "    </tr>\n",
              "    <tr>\n",
              "      <th>8</th>\n",
              "      <td>8</td>\n",
              "      <td>150</td>\n",
              "      <td>Clifton Springs</td>\n",
              "      <td>3412</td>\n",
              "      <td>3271</td>\n",
              "      <td>3039</td>\n",
              "      <td>2632</td>\n",
              "      <td>66</td>\n",
              "      <td>54</td>\n",
              "      <td>26</td>\n",
              "      <td>25</td>\n",
              "      <td>7521</td>\n",
              "      <td>7554</td>\n",
              "      <td>7206</td>\n",
              "      <td>6826</td>\n",
              "    </tr>\n",
              "    <tr>\n",
              "      <th>9</th>\n",
              "      <td>9</td>\n",
              "      <td>170</td>\n",
              "      <td>Curlewis</td>\n",
              "      <td>614</td>\n",
              "      <td>100</td>\n",
              "      <td>93</td>\n",
              "      <td>85</td>\n",
              "      <td>15</td>\n",
              "      <td>0</td>\n",
              "      <td>1</td>\n",
              "      <td>1</td>\n",
              "      <td>1557</td>\n",
              "      <td>222</td>\n",
              "      <td>210</td>\n",
              "      <td>242</td>\n",
              "    </tr>\n",
              "    <tr>\n",
              "      <th>10</th>\n",
              "      <td>10</td>\n",
              "      <td>430</td>\n",
              "      <td>Central Geelong</td>\n",
              "      <td>885</td>\n",
              "      <td>722</td>\n",
              "      <td>552</td>\n",
              "      <td>583</td>\n",
              "      <td>51</td>\n",
              "      <td>29</td>\n",
              "      <td>18</td>\n",
              "      <td>19</td>\n",
              "      <td>1464</td>\n",
              "      <td>1326</td>\n",
              "      <td>993</td>\n",
              "      <td>1056</td>\n",
              "    </tr>\n",
              "    <tr>\n",
              "      <th>11</th>\n",
              "      <td>11</td>\n",
              "      <td>250</td>\n",
              "      <td>Highton - Wandana Heights</td>\n",
              "      <td>8296</td>\n",
              "      <td>7504</td>\n",
              "      <td>6661</td>\n",
              "      <td>5726</td>\n",
              "      <td>394</td>\n",
              "      <td>306</td>\n",
              "      <td>203</td>\n",
              "      <td>143</td>\n",
              "      <td>20991</td>\n",
              "      <td>18625</td>\n",
              "      <td>16561</td>\n",
              "      <td>14335</td>\n",
              "    </tr>\n",
              "    <tr>\n",
              "      <th>12</th>\n",
              "      <td>12</td>\n",
              "      <td>10</td>\n",
              "      <td>City of Greater Geelong</td>\n",
              "      <td>106149</td>\n",
              "      <td>95747</td>\n",
              "      <td>87976</td>\n",
              "      <td>80957</td>\n",
              "      <td>3864</td>\n",
              "      <td>3316</td>\n",
              "      <td>2114</td>\n",
              "      <td>1978</td>\n",
              "      <td>233429</td>\n",
              "      <td>210874</td>\n",
              "      <td>197475</td>\n",
              "      <td>186889</td>\n",
              "    </tr>\n",
              "    <tr>\n",
              "      <th>13</th>\n",
              "      <td>13</td>\n",
              "      <td>120</td>\n",
              "      <td>Bell Park</td>\n",
              "      <td>2389</td>\n",
              "      <td>2232</td>\n",
              "      <td>2054</td>\n",
              "      <td>1821</td>\n",
              "      <td>77</td>\n",
              "      <td>58</td>\n",
              "      <td>58</td>\n",
              "      <td>54</td>\n",
              "      <td>5013</td>\n",
              "      <td>5226</td>\n",
              "      <td>4649</td>\n",
              "      <td>4207</td>\n",
              "    </tr>\n",
              "    <tr>\n",
              "      <th>14</th>\n",
              "      <td>14</td>\n",
              "      <td>100</td>\n",
              "      <td>Armstrong Creek - Mount Duneed</td>\n",
              "      <td>1973</td>\n",
              "      <td>180</td>\n",
              "      <td>421</td>\n",
              "      <td>170</td>\n",
              "      <td>116</td>\n",
              "      <td>0</td>\n",
              "      <td>0</td>\n",
              "      <td>4</td>\n",
              "      <td>5432</td>\n",
              "      <td>452</td>\n",
              "      <td>962</td>\n",
              "      <td>511</td>\n",
              "    </tr>\n",
              "    <tr>\n",
              "      <th>15</th>\n",
              "      <td>15</td>\n",
              "      <td>210</td>\n",
              "      <td>Geelong West - Manifold Heights</td>\n",
              "      <td>4660</td>\n",
              "      <td>4455</td>\n",
              "      <td>4357</td>\n",
              "      <td>4344</td>\n",
              "      <td>302</td>\n",
              "      <td>259</td>\n",
              "      <td>164</td>\n",
              "      <td>151</td>\n",
              "      <td>9617</td>\n",
              "      <td>9276</td>\n",
              "      <td>8861</td>\n",
              "      <td>8809</td>\n",
              "    </tr>\n",
              "    <tr>\n",
              "      <th>16</th>\n",
              "      <td>16</td>\n",
              "      <td>220</td>\n",
              "      <td>Grovedale</td>\n",
              "      <td>6026</td>\n",
              "      <td>5828</td>\n",
              "      <td>5232</td>\n",
              "      <td>4312</td>\n",
              "      <td>177</td>\n",
              "      <td>108</td>\n",
              "      <td>130</td>\n",
              "      <td>118</td>\n",
              "      <td>14311</td>\n",
              "      <td>14149</td>\n",
              "      <td>13178</td>\n",
              "      <td>11631</td>\n",
              "    </tr>\n",
              "    <tr>\n",
              "      <th>17</th>\n",
              "      <td>17</td>\n",
              "      <td>160</td>\n",
              "      <td>Corio</td>\n",
              "      <td>6200</td>\n",
              "      <td>6080</td>\n",
              "      <td>5916</td>\n",
              "      <td>5764</td>\n",
              "      <td>108</td>\n",
              "      <td>52</td>\n",
              "      <td>87</td>\n",
              "      <td>105</td>\n",
              "      <td>15292</td>\n",
              "      <td>15199</td>\n",
              "      <td>14944</td>\n",
              "      <td>15315</td>\n",
              "    </tr>\n",
              "    <tr>\n",
              "      <th>18</th>\n",
              "      <td>18</td>\n",
              "      <td>200</td>\n",
              "      <td>Geelong</td>\n",
              "      <td>3072</td>\n",
              "      <td>2747</td>\n",
              "      <td>2541</td>\n",
              "      <td>2515</td>\n",
              "      <td>184</td>\n",
              "      <td>138</td>\n",
              "      <td>113</td>\n",
              "      <td>74</td>\n",
              "      <td>5769</td>\n",
              "      <td>5309</td>\n",
              "      <td>4952</td>\n",
              "      <td>4940</td>\n",
              "    </tr>\n",
              "    <tr>\n",
              "      <th>19</th>\n",
              "      <td>19</td>\n",
              "      <td>280</td>\n",
              "      <td>Lovely Banks - Batesford - Moorabool</td>\n",
              "      <td>946</td>\n",
              "      <td>935</td>\n",
              "      <td>673</td>\n",
              "      <td>526</td>\n",
              "      <td>25</td>\n",
              "      <td>32</td>\n",
              "      <td>15</td>\n",
              "      <td>13</td>\n",
              "      <td>2638</td>\n",
              "      <td>2567</td>\n",
              "      <td>2080</td>\n",
              "      <td>1541</td>\n",
              "    </tr>\n",
              "    <tr>\n",
              "      <th>20</th>\n",
              "      <td>20</td>\n",
              "      <td>390</td>\n",
              "      <td>St Albans Park</td>\n",
              "      <td>2149</td>\n",
              "      <td>2049</td>\n",
              "      <td>1764</td>\n",
              "      <td>1368</td>\n",
              "      <td>47</td>\n",
              "      <td>21</td>\n",
              "      <td>18</td>\n",
              "      <td>24</td>\n",
              "      <td>4846</td>\n",
              "      <td>4953</td>\n",
              "      <td>4696</td>\n",
              "      <td>3777</td>\n",
              "    </tr>\n",
              "    <tr>\n",
              "      <th>21</th>\n",
              "      <td>21</td>\n",
              "      <td>290</td>\n",
              "      <td>Marshall - Charlemont</td>\n",
              "      <td>1008</td>\n",
              "      <td>733</td>\n",
              "      <td>566</td>\n",
              "      <td>481</td>\n",
              "      <td>37</td>\n",
              "      <td>33</td>\n",
              "      <td>6</td>\n",
              "      <td>2</td>\n",
              "      <td>2243</td>\n",
              "      <td>1769</td>\n",
              "      <td>1288</td>\n",
              "      <td>1167</td>\n",
              "    </tr>\n",
              "    <tr>\n",
              "      <th>22</th>\n",
              "      <td>22</td>\n",
              "      <td>260</td>\n",
              "      <td>Lara</td>\n",
              "      <td>5860</td>\n",
              "      <td>5041</td>\n",
              "      <td>4401</td>\n",
              "      <td>3852</td>\n",
              "      <td>540</td>\n",
              "      <td>482</td>\n",
              "      <td>289</td>\n",
              "      <td>313</td>\n",
              "      <td>16358</td>\n",
              "      <td>13914</td>\n",
              "      <td>12639</td>\n",
              "      <td>11087</td>\n",
              "    </tr>\n",
              "    <tr>\n",
              "      <th>23</th>\n",
              "      <td>23</td>\n",
              "      <td>380</td>\n",
              "      <td>South Geelong - Thomson - Breakwater</td>\n",
              "      <td>1912</td>\n",
              "      <td>1831</td>\n",
              "      <td>1792</td>\n",
              "      <td>1667</td>\n",
              "      <td>70</td>\n",
              "      <td>62</td>\n",
              "      <td>35</td>\n",
              "      <td>45</td>\n",
              "      <td>3619</td>\n",
              "      <td>3548</td>\n",
              "      <td>3497</td>\n",
              "      <td>3434</td>\n",
              "    </tr>\n",
              "    <tr>\n",
              "      <th>24</th>\n",
              "      <td>24</td>\n",
              "      <td>400</td>\n",
              "      <td>St Leonards - Indented Head</td>\n",
              "      <td>3533</td>\n",
              "      <td>3217</td>\n",
              "      <td>2866</td>\n",
              "      <td>2548</td>\n",
              "      <td>31</td>\n",
              "      <td>26</td>\n",
              "      <td>5</td>\n",
              "      <td>4</td>\n",
              "      <td>3615</td>\n",
              "      <td>3040</td>\n",
              "      <td>2634</td>\n",
              "      <td>2506</td>\n",
              "    </tr>\n",
              "    <tr>\n",
              "      <th>25</th>\n",
              "      <td>25</td>\n",
              "      <td>360</td>\n",
              "      <td>Rural Bellarine Peninsula</td>\n",
              "      <td>1367</td>\n",
              "      <td>1144</td>\n",
              "      <td>1153</td>\n",
              "      <td>1039</td>\n",
              "      <td>22</td>\n",
              "      <td>21</td>\n",
              "      <td>15</td>\n",
              "      <td>9</td>\n",
              "      <td>2806</td>\n",
              "      <td>2460</td>\n",
              "      <td>2507</td>\n",
              "      <td>2177</td>\n",
              "    </tr>\n",
              "    <tr>\n",
              "      <th>26</th>\n",
              "      <td>26</td>\n",
              "      <td>230</td>\n",
              "      <td>Hamlyn Heights</td>\n",
              "      <td>2842</td>\n",
              "      <td>2703</td>\n",
              "      <td>2590</td>\n",
              "      <td>2514</td>\n",
              "      <td>101</td>\n",
              "      <td>98</td>\n",
              "      <td>71</td>\n",
              "      <td>71</td>\n",
              "      <td>6292</td>\n",
              "      <td>6075</td>\n",
              "      <td>5839</td>\n",
              "      <td>5751</td>\n",
              "    </tr>\n",
              "    <tr>\n",
              "      <th>27</th>\n",
              "      <td>27</td>\n",
              "      <td>140</td>\n",
              "      <td>Belmont</td>\n",
              "      <td>6674</td>\n",
              "      <td>6599</td>\n",
              "      <td>6178</td>\n",
              "      <td>6192</td>\n",
              "      <td>231</td>\n",
              "      <td>209</td>\n",
              "      <td>160</td>\n",
              "      <td>143</td>\n",
              "      <td>14048</td>\n",
              "      <td>13649</td>\n",
              "      <td>13391</td>\n",
              "      <td>13779</td>\n",
              "    </tr>\n",
              "    <tr>\n",
              "      <th>28</th>\n",
              "      <td>28</td>\n",
              "      <td>410</td>\n",
              "      <td>Waurn Ponds - Ceres</td>\n",
              "      <td>1537</td>\n",
              "      <td>1302</td>\n",
              "      <td>971</td>\n",
              "      <td>476</td>\n",
              "      <td>75</td>\n",
              "      <td>27</td>\n",
              "      <td>38</td>\n",
              "      <td>12</td>\n",
              "      <td>5305</td>\n",
              "      <td>4102</td>\n",
              "      <td>3245</td>\n",
              "      <td>1600</td>\n",
              "    </tr>\n",
              "    <tr>\n",
              "      <th>29</th>\n",
              "      <td>29</td>\n",
              "      <td>310</td>\n",
              "      <td>Newtown</td>\n",
              "      <td>4540</td>\n",
              "      <td>4319</td>\n",
              "      <td>4158</td>\n",
              "      <td>4186</td>\n",
              "      <td>242</td>\n",
              "      <td>193</td>\n",
              "      <td>118</td>\n",
              "      <td>141</td>\n",
              "      <td>10148</td>\n",
              "      <td>9701</td>\n",
              "      <td>9581</td>\n",
              "      <td>9656</td>\n",
              "    </tr>\n",
              "    <tr>\n",
              "      <th>30</th>\n",
              "      <td>30</td>\n",
              "      <td>180</td>\n",
              "      <td>Drysdale - Bellarine</td>\n",
              "      <td>1935</td>\n",
              "      <td>1701</td>\n",
              "      <td>1295</td>\n",
              "      <td>993</td>\n",
              "      <td>44</td>\n",
              "      <td>15</td>\n",
              "      <td>14</td>\n",
              "      <td>12</td>\n",
              "      <td>4441</td>\n",
              "      <td>4075</td>\n",
              "      <td>3203</td>\n",
              "      <td>2665</td>\n",
              "    </tr>\n",
              "    <tr>\n",
              "      <th>31</th>\n",
              "      <td>31</td>\n",
              "      <td>350</td>\n",
              "      <td>Portarlington</td>\n",
              "      <td>2786</td>\n",
              "      <td>2614</td>\n",
              "      <td>2372</td>\n",
              "      <td>2154</td>\n",
              "      <td>28</td>\n",
              "      <td>9</td>\n",
              "      <td>9</td>\n",
              "      <td>13</td>\n",
              "      <td>3619</td>\n",
              "      <td>3309</td>\n",
              "      <td>3123</td>\n",
              "      <td>2991</td>\n",
              "    </tr>\n",
              "    <tr>\n",
              "      <th>32</th>\n",
              "      <td>32</td>\n",
              "      <td>300</td>\n",
              "      <td>Newcomb - Moolap</td>\n",
              "      <td>2922</td>\n",
              "      <td>2703</td>\n",
              "      <td>2649</td>\n",
              "      <td>2550</td>\n",
              "      <td>71</td>\n",
              "      <td>24</td>\n",
              "      <td>22</td>\n",
              "      <td>47</td>\n",
              "      <td>5874</td>\n",
              "      <td>5674</td>\n",
              "      <td>5766</td>\n",
              "      <td>5863</td>\n",
              "    </tr>\n",
              "    <tr>\n",
              "      <th>33</th>\n",
              "      <td>33</td>\n",
              "      <td>240</td>\n",
              "      <td>Herne Hill - Fyansford</td>\n",
              "      <td>1858</td>\n",
              "      <td>1776</td>\n",
              "      <td>1762</td>\n",
              "      <td>1728</td>\n",
              "      <td>57</td>\n",
              "      <td>70</td>\n",
              "      <td>35</td>\n",
              "      <td>50</td>\n",
              "      <td>3605</td>\n",
              "      <td>3520</td>\n",
              "      <td>3439</td>\n",
              "      <td>3530</td>\n",
              "    </tr>\n",
              "    <tr>\n",
              "      <th>34</th>\n",
              "      <td>34</td>\n",
              "      <td>340</td>\n",
              "      <td>Ocean Grove</td>\n",
              "      <td>7391</td>\n",
              "      <td>6591</td>\n",
              "      <td>5823</td>\n",
              "      <td>5240</td>\n",
              "      <td>167</td>\n",
              "      <td>86</td>\n",
              "      <td>86</td>\n",
              "      <td>66</td>\n",
              "      <td>14161</td>\n",
              "      <td>12594</td>\n",
              "      <td>11271</td>\n",
              "      <td>10448</td>\n",
              "    </tr>\n",
              "  </tbody>\n",
              "</table>\n",
              "</div>"
            ],
            "text/plain": [
              "    Unnamed: 0  WebID  ... pop_2006  pop_2001\n",
              "0            0    270  ...     8818      7654\n",
              "1            1    330  ...     3026      2955\n",
              "2            2    130  ...     5135      5370\n",
              "3            3    110  ...     2873      2953\n",
              "4            4    190  ...     3843      3742\n",
              "5            5    420  ...     4052      4239\n",
              "6            6    370  ...     1769      1676\n",
              "7            7    320  ...     8229      8975\n",
              "8            8    150  ...     7206      6826\n",
              "9            9    170  ...      210       242\n",
              "10          10    430  ...      993      1056\n",
              "11          11    250  ...    16561     14335\n",
              "12          12     10  ...   197475    186889\n",
              "13          13    120  ...     4649      4207\n",
              "14          14    100  ...      962       511\n",
              "15          15    210  ...     8861      8809\n",
              "16          16    220  ...    13178     11631\n",
              "17          17    160  ...    14944     15315\n",
              "18          18    200  ...     4952      4940\n",
              "19          19    280  ...     2080      1541\n",
              "20          20    390  ...     4696      3777\n",
              "21          21    290  ...     1288      1167\n",
              "22          22    260  ...    12639     11087\n",
              "23          23    380  ...     3497      3434\n",
              "24          24    400  ...     2634      2506\n",
              "25          25    360  ...     2507      2177\n",
              "26          26    230  ...     5839      5751\n",
              "27          27    140  ...    13391     13779\n",
              "28          28    410  ...     3245      1600\n",
              "29          29    310  ...     9581      9656\n",
              "30          30    180  ...     3203      2665\n",
              "31          31    350  ...     3123      2991\n",
              "32          32    300  ...     5766      5863\n",
              "33          33    240  ...     3439      3530\n",
              "34          34    340  ...    11271     10448\n",
              "\n",
              "[35 rows x 15 columns]"
            ]
          },
          "metadata": {
            "tags": []
          },
          "execution_count": 55
        }
      ]
    },
    {
      "cell_type": "code",
      "metadata": {
        "id": "6V5cJCdxYHZB",
        "colab_type": "code",
        "colab": {}
      },
      "source": [
        "# droping the columns \"Unnamed\" and \"WebID\":\n",
        "df.drop(['Unnamed: 0','WebID'], axis = 1, inplace = True) "
      ],
      "execution_count": 0,
      "outputs": []
    },
    {
      "cell_type": "code",
      "metadata": {
        "id": "atQ27C1uY7VR",
        "colab_type": "code",
        "colab": {
          "base_uri": "https://localhost:8080/",
          "height": 360
        },
        "outputId": "4ce17ceb-2b6a-4102-ea73-ee2cd6797548"
      },
      "source": [
        "df.head()"
      ],
      "execution_count": 5,
      "outputs": [
        {
          "output_type": "execute_result",
          "data": {
            "text/html": [
              "<div>\n",
              "<style scoped>\n",
              "    .dataframe tbody tr th:only-of-type {\n",
              "        vertical-align: middle;\n",
              "    }\n",
              "\n",
              "    .dataframe tbody tr th {\n",
              "        vertical-align: top;\n",
              "    }\n",
              "\n",
              "    .dataframe thead th {\n",
              "        text-align: right;\n",
              "    }\n",
              "</style>\n",
              "<table border=\"1\" class=\"dataframe\">\n",
              "  <thead>\n",
              "    <tr style=\"text-align: right;\">\n",
              "      <th></th>\n",
              "      <th>Area</th>\n",
              "      <th>Total dwellings_2016</th>\n",
              "      <th>Total dwellings_2011</th>\n",
              "      <th>Total dwellings_2006</th>\n",
              "      <th>Total dwellings_2001</th>\n",
              "      <th>Train_2016</th>\n",
              "      <th>Train_2011</th>\n",
              "      <th>Train_2006</th>\n",
              "      <th>Train_2001</th>\n",
              "      <th>pop_2016</th>\n",
              "      <th>pop_2011</th>\n",
              "      <th>pop_2006</th>\n",
              "      <th>pop_2001</th>\n",
              "    </tr>\n",
              "  </thead>\n",
              "  <tbody>\n",
              "    <tr>\n",
              "      <th>0</th>\n",
              "      <td>Leopold</td>\n",
              "      <td>5219</td>\n",
              "      <td>4075</td>\n",
              "      <td>3318</td>\n",
              "      <td>2839</td>\n",
              "      <td>107</td>\n",
              "      <td>75</td>\n",
              "      <td>80</td>\n",
              "      <td>66</td>\n",
              "      <td>12814</td>\n",
              "      <td>10117</td>\n",
              "      <td>8818</td>\n",
              "      <td>7654</td>\n",
              "    </tr>\n",
              "    <tr>\n",
              "      <th>1</th>\n",
              "      <td>North Geelong - Rippleside</td>\n",
              "      <td>1601</td>\n",
              "      <td>1326</td>\n",
              "      <td>1309</td>\n",
              "      <td>1279</td>\n",
              "      <td>114</td>\n",
              "      <td>80</td>\n",
              "      <td>48</td>\n",
              "      <td>45</td>\n",
              "      <td>3843</td>\n",
              "      <td>2893</td>\n",
              "      <td>3026</td>\n",
              "      <td>2955</td>\n",
              "    </tr>\n",
              "    <tr>\n",
              "      <th>2</th>\n",
              "      <td>Bell Post Hill</td>\n",
              "      <td>2171</td>\n",
              "      <td>2165</td>\n",
              "      <td>2116</td>\n",
              "      <td>2053</td>\n",
              "      <td>64</td>\n",
              "      <td>32</td>\n",
              "      <td>50</td>\n",
              "      <td>58</td>\n",
              "      <td>4914</td>\n",
              "      <td>5016</td>\n",
              "      <td>5135</td>\n",
              "      <td>5370</td>\n",
              "    </tr>\n",
              "    <tr>\n",
              "      <th>3</th>\n",
              "      <td>Barwon Heads - Connewarre - Breamlea</td>\n",
              "      <td>2558</td>\n",
              "      <td>2345</td>\n",
              "      <td>1827</td>\n",
              "      <td>1827</td>\n",
              "      <td>97</td>\n",
              "      <td>74</td>\n",
              "      <td>24</td>\n",
              "      <td>18</td>\n",
              "      <td>4554</td>\n",
              "      <td>4046</td>\n",
              "      <td>2873</td>\n",
              "      <td>2953</td>\n",
              "    </tr>\n",
              "    <tr>\n",
              "      <th>4</th>\n",
              "      <td>East Geelong</td>\n",
              "      <td>1832</td>\n",
              "      <td>1756</td>\n",
              "      <td>1780</td>\n",
              "      <td>1742</td>\n",
              "      <td>117</td>\n",
              "      <td>107</td>\n",
              "      <td>56</td>\n",
              "      <td>70</td>\n",
              "      <td>3865</td>\n",
              "      <td>3812</td>\n",
              "      <td>3843</td>\n",
              "      <td>3742</td>\n",
              "    </tr>\n",
              "  </tbody>\n",
              "</table>\n",
              "</div>"
            ],
            "text/plain": [
              "                                   Area  ...  pop_2001\n",
              "0                               Leopold  ...      7654\n",
              "1            North Geelong - Rippleside  ...      2955\n",
              "2                        Bell Post Hill  ...      5370\n",
              "3  Barwon Heads - Connewarre - Breamlea  ...      2953\n",
              "4                          East Geelong  ...      3742\n",
              "\n",
              "[5 rows x 13 columns]"
            ]
          },
          "metadata": {
            "tags": []
          },
          "execution_count": 5
        }
      ]
    },
    {
      "cell_type": "code",
      "metadata": {
        "id": "qgjuowaYn3OR",
        "colab_type": "code",
        "outputId": "8dac09f3-2927-4b3d-97b3-e68f481d8a1f",
        "colab": {
          "base_uri": "https://localhost:8080/",
          "height": 334
        }
      },
      "source": [
        "#summary statistics\n",
        "df.describe()"
      ],
      "execution_count": 6,
      "outputs": [
        {
          "output_type": "execute_result",
          "data": {
            "text/html": [
              "<div>\n",
              "<style scoped>\n",
              "    .dataframe tbody tr th:only-of-type {\n",
              "        vertical-align: middle;\n",
              "    }\n",
              "\n",
              "    .dataframe tbody tr th {\n",
              "        vertical-align: top;\n",
              "    }\n",
              "\n",
              "    .dataframe thead th {\n",
              "        text-align: right;\n",
              "    }\n",
              "</style>\n",
              "<table border=\"1\" class=\"dataframe\">\n",
              "  <thead>\n",
              "    <tr style=\"text-align: right;\">\n",
              "      <th></th>\n",
              "      <th>Total dwellings_2016</th>\n",
              "      <th>Total dwellings_2011</th>\n",
              "      <th>Total dwellings_2006</th>\n",
              "      <th>Total dwellings_2001</th>\n",
              "      <th>Train_2016</th>\n",
              "      <th>Train_2011</th>\n",
              "      <th>Train_2006</th>\n",
              "      <th>Train_2001</th>\n",
              "      <th>pop_2016</th>\n",
              "      <th>pop_2011</th>\n",
              "      <th>pop_2006</th>\n",
              "      <th>pop_2001</th>\n",
              "    </tr>\n",
              "  </thead>\n",
              "  <tbody>\n",
              "    <tr>\n",
              "      <th>count</th>\n",
              "      <td>35.000000</td>\n",
              "      <td>35.000000</td>\n",
              "      <td>35.000000</td>\n",
              "      <td>35.000000</td>\n",
              "      <td>35.000000</td>\n",
              "      <td>35.000000</td>\n",
              "      <td>35.000000</td>\n",
              "      <td>35.000000</td>\n",
              "      <td>35.00000</td>\n",
              "      <td>35.000000</td>\n",
              "      <td>35.000000</td>\n",
              "      <td>35.000000</td>\n",
              "    </tr>\n",
              "    <tr>\n",
              "      <th>mean</th>\n",
              "      <td>6090.000000</td>\n",
              "      <td>5490.657143</td>\n",
              "      <td>5042.257143</td>\n",
              "      <td>4642.685714</td>\n",
              "      <td>222.685714</td>\n",
              "      <td>176.600000</td>\n",
              "      <td>121.000000</td>\n",
              "      <td>114.371429</td>\n",
              "      <td>13379.60000</td>\n",
              "      <td>12086.742857</td>\n",
              "      <td>11312.428571</td>\n",
              "      <td>10694.200000</td>\n",
              "    </tr>\n",
              "    <tr>\n",
              "      <th>std</th>\n",
              "      <td>17528.400009</td>\n",
              "      <td>15825.154258</td>\n",
              "      <td>14540.949213</td>\n",
              "      <td>13385.819821</td>\n",
              "      <td>643.388217</td>\n",
              "      <td>555.249186</td>\n",
              "      <td>352.715599</td>\n",
              "      <td>330.219721</td>\n",
              "      <td>38601.44628</td>\n",
              "      <td>34898.628580</td>\n",
              "      <td>32680.195776</td>\n",
              "      <td>30937.536958</td>\n",
              "    </tr>\n",
              "    <tr>\n",
              "      <th>min</th>\n",
              "      <td>614.000000</td>\n",
              "      <td>100.000000</td>\n",
              "      <td>93.000000</td>\n",
              "      <td>85.000000</td>\n",
              "      <td>15.000000</td>\n",
              "      <td>0.000000</td>\n",
              "      <td>0.000000</td>\n",
              "      <td>1.000000</td>\n",
              "      <td>1464.00000</td>\n",
              "      <td>222.000000</td>\n",
              "      <td>210.000000</td>\n",
              "      <td>242.000000</td>\n",
              "    </tr>\n",
              "    <tr>\n",
              "      <th>25%</th>\n",
              "      <td>1835.500000</td>\n",
              "      <td>1513.500000</td>\n",
              "      <td>1302.000000</td>\n",
              "      <td>1159.000000</td>\n",
              "      <td>45.500000</td>\n",
              "      <td>26.500000</td>\n",
              "      <td>16.500000</td>\n",
              "      <td>15.500000</td>\n",
              "      <td>3619.00000</td>\n",
              "      <td>3174.500000</td>\n",
              "      <td>2949.500000</td>\n",
              "      <td>2585.500000</td>\n",
              "    </tr>\n",
              "    <tr>\n",
              "      <th>50%</th>\n",
              "      <td>2558.000000</td>\n",
              "      <td>2345.000000</td>\n",
              "      <td>2116.000000</td>\n",
              "      <td>2053.000000</td>\n",
              "      <td>77.000000</td>\n",
              "      <td>54.000000</td>\n",
              "      <td>38.000000</td>\n",
              "      <td>47.000000</td>\n",
              "      <td>5013.00000</td>\n",
              "      <td>4953.000000</td>\n",
              "      <td>4649.000000</td>\n",
              "      <td>4207.000000</td>\n",
              "    </tr>\n",
              "    <tr>\n",
              "      <th>75%</th>\n",
              "      <td>4600.000000</td>\n",
              "      <td>4197.000000</td>\n",
              "      <td>4040.000000</td>\n",
              "      <td>3926.000000</td>\n",
              "      <td>142.000000</td>\n",
              "      <td>102.500000</td>\n",
              "      <td>86.500000</td>\n",
              "      <td>72.500000</td>\n",
              "      <td>9882.50000</td>\n",
              "      <td>9488.500000</td>\n",
              "      <td>8839.500000</td>\n",
              "      <td>8892.000000</td>\n",
              "    </tr>\n",
              "    <tr>\n",
              "      <th>max</th>\n",
              "      <td>106149.000000</td>\n",
              "      <td>95747.000000</td>\n",
              "      <td>87976.000000</td>\n",
              "      <td>80957.000000</td>\n",
              "      <td>3864.000000</td>\n",
              "      <td>3316.000000</td>\n",
              "      <td>2114.000000</td>\n",
              "      <td>1978.000000</td>\n",
              "      <td>233429.00000</td>\n",
              "      <td>210874.000000</td>\n",
              "      <td>197475.000000</td>\n",
              "      <td>186889.000000</td>\n",
              "    </tr>\n",
              "  </tbody>\n",
              "</table>\n",
              "</div>"
            ],
            "text/plain": [
              "       Total dwellings_2016  Total dwellings_2011  ...       pop_2006       pop_2001\n",
              "count             35.000000             35.000000  ...      35.000000      35.000000\n",
              "mean            6090.000000           5490.657143  ...   11312.428571   10694.200000\n",
              "std            17528.400009          15825.154258  ...   32680.195776   30937.536958\n",
              "min              614.000000            100.000000  ...     210.000000     242.000000\n",
              "25%             1835.500000           1513.500000  ...    2949.500000    2585.500000\n",
              "50%             2558.000000           2345.000000  ...    4649.000000    4207.000000\n",
              "75%             4600.000000           4197.000000  ...    8839.500000    8892.000000\n",
              "max           106149.000000          95747.000000  ...  197475.000000  186889.000000\n",
              "\n",
              "[8 rows x 12 columns]"
            ]
          },
          "metadata": {
            "tags": []
          },
          "execution_count": 6
        }
      ]
    },
    {
      "cell_type": "markdown",
      "metadata": {
        "id": "qsOgAGL12dpG",
        "colab_type": "text"
      },
      "source": [
        "Dividing the areas which have a train station and the areas which dont have a train station and checking the population and employment rate for both. "
      ]
    },
    {
      "cell_type": "markdown",
      "metadata": {
        "id": "VKDThOBRXLs_",
        "colab_type": "text"
      },
      "source": [
        "Geelong, Waurn ponds, Marsahll, South geelong, North geelong, North Shore, Corio, Lara are the areas which have station"
      ]
    },
    {
      "cell_type": "code",
      "metadata": {
        "id": "_GHWeWPGSGu4",
        "colab_type": "code",
        "colab": {
          "base_uri": "https://localhost:8080/",
          "height": 439
        },
        "outputId": "6a4e2013-6100-4014-8983-847a95de3e63"
      },
      "source": [
        "# areas which have a station\n",
        "area =df.iloc[[1, 17, 18, 21, 22, 23, 28]]\n",
        "area"
      ],
      "execution_count": 7,
      "outputs": [
        {
          "output_type": "execute_result",
          "data": {
            "text/html": [
              "<div>\n",
              "<style scoped>\n",
              "    .dataframe tbody tr th:only-of-type {\n",
              "        vertical-align: middle;\n",
              "    }\n",
              "\n",
              "    .dataframe tbody tr th {\n",
              "        vertical-align: top;\n",
              "    }\n",
              "\n",
              "    .dataframe thead th {\n",
              "        text-align: right;\n",
              "    }\n",
              "</style>\n",
              "<table border=\"1\" class=\"dataframe\">\n",
              "  <thead>\n",
              "    <tr style=\"text-align: right;\">\n",
              "      <th></th>\n",
              "      <th>Area</th>\n",
              "      <th>Total dwellings_2016</th>\n",
              "      <th>Total dwellings_2011</th>\n",
              "      <th>Total dwellings_2006</th>\n",
              "      <th>Total dwellings_2001</th>\n",
              "      <th>Train_2016</th>\n",
              "      <th>Train_2011</th>\n",
              "      <th>Train_2006</th>\n",
              "      <th>Train_2001</th>\n",
              "      <th>pop_2016</th>\n",
              "      <th>pop_2011</th>\n",
              "      <th>pop_2006</th>\n",
              "      <th>pop_2001</th>\n",
              "    </tr>\n",
              "  </thead>\n",
              "  <tbody>\n",
              "    <tr>\n",
              "      <th>1</th>\n",
              "      <td>North Geelong - Rippleside</td>\n",
              "      <td>1601</td>\n",
              "      <td>1326</td>\n",
              "      <td>1309</td>\n",
              "      <td>1279</td>\n",
              "      <td>114</td>\n",
              "      <td>80</td>\n",
              "      <td>48</td>\n",
              "      <td>45</td>\n",
              "      <td>3843</td>\n",
              "      <td>2893</td>\n",
              "      <td>3026</td>\n",
              "      <td>2955</td>\n",
              "    </tr>\n",
              "    <tr>\n",
              "      <th>17</th>\n",
              "      <td>Corio</td>\n",
              "      <td>6200</td>\n",
              "      <td>6080</td>\n",
              "      <td>5916</td>\n",
              "      <td>5764</td>\n",
              "      <td>108</td>\n",
              "      <td>52</td>\n",
              "      <td>87</td>\n",
              "      <td>105</td>\n",
              "      <td>15292</td>\n",
              "      <td>15199</td>\n",
              "      <td>14944</td>\n",
              "      <td>15315</td>\n",
              "    </tr>\n",
              "    <tr>\n",
              "      <th>18</th>\n",
              "      <td>Geelong</td>\n",
              "      <td>3072</td>\n",
              "      <td>2747</td>\n",
              "      <td>2541</td>\n",
              "      <td>2515</td>\n",
              "      <td>184</td>\n",
              "      <td>138</td>\n",
              "      <td>113</td>\n",
              "      <td>74</td>\n",
              "      <td>5769</td>\n",
              "      <td>5309</td>\n",
              "      <td>4952</td>\n",
              "      <td>4940</td>\n",
              "    </tr>\n",
              "    <tr>\n",
              "      <th>21</th>\n",
              "      <td>Marshall - Charlemont</td>\n",
              "      <td>1008</td>\n",
              "      <td>733</td>\n",
              "      <td>566</td>\n",
              "      <td>481</td>\n",
              "      <td>37</td>\n",
              "      <td>33</td>\n",
              "      <td>6</td>\n",
              "      <td>2</td>\n",
              "      <td>2243</td>\n",
              "      <td>1769</td>\n",
              "      <td>1288</td>\n",
              "      <td>1167</td>\n",
              "    </tr>\n",
              "    <tr>\n",
              "      <th>22</th>\n",
              "      <td>Lara</td>\n",
              "      <td>5860</td>\n",
              "      <td>5041</td>\n",
              "      <td>4401</td>\n",
              "      <td>3852</td>\n",
              "      <td>540</td>\n",
              "      <td>482</td>\n",
              "      <td>289</td>\n",
              "      <td>313</td>\n",
              "      <td>16358</td>\n",
              "      <td>13914</td>\n",
              "      <td>12639</td>\n",
              "      <td>11087</td>\n",
              "    </tr>\n",
              "    <tr>\n",
              "      <th>23</th>\n",
              "      <td>South Geelong - Thomson - Breakwater</td>\n",
              "      <td>1912</td>\n",
              "      <td>1831</td>\n",
              "      <td>1792</td>\n",
              "      <td>1667</td>\n",
              "      <td>70</td>\n",
              "      <td>62</td>\n",
              "      <td>35</td>\n",
              "      <td>45</td>\n",
              "      <td>3619</td>\n",
              "      <td>3548</td>\n",
              "      <td>3497</td>\n",
              "      <td>3434</td>\n",
              "    </tr>\n",
              "    <tr>\n",
              "      <th>28</th>\n",
              "      <td>Waurn Ponds - Ceres</td>\n",
              "      <td>1537</td>\n",
              "      <td>1302</td>\n",
              "      <td>971</td>\n",
              "      <td>476</td>\n",
              "      <td>75</td>\n",
              "      <td>27</td>\n",
              "      <td>38</td>\n",
              "      <td>12</td>\n",
              "      <td>5305</td>\n",
              "      <td>4102</td>\n",
              "      <td>3245</td>\n",
              "      <td>1600</td>\n",
              "    </tr>\n",
              "  </tbody>\n",
              "</table>\n",
              "</div>"
            ],
            "text/plain": [
              "                                    Area  ...  pop_2001\n",
              "1             North Geelong - Rippleside  ...      2955\n",
              "17                                 Corio  ...     15315\n",
              "18                               Geelong  ...      4940\n",
              "21                 Marshall - Charlemont  ...      1167\n",
              "22                                  Lara  ...     11087\n",
              "23  South Geelong - Thomson - Breakwater  ...      3434\n",
              "28                   Waurn Ponds - Ceres  ...      1600\n",
              "\n",
              "[7 rows x 13 columns]"
            ]
          },
          "metadata": {
            "tags": []
          },
          "execution_count": 7
        }
      ]
    },
    {
      "cell_type": "code",
      "metadata": {
        "id": "71KU0E2vSObe",
        "colab_type": "code",
        "colab": {
          "base_uri": "https://localhost:8080/",
          "height": 1000
        },
        "outputId": "17a5ce14-3d5a-43dd-c283-9d8aa132b829"
      },
      "source": [
        "# areas which dont have a train station\n",
        "area1 = df\n",
        "area1 = area1.drop(area1.index[[1,17,18,21,22,23,28]], axis = 0)\n",
        "area1"
      ],
      "execution_count": 8,
      "outputs": [
        {
          "output_type": "execute_result",
          "data": {
            "text/html": [
              "<div>\n",
              "<style scoped>\n",
              "    .dataframe tbody tr th:only-of-type {\n",
              "        vertical-align: middle;\n",
              "    }\n",
              "\n",
              "    .dataframe tbody tr th {\n",
              "        vertical-align: top;\n",
              "    }\n",
              "\n",
              "    .dataframe thead th {\n",
              "        text-align: right;\n",
              "    }\n",
              "</style>\n",
              "<table border=\"1\" class=\"dataframe\">\n",
              "  <thead>\n",
              "    <tr style=\"text-align: right;\">\n",
              "      <th></th>\n",
              "      <th>Area</th>\n",
              "      <th>Total dwellings_2016</th>\n",
              "      <th>Total dwellings_2011</th>\n",
              "      <th>Total dwellings_2006</th>\n",
              "      <th>Total dwellings_2001</th>\n",
              "      <th>Train_2016</th>\n",
              "      <th>Train_2011</th>\n",
              "      <th>Train_2006</th>\n",
              "      <th>Train_2001</th>\n",
              "      <th>pop_2016</th>\n",
              "      <th>pop_2011</th>\n",
              "      <th>pop_2006</th>\n",
              "      <th>pop_2001</th>\n",
              "    </tr>\n",
              "  </thead>\n",
              "  <tbody>\n",
              "    <tr>\n",
              "      <th>0</th>\n",
              "      <td>Leopold</td>\n",
              "      <td>5219</td>\n",
              "      <td>4075</td>\n",
              "      <td>3318</td>\n",
              "      <td>2839</td>\n",
              "      <td>107</td>\n",
              "      <td>75</td>\n",
              "      <td>80</td>\n",
              "      <td>66</td>\n",
              "      <td>12814</td>\n",
              "      <td>10117</td>\n",
              "      <td>8818</td>\n",
              "      <td>7654</td>\n",
              "    </tr>\n",
              "    <tr>\n",
              "      <th>2</th>\n",
              "      <td>Bell Post Hill</td>\n",
              "      <td>2171</td>\n",
              "      <td>2165</td>\n",
              "      <td>2116</td>\n",
              "      <td>2053</td>\n",
              "      <td>64</td>\n",
              "      <td>32</td>\n",
              "      <td>50</td>\n",
              "      <td>58</td>\n",
              "      <td>4914</td>\n",
              "      <td>5016</td>\n",
              "      <td>5135</td>\n",
              "      <td>5370</td>\n",
              "    </tr>\n",
              "    <tr>\n",
              "      <th>3</th>\n",
              "      <td>Barwon Heads - Connewarre - Breamlea</td>\n",
              "      <td>2558</td>\n",
              "      <td>2345</td>\n",
              "      <td>1827</td>\n",
              "      <td>1827</td>\n",
              "      <td>97</td>\n",
              "      <td>74</td>\n",
              "      <td>24</td>\n",
              "      <td>18</td>\n",
              "      <td>4554</td>\n",
              "      <td>4046</td>\n",
              "      <td>2873</td>\n",
              "      <td>2953</td>\n",
              "    </tr>\n",
              "    <tr>\n",
              "      <th>4</th>\n",
              "      <td>East Geelong</td>\n",
              "      <td>1832</td>\n",
              "      <td>1756</td>\n",
              "      <td>1780</td>\n",
              "      <td>1742</td>\n",
              "      <td>117</td>\n",
              "      <td>107</td>\n",
              "      <td>56</td>\n",
              "      <td>70</td>\n",
              "      <td>3865</td>\n",
              "      <td>3812</td>\n",
              "      <td>3843</td>\n",
              "      <td>3742</td>\n",
              "    </tr>\n",
              "    <tr>\n",
              "      <th>5</th>\n",
              "      <td>Whittington</td>\n",
              "      <td>1839</td>\n",
              "      <td>1778</td>\n",
              "      <td>1714</td>\n",
              "      <td>1680</td>\n",
              "      <td>35</td>\n",
              "      <td>24</td>\n",
              "      <td>13</td>\n",
              "      <td>22</td>\n",
              "      <td>3879</td>\n",
              "      <td>4068</td>\n",
              "      <td>4052</td>\n",
              "      <td>4239</td>\n",
              "    </tr>\n",
              "    <tr>\n",
              "      <th>6</th>\n",
              "      <td>Rural North</td>\n",
              "      <td>652</td>\n",
              "      <td>668</td>\n",
              "      <td>638</td>\n",
              "      <td>651</td>\n",
              "      <td>38</td>\n",
              "      <td>34</td>\n",
              "      <td>34</td>\n",
              "      <td>31</td>\n",
              "      <td>1734</td>\n",
              "      <td>1608</td>\n",
              "      <td>1769</td>\n",
              "      <td>1676</td>\n",
              "    </tr>\n",
              "    <tr>\n",
              "      <th>7</th>\n",
              "      <td>Norlane - North Shore</td>\n",
              "      <td>4342</td>\n",
              "      <td>3936</td>\n",
              "      <td>3922</td>\n",
              "      <td>4000</td>\n",
              "      <td>80</td>\n",
              "      <td>27</td>\n",
              "      <td>80</td>\n",
              "      <td>56</td>\n",
              "      <td>8669</td>\n",
              "      <td>8314</td>\n",
              "      <td>8229</td>\n",
              "      <td>8975</td>\n",
              "    </tr>\n",
              "    <tr>\n",
              "      <th>8</th>\n",
              "      <td>Clifton Springs</td>\n",
              "      <td>3412</td>\n",
              "      <td>3271</td>\n",
              "      <td>3039</td>\n",
              "      <td>2632</td>\n",
              "      <td>66</td>\n",
              "      <td>54</td>\n",
              "      <td>26</td>\n",
              "      <td>25</td>\n",
              "      <td>7521</td>\n",
              "      <td>7554</td>\n",
              "      <td>7206</td>\n",
              "      <td>6826</td>\n",
              "    </tr>\n",
              "    <tr>\n",
              "      <th>9</th>\n",
              "      <td>Curlewis</td>\n",
              "      <td>614</td>\n",
              "      <td>100</td>\n",
              "      <td>93</td>\n",
              "      <td>85</td>\n",
              "      <td>15</td>\n",
              "      <td>0</td>\n",
              "      <td>1</td>\n",
              "      <td>1</td>\n",
              "      <td>1557</td>\n",
              "      <td>222</td>\n",
              "      <td>210</td>\n",
              "      <td>242</td>\n",
              "    </tr>\n",
              "    <tr>\n",
              "      <th>10</th>\n",
              "      <td>Central Geelong</td>\n",
              "      <td>885</td>\n",
              "      <td>722</td>\n",
              "      <td>552</td>\n",
              "      <td>583</td>\n",
              "      <td>51</td>\n",
              "      <td>29</td>\n",
              "      <td>18</td>\n",
              "      <td>19</td>\n",
              "      <td>1464</td>\n",
              "      <td>1326</td>\n",
              "      <td>993</td>\n",
              "      <td>1056</td>\n",
              "    </tr>\n",
              "    <tr>\n",
              "      <th>11</th>\n",
              "      <td>Highton - Wandana Heights</td>\n",
              "      <td>8296</td>\n",
              "      <td>7504</td>\n",
              "      <td>6661</td>\n",
              "      <td>5726</td>\n",
              "      <td>394</td>\n",
              "      <td>306</td>\n",
              "      <td>203</td>\n",
              "      <td>143</td>\n",
              "      <td>20991</td>\n",
              "      <td>18625</td>\n",
              "      <td>16561</td>\n",
              "      <td>14335</td>\n",
              "    </tr>\n",
              "    <tr>\n",
              "      <th>12</th>\n",
              "      <td>City of Greater Geelong</td>\n",
              "      <td>106149</td>\n",
              "      <td>95747</td>\n",
              "      <td>87976</td>\n",
              "      <td>80957</td>\n",
              "      <td>3864</td>\n",
              "      <td>3316</td>\n",
              "      <td>2114</td>\n",
              "      <td>1978</td>\n",
              "      <td>233429</td>\n",
              "      <td>210874</td>\n",
              "      <td>197475</td>\n",
              "      <td>186889</td>\n",
              "    </tr>\n",
              "    <tr>\n",
              "      <th>13</th>\n",
              "      <td>Bell Park</td>\n",
              "      <td>2389</td>\n",
              "      <td>2232</td>\n",
              "      <td>2054</td>\n",
              "      <td>1821</td>\n",
              "      <td>77</td>\n",
              "      <td>58</td>\n",
              "      <td>58</td>\n",
              "      <td>54</td>\n",
              "      <td>5013</td>\n",
              "      <td>5226</td>\n",
              "      <td>4649</td>\n",
              "      <td>4207</td>\n",
              "    </tr>\n",
              "    <tr>\n",
              "      <th>14</th>\n",
              "      <td>Armstrong Creek - Mount Duneed</td>\n",
              "      <td>1973</td>\n",
              "      <td>180</td>\n",
              "      <td>421</td>\n",
              "      <td>170</td>\n",
              "      <td>116</td>\n",
              "      <td>0</td>\n",
              "      <td>0</td>\n",
              "      <td>4</td>\n",
              "      <td>5432</td>\n",
              "      <td>452</td>\n",
              "      <td>962</td>\n",
              "      <td>511</td>\n",
              "    </tr>\n",
              "    <tr>\n",
              "      <th>15</th>\n",
              "      <td>Geelong West - Manifold Heights</td>\n",
              "      <td>4660</td>\n",
              "      <td>4455</td>\n",
              "      <td>4357</td>\n",
              "      <td>4344</td>\n",
              "      <td>302</td>\n",
              "      <td>259</td>\n",
              "      <td>164</td>\n",
              "      <td>151</td>\n",
              "      <td>9617</td>\n",
              "      <td>9276</td>\n",
              "      <td>8861</td>\n",
              "      <td>8809</td>\n",
              "    </tr>\n",
              "    <tr>\n",
              "      <th>16</th>\n",
              "      <td>Grovedale</td>\n",
              "      <td>6026</td>\n",
              "      <td>5828</td>\n",
              "      <td>5232</td>\n",
              "      <td>4312</td>\n",
              "      <td>177</td>\n",
              "      <td>108</td>\n",
              "      <td>130</td>\n",
              "      <td>118</td>\n",
              "      <td>14311</td>\n",
              "      <td>14149</td>\n",
              "      <td>13178</td>\n",
              "      <td>11631</td>\n",
              "    </tr>\n",
              "    <tr>\n",
              "      <th>19</th>\n",
              "      <td>Lovely Banks - Batesford - Moorabool</td>\n",
              "      <td>946</td>\n",
              "      <td>935</td>\n",
              "      <td>673</td>\n",
              "      <td>526</td>\n",
              "      <td>25</td>\n",
              "      <td>32</td>\n",
              "      <td>15</td>\n",
              "      <td>13</td>\n",
              "      <td>2638</td>\n",
              "      <td>2567</td>\n",
              "      <td>2080</td>\n",
              "      <td>1541</td>\n",
              "    </tr>\n",
              "    <tr>\n",
              "      <th>20</th>\n",
              "      <td>St Albans Park</td>\n",
              "      <td>2149</td>\n",
              "      <td>2049</td>\n",
              "      <td>1764</td>\n",
              "      <td>1368</td>\n",
              "      <td>47</td>\n",
              "      <td>21</td>\n",
              "      <td>18</td>\n",
              "      <td>24</td>\n",
              "      <td>4846</td>\n",
              "      <td>4953</td>\n",
              "      <td>4696</td>\n",
              "      <td>3777</td>\n",
              "    </tr>\n",
              "    <tr>\n",
              "      <th>24</th>\n",
              "      <td>St Leonards - Indented Head</td>\n",
              "      <td>3533</td>\n",
              "      <td>3217</td>\n",
              "      <td>2866</td>\n",
              "      <td>2548</td>\n",
              "      <td>31</td>\n",
              "      <td>26</td>\n",
              "      <td>5</td>\n",
              "      <td>4</td>\n",
              "      <td>3615</td>\n",
              "      <td>3040</td>\n",
              "      <td>2634</td>\n",
              "      <td>2506</td>\n",
              "    </tr>\n",
              "    <tr>\n",
              "      <th>25</th>\n",
              "      <td>Rural Bellarine Peninsula</td>\n",
              "      <td>1367</td>\n",
              "      <td>1144</td>\n",
              "      <td>1153</td>\n",
              "      <td>1039</td>\n",
              "      <td>22</td>\n",
              "      <td>21</td>\n",
              "      <td>15</td>\n",
              "      <td>9</td>\n",
              "      <td>2806</td>\n",
              "      <td>2460</td>\n",
              "      <td>2507</td>\n",
              "      <td>2177</td>\n",
              "    </tr>\n",
              "    <tr>\n",
              "      <th>26</th>\n",
              "      <td>Hamlyn Heights</td>\n",
              "      <td>2842</td>\n",
              "      <td>2703</td>\n",
              "      <td>2590</td>\n",
              "      <td>2514</td>\n",
              "      <td>101</td>\n",
              "      <td>98</td>\n",
              "      <td>71</td>\n",
              "      <td>71</td>\n",
              "      <td>6292</td>\n",
              "      <td>6075</td>\n",
              "      <td>5839</td>\n",
              "      <td>5751</td>\n",
              "    </tr>\n",
              "    <tr>\n",
              "      <th>27</th>\n",
              "      <td>Belmont</td>\n",
              "      <td>6674</td>\n",
              "      <td>6599</td>\n",
              "      <td>6178</td>\n",
              "      <td>6192</td>\n",
              "      <td>231</td>\n",
              "      <td>209</td>\n",
              "      <td>160</td>\n",
              "      <td>143</td>\n",
              "      <td>14048</td>\n",
              "      <td>13649</td>\n",
              "      <td>13391</td>\n",
              "      <td>13779</td>\n",
              "    </tr>\n",
              "    <tr>\n",
              "      <th>29</th>\n",
              "      <td>Newtown</td>\n",
              "      <td>4540</td>\n",
              "      <td>4319</td>\n",
              "      <td>4158</td>\n",
              "      <td>4186</td>\n",
              "      <td>242</td>\n",
              "      <td>193</td>\n",
              "      <td>118</td>\n",
              "      <td>141</td>\n",
              "      <td>10148</td>\n",
              "      <td>9701</td>\n",
              "      <td>9581</td>\n",
              "      <td>9656</td>\n",
              "    </tr>\n",
              "    <tr>\n",
              "      <th>30</th>\n",
              "      <td>Drysdale - Bellarine</td>\n",
              "      <td>1935</td>\n",
              "      <td>1701</td>\n",
              "      <td>1295</td>\n",
              "      <td>993</td>\n",
              "      <td>44</td>\n",
              "      <td>15</td>\n",
              "      <td>14</td>\n",
              "      <td>12</td>\n",
              "      <td>4441</td>\n",
              "      <td>4075</td>\n",
              "      <td>3203</td>\n",
              "      <td>2665</td>\n",
              "    </tr>\n",
              "    <tr>\n",
              "      <th>31</th>\n",
              "      <td>Portarlington</td>\n",
              "      <td>2786</td>\n",
              "      <td>2614</td>\n",
              "      <td>2372</td>\n",
              "      <td>2154</td>\n",
              "      <td>28</td>\n",
              "      <td>9</td>\n",
              "      <td>9</td>\n",
              "      <td>13</td>\n",
              "      <td>3619</td>\n",
              "      <td>3309</td>\n",
              "      <td>3123</td>\n",
              "      <td>2991</td>\n",
              "    </tr>\n",
              "    <tr>\n",
              "      <th>32</th>\n",
              "      <td>Newcomb - Moolap</td>\n",
              "      <td>2922</td>\n",
              "      <td>2703</td>\n",
              "      <td>2649</td>\n",
              "      <td>2550</td>\n",
              "      <td>71</td>\n",
              "      <td>24</td>\n",
              "      <td>22</td>\n",
              "      <td>47</td>\n",
              "      <td>5874</td>\n",
              "      <td>5674</td>\n",
              "      <td>5766</td>\n",
              "      <td>5863</td>\n",
              "    </tr>\n",
              "    <tr>\n",
              "      <th>33</th>\n",
              "      <td>Herne Hill - Fyansford</td>\n",
              "      <td>1858</td>\n",
              "      <td>1776</td>\n",
              "      <td>1762</td>\n",
              "      <td>1728</td>\n",
              "      <td>57</td>\n",
              "      <td>70</td>\n",
              "      <td>35</td>\n",
              "      <td>50</td>\n",
              "      <td>3605</td>\n",
              "      <td>3520</td>\n",
              "      <td>3439</td>\n",
              "      <td>3530</td>\n",
              "    </tr>\n",
              "    <tr>\n",
              "      <th>34</th>\n",
              "      <td>Ocean Grove</td>\n",
              "      <td>7391</td>\n",
              "      <td>6591</td>\n",
              "      <td>5823</td>\n",
              "      <td>5240</td>\n",
              "      <td>167</td>\n",
              "      <td>86</td>\n",
              "      <td>86</td>\n",
              "      <td>66</td>\n",
              "      <td>14161</td>\n",
              "      <td>12594</td>\n",
              "      <td>11271</td>\n",
              "      <td>10448</td>\n",
              "    </tr>\n",
              "  </tbody>\n",
              "</table>\n",
              "</div>"
            ],
            "text/plain": [
              "                                    Area  ...  pop_2001\n",
              "0                                Leopold  ...      7654\n",
              "2                         Bell Post Hill  ...      5370\n",
              "3   Barwon Heads - Connewarre - Breamlea  ...      2953\n",
              "4                           East Geelong  ...      3742\n",
              "5                            Whittington  ...      4239\n",
              "6                            Rural North  ...      1676\n",
              "7                  Norlane - North Shore  ...      8975\n",
              "8                        Clifton Springs  ...      6826\n",
              "9                               Curlewis  ...       242\n",
              "10                       Central Geelong  ...      1056\n",
              "11             Highton - Wandana Heights  ...     14335\n",
              "12               City of Greater Geelong  ...    186889\n",
              "13                             Bell Park  ...      4207\n",
              "14        Armstrong Creek - Mount Duneed  ...       511\n",
              "15       Geelong West - Manifold Heights  ...      8809\n",
              "16                             Grovedale  ...     11631\n",
              "19  Lovely Banks - Batesford - Moorabool  ...      1541\n",
              "20                        St Albans Park  ...      3777\n",
              "24           St Leonards - Indented Head  ...      2506\n",
              "25             Rural Bellarine Peninsula  ...      2177\n",
              "26                        Hamlyn Heights  ...      5751\n",
              "27                               Belmont  ...     13779\n",
              "29                               Newtown  ...      9656\n",
              "30                  Drysdale - Bellarine  ...      2665\n",
              "31                         Portarlington  ...      2991\n",
              "32                      Newcomb - Moolap  ...      5863\n",
              "33                Herne Hill - Fyansford  ...      3530\n",
              "34                           Ocean Grove  ...     10448\n",
              "\n",
              "[28 rows x 13 columns]"
            ]
          },
          "metadata": {
            "tags": []
          },
          "execution_count": 8
        }
      ]
    },
    {
      "cell_type": "markdown",
      "metadata": {
        "id": "igwnGLWReQWx",
        "colab_type": "text"
      },
      "source": [
        "Working on Geelong station data. \n",
        "Stations present on the geelong vline are waurn ponds station, marshall station, south geelong, north geelong, north shore, corio, lara "
      ]
    },
    {
      "cell_type": "code",
      "metadata": {
        "id": "lFhGhrLBSRmD",
        "colab_type": "code",
        "colab": {
          "base_uri": "https://localhost:8080/",
          "height": 173
        },
        "outputId": "309ce005-6a85-4dca-c5c2-be9b497a997e"
      },
      "source": [
        "# Geelong station\n",
        "gs = {'Year':[2001,2006,2011,2016],'Dwelling':[2515,2541,2747,3072], \"Employment\" : [1727, 2183, 2360, 2478], 'Train':[74,113,138,184],'Population':[4940,4952,5309,5769]}\n",
        "gs = pd.DataFrame(gs)\n",
        "gs"
      ],
      "execution_count": 9,
      "outputs": [
        {
          "output_type": "execute_result",
          "data": {
            "text/html": [
              "<div>\n",
              "<style scoped>\n",
              "    .dataframe tbody tr th:only-of-type {\n",
              "        vertical-align: middle;\n",
              "    }\n",
              "\n",
              "    .dataframe tbody tr th {\n",
              "        vertical-align: top;\n",
              "    }\n",
              "\n",
              "    .dataframe thead th {\n",
              "        text-align: right;\n",
              "    }\n",
              "</style>\n",
              "<table border=\"1\" class=\"dataframe\">\n",
              "  <thead>\n",
              "    <tr style=\"text-align: right;\">\n",
              "      <th></th>\n",
              "      <th>Year</th>\n",
              "      <th>Dwelling</th>\n",
              "      <th>Employment</th>\n",
              "      <th>Train</th>\n",
              "      <th>Population</th>\n",
              "    </tr>\n",
              "  </thead>\n",
              "  <tbody>\n",
              "    <tr>\n",
              "      <th>0</th>\n",
              "      <td>2001</td>\n",
              "      <td>2515</td>\n",
              "      <td>1727</td>\n",
              "      <td>74</td>\n",
              "      <td>4940</td>\n",
              "    </tr>\n",
              "    <tr>\n",
              "      <th>1</th>\n",
              "      <td>2006</td>\n",
              "      <td>2541</td>\n",
              "      <td>2183</td>\n",
              "      <td>113</td>\n",
              "      <td>4952</td>\n",
              "    </tr>\n",
              "    <tr>\n",
              "      <th>2</th>\n",
              "      <td>2011</td>\n",
              "      <td>2747</td>\n",
              "      <td>2360</td>\n",
              "      <td>138</td>\n",
              "      <td>5309</td>\n",
              "    </tr>\n",
              "    <tr>\n",
              "      <th>3</th>\n",
              "      <td>2016</td>\n",
              "      <td>3072</td>\n",
              "      <td>2478</td>\n",
              "      <td>184</td>\n",
              "      <td>5769</td>\n",
              "    </tr>\n",
              "  </tbody>\n",
              "</table>\n",
              "</div>"
            ],
            "text/plain": [
              "   Year  Dwelling  Employment  Train  Population\n",
              "0  2001      2515        1727     74        4940\n",
              "1  2006      2541        2183    113        4952\n",
              "2  2011      2747        2360    138        5309\n",
              "3  2016      3072        2478    184        5769"
            ]
          },
          "metadata": {
            "tags": []
          },
          "execution_count": 9
        }
      ]
    },
    {
      "cell_type": "code",
      "metadata": {
        "id": "iEm4GsNUSyH0",
        "colab_type": "code",
        "colab": {
          "base_uri": "https://localhost:8080/",
          "height": 267
        },
        "outputId": "9f90bcb6-4150-4845-cdb1-e4beee3e3328"
      },
      "source": [
        "plt.plot(gs['Year'],gs['Dwelling'])\n",
        "plt.plot(gs['Year'],gs['Train'])\n",
        "plt.plot(gs['Year'],gs['Population'])\n",
        "plt.show()"
      ],
      "execution_count": 10,
      "outputs": [
        {
          "output_type": "display_data",
          "data": {
            "image/png": "[encoded data removed]",
            "text/plain": [
              "<Figure size 432x288 with 1 Axes>"
            ]
          },
          "metadata": {
            "tags": [],
            "needs_background": "light"
          }
        }
      ]
    },
    {
      "cell_type": "code",
      "metadata": {
        "id": "tU5YmUE2S2WJ",
        "colab_type": "code",
        "colab": {
          "base_uri": "https://localhost:8080/",
          "height": 284
        },
        "outputId": "7aa877f8-535c-46d8-bcb0-8781a1bec6d7"
      },
      "source": [
        "plt.plot(gs[['Year']],gs[['Population']] , color='green', linestyle='dashed', linewidth = 3,marker='o', markerfacecolor='blue', markersize=12)"
      ],
      "execution_count": 11,
      "outputs": [
        {
          "output_type": "execute_result",
          "data": {
            "text/plain": [
              "[<matplotlib.lines.Line2D at 0x7fe415b59668>]"
            ]
          },
          "metadata": {
            "tags": []
          },
          "execution_count": 11
        },
        {
          "output_type": "display_data",
          "data": {
            "image/png": "[encoded data removed]",
            "text/plain": [
              "<Figure size 432x288 with 1 Axes>"
            ]
          },
          "metadata": {
            "tags": [],
            "needs_background": "light"
          }
        }
      ]
    },
    {
      "cell_type": "markdown",
      "metadata": {
        "id": "365MvPdq4mxQ",
        "colab_type": "text"
      },
      "source": [
        "The data shows an uphill trend as it moves from left to right.\n",
        " \n",
        " This indicates that there is a positive relationship between Year and Population. \n",
        " \n",
        " There is a strong assocaition between the two variables. \n",
        " \n",
        " Outliers are not present. \n",
        "\n",
        " From 2006 and 2016 we observe a gradual increase in the population"
      ]
    },
    {
      "cell_type": "code",
      "metadata": {
        "id": "VknwU0cBS24G",
        "colab_type": "code",
        "colab": {
          "base_uri": "https://localhost:8080/",
          "height": 282
        },
        "outputId": "b6d1a85a-b80b-4dca-cf5c-e553fbdae48c"
      },
      "source": [
        "plt.plot(gs[['Year']],gs[['Train']] , color='green', linestyle='dashed', linewidth = 3,marker='o', markerfacecolor='blue', markersize=12)"
      ],
      "execution_count": 12,
      "outputs": [
        {
          "output_type": "execute_result",
          "data": {
            "text/plain": [
              "[<matplotlib.lines.Line2D at 0x7fe415ac8588>]"
            ]
          },
          "metadata": {
            "tags": []
          },
          "execution_count": 12
        },
        {
          "output_type": "display_data",
          "data": {
            "image/png": "[encoded data removed]",
            "text/plain": [
              "<Figure size 432x288 with 1 Axes>"
            ]
          },
          "metadata": {
            "tags": [],
            "needs_background": "light"
          }
        }
      ]
    },
    {
      "cell_type": "markdown",
      "metadata": {
        "id": "89D4TlsJ50Qo",
        "colab_type": "text"
      },
      "source": [
        "The data shows an uphill trend as it moves from left to right.\n",
        " \n",
        " This indicates that there is a positive relationship between Year and Train. \n",
        " \n",
        " There is a strong assocaition between the two variables. \n",
        " \n",
        " Outliers are not present. "
      ]
    },
    {
      "cell_type": "code",
      "metadata": {
        "id": "wAhMS4jJS5Zj",
        "colab_type": "code",
        "colab": {
          "base_uri": "https://localhost:8080/",
          "height": 282
        },
        "outputId": "5adde14b-55cc-4eca-feea-2d888a257e85"
      },
      "source": [
        "plt.plot(gs[['Year']],gs[['Dwelling']] , color='green', linestyle='dashed', linewidth = 3,marker='o', markerfacecolor='blue', markersize=12) "
      ],
      "execution_count": 13,
      "outputs": [
        {
          "output_type": "execute_result",
          "data": {
            "text/plain": [
              "[<matplotlib.lines.Line2D at 0x7fe415aaf5c0>]"
            ]
          },
          "metadata": {
            "tags": []
          },
          "execution_count": 13
        },
        {
          "output_type": "display_data",
          "data": {
            "image/png": "[encoded data removed]",
            "text/plain": [
              "<Figure size 432x288 with 1 Axes>"
            ]
          },
          "metadata": {
            "tags": [],
            "needs_background": "light"
          }
        }
      ]
    },
    {
      "cell_type": "markdown",
      "metadata": {
        "id": "l0i7ppRc6UZw",
        "colab_type": "text"
      },
      "source": [
        "The data shows an uphill trend as it moves from left to right.\n",
        " \n",
        " This indicates that there is a positive relationship between Year and Population. \n",
        " \n",
        " There is a strong assocaition between the two variables. \n",
        " \n",
        " Outliers are not present. \n",
        "\n",
        " We observe a gradual increase in dwellings from 2001 to 2016"
      ]
    },
    {
      "cell_type": "code",
      "metadata": {
        "id": "mA_r3em65H-D",
        "colab_type": "code",
        "colab": {
          "base_uri": "https://localhost:8080/",
          "height": 282
        },
        "outputId": "4515adfd-7613-4848-a4d5-53ce2996122a"
      },
      "source": [
        "plt.plot(gs[['Train']],gs[['Employment']] , color='green', linestyle='dashed', linewidth = 3,marker='o', markerfacecolor='blue', markersize=12) "
      ],
      "execution_count": 14,
      "outputs": [
        {
          "output_type": "execute_result",
          "data": {
            "text/plain": [
              "[<matplotlib.lines.Line2D at 0x7fe415a175f8>]"
            ]
          },
          "metadata": {
            "tags": []
          },
          "execution_count": 14
        },
        {
          "output_type": "display_data",
          "data": {
            "image/png": "[encoded data removed]",
            "text/plain": [
              "<Figure size 432x288 with 1 Axes>"
            ]
          },
          "metadata": {
            "tags": [],
            "needs_background": "light"
          }
        }
      ]
    },
    {
      "cell_type": "markdown",
      "metadata": {
        "id": "2nhcN2ZOfk_J",
        "colab_type": "text"
      },
      "source": [
        "Working on the Waurn Ponds suburbs data. Suburbs close to Waurn Ponds station are Armstrong creek, Grovedale, Herne Hill and Highton. The station was build in 2014 to create enough space for trains to pass each other allowing more geelong services to be extend and improving the service reliability. \n",
        "\n",
        "People from these suburbs including waurn ponds might travel for work using the waurn ponds station to geelong, melbourne and other regions. "
      ]
    },
    {
      "cell_type": "code",
      "metadata": {
        "id": "Eb5TmOv0SVdr",
        "colab_type": "code",
        "colab": {
          "base_uri": "https://localhost:8080/",
          "height": 173
        },
        "outputId": "9d9c053b-9c8a-4584-d164-199267896518"
      },
      "source": [
        "# Waurn Ponds station\n",
        "wps = {'Year':[2001,2006,2011,2016],'Dwelling':[476,971,1302,1537], 'Employment':[770,1609,2195,2772],'Train':[12,38,27,75],'Population':[1600,3245,4102,5305]}\n",
        "wps = pd.DataFrame(wps)\n",
        "wps"
      ],
      "execution_count": 15,
      "outputs": [
        {
          "output_type": "execute_result",
          "data": {
            "text/html": [
              "<div>\n",
              "<style scoped>\n",
              "    .dataframe tbody tr th:only-of-type {\n",
              "        vertical-align: middle;\n",
              "    }\n",
              "\n",
              "    .dataframe tbody tr th {\n",
              "        vertical-align: top;\n",
              "    }\n",
              "\n",
              "    .dataframe thead th {\n",
              "        text-align: right;\n",
              "    }\n",
              "</style>\n",
              "<table border=\"1\" class=\"dataframe\">\n",
              "  <thead>\n",
              "    <tr style=\"text-align: right;\">\n",
              "      <th></th>\n",
              "      <th>Year</th>\n",
              "      <th>Dwelling</th>\n",
              "      <th>Employment</th>\n",
              "      <th>Train</th>\n",
              "      <th>Population</th>\n",
              "    </tr>\n",
              "  </thead>\n",
              "  <tbody>\n",
              "    <tr>\n",
              "      <th>0</th>\n",
              "      <td>2001</td>\n",
              "      <td>476</td>\n",
              "      <td>770</td>\n",
              "      <td>12</td>\n",
              "      <td>1600</td>\n",
              "    </tr>\n",
              "    <tr>\n",
              "      <th>1</th>\n",
              "      <td>2006</td>\n",
              "      <td>971</td>\n",
              "      <td>1609</td>\n",
              "      <td>38</td>\n",
              "      <td>3245</td>\n",
              "    </tr>\n",
              "    <tr>\n",
              "      <th>2</th>\n",
              "      <td>2011</td>\n",
              "      <td>1302</td>\n",
              "      <td>2195</td>\n",
              "      <td>27</td>\n",
              "      <td>4102</td>\n",
              "    </tr>\n",
              "    <tr>\n",
              "      <th>3</th>\n",
              "      <td>2016</td>\n",
              "      <td>1537</td>\n",
              "      <td>2772</td>\n",
              "      <td>75</td>\n",
              "      <td>5305</td>\n",
              "    </tr>\n",
              "  </tbody>\n",
              "</table>\n",
              "</div>"
            ],
            "text/plain": [
              "   Year  Dwelling  Employment  Train  Population\n",
              "0  2001       476         770     12        1600\n",
              "1  2006       971        1609     38        3245\n",
              "2  2011      1302        2195     27        4102\n",
              "3  2016      1537        2772     75        5305"
            ]
          },
          "metadata": {
            "tags": []
          },
          "execution_count": 15
        }
      ]
    },
    {
      "cell_type": "code",
      "metadata": {
        "id": "Yg3s1VtFTH7Q",
        "colab_type": "code",
        "colab": {
          "base_uri": "https://localhost:8080/",
          "height": 265
        },
        "outputId": "e64f4418-3817-4b50-b810-99a11bc27abb"
      },
      "source": [
        "plt.plot(wps['Year'],wps['Dwelling'])\n",
        "plt.plot(wps['Year'],wps['Train'])\n",
        "plt.plot(wps['Year'],wps['Population'])\n",
        "plt.plot(wps['Year'],wps['Employment'])\n",
        "plt.show()"
      ],
      "execution_count": 16,
      "outputs": [
        {
          "output_type": "display_data",
          "data": {
            "image/png": "[encoded data removed]",
            "text/plain": [
              "<Figure size 432x288 with 1 Axes>"
            ]
          },
          "metadata": {
            "tags": [],
            "needs_background": "light"
          }
        }
      ]
    },
    {
      "cell_type": "code",
      "metadata": {
        "id": "2-VnZ8S2TJ4T",
        "colab_type": "code",
        "colab": {
          "base_uri": "https://localhost:8080/",
          "height": 282
        },
        "outputId": "6d38385b-a825-413e-8c21-8b241e783253"
      },
      "source": [
        "plt.plot(wps[['Year']],wps[['Population']] , color='green', linestyle='dashed', linewidth = 3,marker='o', markerfacecolor='blue', markersize=12)"
      ],
      "execution_count": 17,
      "outputs": [
        {
          "output_type": "execute_result",
          "data": {
            "text/plain": [
              "[<matplotlib.lines.Line2D at 0x7fe415974208>]"
            ]
          },
          "metadata": {
            "tags": []
          },
          "execution_count": 17
        },
        {
          "output_type": "display_data",
          "data": {
            "image/png": "[encoded data removed]",
            "text/plain": [
              "<Figure size 432x288 with 1 Axes>"
            ]
          },
          "metadata": {
            "tags": [],
            "needs_background": "light"
          }
        }
      ]
    },
    {
      "cell_type": "code",
      "metadata": {
        "id": "2POz2kFjTf6T",
        "colab_type": "code",
        "colab": {
          "base_uri": "https://localhost:8080/",
          "height": 282
        },
        "outputId": "f362d596-dc02-4381-c244-e6c122e23243"
      },
      "source": [
        "plt.plot(wps[['Year']],wps[['Train']] , color='green', linestyle='dashed', linewidth = 3,marker='o', markerfacecolor='blue', markersize=12)"
      ],
      "execution_count": 18,
      "outputs": [
        {
          "output_type": "execute_result",
          "data": {
            "text/plain": [
              "[<matplotlib.lines.Line2D at 0x7fe4158d8f28>]"
            ]
          },
          "metadata": {
            "tags": []
          },
          "execution_count": 18
        },
        {
          "output_type": "display_data",
          "data": {
            "image/png": "[encoded data removed]",
            "text/plain": [
              "<Figure size 432x288 with 1 Axes>"
            ]
          },
          "metadata": {
            "tags": [],
            "needs_background": "light"
          }
        }
      ]
    },
    {
      "cell_type": "code",
      "metadata": {
        "id": "CFPhGGKmTuuo",
        "colab_type": "code",
        "colab": {
          "base_uri": "https://localhost:8080/",
          "height": 282
        },
        "outputId": "5e3ea845-6532-466d-d98f-208ea565c836"
      },
      "source": [
        "plt.plot(wps[['Year']],wps[['Dwelling']] , color='green', linestyle='dashed', linewidth = 3,marker='o', markerfacecolor='blue', markersize=12) "
      ],
      "execution_count": 19,
      "outputs": [
        {
          "output_type": "execute_result",
          "data": {
            "text/plain": [
              "[<matplotlib.lines.Line2D at 0x7fe4158485c0>]"
            ]
          },
          "metadata": {
            "tags": []
          },
          "execution_count": 19
        },
        {
          "output_type": "display_data",
          "data": {
            "image/png": "[encoded data removed]",
            "text/plain": [
              "<Figure size 432x288 with 1 Axes>"
            ]
          },
          "metadata": {
            "tags": [],
            "needs_background": "light"
          }
        }
      ]
    },
    {
      "cell_type": "code",
      "metadata": {
        "id": "rjjEfrS5Tv3v",
        "colab_type": "code",
        "colab": {
          "base_uri": "https://localhost:8080/",
          "height": 282
        },
        "outputId": "b2786f60-311e-4b60-f160-616330766c33"
      },
      "source": [
        "plt.plot(wps[['Population']],wps[['Dwelling']] , color='green', linestyle='dashed', linewidth = 3,marker='o', markerfacecolor='blue', markersize=12)"
      ],
      "execution_count": 20,
      "outputs": [
        {
          "output_type": "execute_result",
          "data": {
            "text/plain": [
              "[<matplotlib.lines.Line2D at 0x7fe415825f98>]"
            ]
          },
          "metadata": {
            "tags": []
          },
          "execution_count": 20
        },
        {
          "output_type": "display_data",
          "data": {
            "image/png": "[encoded data removed]",
            "text/plain": [
              "<Figure size 432x288 with 1 Axes>"
            ]
          },
          "metadata": {
            "tags": [],
            "needs_background": "light"
          }
        }
      ]
    },
    {
      "cell_type": "code",
      "metadata": {
        "id": "ia5GE2hNT4II",
        "colab_type": "code",
        "colab": {
          "base_uri": "https://localhost:8080/",
          "height": 282
        },
        "outputId": "b22c7d0a-2e43-4521-c4c8-60e15dd8941b"
      },
      "source": [
        "plt.plot(wps[['Population']],wps[['Train']] , color='green', linestyle='dashed', linewidth = 3,marker='o', markerfacecolor='blue', markersize=12)"
      ],
      "execution_count": 21,
      "outputs": [
        {
          "output_type": "execute_result",
          "data": {
            "text/plain": [
              "[<matplotlib.lines.Line2D at 0x7fe4157909b0>]"
            ]
          },
          "metadata": {
            "tags": []
          },
          "execution_count": 21
        },
        {
          "output_type": "display_data",
          "data": {
            "image/png": "[encoded data removed]",
            "text/plain": [
              "<Figure size 432x288 with 1 Axes>"
            ]
          },
          "metadata": {
            "tags": [],
            "needs_background": "light"
          }
        }
      ]
    },
    {
      "cell_type": "code",
      "metadata": {
        "id": "SfWVRq4VT6pt",
        "colab_type": "code",
        "colab": {
          "base_uri": "https://localhost:8080/",
          "height": 282
        },
        "outputId": "563ae17a-f592-46e1-a90d-374da48a49fb"
      },
      "source": [
        "plt.plot(wps[['Population']],wps[['Employment']] , color='green', linestyle='dashed', linewidth = 3,marker='o', markerfacecolor='blue', markersize=12)"
      ],
      "execution_count": 22,
      "outputs": [
        {
          "output_type": "execute_result",
          "data": {
            "text/plain": [
              "[<matplotlib.lines.Line2D at 0x7fe415775be0>]"
            ]
          },
          "metadata": {
            "tags": []
          },
          "execution_count": 22
        },
        {
          "output_type": "display_data",
          "data": {
            "image/png": "[encoded data removed]",
            "text/plain": [
              "<Figure size 432x288 with 1 Axes>"
            ]
          },
          "metadata": {
            "tags": [],
            "needs_background": "light"
          }
        }
      ]
    },
    {
      "cell_type": "code",
      "metadata": {
        "id": "vIGkIpWWT7Rp",
        "colab_type": "code",
        "colab": {
          "base_uri": "https://localhost:8080/",
          "height": 282
        },
        "outputId": "5018a3e3-c8ec-4666-834c-71184ab7c289"
      },
      "source": [
        "plt.plot(wps[['Train']],wps[['Employment']] , color='green', linestyle='dashed', linewidth = 3,marker='o', markerfacecolor='blue', markersize=12)"
      ],
      "execution_count": 23,
      "outputs": [
        {
          "output_type": "execute_result",
          "data": {
            "text/plain": [
              "[<matplotlib.lines.Line2D at 0x7fe4156e9550>]"
            ]
          },
          "metadata": {
            "tags": []
          },
          "execution_count": 23
        },
        {
          "output_type": "display_data",
          "data": {
            "image/png": "[encoded data removed]",
            "text/plain": [
              "<Figure size 432x288 with 1 Axes>"
            ]
          },
          "metadata": {
            "tags": [],
            "needs_background": "light"
          }
        }
      ]
    },
    {
      "cell_type": "markdown",
      "metadata": {
        "id": "R1lf5dq6jJ-y",
        "colab_type": "text"
      },
      "source": [
        "Working on the south geelong suburb. The suburbs close to the south geelong station are Newtown, Geelong, East Geelong. \n",
        "\n",
        "People from these suburbs including south geelong might travel for work using the south geelong station to geelong, melbourne and other regions. "
      ]
    },
    {
      "cell_type": "code",
      "metadata": {
        "id": "cfyi0ZJ1SXlO",
        "colab_type": "code",
        "colab": {
          "base_uri": "https://localhost:8080/",
          "height": 173
        },
        "outputId": "a103a4dc-bc8f-488b-93aa-8f667358e121"
      },
      "source": [
        "# south geelong station\n",
        "sg = {'Year':[2001,2006,2011,2016],'Dwelling':[1667, 1792, 1831, 1912], \"Employment\" : [1340, 1370, 1562, 1608], 'Train':[45, 35, 62, 70],'Population':[3434, 3497, 3548, 3619]}\n",
        "sg = pd.DataFrame(sg)\n",
        "sg"
      ],
      "execution_count": 24,
      "outputs": [
        {
          "output_type": "execute_result",
          "data": {
            "text/html": [
              "<div>\n",
              "<style scoped>\n",
              "    .dataframe tbody tr th:only-of-type {\n",
              "        vertical-align: middle;\n",
              "    }\n",
              "\n",
              "    .dataframe tbody tr th {\n",
              "        vertical-align: top;\n",
              "    }\n",
              "\n",
              "    .dataframe thead th {\n",
              "        text-align: right;\n",
              "    }\n",
              "</style>\n",
              "<table border=\"1\" class=\"dataframe\">\n",
              "  <thead>\n",
              "    <tr style=\"text-align: right;\">\n",
              "      <th></th>\n",
              "      <th>Year</th>\n",
              "      <th>Dwelling</th>\n",
              "      <th>Employment</th>\n",
              "      <th>Train</th>\n",
              "      <th>Population</th>\n",
              "    </tr>\n",
              "  </thead>\n",
              "  <tbody>\n",
              "    <tr>\n",
              "      <th>0</th>\n",
              "      <td>2001</td>\n",
              "      <td>1667</td>\n",
              "      <td>1340</td>\n",
              "      <td>45</td>\n",
              "      <td>3434</td>\n",
              "    </tr>\n",
              "    <tr>\n",
              "      <th>1</th>\n",
              "      <td>2006</td>\n",
              "      <td>1792</td>\n",
              "      <td>1370</td>\n",
              "      <td>35</td>\n",
              "      <td>3497</td>\n",
              "    </tr>\n",
              "    <tr>\n",
              "      <th>2</th>\n",
              "      <td>2011</td>\n",
              "      <td>1831</td>\n",
              "      <td>1562</td>\n",
              "      <td>62</td>\n",
              "      <td>3548</td>\n",
              "    </tr>\n",
              "    <tr>\n",
              "      <th>3</th>\n",
              "      <td>2016</td>\n",
              "      <td>1912</td>\n",
              "      <td>1608</td>\n",
              "      <td>70</td>\n",
              "      <td>3619</td>\n",
              "    </tr>\n",
              "  </tbody>\n",
              "</table>\n",
              "</div>"
            ],
            "text/plain": [
              "   Year  Dwelling  Employment  Train  Population\n",
              "0  2001      1667        1340     45        3434\n",
              "1  2006      1792        1370     35        3497\n",
              "2  2011      1831        1562     62        3548\n",
              "3  2016      1912        1608     70        3619"
            ]
          },
          "metadata": {
            "tags": []
          },
          "execution_count": 24
        }
      ]
    },
    {
      "cell_type": "code",
      "metadata": {
        "id": "kCSeA7Xlixov",
        "colab_type": "code",
        "colab": {
          "base_uri": "https://localhost:8080/",
          "height": 283
        },
        "outputId": "1b57fffe-6b54-4c27-a6ef-034097534001"
      },
      "source": [
        "plt.plot(sg[['Year']],sg[['Population']] , color='green', linestyle='dashed', linewidth = 3,marker='o', markerfacecolor='blue', markersize=12)"
      ],
      "execution_count": 25,
      "outputs": [
        {
          "output_type": "execute_result",
          "data": {
            "text/plain": [
              "[<matplotlib.lines.Line2D at 0x7fe4156529e8>]"
            ]
          },
          "metadata": {
            "tags": []
          },
          "execution_count": 25
        },
        {
          "output_type": "display_data",
          "data": {
            "image/png": "[encoded data removed]",
            "text/plain": [
              "<Figure size 432x288 with 1 Axes>"
            ]
          },
          "metadata": {
            "tags": [],
            "needs_background": "light"
          }
        }
      ]
    },
    {
      "cell_type": "code",
      "metadata": {
        "id": "OA1VItbpkzcF",
        "colab_type": "code",
        "colab": {
          "base_uri": "https://localhost:8080/",
          "height": 282
        },
        "outputId": "6563cfed-cfea-4917-b0cc-b525f95d9ba3"
      },
      "source": [
        "plt.plot(sg[['Year']],sg[['Train']] , color='green', linestyle='dashed', linewidth = 3,marker='o', markerfacecolor='blue', markersize=12)"
      ],
      "execution_count": 26,
      "outputs": [
        {
          "output_type": "execute_result",
          "data": {
            "text/plain": [
              "[<matplotlib.lines.Line2D at 0x7fe415ad9828>]"
            ]
          },
          "metadata": {
            "tags": []
          },
          "execution_count": 26
        },
        {
          "output_type": "display_data",
          "data": {
            "image/png": "[encoded data removed]",
            "text/plain": [
              "<Figure size 432x288 with 1 Axes>"
            ]
          },
          "metadata": {
            "tags": [],
            "needs_background": "light"
          }
        }
      ]
    },
    {
      "cell_type": "code",
      "metadata": {
        "id": "a9ImmvOak3yN",
        "colab_type": "code",
        "colab": {
          "base_uri": "https://localhost:8080/",
          "height": 282
        },
        "outputId": "d1c21595-1dca-4bbf-e2cd-14e5fafe6d07"
      },
      "source": [
        "plt.plot(sg[['Year']],sg[['Dwelling']] , color='green', linestyle='dashed', linewidth = 3,marker='o', markerfacecolor='blue', markersize=12)"
      ],
      "execution_count": 27,
      "outputs": [
        {
          "output_type": "execute_result",
          "data": {
            "text/plain": [
              "[<matplotlib.lines.Line2D at 0x7fe41561ed30>]"
            ]
          },
          "metadata": {
            "tags": []
          },
          "execution_count": 27
        },
        {
          "output_type": "display_data",
          "data": {
            "image/png": "[encoded data removed]",
            "text/plain": [
              "<Figure size 432x288 with 1 Axes>"
            ]
          },
          "metadata": {
            "tags": [],
            "needs_background": "light"
          }
        }
      ]
    },
    {
      "cell_type": "code",
      "metadata": {
        "id": "XFxxEXkIlAKw",
        "colab_type": "code",
        "colab": {
          "base_uri": "https://localhost:8080/",
          "height": 282
        },
        "outputId": "b3bfcae4-8f0b-4070-95ef-e5e3179460e5"
      },
      "source": [
        "plt.plot(sg[['Population']],sg[['Dwelling']] , color='green', linestyle='dashed', linewidth = 3,marker='o', markerfacecolor='blue', markersize=12)"
      ],
      "execution_count": 28,
      "outputs": [
        {
          "output_type": "execute_result",
          "data": {
            "text/plain": [
              "[<matplotlib.lines.Line2D at 0x7fe4159cf390>]"
            ]
          },
          "metadata": {
            "tags": []
          },
          "execution_count": 28
        },
        {
          "output_type": "display_data",
          "data": {
            "image/png": "[encoded data removed]",
            "text/plain": [
              "<Figure size 432x288 with 1 Axes>"
            ]
          },
          "metadata": {
            "tags": [],
            "needs_background": "light"
          }
        }
      ]
    },
    {
      "cell_type": "code",
      "metadata": {
        "id": "72elWsdzlqvJ",
        "colab_type": "code",
        "colab": {
          "base_uri": "https://localhost:8080/",
          "height": 282
        },
        "outputId": "10f008bb-f75f-4577-b035-95ebcc33b908"
      },
      "source": [
        "plt.plot(sg[['Train']],sg[['Employment']] , color='green', linestyle='dashed', linewidth = 3,marker='o', markerfacecolor='blue', markersize=12)"
      ],
      "execution_count": 29,
      "outputs": [
        {
          "output_type": "execute_result",
          "data": {
            "text/plain": [
              "[<matplotlib.lines.Line2D at 0x7fe4160390b8>]"
            ]
          },
          "metadata": {
            "tags": []
          },
          "execution_count": 29
        },
        {
          "output_type": "display_data",
          "data": {
            "image/png": "[encoded data removed]",
            "text/plain": [
              "<Figure size 432x288 with 1 Axes>"
            ]
          },
          "metadata": {
            "tags": [],
            "needs_background": "light"
          }
        }
      ]
    },
    {
      "cell_type": "markdown",
      "metadata": {
        "id": "6vxElZgpjqos",
        "colab_type": "text"
      },
      "source": [
        "Working on Corio suburbs data. The suburbs close to the corio station are north geelong, bell park. \n",
        "\n",
        "People from these suburbs including Corio might travel for work from corio station to geelong, melbourne and other regions. "
      ]
    },
    {
      "cell_type": "code",
      "metadata": {
        "id": "FkWKpzbaSacP",
        "colab_type": "code",
        "colab": {
          "base_uri": "https://localhost:8080/",
          "height": 173
        },
        "outputId": "60cff509-79e5-4c5b-b57d-199cf1dfe8bc"
      },
      "source": [
        "# Corio Station\n",
        "co = {'Year':[2001,2006,2011,2016],'Dwelling':[5764, 5916, 6080, 6200], \"Employment\" : [5177, 5275, 5450, 5122], 'Train':[105, 87, 52, 108],'Population':[15315, 14944, 15199, 15292]}\n",
        "co = pd.DataFrame(co)\n",
        "co"
      ],
      "execution_count": 30,
      "outputs": [
        {
          "output_type": "execute_result",
          "data": {
            "text/html": [
              "<div>\n",
              "<style scoped>\n",
              "    .dataframe tbody tr th:only-of-type {\n",
              "        vertical-align: middle;\n",
              "    }\n",
              "\n",
              "    .dataframe tbody tr th {\n",
              "        vertical-align: top;\n",
              "    }\n",
              "\n",
              "    .dataframe thead th {\n",
              "        text-align: right;\n",
              "    }\n",
              "</style>\n",
              "<table border=\"1\" class=\"dataframe\">\n",
              "  <thead>\n",
              "    <tr style=\"text-align: right;\">\n",
              "      <th></th>\n",
              "      <th>Year</th>\n",
              "      <th>Dwelling</th>\n",
              "      <th>Employment</th>\n",
              "      <th>Train</th>\n",
              "      <th>Population</th>\n",
              "    </tr>\n",
              "  </thead>\n",
              "  <tbody>\n",
              "    <tr>\n",
              "      <th>0</th>\n",
              "      <td>2001</td>\n",
              "      <td>5764</td>\n",
              "      <td>5177</td>\n",
              "      <td>105</td>\n",
              "      <td>15315</td>\n",
              "    </tr>\n",
              "    <tr>\n",
              "      <th>1</th>\n",
              "      <td>2006</td>\n",
              "      <td>5916</td>\n",
              "      <td>5275</td>\n",
              "      <td>87</td>\n",
              "      <td>14944</td>\n",
              "    </tr>\n",
              "    <tr>\n",
              "      <th>2</th>\n",
              "      <td>2011</td>\n",
              "      <td>6080</td>\n",
              "      <td>5450</td>\n",
              "      <td>52</td>\n",
              "      <td>15199</td>\n",
              "    </tr>\n",
              "    <tr>\n",
              "      <th>3</th>\n",
              "      <td>2016</td>\n",
              "      <td>6200</td>\n",
              "      <td>5122</td>\n",
              "      <td>108</td>\n",
              "      <td>15292</td>\n",
              "    </tr>\n",
              "  </tbody>\n",
              "</table>\n",
              "</div>"
            ],
            "text/plain": [
              "   Year  Dwelling  Employment  Train  Population\n",
              "0  2001      5764        5177    105       15315\n",
              "1  2006      5916        5275     87       14944\n",
              "2  2011      6080        5450     52       15199\n",
              "3  2016      6200        5122    108       15292"
            ]
          },
          "metadata": {
            "tags": []
          },
          "execution_count": 30
        }
      ]
    },
    {
      "cell_type": "code",
      "metadata": {
        "id": "T0CW9LiWoOkp",
        "colab_type": "code",
        "colab": {
          "base_uri": "https://localhost:8080/",
          "height": 282
        },
        "outputId": "73aaf459-c2d9-407b-b6e6-efbe1c9653c0"
      },
      "source": [
        "plt.plot(co[['Year']],co[['Population']] , color='green', linestyle='dashed', linewidth = 3,marker='o', markerfacecolor='blue', markersize=12)"
      ],
      "execution_count": 31,
      "outputs": [
        {
          "output_type": "execute_result",
          "data": {
            "text/plain": [
              "[<matplotlib.lines.Line2D at 0x7fe415558e48>]"
            ]
          },
          "metadata": {
            "tags": []
          },
          "execution_count": 31
        },
        {
          "output_type": "display_data",
          "data": {
            "image/png": "[encoded data removed]",
            "text/plain": [
              "<Figure size 432x288 with 1 Axes>"
            ]
          },
          "metadata": {
            "tags": [],
            "needs_background": "light"
          }
        }
      ]
    },
    {
      "cell_type": "code",
      "metadata": {
        "id": "xI7Tn2zkoWEp",
        "colab_type": "code",
        "colab": {
          "base_uri": "https://localhost:8080/",
          "height": 284
        },
        "outputId": "c6f3db88-d07a-4ec6-ac72-864595a9102e"
      },
      "source": [
        "plt.plot(co[['Year']],co[['Train']] , color='green', linestyle='dashed', linewidth = 3,marker='o', markerfacecolor='blue', markersize=12)"
      ],
      "execution_count": 32,
      "outputs": [
        {
          "output_type": "execute_result",
          "data": {
            "text/plain": [
              "[<matplotlib.lines.Line2D at 0x7fe4154c6ba8>]"
            ]
          },
          "metadata": {
            "tags": []
          },
          "execution_count": 32
        },
        {
          "output_type": "display_data",
          "data": {
            "image/png": "[encoded data removed]",
            "text/plain": [
              "<Figure size 432x288 with 1 Axes>"
            ]
          },
          "metadata": {
            "tags": [],
            "needs_background": "light"
          }
        }
      ]
    },
    {
      "cell_type": "code",
      "metadata": {
        "id": "gCw5yGhjo8wG",
        "colab_type": "code",
        "colab": {
          "base_uri": "https://localhost:8080/",
          "height": 282
        },
        "outputId": "82b14d56-23f4-42d4-edc2-82bd82625906"
      },
      "source": [
        "plt.plot(co[['Year']],co[['Dwelling']] , color='green', linestyle='dashed', linewidth = 3,marker='o', markerfacecolor='blue', markersize=12)"
      ],
      "execution_count": 33,
      "outputs": [
        {
          "output_type": "execute_result",
          "data": {
            "text/plain": [
              "[<matplotlib.lines.Line2D at 0x7fe4154b8278>]"
            ]
          },
          "metadata": {
            "tags": []
          },
          "execution_count": 33
        },
        {
          "output_type": "display_data",
          "data": {
            "image/png": "[encoded data removed]",
            "text/plain": [
              "<Figure size 432x288 with 1 Axes>"
            ]
          },
          "metadata": {
            "tags": [],
            "needs_background": "light"
          }
        }
      ]
    },
    {
      "cell_type": "code",
      "metadata": {
        "id": "zEBq_5QZpAsS",
        "colab_type": "code",
        "colab": {
          "base_uri": "https://localhost:8080/",
          "height": 282
        },
        "outputId": "29ea4928-756a-4483-89cc-4c5d6e028b83"
      },
      "source": [
        "plt.plot(co[['Population']],co[['Dwelling']] , color='green', linestyle='dashed', linewidth = 3,marker='o', markerfacecolor='blue', markersize=12)"
      ],
      "execution_count": 34,
      "outputs": [
        {
          "output_type": "execute_result",
          "data": {
            "text/plain": [
              "[<matplotlib.lines.Line2D at 0x7fe415413c50>]"
            ]
          },
          "metadata": {
            "tags": []
          },
          "execution_count": 34
        },
        {
          "output_type": "display_data",
          "data": {
            "image/png": "[encoded data removed]",
            "text/plain": [
              "<Figure size 432x288 with 1 Axes>"
            ]
          },
          "metadata": {
            "tags": [],
            "needs_background": "light"
          }
        }
      ]
    },
    {
      "cell_type": "markdown",
      "metadata": {
        "id": "LE7tc2oApMN_",
        "colab_type": "text"
      },
      "source": [
        "Wokring with Lara suburbs data. The suburbs close to lara station is corio. \n",
        "\n",
        "Lara suburb is an industrial area with high employment number and a lot of people travel by train for work from geelong, melbourne, corio and other remote regions. \n"
      ]
    },
    {
      "cell_type": "code",
      "metadata": {
        "id": "9U5OU_4jSedA",
        "colab_type": "code",
        "colab": {
          "base_uri": "https://localhost:8080/",
          "height": 173
        },
        "outputId": "3b6a524d-0d73-4e4a-adb8-f05535df5bcb"
      },
      "source": [
        "# Lara Station\n",
        "ls = {'Year':[2001,2006,2011,2016],'Dwelling':[3852, 4401, 5041, 5860], \"Employment\":[5185, 5866, 6615, 7570], 'Train':[313, 289, 482, 540],'Population':[11087, 12639, 13914, 16358]}\n",
        "ls = pd.DataFrame(ls)\n",
        "ls"
      ],
      "execution_count": 35,
      "outputs": [
        {
          "output_type": "execute_result",
          "data": {
            "text/html": [
              "<div>\n",
              "<style scoped>\n",
              "    .dataframe tbody tr th:only-of-type {\n",
              "        vertical-align: middle;\n",
              "    }\n",
              "\n",
              "    .dataframe tbody tr th {\n",
              "        vertical-align: top;\n",
              "    }\n",
              "\n",
              "    .dataframe thead th {\n",
              "        text-align: right;\n",
              "    }\n",
              "</style>\n",
              "<table border=\"1\" class=\"dataframe\">\n",
              "  <thead>\n",
              "    <tr style=\"text-align: right;\">\n",
              "      <th></th>\n",
              "      <th>Year</th>\n",
              "      <th>Dwelling</th>\n",
              "      <th>Employment</th>\n",
              "      <th>Train</th>\n",
              "      <th>Population</th>\n",
              "    </tr>\n",
              "  </thead>\n",
              "  <tbody>\n",
              "    <tr>\n",
              "      <th>0</th>\n",
              "      <td>2001</td>\n",
              "      <td>3852</td>\n",
              "      <td>5185</td>\n",
              "      <td>313</td>\n",
              "      <td>11087</td>\n",
              "    </tr>\n",
              "    <tr>\n",
              "      <th>1</th>\n",
              "      <td>2006</td>\n",
              "      <td>4401</td>\n",
              "      <td>5866</td>\n",
              "      <td>289</td>\n",
              "      <td>12639</td>\n",
              "    </tr>\n",
              "    <tr>\n",
              "      <th>2</th>\n",
              "      <td>2011</td>\n",
              "      <td>5041</td>\n",
              "      <td>6615</td>\n",
              "      <td>482</td>\n",
              "      <td>13914</td>\n",
              "    </tr>\n",
              "    <tr>\n",
              "      <th>3</th>\n",
              "      <td>2016</td>\n",
              "      <td>5860</td>\n",
              "      <td>7570</td>\n",
              "      <td>540</td>\n",
              "      <td>16358</td>\n",
              "    </tr>\n",
              "  </tbody>\n",
              "</table>\n",
              "</div>"
            ],
            "text/plain": [
              "   Year  Dwelling  Employment  Train  Population\n",
              "0  2001      3852        5185    313       11087\n",
              "1  2006      4401        5866    289       12639\n",
              "2  2011      5041        6615    482       13914\n",
              "3  2016      5860        7570    540       16358"
            ]
          },
          "metadata": {
            "tags": []
          },
          "execution_count": 35
        }
      ]
    },
    {
      "cell_type": "code",
      "metadata": {
        "id": "uUFtsLzpq13C",
        "colab_type": "code",
        "colab": {
          "base_uri": "https://localhost:8080/",
          "height": 282
        },
        "outputId": "23d84131-7fde-4f69-bb57-7621dcf41a11"
      },
      "source": [
        "plt.plot(ls[['Year']],ls[['Population']] , color='green', linestyle='dashed', linewidth = 3,marker='o', markerfacecolor='blue', markersize=12)"
      ],
      "execution_count": 36,
      "outputs": [
        {
          "output_type": "execute_result",
          "data": {
            "text/plain": [
              "[<matplotlib.lines.Line2D at 0x7fe4153fb7f0>]"
            ]
          },
          "metadata": {
            "tags": []
          },
          "execution_count": 36
        },
        {
          "output_type": "display_data",
          "data": {
            "image/png": "[encoded data removed]",
            "text/plain": [
              "<Figure size 432x288 with 1 Axes>"
            ]
          },
          "metadata": {
            "tags": [],
            "needs_background": "light"
          }
        }
      ]
    },
    {
      "cell_type": "code",
      "metadata": {
        "id": "DQMjEZ8Aq5yM",
        "colab_type": "code",
        "colab": {
          "base_uri": "https://localhost:8080/",
          "height": 284
        },
        "outputId": "4ac41878-e7f1-4c5d-8876-c5337c239284"
      },
      "source": [
        "plt.plot(ls[['Year']],ls[['Train']] , color='green', linestyle='dashed', linewidth = 3,marker='o', markerfacecolor='blue', markersize=12)"
      ],
      "execution_count": 37,
      "outputs": [
        {
          "output_type": "execute_result",
          "data": {
            "text/plain": [
              "[<matplotlib.lines.Line2D at 0x7fe415361860>]"
            ]
          },
          "metadata": {
            "tags": []
          },
          "execution_count": 37
        },
        {
          "output_type": "display_data",
          "data": {
            "image/png": "[encoded data removed]",
            "text/plain": [
              "<Figure size 432x288 with 1 Axes>"
            ]
          },
          "metadata": {
            "tags": [],
            "needs_background": "light"
          }
        }
      ]
    },
    {
      "cell_type": "code",
      "metadata": {
        "id": "Ub-S14btq8ae",
        "colab_type": "code",
        "colab": {
          "base_uri": "https://localhost:8080/",
          "height": 282
        },
        "outputId": "29fb301d-503e-4bc2-f1b6-0ce7b7fe9544"
      },
      "source": [
        "plt.plot(ls[['Year']],ls[['Dwelling']] , color='green', linestyle='dashed', linewidth = 3,marker='o', markerfacecolor='blue', markersize=12)"
      ],
      "execution_count": 38,
      "outputs": [
        {
          "output_type": "execute_result",
          "data": {
            "text/plain": [
              "[<matplotlib.lines.Line2D at 0x7fe4152c8898>]"
            ]
          },
          "metadata": {
            "tags": []
          },
          "execution_count": 38
        },
        {
          "output_type": "display_data",
          "data": {
            "image/png": "[encoded data removed]",
            "text/plain": [
              "<Figure size 432x288 with 1 Axes>"
            ]
          },
          "metadata": {
            "tags": [],
            "needs_background": "light"
          }
        }
      ]
    },
    {
      "cell_type": "code",
      "metadata": {
        "id": "VWdGU87uq_Ut",
        "colab_type": "code",
        "colab": {
          "base_uri": "https://localhost:8080/",
          "height": 282
        },
        "outputId": "032c7233-383a-4bd5-ff9e-54c728420003"
      },
      "source": [
        "plt.plot(ls[['Population']],ls[['Dwelling']] , color='green', linestyle='dashed', linewidth = 3,marker='o', markerfacecolor='blue', markersize=12)"
      ],
      "execution_count": 39,
      "outputs": [
        {
          "output_type": "execute_result",
          "data": {
            "text/plain": [
              "[<matplotlib.lines.Line2D at 0x7fe4152ba1d0>]"
            ]
          },
          "metadata": {
            "tags": []
          },
          "execution_count": 39
        },
        {
          "output_type": "display_data",
          "data": {
            "image/png": "[encoded data removed]",
            "text/plain": [
              "<Figure size 432x288 with 1 Axes>"
            ]
          },
          "metadata": {
            "tags": [],
            "needs_background": "light"
          }
        }
      ]
    },
    {
      "cell_type": "code",
      "metadata": {
        "id": "0ZDHnzF3rHUd",
        "colab_type": "code",
        "colab": {
          "base_uri": "https://localhost:8080/",
          "height": 282
        },
        "outputId": "20f0980d-09b8-4607-9e9f-c710a38ebf76"
      },
      "source": [
        "plt.plot(ls[['Train']],ls[['Employment']] , color='green', linestyle='dashed', linewidth = 3,marker='o', markerfacecolor='blue', markersize=12)"
      ],
      "execution_count": 40,
      "outputs": [
        {
          "output_type": "execute_result",
          "data": {
            "text/plain": [
              "[<matplotlib.lines.Line2D at 0x7fe415216ba8>]"
            ]
          },
          "metadata": {
            "tags": []
          },
          "execution_count": 40
        },
        {
          "output_type": "display_data",
          "data": {
            "image/png": "[encoded data removed]",
            "text/plain": [
              "<Figure size 432x288 with 1 Axes>"
            ]
          },
          "metadata": {
            "tags": [],
            "needs_background": "light"
          }
        }
      ]
    },
    {
      "cell_type": "markdown",
      "metadata": {
        "id": "qf4HGC5C5cdC",
        "colab_type": "text"
      },
      "source": [
        "Wokring with Marshall data. Suburbs close to MArshall are Belmont, Breakwater, Connewarre, Grovedale and Moolap. \n",
        "\n",
        "People from these suburbs including Marshall might travel for work using the marshall station to geelong, melbourne and other regions. "
      ]
    },
    {
      "cell_type": "code",
      "metadata": {
        "id": "bWQVqqduSf7n",
        "colab_type": "code",
        "colab": {
          "base_uri": "https://localhost:8080/",
          "height": 173
        },
        "outputId": "a0ae346b-69b9-4819-bd6c-32433e69654f"
      },
      "source": [
        "# Marshall Station\n",
        "ms = {'Year':[2001,2006,2011,2016],'Dwelling':[481, 566, 733, 1008], \"Employment\" : [448, 441, 683, 927], 'Train':[2, 6, 33, 37],'Population':[1167, 1288, 1769, 2243]}\n",
        "ms = pd.DataFrame(ms)\n",
        "ms"
      ],
      "execution_count": 41,
      "outputs": [
        {
          "output_type": "execute_result",
          "data": {
            "text/html": [
              "<div>\n",
              "<style scoped>\n",
              "    .dataframe tbody tr th:only-of-type {\n",
              "        vertical-align: middle;\n",
              "    }\n",
              "\n",
              "    .dataframe tbody tr th {\n",
              "        vertical-align: top;\n",
              "    }\n",
              "\n",
              "    .dataframe thead th {\n",
              "        text-align: right;\n",
              "    }\n",
              "</style>\n",
              "<table border=\"1\" class=\"dataframe\">\n",
              "  <thead>\n",
              "    <tr style=\"text-align: right;\">\n",
              "      <th></th>\n",
              "      <th>Year</th>\n",
              "      <th>Dwelling</th>\n",
              "      <th>Employment</th>\n",
              "      <th>Train</th>\n",
              "      <th>Population</th>\n",
              "    </tr>\n",
              "  </thead>\n",
              "  <tbody>\n",
              "    <tr>\n",
              "      <th>0</th>\n",
              "      <td>2001</td>\n",
              "      <td>481</td>\n",
              "      <td>448</td>\n",
              "      <td>2</td>\n",
              "      <td>1167</td>\n",
              "    </tr>\n",
              "    <tr>\n",
              "      <th>1</th>\n",
              "      <td>2006</td>\n",
              "      <td>566</td>\n",
              "      <td>441</td>\n",
              "      <td>6</td>\n",
              "      <td>1288</td>\n",
              "    </tr>\n",
              "    <tr>\n",
              "      <th>2</th>\n",
              "      <td>2011</td>\n",
              "      <td>733</td>\n",
              "      <td>683</td>\n",
              "      <td>33</td>\n",
              "      <td>1769</td>\n",
              "    </tr>\n",
              "    <tr>\n",
              "      <th>3</th>\n",
              "      <td>2016</td>\n",
              "      <td>1008</td>\n",
              "      <td>927</td>\n",
              "      <td>37</td>\n",
              "      <td>2243</td>\n",
              "    </tr>\n",
              "  </tbody>\n",
              "</table>\n",
              "</div>"
            ],
            "text/plain": [
              "   Year  Dwelling  Employment  Train  Population\n",
              "0  2001       481         448      2        1167\n",
              "1  2006       566         441      6        1288\n",
              "2  2011       733         683     33        1769\n",
              "3  2016      1008         927     37        2243"
            ]
          },
          "metadata": {
            "tags": []
          },
          "execution_count": 41
        }
      ]
    },
    {
      "cell_type": "code",
      "metadata": {
        "id": "_PnVnpYQr6R-",
        "colab_type": "code",
        "colab": {
          "base_uri": "https://localhost:8080/",
          "height": 282
        },
        "outputId": "3743c6f8-ada5-406f-dc8b-629d758a7537"
      },
      "source": [
        "plt.plot(ls[['Year']],ls[['Population']] , color='green', linestyle='dashed', linewidth = 3,marker='o', markerfacecolor='blue', markersize=12)"
      ],
      "execution_count": 42,
      "outputs": [
        {
          "output_type": "execute_result",
          "data": {
            "text/plain": [
              "[<matplotlib.lines.Line2D at 0x7fe4151f7710>]"
            ]
          },
          "metadata": {
            "tags": []
          },
          "execution_count": 42
        },
        {
          "output_type": "display_data",
          "data": {
            "image/png": "[encoded data removed]",
            "text/plain": [
              "<Figure size 432x288 with 1 Axes>"
            ]
          },
          "metadata": {
            "tags": [],
            "needs_background": "light"
          }
        }
      ]
    },
    {
      "cell_type": "code",
      "metadata": {
        "id": "aiAwYd1Dr8iR",
        "colab_type": "code",
        "colab": {
          "base_uri": "https://localhost:8080/",
          "height": 284
        },
        "outputId": "6516500f-cc63-4a98-e7ef-69a6ef67df0f"
      },
      "source": [
        "plt.plot(ls[['Year']],ls[['Train']] , color='green', linestyle='dashed', linewidth = 3,marker='o', markerfacecolor='blue', markersize=12)"
      ],
      "execution_count": 43,
      "outputs": [
        {
          "output_type": "execute_result",
          "data": {
            "text/plain": [
              "[<matplotlib.lines.Line2D at 0x7fe41515bfd0>]"
            ]
          },
          "metadata": {
            "tags": []
          },
          "execution_count": 43
        },
        {
          "output_type": "display_data",
          "data": {
            "image/png": "[encoded data removed]",
            "text/plain": [
              "<Figure size 432x288 with 1 Axes>"
            ]
          },
          "metadata": {
            "tags": [],
            "needs_background": "light"
          }
        }
      ]
    },
    {
      "cell_type": "code",
      "metadata": {
        "id": "wxAkvQ6Fr_Tt",
        "colab_type": "code",
        "colab": {
          "base_uri": "https://localhost:8080/",
          "height": 282
        },
        "outputId": "5894cca7-152e-4b5a-9e57-f91dda5f58b6"
      },
      "source": [
        "plt.plot(ls[['Year']],ls[['Dwelling']] , color='green', linestyle='dashed', linewidth = 3,marker='o', markerfacecolor='blue', markersize=12)"
      ],
      "execution_count": 44,
      "outputs": [
        {
          "output_type": "execute_result",
          "data": {
            "text/plain": [
              "[<matplotlib.lines.Line2D at 0x7fe4150c1860>]"
            ]
          },
          "metadata": {
            "tags": []
          },
          "execution_count": 44
        },
        {
          "output_type": "display_data",
          "data": {
            "image/png": "[encoded data removed]",
            "text/plain": [
              "<Figure size 432x288 with 1 Axes>"
            ]
          },
          "metadata": {
            "tags": [],
            "needs_background": "light"
          }
        }
      ]
    },
    {
      "cell_type": "code",
      "metadata": {
        "id": "46igAwKisBlx",
        "colab_type": "code",
        "colab": {
          "base_uri": "https://localhost:8080/",
          "height": 282
        },
        "outputId": "012acd5f-891f-472c-ce6f-7a3be23dde03"
      },
      "source": [
        "plt.plot(ls[['Population']],ls[['Dwelling']] , color='green', linestyle='dashed', linewidth = 3,marker='o', markerfacecolor='blue', markersize=12)"
      ],
      "execution_count": 45,
      "outputs": [
        {
          "output_type": "execute_result",
          "data": {
            "text/plain": [
              "[<matplotlib.lines.Line2D at 0x7fe4150aa9e8>]"
            ]
          },
          "metadata": {
            "tags": []
          },
          "execution_count": 45
        },
        {
          "output_type": "display_data",
          "data": {
            "image/png": "[encoded data removed]",
            "text/plain": [
              "<Figure size 432x288 with 1 Axes>"
            ]
          },
          "metadata": {
            "tags": [],
            "needs_background": "light"
          }
        }
      ]
    },
    {
      "cell_type": "code",
      "metadata": {
        "id": "DJDjM0AhsGI5",
        "colab_type": "code",
        "colab": {
          "base_uri": "https://localhost:8080/",
          "height": 282
        },
        "outputId": "10d2911a-a884-4415-d2ec-e043b640480f"
      },
      "source": [
        "plt.plot(ls[['Train']],ls[['Employment']] , color='green', linestyle='dashed', linewidth = 3,marker='o', markerfacecolor='blue', markersize=12)"
      ],
      "execution_count": 46,
      "outputs": [
        {
          "output_type": "execute_result",
          "data": {
            "text/plain": [
              "[<matplotlib.lines.Line2D at 0x7fe4150142e8>]"
            ]
          },
          "metadata": {
            "tags": []
          },
          "execution_count": 46
        },
        {
          "output_type": "display_data",
          "data": {
            "image/png": "[encoded data removed]",
            "text/plain": [
              "<Figure size 432x288 with 1 Axes>"
            ]
          },
          "metadata": {
            "tags": [],
            "needs_background": "light"
          }
        }
      ]
    },
    {
      "cell_type": "markdown",
      "metadata": {
        "id": "arufH5094k_N",
        "colab_type": "text"
      },
      "source": [
        "Working with the north geelong data. The suburbs close to the north geelong station are Bell Park, Herne Hill, North Shore. \n",
        "\n",
        "People from these suburbs including north geelong might travel for work using the north geelong station to geelong, melbourne and other regions. "
      ]
    },
    {
      "cell_type": "code",
      "metadata": {
        "id": "-gNOwOQpSpof",
        "colab_type": "code",
        "colab": {
          "base_uri": "https://localhost:8080/",
          "height": 173
        },
        "outputId": "72a78d69-a811-43d1-e4df-2d5c20fbac14"
      },
      "source": [
        "# north geelong station\n",
        "ngs = {'Year':[2001,2006,2011,2016],'Dwelling':[1279, 1309, 1326, 1601], \"Employment\" : [1042, 1123, 1230, 1560], 'Train':[45, 48, 80, 114],'Population':[2955, 3026, 2893, 3843]}\n",
        "ngs = pd.DataFrame(ngs)\n",
        "ngs"
      ],
      "execution_count": 47,
      "outputs": [
        {
          "output_type": "execute_result",
          "data": {
            "text/html": [
              "<div>\n",
              "<style scoped>\n",
              "    .dataframe tbody tr th:only-of-type {\n",
              "        vertical-align: middle;\n",
              "    }\n",
              "\n",
              "    .dataframe tbody tr th {\n",
              "        vertical-align: top;\n",
              "    }\n",
              "\n",
              "    .dataframe thead th {\n",
              "        text-align: right;\n",
              "    }\n",
              "</style>\n",
              "<table border=\"1\" class=\"dataframe\">\n",
              "  <thead>\n",
              "    <tr style=\"text-align: right;\">\n",
              "      <th></th>\n",
              "      <th>Year</th>\n",
              "      <th>Dwelling</th>\n",
              "      <th>Employment</th>\n",
              "      <th>Train</th>\n",
              "      <th>Population</th>\n",
              "    </tr>\n",
              "  </thead>\n",
              "  <tbody>\n",
              "    <tr>\n",
              "      <th>0</th>\n",
              "      <td>2001</td>\n",
              "      <td>1279</td>\n",
              "      <td>1042</td>\n",
              "      <td>45</td>\n",
              "      <td>2955</td>\n",
              "    </tr>\n",
              "    <tr>\n",
              "      <th>1</th>\n",
              "      <td>2006</td>\n",
              "      <td>1309</td>\n",
              "      <td>1123</td>\n",
              "      <td>48</td>\n",
              "      <td>3026</td>\n",
              "    </tr>\n",
              "    <tr>\n",
              "      <th>2</th>\n",
              "      <td>2011</td>\n",
              "      <td>1326</td>\n",
              "      <td>1230</td>\n",
              "      <td>80</td>\n",
              "      <td>2893</td>\n",
              "    </tr>\n",
              "    <tr>\n",
              "      <th>3</th>\n",
              "      <td>2016</td>\n",
              "      <td>1601</td>\n",
              "      <td>1560</td>\n",
              "      <td>114</td>\n",
              "      <td>3843</td>\n",
              "    </tr>\n",
              "  </tbody>\n",
              "</table>\n",
              "</div>"
            ],
            "text/plain": [
              "   Year  Dwelling  Employment  Train  Population\n",
              "0  2001      1279        1042     45        2955\n",
              "1  2006      1309        1123     48        3026\n",
              "2  2011      1326        1230     80        2893\n",
              "3  2016      1601        1560    114        3843"
            ]
          },
          "metadata": {
            "tags": []
          },
          "execution_count": 47
        }
      ]
    },
    {
      "cell_type": "code",
      "metadata": {
        "id": "OJ3zRreos_22",
        "colab_type": "code",
        "colab": {
          "base_uri": "https://localhost:8080/",
          "height": 282
        },
        "outputId": "fead5709-385b-480a-dc1b-872b343bcf4c"
      },
      "source": [
        "plt.plot(ls[['Year']],ls[['Population']] , color='green', linestyle='dashed', linewidth = 3,marker='o', markerfacecolor='blue', markersize=12)"
      ],
      "execution_count": 48,
      "outputs": [
        {
          "output_type": "execute_result",
          "data": {
            "text/plain": [
              "[<matplotlib.lines.Line2D at 0x7fe414feae80>]"
            ]
          },
          "metadata": {
            "tags": []
          },
          "execution_count": 48
        },
        {
          "output_type": "display_data",
          "data": {
            "image/png": "[encoded data removed]",
            "text/plain": [
              "<Figure size 432x288 with 1 Axes>"
            ]
          },
          "metadata": {
            "tags": [],
            "needs_background": "light"
          }
        }
      ]
    },
    {
      "cell_type": "code",
      "metadata": {
        "id": "KmevEwGhtE_E",
        "colab_type": "code",
        "colab": {
          "base_uri": "https://localhost:8080/",
          "height": 284
        },
        "outputId": "26cecea6-8b42-49e5-d9c0-bdb2fb2847a8"
      },
      "source": [
        "plt.plot(ls[[\"Year\"]],ls[['Train']] , color='green', linestyle='dashed', linewidth = 3,marker='o', markerfacecolor='blue', markersize=12)"
      ],
      "execution_count": 49,
      "outputs": [
        {
          "output_type": "execute_result",
          "data": {
            "text/plain": [
              "[<matplotlib.lines.Line2D at 0x7fe41601f9b0>]"
            ]
          },
          "metadata": {
            "tags": []
          },
          "execution_count": 49
        },
        {
          "output_type": "display_data",
          "data": {
            "image/png": "[encoded data removed]",
            "text/plain": [
              "<Figure size 432x288 with 1 Axes>"
            ]
          },
          "metadata": {
            "tags": [],
            "needs_background": "light"
          }
        }
      ]
    },
    {
      "cell_type": "code",
      "metadata": {
        "id": "W2dYfu8ktNqT",
        "colab_type": "code",
        "colab": {
          "base_uri": "https://localhost:8080/",
          "height": 282
        },
        "outputId": "6e4e04bb-2556-489b-bc95-16d32dd7c8e4"
      },
      "source": [
        "plt.plot(ls[['Year']],ls[['Dwelling']] , color='green', linestyle='dashed', linewidth = 3,marker='o', markerfacecolor='blue', markersize=12)"
      ],
      "execution_count": 50,
      "outputs": [
        {
          "output_type": "execute_result",
          "data": {
            "text/plain": [
              "[<matplotlib.lines.Line2D at 0x7fe4153d0390>]"
            ]
          },
          "metadata": {
            "tags": []
          },
          "execution_count": 50
        },
        {
          "output_type": "display_data",
          "data": {
            "image/png": "[encoded data removed]",
            "text/plain": [
              "<Figure size 432x288 with 1 Axes>"
            ]
          },
          "metadata": {
            "tags": [],
            "needs_background": "light"
          }
        }
      ]
    },
    {
      "cell_type": "code",
      "metadata": {
        "id": "obcDoxU3tRGh",
        "colab_type": "code",
        "colab": {
          "base_uri": "https://localhost:8080/",
          "height": 282
        },
        "outputId": "ee3b1977-131a-4a7a-986b-76595e11d5d9"
      },
      "source": [
        "plt.plot(ls[['Population']],ls[['Dwelling']] , color='green', linestyle='dashed', linewidth = 3,marker='o', markerfacecolor='blue', markersize=12)"
      ],
      "execution_count": 51,
      "outputs": [
        {
          "output_type": "execute_result",
          "data": {
            "text/plain": [
              "[<matplotlib.lines.Line2D at 0x7fe414efbeb8>]"
            ]
          },
          "metadata": {
            "tags": []
          },
          "execution_count": 51
        },
        {
          "output_type": "display_data",
          "data": {
            "image/png": "[encoded data removed]",
            "text/plain": [
              "<Figure size 432x288 with 1 Axes>"
            ]
          },
          "metadata": {
            "tags": [],
            "needs_background": "light"
          }
        }
      ]
    },
    {
      "cell_type": "code",
      "metadata": {
        "id": "gMP_3JprtSPg",
        "colab_type": "code",
        "colab": {
          "base_uri": "https://localhost:8080/",
          "height": 282
        },
        "outputId": "a6e8bc6e-7cca-4d03-a59d-90cdabf2b630"
      },
      "source": [
        "plt.plot(ls[['Train']],ls[['Employment']] , color='green', linestyle='dashed', linewidth = 3,marker='o', markerfacecolor='blue', markersize=12)"
      ],
      "execution_count": 52,
      "outputs": [
        {
          "output_type": "execute_result",
          "data": {
            "text/plain": [
              "[<matplotlib.lines.Line2D at 0x7fe414e60f60>]"
            ]
          },
          "metadata": {
            "tags": []
          },
          "execution_count": 52
        },
        {
          "output_type": "display_data",
          "data": {
            "image/png": "[encoded data removed]",
            "text/plain": [
              "<Figure size 432x288 with 1 Axes>"
            ]
          },
          "metadata": {
            "tags": [],
            "needs_background": "light"
          }
        }
      ]
    },
    {
      "cell_type": "code",
      "metadata": {
        "id": "ob9CI77xxLof",
        "colab_type": "code",
        "colab": {
          "base_uri": "https://localhost:8080/",
          "height": 439
        },
        "outputId": "5d0191d0-863e-4175-a32a-dfe3a0c8af30"
      },
      "source": [
        "area"
      ],
      "execution_count": 53,
      "outputs": [
        {
          "output_type": "execute_result",
          "data": {
            "text/html": [
              "<div>\n",
              "<style scoped>\n",
              "    .dataframe tbody tr th:only-of-type {\n",
              "        vertical-align: middle;\n",
              "    }\n",
              "\n",
              "    .dataframe tbody tr th {\n",
              "        vertical-align: top;\n",
              "    }\n",
              "\n",
              "    .dataframe thead th {\n",
              "        text-align: right;\n",
              "    }\n",
              "</style>\n",
              "<table border=\"1\" class=\"dataframe\">\n",
              "  <thead>\n",
              "    <tr style=\"text-align: right;\">\n",
              "      <th></th>\n",
              "      <th>Area</th>\n",
              "      <th>Total dwellings_2016</th>\n",
              "      <th>Total dwellings_2011</th>\n",
              "      <th>Total dwellings_2006</th>\n",
              "      <th>Total dwellings_2001</th>\n",
              "      <th>Train_2016</th>\n",
              "      <th>Train_2011</th>\n",
              "      <th>Train_2006</th>\n",
              "      <th>Train_2001</th>\n",
              "      <th>pop_2016</th>\n",
              "      <th>pop_2011</th>\n",
              "      <th>pop_2006</th>\n",
              "      <th>pop_2001</th>\n",
              "    </tr>\n",
              "  </thead>\n",
              "  <tbody>\n",
              "    <tr>\n",
              "      <th>1</th>\n",
              "      <td>North Geelong - Rippleside</td>\n",
              "      <td>1601</td>\n",
              "      <td>1326</td>\n",
              "      <td>1309</td>\n",
              "      <td>1279</td>\n",
              "      <td>114</td>\n",
              "      <td>80</td>\n",
              "      <td>48</td>\n",
              "      <td>45</td>\n",
              "      <td>3843</td>\n",
              "      <td>2893</td>\n",
              "      <td>3026</td>\n",
              "      <td>2955</td>\n",
              "    </tr>\n",
              "    <tr>\n",
              "      <th>17</th>\n",
              "      <td>Corio</td>\n",
              "      <td>6200</td>\n",
              "      <td>6080</td>\n",
              "      <td>5916</td>\n",
              "      <td>5764</td>\n",
              "      <td>108</td>\n",
              "      <td>52</td>\n",
              "      <td>87</td>\n",
              "      <td>105</td>\n",
              "      <td>15292</td>\n",
              "      <td>15199</td>\n",
              "      <td>14944</td>\n",
              "      <td>15315</td>\n",
              "    </tr>\n",
              "    <tr>\n",
              "      <th>18</th>\n",
              "      <td>Geelong</td>\n",
              "      <td>3072</td>\n",
              "      <td>2747</td>\n",
              "      <td>2541</td>\n",
              "      <td>2515</td>\n",
              "      <td>184</td>\n",
              "      <td>138</td>\n",
              "      <td>113</td>\n",
              "      <td>74</td>\n",
              "      <td>5769</td>\n",
              "      <td>5309</td>\n",
              "      <td>4952</td>\n",
              "      <td>4940</td>\n",
              "    </tr>\n",
              "    <tr>\n",
              "      <th>21</th>\n",
              "      <td>Marshall - Charlemont</td>\n",
              "      <td>1008</td>\n",
              "      <td>733</td>\n",
              "      <td>566</td>\n",
              "      <td>481</td>\n",
              "      <td>37</td>\n",
              "      <td>33</td>\n",
              "      <td>6</td>\n",
              "      <td>2</td>\n",
              "      <td>2243</td>\n",
              "      <td>1769</td>\n",
              "      <td>1288</td>\n",
              "      <td>1167</td>\n",
              "    </tr>\n",
              "    <tr>\n",
              "      <th>22</th>\n",
              "      <td>Lara</td>\n",
              "      <td>5860</td>\n",
              "      <td>5041</td>\n",
              "      <td>4401</td>\n",
              "      <td>3852</td>\n",
              "      <td>540</td>\n",
              "      <td>482</td>\n",
              "      <td>289</td>\n",
              "      <td>313</td>\n",
              "      <td>16358</td>\n",
              "      <td>13914</td>\n",
              "      <td>12639</td>\n",
              "      <td>11087</td>\n",
              "    </tr>\n",
              "    <tr>\n",
              "      <th>23</th>\n",
              "      <td>South Geelong - Thomson - Breakwater</td>\n",
              "      <td>1912</td>\n",
              "      <td>1831</td>\n",
              "      <td>1792</td>\n",
              "      <td>1667</td>\n",
              "      <td>70</td>\n",
              "      <td>62</td>\n",
              "      <td>35</td>\n",
              "      <td>45</td>\n",
              "      <td>3619</td>\n",
              "      <td>3548</td>\n",
              "      <td>3497</td>\n",
              "      <td>3434</td>\n",
              "    </tr>\n",
              "    <tr>\n",
              "      <th>28</th>\n",
              "      <td>Waurn Ponds - Ceres</td>\n",
              "      <td>1537</td>\n",
              "      <td>1302</td>\n",
              "      <td>971</td>\n",
              "      <td>476</td>\n",
              "      <td>75</td>\n",
              "      <td>27</td>\n",
              "      <td>38</td>\n",
              "      <td>12</td>\n",
              "      <td>5305</td>\n",
              "      <td>4102</td>\n",
              "      <td>3245</td>\n",
              "      <td>1600</td>\n",
              "    </tr>\n",
              "  </tbody>\n",
              "</table>\n",
              "</div>"
            ],
            "text/plain": [
              "                                    Area  ...  pop_2001\n",
              "1             North Geelong - Rippleside  ...      2955\n",
              "17                                 Corio  ...     15315\n",
              "18                               Geelong  ...      4940\n",
              "21                 Marshall - Charlemont  ...      1167\n",
              "22                                  Lara  ...     11087\n",
              "23  South Geelong - Thomson - Breakwater  ...      3434\n",
              "28                   Waurn Ponds - Ceres  ...      1600\n",
              "\n",
              "[7 rows x 13 columns]"
            ]
          },
          "metadata": {
            "tags": []
          },
          "execution_count": 53
        }
      ]
    },
    {
      "cell_type": "code",
      "metadata": {
        "id": "XkBEjd8o4HXs",
        "colab_type": "code",
        "colab": {}
      },
      "source": [
        "plt.plot(p[['Total dwellings_2016']],p[['pop_2016']] , color='green', linestyle='dashed', linewidth = 3, \n",
        "         marker='o', markerfacecolor='blue', markersize=12) "
      ],
      "execution_count": 0,
      "outputs": []
    },
    {
      "cell_type": "code",
      "metadata": {
        "id": "6S3-SZRlLvhe",
        "colab_type": "code",
        "colab": {
          "base_uri": "https://localhost:8080/",
          "height": 1000
        },
        "outputId": "662ab1df-8b50-4ca1-9c41-60c4f78bcfca"
      },
      "source": [
        "area1"
      ],
      "execution_count": 54,
      "outputs": [
        {
          "output_type": "execute_result",
          "data": {
            "text/html": [
              "<div>\n",
              "<style scoped>\n",
              "    .dataframe tbody tr th:only-of-type {\n",
              "        vertical-align: middle;\n",
              "    }\n",
              "\n",
              "    .dataframe tbody tr th {\n",
              "        vertical-align: top;\n",
              "    }\n",
              "\n",
              "    .dataframe thead th {\n",
              "        text-align: right;\n",
              "    }\n",
              "</style>\n",
              "<table border=\"1\" class=\"dataframe\">\n",
              "  <thead>\n",
              "    <tr style=\"text-align: right;\">\n",
              "      <th></th>\n",
              "      <th>Area</th>\n",
              "      <th>Total dwellings_2016</th>\n",
              "      <th>Total dwellings_2011</th>\n",
              "      <th>Total dwellings_2006</th>\n",
              "      <th>Total dwellings_2001</th>\n",
              "      <th>Train_2016</th>\n",
              "      <th>Train_2011</th>\n",
              "      <th>Train_2006</th>\n",
              "      <th>Train_2001</th>\n",
              "      <th>pop_2016</th>\n",
              "      <th>pop_2011</th>\n",
              "      <th>pop_2006</th>\n",
              "      <th>pop_2001</th>\n",
              "    </tr>\n",
              "  </thead>\n",
              "  <tbody>\n",
              "    <tr>\n",
              "      <th>0</th>\n",
              "      <td>Leopold</td>\n",
              "      <td>5219</td>\n",
              "      <td>4075</td>\n",
              "      <td>3318</td>\n",
              "      <td>2839</td>\n",
              "      <td>107</td>\n",
              "      <td>75</td>\n",
              "      <td>80</td>\n",
              "      <td>66</td>\n",
              "      <td>12814</td>\n",
              "      <td>10117</td>\n",
              "      <td>8818</td>\n",
              "      <td>7654</td>\n",
              "    </tr>\n",
              "    <tr>\n",
              "      <th>2</th>\n",
              "      <td>Bell Post Hill</td>\n",
              "      <td>2171</td>\n",
              "      <td>2165</td>\n",
              "      <td>2116</td>\n",
              "      <td>2053</td>\n",
              "      <td>64</td>\n",
              "      <td>32</td>\n",
              "      <td>50</td>\n",
              "      <td>58</td>\n",
              "      <td>4914</td>\n",
              "      <td>5016</td>\n",
              "      <td>5135</td>\n",
              "      <td>5370</td>\n",
              "    </tr>\n",
              "    <tr>\n",
              "      <th>3</th>\n",
              "      <td>Barwon Heads - Connewarre - Breamlea</td>\n",
              "      <td>2558</td>\n",
              "      <td>2345</td>\n",
              "      <td>1827</td>\n",
              "      <td>1827</td>\n",
              "      <td>97</td>\n",
              "      <td>74</td>\n",
              "      <td>24</td>\n",
              "      <td>18</td>\n",
              "      <td>4554</td>\n",
              "      <td>4046</td>\n",
              "      <td>2873</td>\n",
              "      <td>2953</td>\n",
              "    </tr>\n",
              "    <tr>\n",
              "      <th>4</th>\n",
              "      <td>East Geelong</td>\n",
              "      <td>1832</td>\n",
              "      <td>1756</td>\n",
              "      <td>1780</td>\n",
              "      <td>1742</td>\n",
              "      <td>117</td>\n",
              "      <td>107</td>\n",
              "      <td>56</td>\n",
              "      <td>70</td>\n",
              "      <td>3865</td>\n",
              "      <td>3812</td>\n",
              "      <td>3843</td>\n",
              "      <td>3742</td>\n",
              "    </tr>\n",
              "    <tr>\n",
              "      <th>5</th>\n",
              "      <td>Whittington</td>\n",
              "      <td>1839</td>\n",
              "      <td>1778</td>\n",
              "      <td>1714</td>\n",
              "      <td>1680</td>\n",
              "      <td>35</td>\n",
              "      <td>24</td>\n",
              "      <td>13</td>\n",
              "      <td>22</td>\n",
              "      <td>3879</td>\n",
              "      <td>4068</td>\n",
              "      <td>4052</td>\n",
              "      <td>4239</td>\n",
              "    </tr>\n",
              "    <tr>\n",
              "      <th>6</th>\n",
              "      <td>Rural North</td>\n",
              "      <td>652</td>\n",
              "      <td>668</td>\n",
              "      <td>638</td>\n",
              "      <td>651</td>\n",
              "      <td>38</td>\n",
              "      <td>34</td>\n",
              "      <td>34</td>\n",
              "      <td>31</td>\n",
              "      <td>1734</td>\n",
              "      <td>1608</td>\n",
              "      <td>1769</td>\n",
              "      <td>1676</td>\n",
              "    </tr>\n",
              "    <tr>\n",
              "      <th>7</th>\n",
              "      <td>Norlane - North Shore</td>\n",
              "      <td>4342</td>\n",
              "      <td>3936</td>\n",
              "      <td>3922</td>\n",
              "      <td>4000</td>\n",
              "      <td>80</td>\n",
              "      <td>27</td>\n",
              "      <td>80</td>\n",
              "      <td>56</td>\n",
              "      <td>8669</td>\n",
              "      <td>8314</td>\n",
              "      <td>8229</td>\n",
              "      <td>8975</td>\n",
              "    </tr>\n",
              "    <tr>\n",
              "      <th>8</th>\n",
              "      <td>Clifton Springs</td>\n",
              "      <td>3412</td>\n",
              "      <td>3271</td>\n",
              "      <td>3039</td>\n",
              "      <td>2632</td>\n",
              "      <td>66</td>\n",
              "      <td>54</td>\n",
              "      <td>26</td>\n",
              "      <td>25</td>\n",
              "      <td>7521</td>\n",
              "      <td>7554</td>\n",
              "      <td>7206</td>\n",
              "      <td>6826</td>\n",
              "    </tr>\n",
              "    <tr>\n",
              "      <th>9</th>\n",
              "      <td>Curlewis</td>\n",
              "      <td>614</td>\n",
              "      <td>100</td>\n",
              "      <td>93</td>\n",
              "      <td>85</td>\n",
              "      <td>15</td>\n",
              "      <td>0</td>\n",
              "      <td>1</td>\n",
              "      <td>1</td>\n",
              "      <td>1557</td>\n",
              "      <td>222</td>\n",
              "      <td>210</td>\n",
              "      <td>242</td>\n",
              "    </tr>\n",
              "    <tr>\n",
              "      <th>10</th>\n",
              "      <td>Central Geelong</td>\n",
              "      <td>885</td>\n",
              "      <td>722</td>\n",
              "      <td>552</td>\n",
              "      <td>583</td>\n",
              "      <td>51</td>\n",
              "      <td>29</td>\n",
              "      <td>18</td>\n",
              "      <td>19</td>\n",
              "      <td>1464</td>\n",
              "      <td>1326</td>\n",
              "      <td>993</td>\n",
              "      <td>1056</td>\n",
              "    </tr>\n",
              "    <tr>\n",
              "      <th>11</th>\n",
              "      <td>Highton - Wandana Heights</td>\n",
              "      <td>8296</td>\n",
              "      <td>7504</td>\n",
              "      <td>6661</td>\n",
              "      <td>5726</td>\n",
              "      <td>394</td>\n",
              "      <td>306</td>\n",
              "      <td>203</td>\n",
              "      <td>143</td>\n",
              "      <td>20991</td>\n",
              "      <td>18625</td>\n",
              "      <td>16561</td>\n",
              "      <td>14335</td>\n",
              "    </tr>\n",
              "    <tr>\n",
              "      <th>12</th>\n",
              "      <td>City of Greater Geelong</td>\n",
              "      <td>106149</td>\n",
              "      <td>95747</td>\n",
              "      <td>87976</td>\n",
              "      <td>80957</td>\n",
              "      <td>3864</td>\n",
              "      <td>3316</td>\n",
              "      <td>2114</td>\n",
              "      <td>1978</td>\n",
              "      <td>233429</td>\n",
              "      <td>210874</td>\n",
              "      <td>197475</td>\n",
              "      <td>186889</td>\n",
              "    </tr>\n",
              "    <tr>\n",
              "      <th>13</th>\n",
              "      <td>Bell Park</td>\n",
              "      <td>2389</td>\n",
              "      <td>2232</td>\n",
              "      <td>2054</td>\n",
              "      <td>1821</td>\n",
              "      <td>77</td>\n",
              "      <td>58</td>\n",
              "      <td>58</td>\n",
              "      <td>54</td>\n",
              "      <td>5013</td>\n",
              "      <td>5226</td>\n",
              "      <td>4649</td>\n",
              "      <td>4207</td>\n",
              "    </tr>\n",
              "    <tr>\n",
              "      <th>14</th>\n",
              "      <td>Armstrong Creek - Mount Duneed</td>\n",
              "      <td>1973</td>\n",
              "      <td>180</td>\n",
              "      <td>421</td>\n",
              "      <td>170</td>\n",
              "      <td>116</td>\n",
              "      <td>0</td>\n",
              "      <td>0</td>\n",
              "      <td>4</td>\n",
              "      <td>5432</td>\n",
              "      <td>452</td>\n",
              "      <td>962</td>\n",
              "      <td>511</td>\n",
              "    </tr>\n",
              "    <tr>\n",
              "      <th>15</th>\n",
              "      <td>Geelong West - Manifold Heights</td>\n",
              "      <td>4660</td>\n",
              "      <td>4455</td>\n",
              "      <td>4357</td>\n",
              "      <td>4344</td>\n",
              "      <td>302</td>\n",
              "      <td>259</td>\n",
              "      <td>164</td>\n",
              "      <td>151</td>\n",
              "      <td>9617</td>\n",
              "      <td>9276</td>\n",
              "      <td>8861</td>\n",
              "      <td>8809</td>\n",
              "    </tr>\n",
              "    <tr>\n",
              "      <th>16</th>\n",
              "      <td>Grovedale</td>\n",
              "      <td>6026</td>\n",
              "      <td>5828</td>\n",
              "      <td>5232</td>\n",
              "      <td>4312</td>\n",
              "      <td>177</td>\n",
              "      <td>108</td>\n",
              "      <td>130</td>\n",
              "      <td>118</td>\n",
              "      <td>14311</td>\n",
              "      <td>14149</td>\n",
              "      <td>13178</td>\n",
              "      <td>11631</td>\n",
              "    </tr>\n",
              "    <tr>\n",
              "      <th>19</th>\n",
              "      <td>Lovely Banks - Batesford - Moorabool</td>\n",
              "      <td>946</td>\n",
              "      <td>935</td>\n",
              "      <td>673</td>\n",
              "      <td>526</td>\n",
              "      <td>25</td>\n",
              "      <td>32</td>\n",
              "      <td>15</td>\n",
              "      <td>13</td>\n",
              "      <td>2638</td>\n",
              "      <td>2567</td>\n",
              "      <td>2080</td>\n",
              "      <td>1541</td>\n",
              "    </tr>\n",
              "    <tr>\n",
              "      <th>20</th>\n",
              "      <td>St Albans Park</td>\n",
              "      <td>2149</td>\n",
              "      <td>2049</td>\n",
              "      <td>1764</td>\n",
              "      <td>1368</td>\n",
              "      <td>47</td>\n",
              "      <td>21</td>\n",
              "      <td>18</td>\n",
              "      <td>24</td>\n",
              "      <td>4846</td>\n",
              "      <td>4953</td>\n",
              "      <td>4696</td>\n",
              "      <td>3777</td>\n",
              "    </tr>\n",
              "    <tr>\n",
              "      <th>24</th>\n",
              "      <td>St Leonards - Indented Head</td>\n",
              "      <td>3533</td>\n",
              "      <td>3217</td>\n",
              "      <td>2866</td>\n",
              "      <td>2548</td>\n",
              "      <td>31</td>\n",
              "      <td>26</td>\n",
              "      <td>5</td>\n",
              "      <td>4</td>\n",
              "      <td>3615</td>\n",
              "      <td>3040</td>\n",
              "      <td>2634</td>\n",
              "      <td>2506</td>\n",
              "    </tr>\n",
              "    <tr>\n",
              "      <th>25</th>\n",
              "      <td>Rural Bellarine Peninsula</td>\n",
              "      <td>1367</td>\n",
              "      <td>1144</td>\n",
              "      <td>1153</td>\n",
              "      <td>1039</td>\n",
              "      <td>22</td>\n",
              "      <td>21</td>\n",
              "      <td>15</td>\n",
              "      <td>9</td>\n",
              "      <td>2806</td>\n",
              "      <td>2460</td>\n",
              "      <td>2507</td>\n",
              "      <td>2177</td>\n",
              "    </tr>\n",
              "    <tr>\n",
              "      <th>26</th>\n",
              "      <td>Hamlyn Heights</td>\n",
              "      <td>2842</td>\n",
              "      <td>2703</td>\n",
              "      <td>2590</td>\n",
              "      <td>2514</td>\n",
              "      <td>101</td>\n",
              "      <td>98</td>\n",
              "      <td>71</td>\n",
              "      <td>71</td>\n",
              "      <td>6292</td>\n",
              "      <td>6075</td>\n",
              "      <td>5839</td>\n",
              "      <td>5751</td>\n",
              "    </tr>\n",
              "    <tr>\n",
              "      <th>27</th>\n",
              "      <td>Belmont</td>\n",
              "      <td>6674</td>\n",
              "      <td>6599</td>\n",
              "      <td>6178</td>\n",
              "      <td>6192</td>\n",
              "      <td>231</td>\n",
              "      <td>209</td>\n",
              "      <td>160</td>\n",
              "      <td>143</td>\n",
              "      <td>14048</td>\n",
              "      <td>13649</td>\n",
              "      <td>13391</td>\n",
              "      <td>13779</td>\n",
              "    </tr>\n",
              "    <tr>\n",
              "      <th>29</th>\n",
              "      <td>Newtown</td>\n",
              "      <td>4540</td>\n",
              "      <td>4319</td>\n",
              "      <td>4158</td>\n",
              "      <td>4186</td>\n",
              "      <td>242</td>\n",
              "      <td>193</td>\n",
              "      <td>118</td>\n",
              "      <td>141</td>\n",
              "      <td>10148</td>\n",
              "      <td>9701</td>\n",
              "      <td>9581</td>\n",
              "      <td>9656</td>\n",
              "    </tr>\n",
              "    <tr>\n",
              "      <th>30</th>\n",
              "      <td>Drysdale - Bellarine</td>\n",
              "      <td>1935</td>\n",
              "      <td>1701</td>\n",
              "      <td>1295</td>\n",
              "      <td>993</td>\n",
              "      <td>44</td>\n",
              "      <td>15</td>\n",
              "      <td>14</td>\n",
              "      <td>12</td>\n",
              "      <td>4441</td>\n",
              "      <td>4075</td>\n",
              "      <td>3203</td>\n",
              "      <td>2665</td>\n",
              "    </tr>\n",
              "    <tr>\n",
              "      <th>31</th>\n",
              "      <td>Portarlington</td>\n",
              "      <td>2786</td>\n",
              "      <td>2614</td>\n",
              "      <td>2372</td>\n",
              "      <td>2154</td>\n",
              "      <td>28</td>\n",
              "      <td>9</td>\n",
              "      <td>9</td>\n",
              "      <td>13</td>\n",
              "      <td>3619</td>\n",
              "      <td>3309</td>\n",
              "      <td>3123</td>\n",
              "      <td>2991</td>\n",
              "    </tr>\n",
              "    <tr>\n",
              "      <th>32</th>\n",
              "      <td>Newcomb - Moolap</td>\n",
              "      <td>2922</td>\n",
              "      <td>2703</td>\n",
              "      <td>2649</td>\n",
              "      <td>2550</td>\n",
              "      <td>71</td>\n",
              "      <td>24</td>\n",
              "      <td>22</td>\n",
              "      <td>47</td>\n",
              "      <td>5874</td>\n",
              "      <td>5674</td>\n",
              "      <td>5766</td>\n",
              "      <td>5863</td>\n",
              "    </tr>\n",
              "    <tr>\n",
              "      <th>33</th>\n",
              "      <td>Herne Hill - Fyansford</td>\n",
              "      <td>1858</td>\n",
              "      <td>1776</td>\n",
              "      <td>1762</td>\n",
              "      <td>1728</td>\n",
              "      <td>57</td>\n",
              "      <td>70</td>\n",
              "      <td>35</td>\n",
              "      <td>50</td>\n",
              "      <td>3605</td>\n",
              "      <td>3520</td>\n",
              "      <td>3439</td>\n",
              "      <td>3530</td>\n",
              "    </tr>\n",
              "    <tr>\n",
              "      <th>34</th>\n",
              "      <td>Ocean Grove</td>\n",
              "      <td>7391</td>\n",
              "      <td>6591</td>\n",
              "      <td>5823</td>\n",
              "      <td>5240</td>\n",
              "      <td>167</td>\n",
              "      <td>86</td>\n",
              "      <td>86</td>\n",
              "      <td>66</td>\n",
              "      <td>14161</td>\n",
              "      <td>12594</td>\n",
              "      <td>11271</td>\n",
              "      <td>10448</td>\n",
              "    </tr>\n",
              "  </tbody>\n",
              "</table>\n",
              "</div>"
            ],
            "text/plain": [
              "                                    Area  ...  pop_2001\n",
              "0                                Leopold  ...      7654\n",
              "2                         Bell Post Hill  ...      5370\n",
              "3   Barwon Heads - Connewarre - Breamlea  ...      2953\n",
              "4                           East Geelong  ...      3742\n",
              "5                            Whittington  ...      4239\n",
              "6                            Rural North  ...      1676\n",
              "7                  Norlane - North Shore  ...      8975\n",
              "8                        Clifton Springs  ...      6826\n",
              "9                               Curlewis  ...       242\n",
              "10                       Central Geelong  ...      1056\n",
              "11             Highton - Wandana Heights  ...     14335\n",
              "12               City of Greater Geelong  ...    186889\n",
              "13                             Bell Park  ...      4207\n",
              "14        Armstrong Creek - Mount Duneed  ...       511\n",
              "15       Geelong West - Manifold Heights  ...      8809\n",
              "16                             Grovedale  ...     11631\n",
              "19  Lovely Banks - Batesford - Moorabool  ...      1541\n",
              "20                        St Albans Park  ...      3777\n",
              "24           St Leonards - Indented Head  ...      2506\n",
              "25             Rural Bellarine Peninsula  ...      2177\n",
              "26                        Hamlyn Heights  ...      5751\n",
              "27                               Belmont  ...     13779\n",
              "29                               Newtown  ...      9656\n",
              "30                  Drysdale - Bellarine  ...      2665\n",
              "31                         Portarlington  ...      2991\n",
              "32                      Newcomb - Moolap  ...      5863\n",
              "33                Herne Hill - Fyansford  ...      3530\n",
              "34                           Ocean Grove  ...     10448\n",
              "\n",
              "[28 rows x 13 columns]"
            ]
          },
          "metadata": {
            "tags": []
          },
          "execution_count": 54
        }
      ]
    },
    {
      "cell_type": "markdown",
      "metadata": {
        "id": "bUkYPh164QcF",
        "colab_type": "text"
      },
      "source": [
        "The report contains the explanation of the threshold value set for geelong station and its comparision with the threshold value of Waurn ponds station"
      ]
    }
  ]
}