{
  "nbformat": 4,
  "nbformat_minor": 0,
  "metadata": {
    "kernelspec": {
      "display_name": "Python 3",
      "language": "python",
      "name": "python3"
    },
    "language_info": {
      "codemirror_mode": {
        "name": "ipython",
        "version": 3
      },
      "file_extension": ".py",
      "mimetype": "text/x-python",
      "name": "python",
      "nbconvert_exporter": "python",
      "pygments_lexer": "ipython3",
      "version": "3.7.4"
    },
    "colab": {
      "name": "MLR_Geelong_Dataforforecst.ipynb",
      "provenance": [],
      "collapsed_sections": []
    }
  },
  "cells": [
    {
      "cell_type": "code",
      "metadata": {
        "id": "Vjj7NDCkP7iU",
        "colab_type": "code",
        "colab": {}
      },
      "source": [
        "import numpy as np\n",
        "import pandas as pd\n",
        "import matplotlib.pyplot as plt\n",
        "\n",
        "from sklearn import linear_model\n",
        "df=pd.read_csv('Dataforforcast.csv')"
      ],
      "execution_count": 0,
      "outputs": []
    },
    {
      "cell_type": "code",
      "metadata": {
        "id": "7ynqD_cCP7iZ",
        "colab_type": "code",
        "colab": {}
      },
      "source": [
        "year=2021"
      ],
      "execution_count": 0,
      "outputs": []
    },
    {
      "cell_type": "code",
      "metadata": {
        "id": "huW6Hql_P7id",
        "colab_type": "code",
        "colab": {}
      },
      "source": [
        "for l in range(3):    \n",
        "    \n",
        "    #calculating employment with respect to year\n",
        "\n",
        "    emp=[]\n",
        "    for x1 in range(0,10):\n",
        "        emp1= df[[\"Year\"]]\n",
        "        emp_y=df[\"Employed\"]\n",
        "        reg1=linear_model.LinearRegression()\n",
        "        reg1.fit(emp1,emp_y)\n",
        "        from sklearn.model_selection import train_test_split\n",
        "        x_train1,x_test1,y_train1,y_test1=train_test_split(emp1,emp_y,train_size=0.8,test_size=0.2)\n",
        "        reg1.fit(x_train1,y_train1)\n",
        "        pred_emp=reg1.predict([[year]])\n",
        "        emp.extend(pred_emp)\n",
        "\n",
        "    emp_min=min(emp)\n",
        "    emp_max=max(emp)\n",
        "\n",
        "\n",
        "    #print(\"The value of min employment:\",emp_min,\"\\n The value of max employment:\",emp_max)\n",
        "\n",
        "    #calculating unemployment with respect to year\n",
        "\n",
        "    unemp=[]\n",
        "    for x1 in range(0,10):\n",
        "        unemp1= df[[\"Year\"]]\n",
        "        unemp_y=df[\"Unemployed\"]\n",
        "        reg2=linear_model.LinearRegression()\n",
        "        reg2.fit(unemp1,unemp_y)\n",
        "        from sklearn.model_selection import train_test_split\n",
        "        x_train2,x_test2,y_train2,y_test2=train_test_split(unemp1,unemp_y,train_size=0.8,test_size=0.2)\n",
        "        reg2.fit(x_train2,y_train2)\n",
        "        pred_unemp=reg2.predict([[year]])\n",
        "        unemp.extend(pred_unemp)\n",
        "\n",
        "    unemp_min=min(unemp)\n",
        "    unemp_max=max(unemp)\n",
        "\n",
        "    #calculating Train with respect to year\n",
        "\n",
        "    trn=[]\n",
        "    for x in range(0,10):\n",
        "        trn1= df[[\"Year\"]]\n",
        "        trn_y=df[\"Train\"]\n",
        "        reg3=linear_model.LinearRegression()\n",
        "        reg3.fit(trn1,trn_y)\n",
        "        from sklearn.model_selection import train_test_split\n",
        "        x_train3,x_test3,y_train3,y_test3=train_test_split(trn1,trn_y,train_size=0.8,test_size=0.2)\n",
        "        reg3.fit(x_train3,y_train3)\n",
        "        pred_trn=reg3.predict([[year]])\n",
        "        trn.extend(pred_trn)\n",
        "\n",
        "    trn_min=min(trn)\n",
        "    trn_max=max(trn)\n",
        "    #print(\"The value of min Train:\",trn_min,\"\\n The value of max Train:\",trn_max)\n",
        "\n",
        "    #calculating dweling with respect to Employment and train with all minimum values\n",
        "\n",
        "    dwel_min=[]\n",
        "    for x in range(0,10):\n",
        "        d1= df[[\"Employed\",\"Train\"]]\n",
        "        d_y=df[\"Dwellings\"]\n",
        "        reg4=linear_model.LinearRegression()\n",
        "        reg4.fit(d1,d_y)\n",
        "        from sklearn.model_selection import train_test_split\n",
        "        x_train4,x_test4,y_train4,y_test4=train_test_split(d1,d_y,train_size=0.8,test_size=0.2)\n",
        "        reg4.fit(x_train4,y_train4)\n",
        "        pred_d=reg4.predict([[round(emp_min),round(trn_min)]])\n",
        "        dwel_min.extend(pred_d)\n",
        "\n",
        "    d_min=min(dwel_min)\n",
        "    d_max=max(dwel_min)\n",
        "    #print(\"The value of min Min Dwel:\",d_min,\"\\n The value of max Min dwel:\",d_max)\n",
        "\n",
        "    #calculating dweling with respect to Employment and train with all maximum values\n",
        "\n",
        "    dwel_max=[]\n",
        "    for x in range(0,10):\n",
        "        d2= df[[\"Employed\",\"Train\"]]\n",
        "        d2_y=df[\"Dwellings\"]\n",
        "        reg5=linear_model.LinearRegression()\n",
        "        reg5.fit(d2,d2_y)\n",
        "        from sklearn.model_selection import train_test_split\n",
        "        x_train5,x_test5,y_train5,y_test5=train_test_split(d2,d2_y,train_size=0.8,test_size=0.2)\n",
        "        reg5.fit(x_train5,y_train5)\n",
        "        pred_d2=reg5.predict([[round(emp_max),round(trn_max)]])\n",
        "        dwel_max.extend(pred_d2)\n",
        "\n",
        "    d2_min=min(dwel_max)\n",
        "    d2_max=max(dwel_max)\n",
        "\n",
        "    #calculating population with respect to Dwellings,Employed,Unemployed,Train with all minimum values\n",
        "    #consider min value of dwel is 3155 which is the output of dwel with all min values and the output is min \n",
        "\n",
        "    Actual_Pop=[]\n",
        "    for x in range(0,10):\n",
        "        p= df[[\"Dwellings\",\"Employed\",\"Unemployed\",\"Train\"]]\n",
        "        p_y=df[\"Population\"]\n",
        "        reg6=linear_model.LinearRegression()\n",
        "        reg6.fit(p,p_y)\n",
        "        from sklearn.model_selection import train_test_split\n",
        "        x_train6,x_test6,y_train6,y_test6=train_test_split(p,p_y,train_size=0.8,test_size=0.2)\n",
        "        reg6.fit(x_train6,y_train6)\n",
        "        pred_p=reg6.predict([[round(d_min),round(emp_min),round(unemp_min),round(trn_min)]])\n",
        "        Actual_Pop.extend(pred_p)\n",
        "\n",
        "    p_min=min(Actual_Pop)\n",
        "    p_max=max(Actual_Pop)\n",
        "  \n",
        "    #calculating population with respect to Dwellings,Employed,Unemployed,Train with all maximun values\n",
        "    #consider min value of dwel is 3455 which is the output of dwel with all max values and the output is min \n",
        "\n",
        "    Actual_Pop1=[]\n",
        "    for x in range(0,10):\n",
        "        p1= df[[\"Dwellings\",\"Employed\",\"Unemployed\",\"Train\"]]\n",
        "        p1_y=df[\"Population\"]\n",
        "        reg7=linear_model.LinearRegression()\n",
        "        reg7.fit(p1,p1_y)\n",
        "        from sklearn.model_selection import train_test_split\n",
        "        x_train7,x_test7,y_train7,y_test7=train_test_split(p1,p1_y,train_size=0.8,test_size=0.2)\n",
        "        reg7.fit(x_train7,y_train7)\n",
        "        pred_p1=reg7.predict([[round(d2_max),round(emp_max),round(unemp_max),round(trn_max)]])\n",
        "        Actual_Pop1.extend(pred_p1)\n",
        "\n",
        "    p1_min=min(Actual_Pop1)\n",
        "    p1_max=max(Actual_Pop1)\n",
        "    #print(\"The value of min Max pop1:\",p1_min,\"\\n The value of max max pop1:\",p1_max)\n",
        "\n",
        "    df=df.append({'Year' : year , 'Population' : p_min,'Dwellings':d_min,'Employed':emp_min,\"Unemployed\":unemp_min,\"Train\":trn_min} , ignore_index=True)\n",
        "    #df4=pd.append({'Year' : year , 'Population' : p1_max,'Dwellings':d2_max,'Employed':emp_max,\"Unemployed\":unemp_max,\"Train\":trn_max} , ignore_index=True)\n",
        "    year=year+5"
      ],
      "execution_count": 0,
      "outputs": []
    },
    {
      "cell_type": "code",
      "metadata": {
        "id": "t-a2hV6aP7if",
        "colab_type": "code",
        "colab": {
          "base_uri": "https://localhost:8080/",
          "height": 266
        },
        "outputId": "bbf00b33-9f46-46b8-b214-24118f52d454"
      },
      "source": [
        "df"
      ],
      "execution_count": 12,
      "outputs": [
        {
          "output_type": "execute_result",
          "data": {
            "text/html": [
              "<div>\n",
              "<style scoped>\n",
              "    .dataframe tbody tr th:only-of-type {\n",
              "        vertical-align: middle;\n",
              "    }\n",
              "\n",
              "    .dataframe tbody tr th {\n",
              "        vertical-align: top;\n",
              "    }\n",
              "\n",
              "    .dataframe thead th {\n",
              "        text-align: right;\n",
              "    }\n",
              "</style>\n",
              "<table border=\"1\" class=\"dataframe\">\n",
              "  <thead>\n",
              "    <tr style=\"text-align: right;\">\n",
              "      <th></th>\n",
              "      <th>Year</th>\n",
              "      <th>Population</th>\n",
              "      <th>Dwellings</th>\n",
              "      <th>Employed</th>\n",
              "      <th>Unemployed</th>\n",
              "      <th>Train</th>\n",
              "    </tr>\n",
              "  </thead>\n",
              "  <tbody>\n",
              "    <tr>\n",
              "      <th>0</th>\n",
              "      <td>2001.0</td>\n",
              "      <td>4940.000000</td>\n",
              "      <td>2515.000000</td>\n",
              "      <td>1727.000000</td>\n",
              "      <td>112.000000</td>\n",
              "      <td>74.000000</td>\n",
              "    </tr>\n",
              "    <tr>\n",
              "      <th>1</th>\n",
              "      <td>2006.0</td>\n",
              "      <td>4952.000000</td>\n",
              "      <td>2541.000000</td>\n",
              "      <td>2183.000000</td>\n",
              "      <td>126.000000</td>\n",
              "      <td>113.000000</td>\n",
              "    </tr>\n",
              "    <tr>\n",
              "      <th>2</th>\n",
              "      <td>2011.0</td>\n",
              "      <td>5309.000000</td>\n",
              "      <td>2747.000000</td>\n",
              "      <td>2360.000000</td>\n",
              "      <td>138.000000</td>\n",
              "      <td>138.000000</td>\n",
              "    </tr>\n",
              "    <tr>\n",
              "      <th>3</th>\n",
              "      <td>2016.0</td>\n",
              "      <td>5769.000000</td>\n",
              "      <td>3072.000000</td>\n",
              "      <td>2478.000000</td>\n",
              "      <td>145.000000</td>\n",
              "      <td>184.000000</td>\n",
              "    </tr>\n",
              "    <tr>\n",
              "      <th>4</th>\n",
              "      <td>2021.0</td>\n",
              "      <td>5889.774002</td>\n",
              "      <td>3154.786115</td>\n",
              "      <td>2635.333333</td>\n",
              "      <td>155.333333</td>\n",
              "      <td>204.333333</td>\n",
              "    </tr>\n",
              "    <tr>\n",
              "      <th>5</th>\n",
              "      <td>2026.0</td>\n",
              "      <td>6168.238064</td>\n",
              "      <td>3349.511071</td>\n",
              "      <td>2782.833333</td>\n",
              "      <td>164.833333</td>\n",
              "      <td>236.333333</td>\n",
              "    </tr>\n",
              "    <tr>\n",
              "      <th>6</th>\n",
              "      <td>2031.0</td>\n",
              "      <td>6428.922409</td>\n",
              "      <td>3532.447394</td>\n",
              "      <td>2930.333333</td>\n",
              "      <td>173.500000</td>\n",
              "      <td>266.816667</td>\n",
              "    </tr>\n",
              "  </tbody>\n",
              "</table>\n",
              "</div>"
            ],
            "text/plain": [
              "     Year   Population    Dwellings     Employed  Unemployed       Train\n",
              "0  2001.0  4940.000000  2515.000000  1727.000000  112.000000   74.000000\n",
              "1  2006.0  4952.000000  2541.000000  2183.000000  126.000000  113.000000\n",
              "2  2011.0  5309.000000  2747.000000  2360.000000  138.000000  138.000000\n",
              "3  2016.0  5769.000000  3072.000000  2478.000000  145.000000  184.000000\n",
              "4  2021.0  5889.774002  3154.786115  2635.333333  155.333333  204.333333\n",
              "5  2026.0  6168.238064  3349.511071  2782.833333  164.833333  236.333333\n",
              "6  2031.0  6428.922409  3532.447394  2930.333333  173.500000  266.816667"
            ]
          },
          "metadata": {
            "tags": []
          },
          "execution_count": 12
        }
      ]
    },
    {
      "cell_type": "markdown",
      "metadata": {
        "id": "DpZYthTgV0Ej",
        "colab_type": "text"
      },
      "source": [
        "# **Visualizations**"
      ]
    },
    {
      "cell_type": "code",
      "metadata": {
        "id": "PbrIPnajVtkM",
        "colab_type": "code",
        "colab": {
          "base_uri": "https://localhost:8080/",
          "height": 284
        },
        "outputId": "ef52e8c7-c080-4690-99ec-1179aeabaf5a"
      },
      "source": [
        "plt.plot(df[['Year']],df[['Population']] , color='green', linestyle='dashed', linewidth = 3,marker='o', markerfacecolor='blue', markersize=12)"
      ],
      "execution_count": 15,
      "outputs": [
        {
          "output_type": "execute_result",
          "data": {
            "text/plain": [
              "[<matplotlib.lines.Line2D at 0x7f7b16b396d8>]"
            ]
          },
          "metadata": {
            "tags": []
          },
          "execution_count": 15
        },
        {
          "output_type": "display_data",
          "data": {
            "image/png": "[encoded data removed]",
            "text/plain": [
              "<Figure size 432x288 with 1 Axes>"
            ]
          },
          "metadata": {
            "tags": [],
            "needs_background": "light"
          }
        }
      ]
    },
    {
      "cell_type": "markdown",
      "metadata": {
        "id": "URgEmAYFWbfy",
        "colab_type": "text"
      },
      "source": [
        "The data shows an uphill trend as it moves from left to right.\n",
        " \n",
        " This indicates that there is a positive relationship between Year and Population. \n",
        " \n",
        " There is a strong assocaition between the two variables. \n",
        " \n",
        " Outliers are not present. "
      ]
    },
    {
      "cell_type": "code",
      "metadata": {
        "id": "9oJSd88cWDGk",
        "colab_type": "code",
        "colab": {
          "base_uri": "https://localhost:8080/",
          "height": 282
        },
        "outputId": "7233b2a9-8a78-4f95-b6cc-26b3df37277c"
      },
      "source": [
        "plt.plot(df[['Year']],df[['Train']] , color='green', linestyle='dashed', linewidth = 3,marker='o', markerfacecolor='blue', markersize=12)"
      ],
      "execution_count": 16,
      "outputs": [
        {
          "output_type": "execute_result",
          "data": {
            "text/plain": [
              "[<matplotlib.lines.Line2D at 0x7f7b166857b8>]"
            ]
          },
          "metadata": {
            "tags": []
          },
          "execution_count": 16
        },
        {
          "output_type": "display_data",
          "data": {
            "image/png": "[encoded data removed]",
            "text/plain": [
              "<Figure size 432x288 with 1 Axes>"
            ]
          },
          "metadata": {
            "tags": [],
            "needs_background": "light"
          }
        }
      ]
    },
    {
      "cell_type": "markdown",
      "metadata": {
        "id": "2_2KKxRuWwG-",
        "colab_type": "text"
      },
      "source": [
        "The data shows an uphill trend as it moves from left to right.\n",
        " \n",
        " This indicates that there is a positive relationship between Year and Number of people travelling by Train. \n",
        " \n",
        " There is a strong assocaition between the two variables. \n",
        " \n",
        " Outliers are not present. "
      ]
    },
    {
      "cell_type": "code",
      "metadata": {
        "id": "sqRE--iiWNTF",
        "colab_type": "code",
        "colab": {
          "base_uri": "https://localhost:8080/",
          "height": 282
        },
        "outputId": "21aa6db9-9be9-4bc6-ca46-28af4872b055"
      },
      "source": [
        "plt.plot(df[['Year']],df[['Dwellings']] , color='green', linestyle='dashed', linewidth = 3,marker='o', markerfacecolor='blue', markersize=12)"
      ],
      "execution_count": 18,
      "outputs": [
        {
          "output_type": "execute_result",
          "data": {
            "text/plain": [
              "[<matplotlib.lines.Line2D at 0x7f7b165572b0>]"
            ]
          },
          "metadata": {
            "tags": []
          },
          "execution_count": 18
        },
        {
          "output_type": "display_data",
          "data": {
            "image/png": "[encoded data removed]",
            "text/plain": [
              "<Figure size 432x288 with 1 Axes>"
            ]
          },
          "metadata": {
            "tags": [],
            "needs_background": "light"
          }
        }
      ]
    },
    {
      "cell_type": "markdown",
      "metadata": {
        "id": "EWJZMv7dW1Tk",
        "colab_type": "text"
      },
      "source": [
        "The data shows an uphill trend as it moves from left to right.\n",
        " \n",
        " This indicates that there is a positive relationship between Year and Dwellings. \n",
        " \n",
        " There is a strong assocaition between the two variables. \n",
        " \n",
        " Outliers are not present. "
      ]
    },
    {
      "cell_type": "code",
      "metadata": {
        "id": "PkQSR7KIWSKS",
        "colab_type": "code",
        "colab": {
          "base_uri": "https://localhost:8080/",
          "height": 282
        },
        "outputId": "65b643e2-9794-48ad-ee36-247e4b2276eb"
      },
      "source": [
        "plt.plot(df[['Train']],df[['Employed']] , color='green', linestyle='dashed', linewidth = 3,marker='o', markerfacecolor='blue', markersize=12)"
      ],
      "execution_count": 21,
      "outputs": [
        {
          "output_type": "execute_result",
          "data": {
            "text/plain": [
              "[<matplotlib.lines.Line2D at 0x7f7b164bbd30>]"
            ]
          },
          "metadata": {
            "tags": []
          },
          "execution_count": 21
        },
        {
          "output_type": "display_data",
          "data": {
            "image/png": "[encoded data removed]",
            "text/plain": [
              "<Figure size 432x288 with 1 Axes>"
            ]
          },
          "metadata": {
            "tags": [],
            "needs_background": "light"
          }
        }
      ]
    },
    {
      "cell_type": "markdown",
      "metadata": {
        "id": "sBdCaNNyXJmq",
        "colab_type": "text"
      },
      "source": [
        "The data shows an uphill trend as it moves from left to right.\n",
        " \n",
        " This indicates that there is a positive relationship between Number of people travelling by train and Number of people employed. \n",
        " \n",
        " There is a strong assocaition between the two variables. \n",
        " \n",
        " Outliers are not present. "
      ]
    }
  ]
}