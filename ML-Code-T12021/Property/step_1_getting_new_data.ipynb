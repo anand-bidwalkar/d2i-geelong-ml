{
  "nbformat": 4,
  "nbformat_minor": 0,
  "metadata": {
    "colab": {
      "name": "new_data.ipynb",
      "provenance": [],
      "collapsed_sections": []
    },
    "kernelspec": {
      "name": "python3",
      "display_name": "Python 3"
    },
    "language_info": {
      "name": "python"
    }
  },
  "cells": [
    {
      "cell_type": "markdown",
      "metadata": {
        "id": "wTf1yye2x355"
      },
      "source": [
        "This note book aim to get data about house price from http://house.ksou.cn/\n",
        "\n",
        "\n"
      ]
    },
    {
      "cell_type": "code",
      "metadata": {
        "colab": {
          "base_uri": "https://localhost:8080/"
        },
        "id": "djZVhgtLxj0o",
        "outputId": "0489f5b3-cd06-4aab-da6d-5c6fd80b09a5"
      },
      "source": [
        "sys.path.insert(0,'/usr/lib/chromium-browser/chromedriver')\n",
        "chrome_options = webdriver.ChromeOptions()\n",
        "chrome_options.add_argument('--headless')\n",
        "chrome_options.add_argument('--no-sandbox')\n",
        "chrome_options.add_argument('--disable-dev-shm-usage')\n",
        "driver= webdriver.Chrome('chromedriver',chrome_options=chrome_options)"
      ],
      "execution_count": null,
      "outputs": [
        {
          "output_type": "stream",
          "text": [
            "/usr/local/lib/python3.7/dist-packages/ipykernel_launcher.py:17: DeprecationWarning: use options instead of chrome_options\n"
          ],
          "name": "stderr"
        }
      ]
    },
    {
      "cell_type": "markdown",
      "metadata": {
        "id": "5AxIoXN_RB6y"
      },
      "source": [
        "# process"
      ]
    },
    {
      "cell_type": "code",
      "metadata": {
        "id": "SR2BuVMFxw46"
      },
      "source": [
        "folder_path =  \"drive/MyDrive/SIT764/Property/data/\""
      ],
      "execution_count": null,
      "outputs": []
    },
    {
      "cell_type": "code",
      "metadata": {
        "id": "8LbSTdXhyPfI"
      },
      "source": [
        "# Get suburb information at Geelong\n",
        "suburb_data = pd.read_csv(folder_path + \"Suburb_Profile.csv\")"
      ],
      "execution_count": null,
      "outputs": []
    },
    {
      "cell_type": "code",
      "metadata": {
        "id": "zsmCN6UnzLMo"
      },
      "source": [
        "suburb_list = list(suburb_data[\"Suburb\"].values)\n",
        "suburb_list[4] = 'BreakWater'\n",
        "suburb_list[24] = \"RippleSide\"\n",
        "suburb_code = list(suburb_data[\"Suburb_Code\"].values)\n",
        "suburb_dic = {suburb_list[i]: suburb_code[i] for i in range(len(suburb_list))}"
      ],
      "execution_count": null,
      "outputs": []
    },
    {
      "cell_type": "code",
      "metadata": {
        "id": "IDlhXROoiros"
      },
      "source": [
        "headers = [\"Address\", \"Sell Price\", \"Sell Date\", \"Last Sell Price\", \"Last Sell Date\", \"Auction\",\"Rent Amount PW\", \"Rent Date\", \"Land Size SQM\", \"Building Size SQM\", \"Bedrooms\", \"Toilets\", \"Car\", \"Suburb\", \"Suburb_Code\"]"
      ],
      "execution_count": null,
      "outputs": []
    },
    {
      "cell_type": "code",
      "metadata": {
        "id": "us4T3kdGgbUD"
      },
      "source": [
        "new_dataset = pd.DataFrame([], columns = headers)"
      ],
      "execution_count": null,
      "outputs": []
    },
    {
      "cell_type": "code",
      "metadata": {
        "id": "-JZLBIZHj0di"
      },
      "source": [
        "# Get data from house.speakingsame.com\n",
        "def generate_data(suburb_name):\n",
        "  url = f\"http://house.speakingsame.com/p.php?q={suburb_name.replace(' ', '+')}%2C+VIC\"\n",
        "  driver.get(url)\n",
        "  sleep(5)\n",
        "  num_page = 0\n",
        "  data_set = []\n",
        "  while num_page < 100:\n",
        "    try:\n",
        "      for i in range(2,12):\n",
        "        auction = np.nan\n",
        "        browser = driver.find_element_by_xpath(f\"/html/body/table[3]/tbody/tr/td[2]/div/table[{i}]/tbody/tr/td[2]/table/tbody\")\n",
        "        lines = browser.text.splitlines()\n",
        "        address = lines[1]\n",
        "        current_sale = lines[2].split()\n",
        "        if len(current_sale) > 5:\n",
        "          if \"Auction\" in lines[2]:\n",
        "            auction = 1\n",
        "          current_date = current_sale[3] + \" \" + current_sale[4] + \" \"+ current_sale[5][:4]\n",
        "        else:\n",
        "          if \"Auction\" in lines[2]:\n",
        "            auction = 1\n",
        "          current_date = current_sale[3] + \" \"+ current_sale[4][:4]\n",
        "          \n",
        "        last_sale, last_date = np.nan, np.nan\n",
        "        rent = np.nan\n",
        "        rent_date = np.nan\n",
        "        bbc = [np.nan, np.nan, np.nan]\n",
        "        land_size = np.nan\n",
        "        building_size = np.nan\n",
        "        \n",
        "        for j in range(3, len(lines)):\n",
        "          if \"Last Sold\" in lines[j]:\n",
        "            last_sale_info = lines[j].split()\n",
        "\n",
        "            if len(last_sale_info) == 5:\n",
        "              if \"Auction\" in lines[j]:\n",
        "                auction = 1\n",
        "              last_sale, last_date = last_sale_info[2][1:], last_sale_info[4][:4]\n",
        "              \n",
        "            elif len(last_sale_info) == 6:\n",
        "              if \"Auction\" in lines[j]:\n",
        "                auction = 1\n",
        "              last_sale, last_date = last_sale_info[2][1:], last_sale_info[4] + \" \" + last_sale_info[5][:4]\n",
        "\n",
        "          elif \"Rent\" in lines[j]:\n",
        "            rent_info = lines[j].split()\n",
        "            rent, rent_date = rent_info[1][:-2][1:], rent_info[3] + \" \" + rent_info[4]\n",
        "\n",
        "          elif \"House:\" in lines[j]:\n",
        "            house = lines[j].split()\n",
        "            for i in range(len(house)-1):\n",
        "              bbc[i] = house[i+1]\n",
        "\n",
        "          elif \"Land size\" in lines[j] or \"Building size\" in lines[j]:\n",
        "            sizes = lines[j].split(' | ')\n",
        "            for size in sizes:\n",
        "              if \"Land size\" in size:\n",
        "                land_size = size.split()[2]\n",
        "              else:\n",
        "                building_size = size.split()[2]\n",
        "        output = [address, current_sale[1][1:], current_date, last_sale, last_date, auction, rent, rent_date, land_size, building_size, bbc[0], bbc[1], bbc[2], suburb_name,suburb_dic[suburb_name]]\n",
        "        data_set.append(output)\n",
        "      if num_page == 0:\n",
        "        driver.get(f\"http://house.speakingsame.com/p.php?q={suburb_name.replace(' ', '+')}&p=1&s=1&st=&type=&count=300&region={suburb_name.replace(' ', '+')}&lat=0&lng=0&sta=vic\")\n",
        "        num_page += 1\n",
        "      else:\n",
        "        driver.get(f\"http://house.speakingsame.com/p.php?q={suburb_name.replace(' ', '+')}&p={num_page+1}&s=1&st=&type=&count=300&region={suburb_name.replace(' ', '+')}&lat=0&lng=0&sta=vic\")\n",
        "        num_page += 1\n",
        "    except:\n",
        "      break\n",
        "  driver.close()\n",
        "  print(f\"{suburb_name}:{num_page}\")\n",
        "  data_set = pd.DataFrame(data_set, columns=headers)\n",
        "  return data_set"
      ],
      "execution_count": null,
      "outputs": []
    },
    {
      "cell_type": "markdown",
      "metadata": {
        "id": "Zu2h2njoaMcr"
      },
      "source": [
        "# Get data \n",
        "\n",
        "\n"
      ]
    },
    {
      "cell_type": "code",
      "metadata": {
        "id": "h_CSWcKyaW8R"
      },
      "source": [
        "Store the dataset of each suburb\n",
        "for subname in suburb_list:\n",
        "  data = generate_data(f'{subname}')\n",
        "  data.to_csv(folder_path + f\"subdata/{subname}.csv\",index=False) "
      ],
      "execution_count": null,
      "outputs": []
    }
  ]
}