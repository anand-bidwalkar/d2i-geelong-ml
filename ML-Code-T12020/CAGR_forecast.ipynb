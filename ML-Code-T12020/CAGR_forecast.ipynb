{
  "nbformat": 4,
  "nbformat_minor": 0,
  "metadata": {
    "colab": {
      "name": "CAGR_forecast.ipynb",
      "provenance": [],
      "collapsed_sections": []
    },
    "kernelspec": {
      "name": "python3",
      "display_name": "Python 3"
    }
  },
  "cells": [
    {
      "cell_type": "code",
      "metadata": {
        "id": "2bF7UV740cJ7",
        "colab_type": "code",
        "colab": {}
      },
      "source": [
        "import pandas as pd\n",
        "import matplotlib.pyplot as plt\n",
        "import numpy as np"
      ],
      "execution_count": 0,
      "outputs": []
    },
    {
      "cell_type": "code",
      "metadata": {
        "id": "i-7CU8yPnxvM",
        "colab_type": "code",
        "colab": {
          "base_uri": "https://localhost:8080/",
          "height": 173
        },
        "outputId": "8360e83a-a4a0-4e55-ddf8-2cb86a924f19"
      },
      "source": [
        "# \"loading the dataforforcast.csv file\"\n",
        "data = pd.read_csv(\"Dataforforcast.csv\")\n",
        "data"
      ],
      "execution_count": 2,
      "outputs": [
        {
          "output_type": "execute_result",
          "data": {
            "text/html": [
              "<div>\n",
              "<style scoped>\n",
              "    .dataframe tbody tr th:only-of-type {\n",
              "        vertical-align: middle;\n",
              "    }\n",
              "\n",
              "    .dataframe tbody tr th {\n",
              "        vertical-align: top;\n",
              "    }\n",
              "\n",
              "    .dataframe thead th {\n",
              "        text-align: right;\n",
              "    }\n",
              "</style>\n",
              "<table border=\"1\" class=\"dataframe\">\n",
              "  <thead>\n",
              "    <tr style=\"text-align: right;\">\n",
              "      <th></th>\n",
              "      <th>Year</th>\n",
              "      <th>Population</th>\n",
              "      <th>Dwellings</th>\n",
              "      <th>Employed</th>\n",
              "      <th>Unemployed</th>\n",
              "      <th>Train</th>\n",
              "    </tr>\n",
              "  </thead>\n",
              "  <tbody>\n",
              "    <tr>\n",
              "      <th>0</th>\n",
              "      <td>2001</td>\n",
              "      <td>4940</td>\n",
              "      <td>2515</td>\n",
              "      <td>1727</td>\n",
              "      <td>112</td>\n",
              "      <td>74</td>\n",
              "    </tr>\n",
              "    <tr>\n",
              "      <th>1</th>\n",
              "      <td>2006</td>\n",
              "      <td>4952</td>\n",
              "      <td>2541</td>\n",
              "      <td>2183</td>\n",
              "      <td>126</td>\n",
              "      <td>113</td>\n",
              "    </tr>\n",
              "    <tr>\n",
              "      <th>2</th>\n",
              "      <td>2011</td>\n",
              "      <td>5309</td>\n",
              "      <td>2747</td>\n",
              "      <td>2360</td>\n",
              "      <td>138</td>\n",
              "      <td>138</td>\n",
              "    </tr>\n",
              "    <tr>\n",
              "      <th>3</th>\n",
              "      <td>2016</td>\n",
              "      <td>5769</td>\n",
              "      <td>3072</td>\n",
              "      <td>2478</td>\n",
              "      <td>145</td>\n",
              "      <td>184</td>\n",
              "    </tr>\n",
              "  </tbody>\n",
              "</table>\n",
              "</div>"
            ],
            "text/plain": [
              "   Year  Population  Dwellings  Employed  Unemployed  Train\n",
              "0  2001        4940       2515      1727         112     74\n",
              "1  2006        4952       2541      2183         126    113\n",
              "2  2011        5309       2747      2360         138    138\n",
              "3  2016        5769       3072      2478         145    184"
            ]
          },
          "metadata": {
            "tags": []
          },
          "execution_count": 2
        }
      ]
    },
    {
      "cell_type": "code",
      "metadata": {
        "id": "B3QFpSdape4h",
        "colab_type": "code",
        "colab": {
          "base_uri": "https://localhost:8080/",
          "height": 297
        },
        "outputId": "5fd80960-179c-4f1a-eeb7-6c7e75f80c43"
      },
      "source": [
        "# summary statistics of the data\n",
        "data.describe()"
      ],
      "execution_count": 3,
      "outputs": [
        {
          "output_type": "execute_result",
          "data": {
            "text/html": [
              "<div>\n",
              "<style scoped>\n",
              "    .dataframe tbody tr th:only-of-type {\n",
              "        vertical-align: middle;\n",
              "    }\n",
              "\n",
              "    .dataframe tbody tr th {\n",
              "        vertical-align: top;\n",
              "    }\n",
              "\n",
              "    .dataframe thead th {\n",
              "        text-align: right;\n",
              "    }\n",
              "</style>\n",
              "<table border=\"1\" class=\"dataframe\">\n",
              "  <thead>\n",
              "    <tr style=\"text-align: right;\">\n",
              "      <th></th>\n",
              "      <th>Year</th>\n",
              "      <th>Population</th>\n",
              "      <th>Dwellings</th>\n",
              "      <th>Employed</th>\n",
              "      <th>Unemployed</th>\n",
              "      <th>Train</th>\n",
              "    </tr>\n",
              "  </thead>\n",
              "  <tbody>\n",
              "    <tr>\n",
              "      <th>count</th>\n",
              "      <td>4.000000</td>\n",
              "      <td>4.000000</td>\n",
              "      <td>4.00000</td>\n",
              "      <td>4.000000</td>\n",
              "      <td>4.000000</td>\n",
              "      <td>4.000000</td>\n",
              "    </tr>\n",
              "    <tr>\n",
              "      <th>mean</th>\n",
              "      <td>2008.500000</td>\n",
              "      <td>5242.500000</td>\n",
              "      <td>2718.75000</td>\n",
              "      <td>2187.000000</td>\n",
              "      <td>130.250000</td>\n",
              "      <td>127.250000</td>\n",
              "    </tr>\n",
              "    <tr>\n",
              "      <th>std</th>\n",
              "      <td>6.454972</td>\n",
              "      <td>390.521446</td>\n",
              "      <td>257.35368</td>\n",
              "      <td>329.760519</td>\n",
              "      <td>14.476993</td>\n",
              "      <td>46.096818</td>\n",
              "    </tr>\n",
              "    <tr>\n",
              "      <th>min</th>\n",
              "      <td>2001.000000</td>\n",
              "      <td>4940.000000</td>\n",
              "      <td>2515.00000</td>\n",
              "      <td>1727.000000</td>\n",
              "      <td>112.000000</td>\n",
              "      <td>74.000000</td>\n",
              "    </tr>\n",
              "    <tr>\n",
              "      <th>25%</th>\n",
              "      <td>2004.750000</td>\n",
              "      <td>4949.000000</td>\n",
              "      <td>2534.50000</td>\n",
              "      <td>2069.000000</td>\n",
              "      <td>122.500000</td>\n",
              "      <td>103.250000</td>\n",
              "    </tr>\n",
              "    <tr>\n",
              "      <th>50%</th>\n",
              "      <td>2008.500000</td>\n",
              "      <td>5130.500000</td>\n",
              "      <td>2644.00000</td>\n",
              "      <td>2271.500000</td>\n",
              "      <td>132.000000</td>\n",
              "      <td>125.500000</td>\n",
              "    </tr>\n",
              "    <tr>\n",
              "      <th>75%</th>\n",
              "      <td>2012.250000</td>\n",
              "      <td>5424.000000</td>\n",
              "      <td>2828.25000</td>\n",
              "      <td>2389.500000</td>\n",
              "      <td>139.750000</td>\n",
              "      <td>149.500000</td>\n",
              "    </tr>\n",
              "    <tr>\n",
              "      <th>max</th>\n",
              "      <td>2016.000000</td>\n",
              "      <td>5769.000000</td>\n",
              "      <td>3072.00000</td>\n",
              "      <td>2478.000000</td>\n",
              "      <td>145.000000</td>\n",
              "      <td>184.000000</td>\n",
              "    </tr>\n",
              "  </tbody>\n",
              "</table>\n",
              "</div>"
            ],
            "text/plain": [
              "              Year   Population  ...  Unemployed       Train\n",
              "count     4.000000     4.000000  ...    4.000000    4.000000\n",
              "mean   2008.500000  5242.500000  ...  130.250000  127.250000\n",
              "std       6.454972   390.521446  ...   14.476993   46.096818\n",
              "min    2001.000000  4940.000000  ...  112.000000   74.000000\n",
              "25%    2004.750000  4949.000000  ...  122.500000  103.250000\n",
              "50%    2008.500000  5130.500000  ...  132.000000  125.500000\n",
              "75%    2012.250000  5424.000000  ...  139.750000  149.500000\n",
              "max    2016.000000  5769.000000  ...  145.000000  184.000000\n",
              "\n",
              "[8 rows x 6 columns]"
            ]
          },
          "metadata": {
            "tags": []
          },
          "execution_count": 3
        }
      ]
    },
    {
      "cell_type": "markdown",
      "metadata": {
        "id": "4fXONNKux_dc",
        "colab_type": "text"
      },
      "source": [
        "I have used the compound annual growth rate formula to forcast the attributes for the year 2030. \n",
        "\n",
        "The formula is: \n",
        "CAGR = ((Vfinal/ Vbegin)^1/t) - 1\n",
        " \n",
        " where: \n",
        " \n",
        " CAGR: Compound Annual Growth Rate\n",
        " \n",
        " Vfinal: Final Value\n",
        " \n",
        " Vbegin: Beginning value\n",
        " \n",
        " t: time in years\n",
        "\n",
        " Using microsoft excel as a tool and using the formula i have forecasted the attrbiutes till the year 2031. \n",
        " "
      ]
    },
    {
      "cell_type": "code",
      "metadata": {
        "id": "YTx3U7ps4CA4",
        "colab_type": "code",
        "outputId": "650c0c07-3ace-48d1-b1f8-bcda43cd621d",
        "colab": {
          "base_uri": "https://localhost:8080/",
          "height": 266
        }
      },
      "source": [
        "# uploading the new file \"CAGR_forecasted_data\" which contains the forecasted attributes\n",
        "df = pd.read_csv(\"CAGR_forecasted_data.csv\")\n",
        "df"
      ],
      "execution_count": 4,
      "outputs": [
        {
          "output_type": "execute_result",
          "data": {
            "text/html": [
              "<div>\n",
              "<style scoped>\n",
              "    .dataframe tbody tr th:only-of-type {\n",
              "        vertical-align: middle;\n",
              "    }\n",
              "\n",
              "    .dataframe tbody tr th {\n",
              "        vertical-align: top;\n",
              "    }\n",
              "\n",
              "    .dataframe thead th {\n",
              "        text-align: right;\n",
              "    }\n",
              "</style>\n",
              "<table border=\"1\" class=\"dataframe\">\n",
              "  <thead>\n",
              "    <tr style=\"text-align: right;\">\n",
              "      <th></th>\n",
              "      <th>Year</th>\n",
              "      <th>Population</th>\n",
              "      <th>Dwellings</th>\n",
              "      <th>Employed</th>\n",
              "      <th>Unemployed</th>\n",
              "      <th>Train</th>\n",
              "    </tr>\n",
              "  </thead>\n",
              "  <tbody>\n",
              "    <tr>\n",
              "      <th>0</th>\n",
              "      <td>2001</td>\n",
              "      <td>4940</td>\n",
              "      <td>2515</td>\n",
              "      <td>1727</td>\n",
              "      <td>112</td>\n",
              "      <td>74</td>\n",
              "    </tr>\n",
              "    <tr>\n",
              "      <th>1</th>\n",
              "      <td>2006</td>\n",
              "      <td>4952</td>\n",
              "      <td>2541</td>\n",
              "      <td>2183</td>\n",
              "      <td>126</td>\n",
              "      <td>113</td>\n",
              "    </tr>\n",
              "    <tr>\n",
              "      <th>2</th>\n",
              "      <td>2011</td>\n",
              "      <td>5309</td>\n",
              "      <td>2747</td>\n",
              "      <td>2360</td>\n",
              "      <td>138</td>\n",
              "      <td>138</td>\n",
              "    </tr>\n",
              "    <tr>\n",
              "      <th>3</th>\n",
              "      <td>2016</td>\n",
              "      <td>5769</td>\n",
              "      <td>3072</td>\n",
              "      <td>2478</td>\n",
              "      <td>145</td>\n",
              "      <td>184</td>\n",
              "    </tr>\n",
              "    <tr>\n",
              "      <th>4</th>\n",
              "      <td>2021</td>\n",
              "      <td>5884</td>\n",
              "      <td>3141</td>\n",
              "      <td>2502</td>\n",
              "      <td>146</td>\n",
              "      <td>194</td>\n",
              "    </tr>\n",
              "    <tr>\n",
              "      <th>5</th>\n",
              "      <td>2026</td>\n",
              "      <td>6119</td>\n",
              "      <td>3155</td>\n",
              "      <td>2506</td>\n",
              "      <td>147</td>\n",
              "      <td>196</td>\n",
              "    </tr>\n",
              "    <tr>\n",
              "      <th>6</th>\n",
              "      <td>2031</td>\n",
              "      <td>6167</td>\n",
              "      <td>3157</td>\n",
              "      <td>2507</td>\n",
              "      <td>148</td>\n",
              "      <td>197</td>\n",
              "    </tr>\n",
              "  </tbody>\n",
              "</table>\n",
              "</div>"
            ],
            "text/plain": [
              "   Year  Population  Dwellings  Employed  Unemployed  Train\n",
              "0  2001        4940       2515      1727         112     74\n",
              "1  2006        4952       2541      2183         126    113\n",
              "2  2011        5309       2747      2360         138    138\n",
              "3  2016        5769       3072      2478         145    184\n",
              "4  2021        5884       3141      2502         146    194\n",
              "5  2026        6119       3155      2506         147    196\n",
              "6  2031        6167       3157      2507         148    197"
            ]
          },
          "metadata": {
            "tags": []
          },
          "execution_count": 4
        }
      ]
    },
    {
      "cell_type": "markdown",
      "metadata": {
        "id": "qdeNOKLO9nKs",
        "colab_type": "text"
      },
      "source": [
        "Visualizations of the forecasted data"
      ]
    },
    {
      "cell_type": "code",
      "metadata": {
        "id": "uTfWCsp9x87D",
        "colab_type": "code",
        "outputId": "c5e1d387-5e30-4b2e-8c4f-9cba56eaad2d",
        "colab": {
          "base_uri": "https://localhost:8080/",
          "height": 282
        }
      },
      "source": [
        "plt.plot(df[['Year']],df[['Population']] , color='green', linestyle='dashed', linewidth = 3,marker='o', markerfacecolor='blue', markersize=12)"
      ],
      "execution_count": 5,
      "outputs": [
        {
          "output_type": "execute_result",
          "data": {
            "text/plain": [
              "[<matplotlib.lines.Line2D at 0x7f12d94a14a8>]"
            ]
          },
          "metadata": {
            "tags": []
          },
          "execution_count": 5
        },
        {
          "output_type": "display_data",
          "data": {
            "image/png": "[encoded data removed]",
            "text/plain": [
              "<Figure size 432x288 with 1 Axes>"
            ]
          },
          "metadata": {
            "tags": [],
            "needs_background": "light"
          }
        }
      ]
    },
    {
      "cell_type": "markdown",
      "metadata": {
        "id": "yGk55DTRxxxc",
        "colab_type": "text"
      },
      "source": [
        "The data shows an uphill trend as it moves from left to right.\n",
        " \n",
        " This indicates that there is a positive relationship between Year and Population. \n",
        " \n",
        " There is a strong assocaition between the two variables. \n",
        " \n",
        " Outliers are not present. "
      ]
    },
    {
      "cell_type": "code",
      "metadata": {
        "id": "WxecU5jy995-",
        "colab_type": "code",
        "outputId": "e8f3ab0b-a852-46ab-c902-b04bc53fa66b",
        "colab": {
          "base_uri": "https://localhost:8080/",
          "height": 282
        }
      },
      "source": [
        "plt.plot(df[['Year']],df[['Train']] , color='green', linestyle='dashed', linewidth = 3,marker='o', markerfacecolor='blue', markersize=12)"
      ],
      "execution_count": 6,
      "outputs": [
        {
          "output_type": "execute_result",
          "data": {
            "text/plain": [
              "[<matplotlib.lines.Line2D at 0x7f12d8ff2c50>]"
            ]
          },
          "metadata": {
            "tags": []
          },
          "execution_count": 6
        },
        {
          "output_type": "display_data",
          "data": {
            "image/png": "[encoded data removed]",
            "text/plain": [
              "<Figure size 432x288 with 1 Axes>"
            ]
          },
          "metadata": {
            "tags": [],
            "needs_background": "light"
          }
        }
      ]
    },
    {
      "cell_type": "markdown",
      "metadata": {
        "id": "C7ZegE8d2ey3",
        "colab_type": "text"
      },
      "source": [
        "The data shows an uphill trend as it moves from left to right.\n",
        " \n",
        " This indicates that there is a positive relationship between Year and Train. \n",
        " \n",
        " There is a strong assocaition between the two variables. \n",
        " \n",
        " Outliers are not present. \n",
        "\n",
        " We observe that there is a sudden increase in the number of people travelling by train between the year 2011 and 2016"
      ]
    },
    {
      "cell_type": "code",
      "metadata": {
        "id": "mKBY-cXa-BQo",
        "colab_type": "code",
        "outputId": "c8f06b39-248e-438d-b5e5-2fa500da3da5",
        "colab": {
          "base_uri": "https://localhost:8080/",
          "height": 282
        }
      },
      "source": [
        "plt.plot(df[['Year']],df[['Dwellings']] , color='green', linestyle='dashed', linewidth = 3,marker='o', markerfacecolor='blue', markersize=12)"
      ],
      "execution_count": 7,
      "outputs": [
        {
          "output_type": "execute_result",
          "data": {
            "text/plain": [
              "[<matplotlib.lines.Line2D at 0x7f12d8f69198>]"
            ]
          },
          "metadata": {
            "tags": []
          },
          "execution_count": 7
        },
        {
          "output_type": "display_data",
          "data": {
            "image/png": "[encoded data removed]",
            "text/plain": [
              "<Figure size 432x288 with 1 Axes>"
            ]
          },
          "metadata": {
            "tags": [],
            "needs_background": "light"
          }
        }
      ]
    },
    {
      "cell_type": "markdown",
      "metadata": {
        "id": "eDMs2lhl3K51",
        "colab_type": "text"
      },
      "source": [
        "The data shows an uphill trend as it moves from left to right.\n",
        " \n",
        " This indicates that there is a positive relationship between Year and Dwellings. \n",
        " \n",
        " There is a strong assocaition between the two variables. \n",
        " \n",
        " Outliers are not present. "
      ]
    },
    {
      "cell_type": "code",
      "metadata": {
        "id": "jO42uVFO-Lu8",
        "colab_type": "code",
        "outputId": "9f1f776c-e81e-4ae3-a1cd-0358e7e1190c",
        "colab": {
          "base_uri": "https://localhost:8080/",
          "height": 282
        }
      },
      "source": [
        "plt.plot(df[['Train']],df[['Employed']] , color='green', linestyle='dashed', linewidth = 3,marker='o', markerfacecolor='blue', markersize=12)"
      ],
      "execution_count": 8,
      "outputs": [
        {
          "output_type": "execute_result",
          "data": {
            "text/plain": [
              "[<matplotlib.lines.Line2D at 0x7f12d8ed1208>]"
            ]
          },
          "metadata": {
            "tags": []
          },
          "execution_count": 8
        },
        {
          "output_type": "display_data",
          "data": {
            "image/png": "[encoded data removed]",
            "text/plain": [
              "<Figure size 432x288 with 1 Axes>"
            ]
          },
          "metadata": {
            "tags": [],
            "needs_background": "light"
          }
        }
      ]
    },
    {
      "cell_type": "markdown",
      "metadata": {
        "id": "kUoMIGwi3h6-",
        "colab_type": "text"
      },
      "source": [
        "The data shows an uphill trend as it moves from left to right.\n",
        " \n",
        " This indicates that there is a positive relationship between Number of people travelling by train and number of people employed. \n",
        " \n",
        " There is a strong assocaition between the two variables. \n",
        " \n",
        " Outliers are not present. "
      ]
    }
  ]
}