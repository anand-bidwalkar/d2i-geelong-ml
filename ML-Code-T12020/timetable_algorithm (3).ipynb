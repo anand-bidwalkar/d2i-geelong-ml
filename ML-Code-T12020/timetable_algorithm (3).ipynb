{
  "nbformat": 4,
  "nbformat_minor": 0,
  "metadata": {
    "colab": {
      "name": "timetable_algorithm.ipynb",
      "provenance": [],
      "collapsed_sections": []
    },
    "kernelspec": {
      "name": "python3",
      "display_name": "Python 3"
    }
  },
  "cells": [
    {
      "cell_type": "code",
      "metadata": {
        "id": "54GbRU8NyvaE",
        "colab_type": "code",
        "outputId": "007aa096-36f1-4981-e995-2ffeabb4809b",
        "colab": {
          "base_uri": "https://localhost:8080/",
          "height": 34
        }
      },
      "source": [
        "station_names=[geelong_station,north_geelong,north_shore,corio,lara,little_river,wyndham_vale,tarneit,deerpark,sunshine,footscray,southerncross]\n",
        "geelong_station1=[\"07:03\",\"07:17\",\"07:24\",\"07:36\",\"07:50\"]\n",
        "geelong_station1\n",
        "d=(dt.datetime.strptime(station_names[0][1], '%H:%M')-dt.datetime.strptime(station_names[0][0], '%H:%M')).seconds\n",
        "d"
      ],
      "execution_count": 10,
      "outputs": [
        {
          "output_type": "execute_result",
          "data": {
            "text/plain": [
              "840"
            ]
          },
          "metadata": {
            "tags": []
          },
          "execution_count": 10
        }
      ]
    },
    {
      "cell_type": "code",
      "metadata": {
        "id": "J7BkNqADzmqY",
        "colab_type": "code",
        "colab": {}
      },
      "source": [
        "#Timings of trains running between 7am to 8am from geelong_station and moving towards southerncross station\n",
        "geelong_station=[\"07:03\",\"07:17\",\"07:24\",\"07:36\",\"07:50\"]\n",
        "north_geelong=[\"07:06\",\"07:20\",\"07:27\",\"07:39\",\"07:53\"]\n",
        "north_shore=[\"07:09\",\"07:30\",\"07:56\"]\n",
        "corio=[\"07:12\",\"07:33\",\"07:59\"]\n",
        "lara=[\"07:03\",\"07:16\",\"07:27\",\"07:37\",\"07:48\",\"08:03\"]\n",
        "little_river=[\"07:09\",\"07:33\",\"07:55\",\"08:27\"]\n",
        "wyndham_vale=[\"07:11\",\"07:17\",\"07:33\",\"07:41\",\"07:55\",\"08:15\",\"08:24\"]\n",
        "tarneit=[\"07:04\",\"07:17\",\"07:32\",\"07:40\",\"07:47\",\"08:01\",\"08:11\",\"08:30\"]\n",
        "deerpark=[\"07:51\",\"08:09\",\"08:41\",\"08:57\"]\n",
        "sunshine=[\"07:24\",\"07:35\",\"07:48\",\"07:58\",\"08:03\",\"08:18\",\"08:28\",\"08:32\",\"08:48\"]\n",
        "footscray=[\"07:11\",\"07:24\",\"07:30\",\"07:40\",\"07:43\",\"07:53\",\"08:04\",\"08:09\",\"08:12\",\"08:24\",\"08:34\",\"08:38\",\"08:54\"]\n",
        "southerncross=[\"08:03\",\"08:14\",\"08:19\",\"08:22\",\"08:34\",\"08:44\",\"08:48\",\"09:04\",\"09:16\"]\n",
        "station_names=[geelong_station,north_geelong,north_shore,corio,lara,little_river,wyndham_vale,tarneit,deerpark,sunshine,footscray,southerncross]"
      ],
      "execution_count": 0,
      "outputs": []
    },
    {
      "cell_type": "code",
      "metadata": {
        "id": "f-H6WAyd1vI8",
        "colab_type": "code",
        "outputId": "1eecec93-8a96-4d27-f40f-e0fabf21a0fe",
        "colab": {
          "base_uri": "https://localhost:8080/",
          "height": 51
        }
      },
      "source": [
        "import datetime as dt\n",
        "geelongdiff=[]\n",
        "north_geelongdiff=[]\n",
        "north_shorediff=[]\n",
        "coriodiff=[]\n",
        "laradiff=[]\n",
        "little_riverdiff=[]\n",
        "wyndham_valediff=[]\n",
        "tarneitdiff=[]\n",
        "deerparkdiff=[]\n",
        "sunshinediff=[]\n",
        "footscraydiff=[]\n",
        "southerncrossdiff=[]\n",
        "for i in range(0,len(station_names)):\n",
        "   for j in range(1,len(station_names[i])):\n",
        "     if(i==0):\n",
        "       geelongdiff.append(((dt.datetime.strptime(station_names[i][j], '%H:%M')-dt.datetime.strptime(station_names[i][j-1], '%H:%M'))).seconds/60)\n",
        "     if(i==1):\n",
        "       north_geelongdiff.append(((dt.datetime.strptime(station_names[i][j], '%H:%M')-dt.datetime.strptime(station_names[i][j-1], '%H:%M'))).seconds/60) \n",
        "     if(i==2):\n",
        "       north_shorediff.append(((dt.datetime.strptime(station_names[i][j], '%H:%M')-dt.datetime.strptime(station_names[i][j-1], '%H:%M'))).seconds/60)  \n",
        "     if(i==3):\n",
        "       coriodiff.append(((dt.datetime.strptime(station_names[i][j], '%H:%M')-dt.datetime.strptime(station_names[i][j-1], '%H:%M'))).seconds/60)  \n",
        "     if(i==4):\n",
        "       laradiff.append(((dt.datetime.strptime(station_names[i][j], '%H:%M')-dt.datetime.strptime(station_names[i][j-1], '%H:%M'))).seconds/60)  \n",
        "     if(i==5):\n",
        "       little_riverdiff.append(((dt.datetime.strptime(station_names[i][j], '%H:%M')-dt.datetime.strptime(station_names[i][j-1], '%H:%M'))).seconds/60)  \n",
        "     if(i==6):\n",
        "       wyndham_valediff.append(((dt.datetime.strptime(station_names[i][j], '%H:%M')-dt.datetime.strptime(station_names[i][j-1], '%H:%M'))).seconds/60)  \n",
        "     if(i==7):\n",
        "       tarneitdiff.append(((dt.datetime.strptime(station_names[i][j], '%H:%M')-dt.datetime.strptime(station_names[i][j-1], '%H:%M'))).seconds/60)  \n",
        "     if(i==8):\n",
        "       deerparkdiff.append(((dt.datetime.strptime(station_names[i][j], '%H:%M')-dt.datetime.strptime(station_names[i][j-1], '%H:%M'))).seconds/60)  \n",
        "     if(i==9):\n",
        "       sunshinediff.append(((dt.datetime.strptime(station_names[i][j], '%H:%M')-dt.datetime.strptime(station_names[i][j-1], '%H:%M'))).seconds/60)  \n",
        "     if(i==10):\n",
        "       footscraydiff.append(((dt.datetime.strptime(station_names[i][j], '%H:%M')-dt.datetime.strptime(station_names[i][j-1], '%H:%M'))).seconds/60)  \n",
        "     if(i==11):\n",
        "       southerncrossdiff.append(((dt.datetime.strptime(station_names[i][j], '%H:%M')-dt.datetime.strptime(station_names[i][j-1], '%H:%M'))).seconds/60)        \n",
        "\n"
      ],
      "execution_count": 15,
      "outputs": [
        {
          "output_type": "stream",
          "text": [
            "[13.0, 6.0, 10.0, 3.0, 10.0, 11.0, 5.0, 3.0, 12.0, 10.0, 4.0, 16.0]\n"
          ],
          "name": "stdout"
        },
        {
          "output_type": "execute_result",
          "data": {
            "text/plain": [
              "[14.0, 7.0, 12.0, 14.0]"
            ]
          },
          "metadata": {
            "tags": []
          },
          "execution_count": 15
        }
      ]
    },
    {
      "cell_type": "code",
      "metadata": {
        "id": "MtNNB8LZsf7G",
        "colab_type": "code",
        "colab": {}
      },
      "source": [
        "time_differences=[geelongdiff,north_geelongdiff,north_shorediff,coriodiff,laradiff,little_riverdiff,wyndham_valediff,tarneitdiff,deerparkdiff,sunshinediff,footscraydiff,southerncrossdiff]\n",
        "station_names1=['geelong_station','north_geelong','north_shore','corio','lara','little_river','wyndham_vale','tarneit','deerpark','sunshine','footscray','southerncross']"
      ],
      "execution_count": 0,
      "outputs": []
    },
    {
      "cell_type": "code",
      "metadata": {
        "id": "7vzE5k0wsMc9",
        "colab_type": "code",
        "colab": {
          "base_uri": "https://localhost:8080/",
          "height": 241
        },
        "outputId": "70b25408-a33f-4025-c5b3-6e3d1c88dcb8"
      },
      "source": [
        "#Time differences from one to other train from geelong station to southerncross station\n",
        "for i in range(0,len(time_differences)):\n",
        "  print(time_differences[i],station_names[i],station_names1[i])\n",
        "#Observations\n",
        "#1. There is huge time gap between trains in 'north_shore','corio','little_river','wyndham_vale' between 7am to 8am which leads to heavy rush in tains in the morning peak hours.\n",
        "#2. Try to reduce the gap by including new train services "
      ],
      "execution_count": 26,
      "outputs": [
        {
          "output_type": "stream",
          "text": [
            "[14.0, 7.0, 12.0, 14.0] ['07:03', '07:17', '07:24', '07:36', '07:50'] geelong_station\n",
            "[14.0, 7.0, 12.0, 14.0] ['07:06', '07:20', '07:27', '07:39', '07:53'] north_geelong\n",
            "[21.0, 26.0] ['07:09', '07:30', '07:56'] north_shore\n",
            "[21.0, 26.0] ['07:12', '07:33', '07:59'] corio\n",
            "[13.0, 11.0, 10.0, 11.0, 15.0] ['07:03', '07:16', '07:27', '07:37', '07:48', '08:03'] lara\n",
            "[24.0, 22.0, 32.0] ['07:09', '07:33', '07:55', '08:27'] little_river\n",
            "[6.0, 16.0, 8.0, 14.0, 20.0, 9.0] ['07:11', '07:17', '07:33', '07:41', '07:55', '08:15', '08:24'] wyndham_vale\n",
            "[13.0, 15.0, 8.0, 7.0, 14.0, 10.0, 19.0] ['07:04', '07:17', '07:32', '07:40', '07:47', '08:01', '08:11', '08:30'] tarneit\n",
            "[18.0, 32.0, 16.0] ['07:51', '08:09', '08:41', '08:57'] deerpark\n",
            "[11.0, 13.0, 10.0, 5.0, 15.0, 10.0, 4.0, 16.0] ['07:24', '07:35', '07:48', '07:58', '08:03', '08:18', '08:28', '08:32', '08:48'] sunshine\n",
            "[13.0, 6.0, 10.0, 3.0, 10.0, 11.0, 5.0, 3.0, 12.0, 10.0, 4.0, 16.0] ['07:11', '07:24', '07:30', '07:40', '07:43', '07:53', '08:04', '08:09', '08:12', '08:24', '08:34', '08:38', '08:54'] footscray\n",
            "[11.0, 5.0, 3.0, 12.0, 10.0, 4.0, 16.0, 12.0] ['08:03', '08:14', '08:19', '08:22', '08:34', '08:44', '08:48', '09:04', '09:16'] southerncross\n"
          ],
          "name": "stdout"
        }
      ]
    },
    {
      "cell_type": "code",
      "metadata": {
        "id": "8ey3V03kwaqr",
        "colab_type": "code",
        "colab": {
          "base_uri": "https://localhost:8080/",
          "height": 34
        },
        "outputId": "95682ac2-2364-48db-b6b4-239eb88847c4"
      },
      "source": [
        "# Time taken by train to move from geelong station to southern cross station\n",
        "from datetime import datetime  \n",
        "from datetime import timedelta  \n",
        "geelong_station1=[\"07:03\",\"07:17\",\"07:24\",\"07:36\",\"07:50\"]\n",
        "time=[\"00:03\",\"00:04\"]\n",
        "#time=[3,3,3,4,6,7,7,7,8,10,10]\n",
        "#initial_time=\n",
        "\n",
        "\n"
      ],
      "execution_count": 104,
      "outputs": [
        {
          "output_type": "execute_result",
          "data": {
            "text/plain": [
              "'07:1700:04'"
            ]
          },
          "metadata": {
            "tags": []
          },
          "execution_count": 104
        }
      ]
    },
    {
      "cell_type": "code",
      "metadata": {
        "id": "zbyIWm3P9mSs",
        "colab_type": "code",
        "colab": {
          "base_uri": "https://localhost:8080/",
          "height": 51
        },
        "outputId": "f4e555c7-4e03-4628-f215-8f02e2580595"
      },
      "source": [
        "from datetime import datetime  \n",
        "from datetime import timedelta\n",
        "time_sec=[180,180,180,240,360,420,420,420,480,600,600]\n",
        "t1=datetime.strptime(geelong_station1[0], '%H:%M') + timedelta(seconds=time_sec[0]) \n",
        "#print(\"Created at %s:%s\" % (t1.hour, t1.minute))\n",
        "\n",
        "m=str(t1.time())[0:5]\n",
        "print(geelong_station1[0])\n",
        "print(m)"
      ],
      "execution_count": 98,
      "outputs": [
        {
          "output_type": "stream",
          "text": [
            "07:03\n",
            "07:06\n"
          ],
          "name": "stdout"
        }
      ]
    },
    {
      "cell_type": "code",
      "metadata": {
        "id": "JZx13cQWD0Gh",
        "colab_type": "code",
        "colab": {
          "base_uri": "https://localhost:8080/",
          "height": 34
        },
        "outputId": "99597a67-9bae-4ad0-f403-496eeebaa4a0"
      },
      "source": [
        "if any(m in s for s in north_shore):\n",
        "  print('s')\n",
        "else: \n",
        "  print('n')"
      ],
      "execution_count": 102,
      "outputs": [
        {
          "output_type": "stream",
          "text": [
            "n\n"
          ],
          "name": "stdout"
        }
      ]
    },
    {
      "cell_type": "code",
      "metadata": {
        "id": "FbAwX2wYW8Hd",
        "colab_type": "code",
        "colab": {
          "base_uri": "https://localhost:8080/",
          "height": 34
        },
        "outputId": "68b64044-d225-45b6-aeab-c36fb50a42ab"
      },
      "source": [
        "departure_time1='07:38'\n",
        "dep_time1=datetime.strptime(departure_time1, '%H:%M')\n",
        "dep_time1=str(dep_time1.time())[0:5] #07:43\n",
        "min_time_diff=180\n",
        "r1=datetime.strptime(dep_time1, '%H:%M') + timedelta(seconds=min_time_diff) \n",
        "p=str(r1.time())[0:5]\n",
        "print(p)"
      ],
      "execution_count": 143,
      "outputs": [
        {
          "output_type": "stream",
          "text": [
            "07:41\n"
          ],
          "name": "stdout"
        }
      ]
    },
    {
      "cell_type": "code",
      "metadata": {
        "id": "xyb2qD1dIlcx",
        "colab_type": "code",
        "colab": {
          "base_uri": "https://localhost:8080/",
          "height": 187
        },
        "outputId": "c3ff734c-5fd0-4608-f240-1a4426c98a60"
      },
      "source": [
        "departure_time='07:40'\n",
        "dep_time=datetime.strptime(departure_time, '%H:%M')\n",
        "dep_time=str(dep_time.time())[0:5] #07:43\n",
        "\n",
        "t1=datetime.strptime(dep_time, '%H:%M') + timedelta(seconds=time_sec[0]) \n",
        "m=str(t1.time())[0:5]\n",
        "print(m,'north_geelong_departure')\n",
        "if any(m in s for s in north_geelong):\n",
        "  print('north_geelong_clash')\n",
        "else: \n",
        "  t2=datetime.strptime(m, '%H:%M') + timedelta(seconds=time_sec[1]) \n",
        "  t2=str(t2.time())[0:5]\n",
        "  print(t2,'north_shore_departure')\n",
        "  if any(t2 in s for s in north_shore):\n",
        "    print('north_shore_clash')\n",
        "  else:\n",
        "    t3=datetime.strptime(t2, '%H:%M') + timedelta(seconds=time_sec[2]) \n",
        "    t3=str(t3.time())[0:5]\n",
        "    print(t3,'corio_departure')\n",
        "    if any(t3 in s for s in corio):\n",
        "      print('corio_clash')\n",
        "    else:\n",
        "      t4=datetime.strptime(t3, '%H:%M') + timedelta(seconds=time_sec[3]) \n",
        "      t4=str(t4.time())[0:5]\n",
        "      print(t4,'lara_departure')\n",
        "      if any(t4 in s for s in lara):\n",
        "        print('lara_clash')\n",
        "      else:\n",
        "        t5=datetime.strptime(t4, '%H:%M') + timedelta(seconds=time_sec[4]) \n",
        "        t5=str(t5.time())[0:5]\n",
        "        print(t5,'little_river_departure')\n",
        "        if any(t5 in s for s in little_river):\n",
        "          print('little_river_clash')\n",
        "        else:\n",
        "          t6=datetime.strptime(t5, '%H:%M') + timedelta(seconds=time_sec[5]) \n",
        "          t6=str(t6.time())[0:5]\n",
        "          print(t6,'wyndham_vale_departure')\n",
        "          if any(t6 in s for s in wyndham_vale):\n",
        "            print('wyndham_vale_clash')\n",
        "          else:\n",
        "            t7=datetime.strptime(t6, '%H:%M') + timedelta(seconds=time_sec[6]) \n",
        "            t7=str(t7.time())[0:5]\n",
        "            print(t7,'tarneit_departure')\n",
        "            if any(t7 in s for s in tarneit):\n",
        "              print('tarneit_clash')\n",
        "            else:\n",
        "              t8=datetime.strptime(t7, '%H:%M') + timedelta(seconds=time_sec[7]) \n",
        "              t8=str(t8.time())[0:5]\n",
        "              print(t8,'deerpark_departure')\n",
        "              if any(t8 in s for s in deerpark):\n",
        "                print('deerpark_clash') \n",
        "              else:\n",
        "                t9=datetime.strptime(t8, '%H:%M') + timedelta(seconds=time_sec[8]) \n",
        "                t9=str(t9.time())[0:5]\n",
        "                print(t9,'sunshine_departure')\n",
        "                if any(t9 in s for s in sunshine):\n",
        "                  print('sunshine_clash')\n",
        "                else:\n",
        "                  t10=datetime.strptime(t9, '%H:%M') + timedelta(seconds=time_sec[9]) \n",
        "                  t10=str(t10.time())[0:5]\n",
        "                  print(t10,'footscray_departure')\n",
        "                  if any(t10 in s for s in footscray):\n",
        "                    print('footscray_clash')\n",
        "                  else:\n",
        "                    t11=datetime.strptime(t10, '%H:%M') + timedelta(seconds=time_sec[10]) \n",
        "                    t11=str(t11.time())[0:5]\n",
        "                    print(t11,'southerncross_stop')\n",
        "                    if any(t11 in s for s in southerncross):\n",
        "                      print('southerncross_clash')\n",
        "                    else:\n",
        "                      print('no clash with any train timings from geelong_station to southern_cross ')\n"
      ],
      "execution_count": 161,
      "outputs": [
        {
          "output_type": "stream",
          "text": [
            "07:43 north_geelong_departure\n",
            "07:46 north_shore_departure\n",
            "07:49 corio_departure\n",
            "07:53 lara_departure\n",
            "07:59 little_river_departure\n",
            "08:06 wyndham_vale_departure\n",
            "08:13 tarneit_departure\n",
            "08:20 deerpark_departure\n",
            "08:28 sunshine_departure\n",
            "sunshine_clash\n"
          ],
          "name": "stdout"
        }
      ]
    }
  ]
}