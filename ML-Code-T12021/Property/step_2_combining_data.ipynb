{
  "nbformat": 4,
  "nbformat_minor": 0,
  "metadata": {
    "colab": {
      "name": "combined_data.ipynb",
      "private_outputs": true,
      "provenance": [],
      "collapsed_sections": []
    },
    "kernelspec": {
      "name": "python3",
      "display_name": "Python 3"
    },
    "language_info": {
      "name": "python"
    }
  },
  "cells": [
    {
      "cell_type": "code",
      "metadata": {
        "id": "uKJs5PBIsWv5"
      },
      "source": [
        "folder_path = \"drive/MyDrive/SIT764/Property/data/subdata/\""
      ],
      "execution_count": null,
      "outputs": []
    },
    {
      "cell_type": "code",
      "metadata": {
        "id": "8He-LCKjVETw"
      },
      "source": [
        "headers = [\"Address\",\t\"Sell Price\", \"Sell Date\", \"Last Sell Price\", \"Last Sell Date\", \"Auction\", \"Rent Amount PW\", \"Rent Date\", \"Land Size SQM\",\"Building Size SQM\", \"Bedrooms\", \"Toilets\", \"Car\", \"Suburb\", \"Suburb_Code\"]"
      ],
      "execution_count": null,
      "outputs": []
    },
    {
      "cell_type": "code",
      "metadata": {
        "id": "XLfteQH7UfkP"
      },
      "source": [
        "combine_dataset = pd.DataFrame([],columns=headers)"
      ],
      "execution_count": null,
      "outputs": []
    },
    {
      "cell_type": "code",
      "metadata": {
        "id": "ECepn0pWvnOs"
      },
      "source": [
        "for csv_file in os.listdir(folder_path):\n",
        "  dataset = pd.read_csv(folder_path + csv_file)\n",
        "  combine_dataset = combine_dataset.append(dataset)"
      ],
      "execution_count": null,
      "outputs": []
    },
    {
      "cell_type": "code",
      "metadata": {
        "id": "2-sjuEhrWNBn"
      },
      "source": [
        "combine_dataset"
      ],
      "execution_count": null,
      "outputs": []
    },
    {
      "cell_type": "code",
      "metadata": {
        "id": "Q6XTGS9I6dDH"
      },
      "source": [
        "combine_data.to_csv(\"drive/MyDrive/SIT764/Property/data/combined_data.csv\", index=False)"
      ],
      "execution_count": null,
      "outputs": []
    }
  ]
}