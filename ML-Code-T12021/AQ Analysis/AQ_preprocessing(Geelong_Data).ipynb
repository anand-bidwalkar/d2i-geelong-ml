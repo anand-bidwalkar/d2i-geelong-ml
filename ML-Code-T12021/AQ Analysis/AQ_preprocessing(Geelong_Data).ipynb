{
 "cells": [
  {
   "cell_type": "code",
   "execution_count": 3,
   "metadata": {},
   "outputs": [],
   "source": [
    "#Importing the reqired datasets\n",
    "import pandas as pd\n",
    "import numpy as np\n",
    "import math\n",
    "from scipy import stats\n"
   ]
  },
  {
   "cell_type": "code",
   "execution_count": 4,
   "metadata": {},
   "outputs": [
    {
     "name": "stdout",
     "output_type": "stream",
     "text": [
      "date      object\n",
      " pm25    float64\n",
      " pm10    float64\n",
      " o3      float64\n",
      " no2     float64\n",
      " so2     float64\n",
      " co      float64\n",
      "dtype: object\n"
     ]
    },
    {
     "data": {
      "text/html": [
       "<div>\n",
       "<style scoped>\n",
       "    .dataframe tbody tr th:only-of-type {\n",
       "        vertical-align: middle;\n",
       "    }\n",
       "\n",
       "    .dataframe tbody tr th {\n",
       "        vertical-align: top;\n",
       "    }\n",
       "\n",
       "    .dataframe thead th {\n",
       "        text-align: right;\n",
       "    }\n",
       "</style>\n",
       "<table border=\"1\" class=\"dataframe\">\n",
       "  <thead>\n",
       "    <tr style=\"text-align: right;\">\n",
       "      <th></th>\n",
       "      <th>date</th>\n",
       "      <th>pm25</th>\n",
       "      <th>pm10</th>\n",
       "      <th>o3</th>\n",
       "      <th>no2</th>\n",
       "      <th>so2</th>\n",
       "      <th>co</th>\n",
       "    </tr>\n",
       "  </thead>\n",
       "  <tbody>\n",
       "    <tr>\n",
       "      <th>0</th>\n",
       "      <td>2021-01-03</td>\n",
       "      <td>45.0</td>\n",
       "      <td>17.0</td>\n",
       "      <td>12.0</td>\n",
       "      <td>2.0</td>\n",
       "      <td>13.0</td>\n",
       "      <td>NaN</td>\n",
       "    </tr>\n",
       "    <tr>\n",
       "      <th>1</th>\n",
       "      <td>2021-02-03</td>\n",
       "      <td>17.0</td>\n",
       "      <td>14.0</td>\n",
       "      <td>12.0</td>\n",
       "      <td>2.0</td>\n",
       "      <td>NaN</td>\n",
       "      <td>NaN</td>\n",
       "    </tr>\n",
       "    <tr>\n",
       "      <th>2</th>\n",
       "      <td>2021-03-03</td>\n",
       "      <td>8.0</td>\n",
       "      <td>17.0</td>\n",
       "      <td>11.0</td>\n",
       "      <td>2.0</td>\n",
       "      <td>NaN</td>\n",
       "      <td>NaN</td>\n",
       "    </tr>\n",
       "    <tr>\n",
       "      <th>3</th>\n",
       "      <td>2021-04-03</td>\n",
       "      <td>9.0</td>\n",
       "      <td>18.0</td>\n",
       "      <td>14.0</td>\n",
       "      <td>2.0</td>\n",
       "      <td>NaN</td>\n",
       "      <td>NaN</td>\n",
       "    </tr>\n",
       "    <tr>\n",
       "      <th>4</th>\n",
       "      <td>2021-05-03</td>\n",
       "      <td>30.0</td>\n",
       "      <td>23.0</td>\n",
       "      <td>14.0</td>\n",
       "      <td>1.0</td>\n",
       "      <td>NaN</td>\n",
       "      <td>NaN</td>\n",
       "    </tr>\n",
       "    <tr>\n",
       "      <th>...</th>\n",
       "      <td>...</td>\n",
       "      <td>...</td>\n",
       "      <td>...</td>\n",
       "      <td>...</td>\n",
       "      <td>...</td>\n",
       "      <td>...</td>\n",
       "      <td>...</td>\n",
       "    </tr>\n",
       "    <tr>\n",
       "      <th>2609</th>\n",
       "      <td>2015-08-02</td>\n",
       "      <td>NaN</td>\n",
       "      <td>NaN</td>\n",
       "      <td>14.0</td>\n",
       "      <td>NaN</td>\n",
       "      <td>2.0</td>\n",
       "      <td>1.0</td>\n",
       "    </tr>\n",
       "    <tr>\n",
       "      <th>2610</th>\n",
       "      <td>2014-08-23</td>\n",
       "      <td>NaN</td>\n",
       "      <td>NaN</td>\n",
       "      <td>19.0</td>\n",
       "      <td>1.0</td>\n",
       "      <td>NaN</td>\n",
       "      <td>NaN</td>\n",
       "    </tr>\n",
       "    <tr>\n",
       "      <th>2611</th>\n",
       "      <td>2014-04-17</td>\n",
       "      <td>NaN</td>\n",
       "      <td>NaN</td>\n",
       "      <td>18.0</td>\n",
       "      <td>2.0</td>\n",
       "      <td>5.0</td>\n",
       "      <td>1.0</td>\n",
       "    </tr>\n",
       "    <tr>\n",
       "      <th>2612</th>\n",
       "      <td>2013-12-31</td>\n",
       "      <td>NaN</td>\n",
       "      <td>NaN</td>\n",
       "      <td>4.0</td>\n",
       "      <td>7.0</td>\n",
       "      <td>NaN</td>\n",
       "      <td>1.0</td>\n",
       "    </tr>\n",
       "    <tr>\n",
       "      <th>2613</th>\n",
       "      <td>2014-02-23</td>\n",
       "      <td>NaN</td>\n",
       "      <td>NaN</td>\n",
       "      <td>9.0</td>\n",
       "      <td>1.0</td>\n",
       "      <td>NaN</td>\n",
       "      <td>NaN</td>\n",
       "    </tr>\n",
       "  </tbody>\n",
       "</table>\n",
       "<p>2614 rows × 7 columns</p>\n",
       "</div>"
      ],
      "text/plain": [
       "            date   pm25   pm10    o3   no2   so2   co\n",
       "0     2021-01-03   45.0   17.0  12.0   2.0  13.0  NaN\n",
       "1     2021-02-03   17.0   14.0  12.0   2.0   NaN  NaN\n",
       "2     2021-03-03    8.0   17.0  11.0   2.0   NaN  NaN\n",
       "3     2021-04-03    9.0   18.0  14.0   2.0   NaN  NaN\n",
       "4     2021-05-03   30.0   23.0  14.0   1.0   NaN  NaN\n",
       "...          ...    ...    ...   ...   ...   ...  ...\n",
       "2609  2015-08-02    NaN    NaN  14.0   NaN   2.0  1.0\n",
       "2610  2014-08-23    NaN    NaN  19.0   1.0   NaN  NaN\n",
       "2611  2014-04-17    NaN    NaN  18.0   2.0   5.0  1.0\n",
       "2612  2013-12-31    NaN    NaN   4.0   7.0   NaN  1.0\n",
       "2613  2014-02-23    NaN    NaN   9.0   1.0   NaN  NaN\n",
       "\n",
       "[2614 rows x 7 columns]"
      ]
     },
     "execution_count": 4,
     "metadata": {},
     "output_type": "execute_result"
    }
   ],
   "source": [
    "#Reading the air-quality data and starting to pre-process the data\n",
    "aq=pd.read_csv('air_quality.csv')\n",
    "\n",
    "aq['date']=pd.to_datetime(aq['date']).dt.date\n",
    "aq=aq.replace(' ', np.nan)\n",
    "aq[' pm25']=pd.to_numeric(aq[' pm25'])\n",
    "aq[' pm10']=pd.to_numeric(aq[' pm10'])\n",
    "aq[' o3']=pd.to_numeric(aq[' o3'])\n",
    "aq[' no2']=pd.to_numeric(aq[' no2'])\n",
    "aq[' so2']=pd.to_numeric(aq[' so2'])\n",
    "aq[' co']=pd.to_numeric(aq[' co'])\n",
    "print(aq.dtypes)\n",
    "\n",
    "aq.dropna(how='all')"
   ]
  },
  {
   "cell_type": "code",
   "execution_count": 5,
   "metadata": {},
   "outputs": [
    {
     "name": "stdout",
     "output_type": "stream",
     "text": [
      "<bound method NDFrame.head of           Device ID         Device name          Device location keep_record  \\\n",
      "56      atmos22ee02  Weather Atmos ee02  -38.1861465,144.3938752           Y   \n",
      "86      atmos22ee01  Weather Atmos ee01  -38.1456638,144.3587789           Y   \n",
      "126     atmos22ee02  Weather Atmos ee02  -38.1861465,144.3938752           Y   \n",
      "127     atmos22ee02  Weather Atmos ee02  -38.1861465,144.3938752           Y   \n",
      "129     atmos22ee02  Weather Atmos ee02  -38.1861465,144.3938752           Y   \n",
      "...             ...                 ...                      ...         ...   \n",
      "160375  atmos22ae02  Weather Atmos ae02  -38.1220226,144.3591414           Y   \n",
      "160376  atmos22ee02  Weather Atmos ee02  -38.1861465,144.3938752           Y   \n",
      "160377  atmos22ee01  Weather Atmos ee01  -38.1456638,144.3587789           Y   \n",
      "160378  atmos22ee01  Weather Atmos ee01  -38.1456638,144.3587789           Y   \n",
      "160379  atmos22ae02  Weather Atmos ae02  -38.1220226,144.3591414           Y   \n",
      "\n",
      "        AirTemp [°C]  AtmosphericPressure [hPa]  GustSpeed [km/h]  \\\n",
      "56              19.8                     101.38              2.66   \n",
      "86              24.7                     101.10              8.84   \n",
      "126             16.1                     101.06              1.04   \n",
      "127             18.4                     101.04              1.11   \n",
      "129             19.5                     100.97              0.70   \n",
      "...              ...                        ...               ...   \n",
      "160375          18.8                        NaN              2.65   \n",
      "160376          19.6                     100.25              3.42   \n",
      "160377          18.1                     100.43              7.78   \n",
      "160378          17.9                     100.44              9.13   \n",
      "160379          20.0                        NaN              4.98   \n",
      "\n",
      "        Precipitation  RelativeHumidity [%]  Solar [W/m2]  Strike Distance  \\\n",
      "56               0.00                  69.0          33.0              3.0   \n",
      "86               0.00                  55.0         304.0              0.0   \n",
      "126              0.00                  89.0           7.0              0.0   \n",
      "127              0.00                  82.0          10.0              0.0   \n",
      "129              0.00                  76.0          12.0              0.0   \n",
      "...               ...                   ...           ...              ...   \n",
      "160375            NaN                   NaN           NaN              NaN   \n",
      "160376           0.00                  62.0         134.0              0.0   \n",
      "160377           0.00                  71.0         467.0              0.0   \n",
      "160378           0.02                  73.0         127.0              0.0   \n",
      "160379            NaN                   NaN           NaN              NaN   \n",
      "\n",
      "        Strikes  VapourPressure [hPa]  WindDirection [°]  Wind Speed  \\\n",
      "56         30.0                  1.50              341.3        0.36   \n",
      "86          0.0                  1.52              152.6        1.71   \n",
      "126         0.0                  1.63              313.0        0.33   \n",
      "127         0.0                  1.72              327.3        0.38   \n",
      "129         0.0                  1.74              316.3        0.26   \n",
      "...         ...                   ...                ...         ...   \n",
      "160375      NaN                   NaN              291.3        0.76   \n",
      "160376      0.0                  1.42              230.2        0.84   \n",
      "160377      0.0                  1.47              262.5        4.44   \n",
      "160378      0.0                  1.48              268.7        4.52   \n",
      "160379      NaN                   NaN              122.0        1.28   \n",
      "\n",
      "              Time  Year Month  dayofweek  \n",
      "56      2019-12-17  2019   Dec    Tuesday  \n",
      "86      2019-12-18  2019   Dec  Wednesday  \n",
      "126     2019-12-19  2019   Dec   Thursday  \n",
      "127     2019-12-19  2019   Dec   Thursday  \n",
      "129     2019-12-19  2019   Dec   Thursday  \n",
      "...            ...   ...   ...        ...  \n",
      "160375  2021-03-24  2021   Mar  Wednesday  \n",
      "160376  2021-03-25  2021   Mar   Thursday  \n",
      "160377  2021-03-25  2021   Mar   Thursday  \n",
      "160378  2021-03-25  2021   Mar   Thursday  \n",
      "160379  2021-03-25  2021   Mar   Thursday  \n",
      "\n",
      "[147439 rows x 19 columns]>\n"
     ]
    }
   ],
   "source": [
    "#Reading the weather data and starting to pre-process the data\n",
    "wth2=pd.read_csv('weather-stations-city-of-geelong.csv',sep=';',parse_dates=[15])\n",
    "wth2=wth2.dropna(how='all')\n",
    "wth2=wth2.dropna(subset=['AirTemp [°C]'])\n",
    "wth2['Time']=pd.to_datetime(wth2['Time'], infer_datetime_format = 'TRUE',utc='TRUE').dt.date\n",
    "print(wth2.head)\n"
   ]
  },
  {
   "cell_type": "code",
   "execution_count": 6,
   "metadata": {},
   "outputs": [
    {
     "name": "stdout",
     "output_type": "stream",
     "text": [
      "2019-06-18\n",
      "2013-12-31\n"
     ]
    }
   ],
   "source": [
    "#Getting the first date for air-quality and weather data\n",
    "print(min(wth2['Time']))\n",
    "print(min(aq['date']))\n"
   ]
  },
  {
   "cell_type": "code",
   "execution_count": 7,
   "metadata": {},
   "outputs": [
    {
     "name": "stdout",
     "output_type": "stream",
     "text": [
      "2021-03-25\n",
      "2021-12-03\n"
     ]
    }
   ],
   "source": [
    "#Getting the last date for air-quality and weather data\n",
    "print(max(wth2['Time']))\n",
    "print(max(aq['date']))\n",
    "#print(max(wth['Date']))\n",
    "wth2=wth2.rename(columns={'Time':'Date'})\n",
    "aq=aq.rename(columns={'date':'Date'})"
   ]
  },
  {
   "cell_type": "code",
   "execution_count": 8,
   "metadata": {},
   "outputs": [
    {
     "name": "stdout",
     "output_type": "stream",
     "text": [
      "              Date   pm25   pm10    o3   no2   so2   co    Device ID  \\\n",
      "0       2021-01-03   45.0   17.0  12.0   2.0  13.0  NaN  atmos22ee01   \n",
      "1       2021-01-03   45.0   17.0  12.0   2.0  13.0  NaN  atmos22ee02   \n",
      "2       2021-01-03   45.0   17.0  12.0   2.0  13.0  NaN  atmos22ee01   \n",
      "3       2021-01-03   45.0   17.0  12.0   2.0  13.0  NaN  atmos22ee02   \n",
      "4       2021-01-03   45.0   17.0  12.0   2.0  13.0  NaN  atmos22ee01   \n",
      "...            ...    ...    ...   ...   ...   ...  ...          ...   \n",
      "133735  2019-08-03   27.0   38.0  37.0   7.0   2.0  2.0  atmos22ee01   \n",
      "133736  2019-08-03   27.0   38.0  37.0   7.0   2.0  2.0  atmos22ee02   \n",
      "133737  2019-08-03   27.0   38.0  37.0   7.0   2.0  2.0  atmos22ee01   \n",
      "133738  2019-08-03   27.0   38.0  37.0   7.0   2.0  2.0  atmos22ee02   \n",
      "133739  2019-08-03   27.0   38.0  37.0   7.0   2.0  2.0  atmos22ee01   \n",
      "\n",
      "               Device name          Device location  ... RelativeHumidity [%]  \\\n",
      "0       Weather Atmos ee01  -38.1456638,144.3587789  ...                 99.0   \n",
      "1       Weather Atmos ee02  -38.1861465,144.3938752  ...                 81.0   \n",
      "2       Weather Atmos ee01  -38.1456638,144.3587789  ...                 97.0   \n",
      "3       Weather Atmos ee02  -38.1861465,144.3938752  ...                 80.0   \n",
      "4       Weather Atmos ee01  -38.1456638,144.3587789  ...                 92.0   \n",
      "...                    ...                      ...  ...                  ...   \n",
      "133735  Weather Atmos ee01  -38.1456638,144.3587789  ...                 61.0   \n",
      "133736  Weather Atmos ee02  -38.1861465,144.3938752  ...                 93.0   \n",
      "133737  Weather Atmos ee01  -38.1456638,144.3587789  ...                 60.0   \n",
      "133738  Weather Atmos ee02  -38.1861465,144.3938752  ...                 93.0   \n",
      "133739  Weather Atmos ee01  -38.1456638,144.3587789  ...                 57.0   \n",
      "\n",
      "        Solar [W/m2]  Strike Distance  Strikes  VapourPressure [hPa]  \\\n",
      "0              243.0              0.0      0.0                  2.08   \n",
      "1              225.0              0.0      0.0                  1.97   \n",
      "2              264.0              0.0      0.0                  2.08   \n",
      "3              205.0              0.0      0.0                  2.00   \n",
      "4              304.0              0.0      0.0                  2.00   \n",
      "...              ...              ...      ...                   ...   \n",
      "133735           4.0              0.0      0.0                  1.03   \n",
      "133736         141.0              0.0      0.0                  1.08   \n",
      "133737          16.0              0.0      0.0                  1.02   \n",
      "133738         335.0              0.0      0.0                  1.15   \n",
      "133739          25.0              0.0      0.0                  1.05   \n",
      "\n",
      "        WindDirection [°]  Wind Speed  Year  Month  dayofweek  \n",
      "0                   217.3        1.52  2021    Jan     Sunday  \n",
      "1                   206.4        0.40  2021    Jan     Sunday  \n",
      "2                   223.7        1.76  2021    Jan     Sunday  \n",
      "3                   207.5        0.45  2021    Jan     Sunday  \n",
      "4                   205.4        1.71  2021    Jan     Sunday  \n",
      "...                   ...         ...   ...    ...        ...  \n",
      "133735              293.8        0.10  2019    Aug   Saturday  \n",
      "133736              314.8        0.74  2019    Aug   Saturday  \n",
      "133737              283.0        0.09  2019    Aug   Saturday  \n",
      "133738              341.4        0.86  2019    Aug   Saturday  \n",
      "133739              286.9        0.09  2019    Aug   Saturday  \n",
      "\n",
      "[130440 rows x 25 columns]\n"
     ]
    }
   ],
   "source": [
    "#Merging the air-quality and weather data on the basis of dates for further analysis\n",
    "md=pd.merge(aq,wth2,how='inner', on='Date')\n",
    "md=md.replace(' ', np.nan)\n",
    "md=md.dropna(subset=[' pm25', ' pm10'])\n",
    "print(md)"
   ]
  },
  {
   "cell_type": "code",
   "execution_count": 9,
   "metadata": {},
   "outputs": [
    {
     "name": "stdout",
     "output_type": "stream",
     "text": [
      "         Date   pm25   pm10    o3   no2   so2   co    Device ID  \\\n",
      "0  2021-01-03   45.0   17.0  12.0   2.0  13.0  NaN  atmos22ee01   \n",
      "1  2021-01-03   45.0   17.0  12.0   2.0  13.0  NaN  atmos22ee02   \n",
      "2  2021-01-03   45.0   17.0  12.0   2.0  13.0  NaN  atmos22ee01   \n",
      "3  2021-01-03   45.0   17.0  12.0   2.0  13.0  NaN  atmos22ee02   \n",
      "4  2021-01-03   45.0   17.0  12.0   2.0  13.0  NaN  atmos22ee01   \n",
      "\n",
      "          Device name          Device location  ... Strike Distance  Strikes  \\\n",
      "0  Weather Atmos ee01  -38.1456638,144.3587789  ...             0.0      0.0   \n",
      "1  Weather Atmos ee02  -38.1861465,144.3938752  ...             0.0      0.0   \n",
      "2  Weather Atmos ee01  -38.1456638,144.3587789  ...             0.0      0.0   \n",
      "3  Weather Atmos ee02  -38.1861465,144.3938752  ...             0.0      0.0   \n",
      "4  Weather Atmos ee01  -38.1456638,144.3587789  ...             0.0      0.0   \n",
      "\n",
      "   VapourPressure [hPa]  WindDirection [°]  Wind Speed  Year  Month  \\\n",
      "0                  2.08              217.3        1.52  2021    Jan   \n",
      "1                  1.97              206.4        0.40  2021    Jan   \n",
      "2                  2.08              223.7        1.76  2021    Jan   \n",
      "3                  2.00              207.5        0.45  2021    Jan   \n",
      "4                  2.00              205.4        1.71  2021    Jan   \n",
      "\n",
      "   dayofweek  AQI(25)  AQI(10)  \n",
      "0     Sunday    180.0     34.0  \n",
      "1     Sunday    180.0     34.0  \n",
      "2     Sunday    180.0     34.0  \n",
      "3     Sunday    180.0     34.0  \n",
      "4     Sunday    180.0     34.0  \n",
      "\n",
      "[5 rows x 27 columns]\n"
     ]
    }
   ],
   "source": [
    "#Calculating the Air-quality index\n",
    "md['AQI(25)']=md[' pm25']*4\n",
    "md['AQI(10)']=md[' pm10']*2\n",
    "print(md.head())"
   ]
  },
  {
   "cell_type": "code",
   "execution_count": 10,
   "metadata": {},
   "outputs": [
    {
     "name": "stdout",
     "output_type": "stream",
     "text": [
      "<class 'pandas.core.frame.DataFrame'>\n",
      "Int64Index: 130440 entries, 0 to 133739\n",
      "Data columns (total 27 columns):\n",
      " #   Column                     Non-Null Count   Dtype  \n",
      "---  ------                     --------------   -----  \n",
      " 0   Date                       130440 non-null  object \n",
      " 1    pm25                      130440 non-null  float64\n",
      " 2    pm10                      130440 non-null  float64\n",
      " 3    o3                        130440 non-null  float64\n",
      " 4    no2                       122014 non-null  float64\n",
      " 5    so2                       29334 non-null   float64\n",
      " 6    co                        77968 non-null   float64\n",
      " 7   Device ID                  130440 non-null  object \n",
      " 8   Device name                130440 non-null  object \n",
      " 9   Device location            130440 non-null  object \n",
      " 10  keep_record                130440 non-null  object \n",
      " 11  AirTemp [°C]               130440 non-null  float64\n",
      " 12  AtmosphericPressure [hPa]  88458 non-null   float64\n",
      " 13  GustSpeed [km/h]           130440 non-null  float64\n",
      " 14  Precipitation              88458 non-null   float64\n",
      " 15  RelativeHumidity [%]       88460 non-null   float64\n",
      " 16  Solar [W/m2]               88458 non-null   float64\n",
      " 17  Strike Distance            88458 non-null   float64\n",
      " 18  Strikes                    88458 non-null   float64\n",
      " 19  VapourPressure [hPa]       88458 non-null   float64\n",
      " 20  WindDirection [°]          130440 non-null  float64\n",
      " 21  Wind Speed                 130440 non-null  float64\n",
      " 22  Year                       130440 non-null  int64  \n",
      " 23  Month                      130440 non-null  object \n",
      " 24  dayofweek                  130440 non-null  object \n",
      " 25  AQI(25)                    130440 non-null  float64\n",
      " 26  AQI(10)                    130440 non-null  float64\n",
      "dtypes: float64(19), int64(1), object(7)\n",
      "memory usage: 27.9+ MB\n",
      "None\n"
     ]
    }
   ],
   "source": [
    "#Printing information about the merged data\n",
    "print(md.info())"
   ]
  },
  {
   "cell_type": "code",
   "execution_count": 11,
   "metadata": {},
   "outputs": [
    {
     "name": "stdout",
     "output_type": "stream",
     "text": [
      "              Date   pm25   pm10    o3   no2   so2   co  AirTemp [°C]  \\\n",
      "0       2021-01-03   45.0   17.0  12.0   2.0  13.0  NaN          18.2   \n",
      "1       2021-01-03   45.0   17.0  12.0   2.0  13.0  NaN          20.6   \n",
      "2       2021-01-03   45.0   17.0  12.0   2.0  13.0  NaN          18.7   \n",
      "3       2021-01-03   45.0   17.0  12.0   2.0  13.0  NaN          21.1   \n",
      "4       2021-01-03   45.0   17.0  12.0   2.0  13.0  NaN          18.9   \n",
      "...            ...    ...    ...   ...   ...   ...  ...           ...   \n",
      "133735  2019-08-03   27.0   38.0  37.0   7.0   2.0  2.0          14.8   \n",
      "133736  2019-08-03   27.0   38.0  37.0   7.0   2.0  2.0           9.2   \n",
      "133737  2019-08-03   27.0   38.0  37.0   7.0   2.0  2.0          15.0   \n",
      "133738  2019-08-03   27.0   38.0  37.0   7.0   2.0  2.0          10.2   \n",
      "133739  2019-08-03   27.0   38.0  37.0   7.0   2.0  2.0          16.2   \n",
      "\n",
      "        AtmosphericPressure [hPa]  GustSpeed [km/h]  ...  Solar [W/m2]  \\\n",
      "0                          100.60              2.89  ...         243.0   \n",
      "1                          100.37              1.45  ...         225.0   \n",
      "2                          100.59              3.29  ...         264.0   \n",
      "3                          100.35              1.43  ...         205.0   \n",
      "4                          100.58              3.21  ...         304.0   \n",
      "...                           ...               ...  ...           ...   \n",
      "133735                     103.00              0.15  ...           4.0   \n",
      "133736                     102.99              2.21  ...         141.0   \n",
      "133737                     102.99              0.10  ...          16.0   \n",
      "133738                     102.97              1.93  ...         335.0   \n",
      "133739                     102.99              0.12  ...          25.0   \n",
      "\n",
      "        Strike Distance  Strikes  VapourPressure [hPa]  WindDirection [°]  \\\n",
      "0                   0.0      0.0                  2.08              217.3   \n",
      "1                   0.0      0.0                  1.97              206.4   \n",
      "2                   0.0      0.0                  2.08              223.7   \n",
      "3                   0.0      0.0                  2.00              207.5   \n",
      "4                   0.0      0.0                  2.00              205.4   \n",
      "...                 ...      ...                   ...                ...   \n",
      "133735              0.0      0.0                  1.03              293.8   \n",
      "133736              0.0      0.0                  1.08              314.8   \n",
      "133737              0.0      0.0                  1.02              283.0   \n",
      "133738              0.0      0.0                  1.15              341.4   \n",
      "133739              0.0      0.0                  1.05              286.9   \n",
      "\n",
      "        Wind Speed  Year  Month  AQI(25) AQI(10)  \n",
      "0             1.52  2021    Jan    180.0    34.0  \n",
      "1             0.40  2021    Jan    180.0    34.0  \n",
      "2             1.76  2021    Jan    180.0    34.0  \n",
      "3             0.45  2021    Jan    180.0    34.0  \n",
      "4             1.71  2021    Jan    180.0    34.0  \n",
      "...            ...   ...    ...      ...     ...  \n",
      "133735        0.10  2019    Aug    108.0    76.0  \n",
      "133736        0.74  2019    Aug    108.0    76.0  \n",
      "133737        0.09  2019    Aug    108.0    76.0  \n",
      "133738        0.86  2019    Aug    108.0    76.0  \n",
      "133739        0.09  2019    Aug    108.0    76.0  \n",
      "\n",
      "[130440 rows x 22 columns]\n"
     ]
    }
   ],
   "source": [
    "#Dropping the irrevelant columns from the data\n",
    "md=md.drop(columns=['Device ID','Device name','Device location','Device location','keep_record','dayofweek'])\n",
    "print(md)"
   ]
  },
  {
   "cell_type": "code",
   "execution_count": 12,
   "metadata": {},
   "outputs": [
    {
     "data": {
      "text/plain": [
       "<matplotlib.axes._subplots.AxesSubplot at 0x176bebf4490>"
      ]
     },
     "execution_count": 12,
     "metadata": {},
     "output_type": "execute_result"
    },
    {
     "data": {
      "image/png": "[encoded data removed]",
      "text/plain": [
       "<Figure size 432x288 with 1 Axes>"
      ]
     },
     "metadata": {
      "needs_background": "light"
     },
     "output_type": "display_data"
    }
   ],
   "source": [
    "#Visualising each feature using boxplot to check for outliers\n",
    "md[['AirTemp [°C]','GustSpeed [km/h]','Precipitation','RelativeHumidity [%]','Wind Speed','AQI(25)','AQI(10)']].plot.box(vert = False, grid = True)\n"
   ]
  },
  {
   "cell_type": "markdown",
   "metadata": {},
   "source": [
    "Outlier Detection and removal "
   ]
  },
  {
   "cell_type": "code",
   "execution_count": 13,
   "metadata": {},
   "outputs": [
    {
     "data": {
      "text/plain": [
       "<matplotlib.axes._subplots.AxesSubplot at 0x176be47f3a0>"
      ]
     },
     "execution_count": 13,
     "metadata": {},
     "output_type": "execute_result"
    },
    {
     "data": {
      "image/png": "[encoded data removed]",
      "text/plain": [
       "<Figure size 432x288 with 1 Axes>"
      ]
     },
     "metadata": {
      "needs_background": "light"
     },
     "output_type": "display_data"
    },
    {
     "data": {
      "image/png": "[encoded data removed]",
      "text/plain": [
       "<Figure size 432x288 with 1 Axes>"
      ]
     },
     "metadata": {
      "needs_background": "light"
     },
     "output_type": "display_data"
    }
   ],
   "source": [
    "md[['AirTemp [°C]']].plot.box(vert=False)\n",
    "def outlier_treatment(datacolumn):\n",
    "    sorted(datacolumn)\n",
    "    Q1,Q3 = np.percentile(datacolumn , [25,75])\n",
    "    IQR = Q3-Q1\n",
    "    lower_range = Q1 - (1.5 * IQR)\n",
    "    upper_range = Q3 + (1.5 * IQR)\n",
    "    return lower_range,upper_range\n",
    "l,u = outlier_treatment(md['AirTemp [°C]'])\n",
    "md.drop(md[ (md['AirTemp [°C]'] > u) | (md['AirTemp [°C]'] < l) ].index , inplace=True)\n",
    "md[['AirTemp [°C]']].plot.box(vert=False)"
   ]
  },
  {
   "cell_type": "code",
   "execution_count": 14,
   "metadata": {},
   "outputs": [
    {
     "data": {
      "text/plain": [
       "<matplotlib.axes._subplots.AxesSubplot at 0x176be5dfc10>"
      ]
     },
     "execution_count": 14,
     "metadata": {},
     "output_type": "execute_result"
    },
    {
     "data": {
      "image/png": "[encoded data removed]",
      "text/plain": [
       "<Figure size 432x288 with 1 Axes>"
      ]
     },
     "metadata": {
      "needs_background": "light"
     },
     "output_type": "display_data"
    },
    {
     "data": {
      "image/png": "[encoded data removed]",
      "text/plain": [
       "<Figure size 432x288 with 1 Axes>"
      ]
     },
     "metadata": {
      "needs_background": "light"
     },
     "output_type": "display_data"
    }
   ],
   "source": [
    "md[['GustSpeed [km/h]']].plot.box(vert=False)\n",
    "l,u = outlier_treatment(md['GustSpeed [km/h]'])\n",
    "md.drop(md[ (md['GustSpeed [km/h]'] > u) | (md['GustSpeed [km/h]'] < l) ].index , inplace=True)\n",
    "md[['GustSpeed [km/h]']].plot.box(vert=False)"
   ]
  },
  {
   "cell_type": "code",
   "execution_count": 15,
   "metadata": {},
   "outputs": [
    {
     "data": {
      "text/plain": [
       "<matplotlib.axes._subplots.AxesSubplot at 0x176be713340>"
      ]
     },
     "execution_count": 15,
     "metadata": {},
     "output_type": "execute_result"
    },
    {
     "data": {
      "image/png": "[encoded data removed]",
      "text/plain": [
       "<Figure size 432x288 with 1 Axes>"
      ]
     },
     "metadata": {
      "needs_background": "light"
     },
     "output_type": "display_data"
    },
    {
     "data": {
      "image/png": "[encoded data removed]",
      "text/plain": [
       "<Figure size 432x288 with 1 Axes>"
      ]
     },
     "metadata": {
      "needs_background": "light"
     },
     "output_type": "display_data"
    }
   ],
   "source": [
    "md[['Precipitation']].plot.box(vert=False)\n",
    "l,u = outlier_treatment(md['Precipitation'])\n",
    "md.drop(md[ (md['Precipitation'] > u) | (md['Precipitation'] < l) ].index , inplace=True)\n",
    "md[['Precipitation']].plot.box(vert=False)"
   ]
  },
  {
   "cell_type": "code",
   "execution_count": 16,
   "metadata": {},
   "outputs": [
    {
     "data": {
      "text/plain": [
       "<matplotlib.axes._subplots.AxesSubplot at 0x176c4756bb0>"
      ]
     },
     "execution_count": 16,
     "metadata": {},
     "output_type": "execute_result"
    },
    {
     "data": {
      "image/png": "[encoded data removed]",
      "text/plain": [
       "<Figure size 432x288 with 1 Axes>"
      ]
     },
     "metadata": {
      "needs_background": "light"
     },
     "output_type": "display_data"
    },
    {
     "data": {
      "image/png": "[encoded data removed]",
      "text/plain": [
       "<Figure size 432x288 with 1 Axes>"
      ]
     },
     "metadata": {
      "needs_background": "light"
     },
     "output_type": "display_data"
    }
   ],
   "source": [
    "md[['RelativeHumidity [%]']].plot.box(vert=False)\n",
    "l,u = outlier_treatment(md['RelativeHumidity [%]'])\n",
    "md.drop(md[ (md['RelativeHumidity [%]'] > u) | (md['RelativeHumidity [%]'] < l) ].index , inplace=True)\n",
    "md[['RelativeHumidity [%]']].plot.box(vert=False)"
   ]
  },
  {
   "cell_type": "code",
   "execution_count": 17,
   "metadata": {},
   "outputs": [
    {
     "data": {
      "text/plain": [
       "<matplotlib.axes._subplots.AxesSubplot at 0x176bdd8ec40>"
      ]
     },
     "execution_count": 17,
     "metadata": {},
     "output_type": "execute_result"
    },
    {
     "data": {
      "image/png": "[encoded data removed]",
      "text/plain": [
       "<Figure size 432x288 with 1 Axes>"
      ]
     },
     "metadata": {
      "needs_background": "light"
     },
     "output_type": "display_data"
    },
    {
     "data": {
      "image/png": "[encoded data removed]",
      "text/plain": [
       "<Figure size 432x288 with 1 Axes>"
      ]
     },
     "metadata": {
      "needs_background": "light"
     },
     "output_type": "display_data"
    }
   ],
   "source": [
    "md[['Wind Speed']].plot.box(vert=False)\n",
    "l,u = outlier_treatment(md['Wind Speed'])\n",
    "md.drop(md[ (md['Wind Speed'] > u) | (md['Wind Speed'] < l) ].index , inplace=True)\n",
    "md[['Wind Speed']].plot.box(vert=False)"
   ]
  },
  {
   "cell_type": "code",
   "execution_count": 18,
   "metadata": {},
   "outputs": [
    {
     "data": {
      "text/plain": [
       "<matplotlib.axes._subplots.AxesSubplot at 0x176c03482e0>"
      ]
     },
     "execution_count": 18,
     "metadata": {},
     "output_type": "execute_result"
    },
    {
     "data": {
      "image/png": "[encoded data removed]",
      "text/plain": [
       "<Figure size 432x288 with 1 Axes>"
      ]
     },
     "metadata": {
      "needs_background": "light"
     },
     "output_type": "display_data"
    },
    {
     "data": {
      "image/png": "[encoded data removed]",
      "text/plain": [
       "<Figure size 432x288 with 1 Axes>"
      ]
     },
     "metadata": {
      "needs_background": "light"
     },
     "output_type": "display_data"
    }
   ],
   "source": [
    "md[['AQI(25)']].plot.box(vert=False)\n",
    "l,u = outlier_treatment(md['AQI(25)'])\n",
    "md.drop(md[ (md['AQI(25)'] > u) | (md['AQI(25)'] < l) ].index , inplace=True)\n",
    "md[['AQI(25)']].plot.box(vert=False)"
   ]
  },
  {
   "cell_type": "code",
   "execution_count": 19,
   "metadata": {},
   "outputs": [
    {
     "data": {
      "text/plain": [
       "<matplotlib.axes._subplots.AxesSubplot at 0x176be7eb1f0>"
      ]
     },
     "execution_count": 19,
     "metadata": {},
     "output_type": "execute_result"
    },
    {
     "data": {
      "image/png": "[encoded data removed]",
      "text/plain": [
       "<Figure size 432x288 with 1 Axes>"
      ]
     },
     "metadata": {
      "needs_background": "light"
     },
     "output_type": "display_data"
    },
    {
     "data": {
      "image/png": "[encoded data removed]",
      "text/plain": [
       "<Figure size 432x288 with 1 Axes>"
      ]
     },
     "metadata": {
      "needs_background": "light"
     },
     "output_type": "display_data"
    }
   ],
   "source": [
    "md[['AQI(10)']].plot.box(vert=False)\n",
    "l,u = outlier_treatment(md['AQI(10)'])\n",
    "md.drop(md[ (md['AQI(10)'] > u) | (md['AQI(10)'] < l) ].index , inplace=True)\n",
    "md[['AQI(10)']].plot.box(vert=False)"
   ]
  },
  {
   "cell_type": "code",
   "execution_count": 20,
   "metadata": {},
   "outputs": [
    {
     "data": {
      "text/plain": [
       "<matplotlib.axes._subplots.AxesSubplot at 0x176c0341310>"
      ]
     },
     "execution_count": 20,
     "metadata": {},
     "output_type": "execute_result"
    },
    {
     "data": {
      "image/png": "[encoded data removed]",
      "text/plain": [
       "<Figure size 432x288 with 1 Axes>"
      ]
     },
     "metadata": {
      "needs_background": "light"
     },
     "output_type": "display_data"
    }
   ],
   "source": [
    "#visualising each feature after outlier removal\n",
    "md[['AirTemp [°C]','GustSpeed [km/h]','Precipitation','RelativeHumidity [%]','Wind Speed','AQI(25)','AQI(10)']].plot.box(vert = False, grid = True)\n"
   ]
  },
  {
   "cell_type": "code",
   "execution_count": 21,
   "metadata": {},
   "outputs": [
    {
     "data": {
      "text/html": [
       "<style  type=\"text/css\" >\n",
       "    #T_4531d54b_ab08_11eb_a639_dcfb4885157drow0_col0 {\n",
       "            background-color:  #b40426;\n",
       "            color:  #f1f1f1;\n",
       "        }    #T_4531d54b_ab08_11eb_a639_dcfb4885157drow0_col1 {\n",
       "            background-color:  #84a7fc;\n",
       "            color:  #000000;\n",
       "        }    #T_4531d54b_ab08_11eb_a639_dcfb4885157drow0_col2 {\n",
       "            background-color:  #4358cb;\n",
       "            color:  #f1f1f1;\n",
       "        }    #T_4531d54b_ab08_11eb_a639_dcfb4885157drow0_col3 {\n",
       "            background-color:  #3b4cc0;\n",
       "            color:  #f1f1f1;\n",
       "        }    #T_4531d54b_ab08_11eb_a639_dcfb4885157drow0_col4 {\n",
       "            background-color:  #4961d2;\n",
       "            color:  #f1f1f1;\n",
       "        }    #T_4531d54b_ab08_11eb_a639_dcfb4885157drow0_col5 {\n",
       "            background-color:  #5f7fe8;\n",
       "            color:  #000000;\n",
       "        }    #T_4531d54b_ab08_11eb_a639_dcfb4885157drow0_col6 {\n",
       "            background-color:  #7da0f9;\n",
       "            color:  #000000;\n",
       "        }    #T_4531d54b_ab08_11eb_a639_dcfb4885157drow1_col0 {\n",
       "            background-color:  #d2dbe8;\n",
       "            color:  #000000;\n",
       "        }    #T_4531d54b_ab08_11eb_a639_dcfb4885157drow1_col1 {\n",
       "            background-color:  #b40426;\n",
       "            color:  #f1f1f1;\n",
       "        }    #T_4531d54b_ab08_11eb_a639_dcfb4885157drow1_col2 {\n",
       "            background-color:  #485fd1;\n",
       "            color:  #f1f1f1;\n",
       "        }    #T_4531d54b_ab08_11eb_a639_dcfb4885157drow1_col3 {\n",
       "            background-color:  #a1c0ff;\n",
       "            color:  #000000;\n",
       "        }    #T_4531d54b_ab08_11eb_a639_dcfb4885157drow1_col4 {\n",
       "            background-color:  #e57058;\n",
       "            color:  #000000;\n",
       "        }    #T_4531d54b_ab08_11eb_a639_dcfb4885157drow1_col5 {\n",
       "            background-color:  #4055c8;\n",
       "            color:  #f1f1f1;\n",
       "        }    #T_4531d54b_ab08_11eb_a639_dcfb4885157drow1_col6 {\n",
       "            background-color:  #3b4cc0;\n",
       "            color:  #f1f1f1;\n",
       "        }    #T_4531d54b_ab08_11eb_a639_dcfb4885157drow2_col0 {\n",
       "            background-color:  #c1d4f4;\n",
       "            color:  #000000;\n",
       "        }    #T_4531d54b_ab08_11eb_a639_dcfb4885157drow2_col1 {\n",
       "            background-color:  #6b8df0;\n",
       "            color:  #000000;\n",
       "        }    #T_4531d54b_ab08_11eb_a639_dcfb4885157drow2_col2 {\n",
       "            background-color:  #b40426;\n",
       "            color:  #f1f1f1;\n",
       "        }    #T_4531d54b_ab08_11eb_a639_dcfb4885157drow2_col3 {\n",
       "            background-color:  #cad8ef;\n",
       "            color:  #000000;\n",
       "        }    #T_4531d54b_ab08_11eb_a639_dcfb4885157drow2_col4 {\n",
       "            background-color:  #4c66d6;\n",
       "            color:  #000000;\n",
       "        }    #T_4531d54b_ab08_11eb_a639_dcfb4885157drow2_col5 {\n",
       "            background-color:  #465ecf;\n",
       "            color:  #f1f1f1;\n",
       "        }    #T_4531d54b_ab08_11eb_a639_dcfb4885157drow2_col6 {\n",
       "            background-color:  #485fd1;\n",
       "            color:  #f1f1f1;\n",
       "        }    #T_4531d54b_ab08_11eb_a639_dcfb4885157drow3_col0 {\n",
       "            background-color:  #3b4cc0;\n",
       "            color:  #f1f1f1;\n",
       "        }    #T_4531d54b_ab08_11eb_a639_dcfb4885157drow3_col1 {\n",
       "            background-color:  #3b4cc0;\n",
       "            color:  #f1f1f1;\n",
       "        }    #T_4531d54b_ab08_11eb_a639_dcfb4885157drow3_col2 {\n",
       "            background-color:  #516ddb;\n",
       "            color:  #000000;\n",
       "        }    #T_4531d54b_ab08_11eb_a639_dcfb4885157drow3_col3 {\n",
       "            background-color:  #b40426;\n",
       "            color:  #f1f1f1;\n",
       "        }    #T_4531d54b_ab08_11eb_a639_dcfb4885157drow3_col4 {\n",
       "            background-color:  #4358cb;\n",
       "            color:  #f1f1f1;\n",
       "        }    #T_4531d54b_ab08_11eb_a639_dcfb4885157drow3_col5 {\n",
       "            background-color:  #3b4cc0;\n",
       "            color:  #f1f1f1;\n",
       "        }    #T_4531d54b_ab08_11eb_a639_dcfb4885157drow3_col6 {\n",
       "            background-color:  #3b4cc0;\n",
       "            color:  #f1f1f1;\n",
       "        }    #T_4531d54b_ab08_11eb_a639_dcfb4885157drow4_col0 {\n",
       "            background-color:  #c1d4f4;\n",
       "            color:  #000000;\n",
       "        }    #T_4531d54b_ab08_11eb_a639_dcfb4885157drow4_col1 {\n",
       "            background-color:  #e26952;\n",
       "            color:  #000000;\n",
       "        }    #T_4531d54b_ab08_11eb_a639_dcfb4885157drow4_col2 {\n",
       "            background-color:  #465ecf;\n",
       "            color:  #f1f1f1;\n",
       "        }    #T_4531d54b_ab08_11eb_a639_dcfb4885157drow4_col3 {\n",
       "            background-color:  #bcd2f7;\n",
       "            color:  #000000;\n",
       "        }    #T_4531d54b_ab08_11eb_a639_dcfb4885157drow4_col4 {\n",
       "            background-color:  #b40426;\n",
       "            color:  #f1f1f1;\n",
       "        }    #T_4531d54b_ab08_11eb_a639_dcfb4885157drow4_col5 {\n",
       "            background-color:  #3f53c6;\n",
       "            color:  #f1f1f1;\n",
       "        }    #T_4531d54b_ab08_11eb_a639_dcfb4885157drow4_col6 {\n",
       "            background-color:  #4055c8;\n",
       "            color:  #f1f1f1;\n",
       "        }    #T_4531d54b_ab08_11eb_a639_dcfb4885157drow5_col0 {\n",
       "            background-color:  #cfdaea;\n",
       "            color:  #000000;\n",
       "        }    #T_4531d54b_ab08_11eb_a639_dcfb4885157drow5_col1 {\n",
       "            background-color:  #6180e9;\n",
       "            color:  #000000;\n",
       "        }    #T_4531d54b_ab08_11eb_a639_dcfb4885157drow5_col2 {\n",
       "            background-color:  #4358cb;\n",
       "            color:  #f1f1f1;\n",
       "        }    #T_4531d54b_ab08_11eb_a639_dcfb4885157drow5_col3 {\n",
       "            background-color:  #b9d0f9;\n",
       "            color:  #000000;\n",
       "        }    #T_4531d54b_ab08_11eb_a639_dcfb4885157drow5_col4 {\n",
       "            background-color:  #4257c9;\n",
       "            color:  #f1f1f1;\n",
       "        }    #T_4531d54b_ab08_11eb_a639_dcfb4885157drow5_col5 {\n",
       "            background-color:  #b40426;\n",
       "            color:  #f1f1f1;\n",
       "        }    #T_4531d54b_ab08_11eb_a639_dcfb4885157drow5_col6 {\n",
       "            background-color:  #9abbff;\n",
       "            color:  #000000;\n",
       "        }    #T_4531d54b_ab08_11eb_a639_dcfb4885157drow6_col0 {\n",
       "            background-color:  #dadce0;\n",
       "            color:  #000000;\n",
       "        }    #T_4531d54b_ab08_11eb_a639_dcfb4885157drow6_col1 {\n",
       "            background-color:  #516ddb;\n",
       "            color:  #000000;\n",
       "        }    #T_4531d54b_ab08_11eb_a639_dcfb4885157drow6_col2 {\n",
       "            background-color:  #3b4cc0;\n",
       "            color:  #f1f1f1;\n",
       "        }    #T_4531d54b_ab08_11eb_a639_dcfb4885157drow6_col3 {\n",
       "            background-color:  #b2ccfb;\n",
       "            color:  #000000;\n",
       "        }    #T_4531d54b_ab08_11eb_a639_dcfb4885157drow6_col4 {\n",
       "            background-color:  #3b4cc0;\n",
       "            color:  #f1f1f1;\n",
       "        }    #T_4531d54b_ab08_11eb_a639_dcfb4885157drow6_col5 {\n",
       "            background-color:  #92b4fe;\n",
       "            color:  #000000;\n",
       "        }    #T_4531d54b_ab08_11eb_a639_dcfb4885157drow6_col6 {\n",
       "            background-color:  #b40426;\n",
       "            color:  #f1f1f1;\n",
       "        }</style><table id=\"T_4531d54b_ab08_11eb_a639_dcfb4885157d\" ><thead>    <tr>        <th class=\"blank level0\" ></th>        <th class=\"col_heading level0 col0\" >AirTemp [°C]</th>        <th class=\"col_heading level0 col1\" >GustSpeed [km/h]</th>        <th class=\"col_heading level0 col2\" >Precipitation</th>        <th class=\"col_heading level0 col3\" >RelativeHumidity [%]</th>        <th class=\"col_heading level0 col4\" >Wind Speed</th>        <th class=\"col_heading level0 col5\" >AQI(25)</th>        <th class=\"col_heading level0 col6\" >AQI(10)</th>    </tr></thead><tbody>\n",
       "                <tr>\n",
       "                        <th id=\"T_4531d54b_ab08_11eb_a639_dcfb4885157dlevel0_row0\" class=\"row_heading level0 row0\" >AirTemp [°C]</th>\n",
       "                        <td id=\"T_4531d54b_ab08_11eb_a639_dcfb4885157drow0_col0\" class=\"data row0 col0\" >1.00</td>\n",
       "                        <td id=\"T_4531d54b_ab08_11eb_a639_dcfb4885157drow0_col1\" class=\"data row0 col1\" >0.10</td>\n",
       "                        <td id=\"T_4531d54b_ab08_11eb_a639_dcfb4885157drow0_col2\" class=\"data row0 col2\" >0.00</td>\n",
       "                        <td id=\"T_4531d54b_ab08_11eb_a639_dcfb4885157drow0_col3\" class=\"data row0 col3\" >-0.67</td>\n",
       "                        <td id=\"T_4531d54b_ab08_11eb_a639_dcfb4885157drow0_col4\" class=\"data row0 col4\" >0.00</td>\n",
       "                        <td id=\"T_4531d54b_ab08_11eb_a639_dcfb4885157drow0_col5\" class=\"data row0 col5\" >0.08</td>\n",
       "                        <td id=\"T_4531d54b_ab08_11eb_a639_dcfb4885157drow0_col6\" class=\"data row0 col6\" >0.15</td>\n",
       "            </tr>\n",
       "            <tr>\n",
       "                        <th id=\"T_4531d54b_ab08_11eb_a639_dcfb4885157dlevel0_row1\" class=\"row_heading level0 row1\" >GustSpeed [km/h]</th>\n",
       "                        <td id=\"T_4531d54b_ab08_11eb_a639_dcfb4885157drow1_col0\" class=\"data row1 col0\" >0.10</td>\n",
       "                        <td id=\"T_4531d54b_ab08_11eb_a639_dcfb4885157drow1_col1\" class=\"data row1 col1\" >1.00</td>\n",
       "                        <td id=\"T_4531d54b_ab08_11eb_a639_dcfb4885157drow1_col2\" class=\"data row1 col2\" >0.02</td>\n",
       "                        <td id=\"T_4531d54b_ab08_11eb_a639_dcfb4885157drow1_col3\" class=\"data row1 col3\" >-0.16</td>\n",
       "                        <td id=\"T_4531d54b_ab08_11eb_a639_dcfb4885157drow1_col4\" class=\"data row1 col4\" >0.83</td>\n",
       "                        <td id=\"T_4531d54b_ab08_11eb_a639_dcfb4885157drow1_col5\" class=\"data row1 col5\" >-0.02</td>\n",
       "                        <td id=\"T_4531d54b_ab08_11eb_a639_dcfb4885157drow1_col6\" class=\"data row1 col6\" >-0.07</td>\n",
       "            </tr>\n",
       "            <tr>\n",
       "                        <th id=\"T_4531d54b_ab08_11eb_a639_dcfb4885157dlevel0_row2\" class=\"row_heading level0 row2\" >Precipitation</th>\n",
       "                        <td id=\"T_4531d54b_ab08_11eb_a639_dcfb4885157drow2_col0\" class=\"data row2 col0\" >0.00</td>\n",
       "                        <td id=\"T_4531d54b_ab08_11eb_a639_dcfb4885157drow2_col1\" class=\"data row2 col1\" >0.02</td>\n",
       "                        <td id=\"T_4531d54b_ab08_11eb_a639_dcfb4885157drow2_col2\" class=\"data row2 col2\" >1.00</td>\n",
       "                        <td id=\"T_4531d54b_ab08_11eb_a639_dcfb4885157drow2_col3\" class=\"data row2 col3\" >0.05</td>\n",
       "                        <td id=\"T_4531d54b_ab08_11eb_a639_dcfb4885157drow2_col4\" class=\"data row2 col4\" >0.01</td>\n",
       "                        <td id=\"T_4531d54b_ab08_11eb_a639_dcfb4885157drow2_col5\" class=\"data row2 col5\" >0.00</td>\n",
       "                        <td id=\"T_4531d54b_ab08_11eb_a639_dcfb4885157drow2_col6\" class=\"data row2 col6\" >-0.03</td>\n",
       "            </tr>\n",
       "            <tr>\n",
       "                        <th id=\"T_4531d54b_ab08_11eb_a639_dcfb4885157dlevel0_row3\" class=\"row_heading level0 row3\" >RelativeHumidity [%]</th>\n",
       "                        <td id=\"T_4531d54b_ab08_11eb_a639_dcfb4885157drow3_col0\" class=\"data row3 col0\" >-0.67</td>\n",
       "                        <td id=\"T_4531d54b_ab08_11eb_a639_dcfb4885157drow3_col1\" class=\"data row3 col1\" >-0.16</td>\n",
       "                        <td id=\"T_4531d54b_ab08_11eb_a639_dcfb4885157drow3_col2\" class=\"data row3 col2\" >0.05</td>\n",
       "                        <td id=\"T_4531d54b_ab08_11eb_a639_dcfb4885157drow3_col3\" class=\"data row3 col3\" >1.00</td>\n",
       "                        <td id=\"T_4531d54b_ab08_11eb_a639_dcfb4885157drow3_col4\" class=\"data row3 col4\" >-0.02</td>\n",
       "                        <td id=\"T_4531d54b_ab08_11eb_a639_dcfb4885157drow3_col5\" class=\"data row3 col5\" >-0.04</td>\n",
       "                        <td id=\"T_4531d54b_ab08_11eb_a639_dcfb4885157drow3_col6\" class=\"data row3 col6\" >-0.07</td>\n",
       "            </tr>\n",
       "            <tr>\n",
       "                        <th id=\"T_4531d54b_ab08_11eb_a639_dcfb4885157dlevel0_row4\" class=\"row_heading level0 row4\" >Wind Speed</th>\n",
       "                        <td id=\"T_4531d54b_ab08_11eb_a639_dcfb4885157drow4_col0\" class=\"data row4 col0\" >0.00</td>\n",
       "                        <td id=\"T_4531d54b_ab08_11eb_a639_dcfb4885157drow4_col1\" class=\"data row4 col1\" >0.83</td>\n",
       "                        <td id=\"T_4531d54b_ab08_11eb_a639_dcfb4885157drow4_col2\" class=\"data row4 col2\" >0.01</td>\n",
       "                        <td id=\"T_4531d54b_ab08_11eb_a639_dcfb4885157drow4_col3\" class=\"data row4 col3\" >-0.02</td>\n",
       "                        <td id=\"T_4531d54b_ab08_11eb_a639_dcfb4885157drow4_col4\" class=\"data row4 col4\" >1.00</td>\n",
       "                        <td id=\"T_4531d54b_ab08_11eb_a639_dcfb4885157drow4_col5\" class=\"data row4 col5\" >-0.02</td>\n",
       "                        <td id=\"T_4531d54b_ab08_11eb_a639_dcfb4885157drow4_col6\" class=\"data row4 col6\" >-0.05</td>\n",
       "            </tr>\n",
       "            <tr>\n",
       "                        <th id=\"T_4531d54b_ab08_11eb_a639_dcfb4885157dlevel0_row5\" class=\"row_heading level0 row5\" >AQI(25)</th>\n",
       "                        <td id=\"T_4531d54b_ab08_11eb_a639_dcfb4885157drow5_col0\" class=\"data row5 col0\" >0.08</td>\n",
       "                        <td id=\"T_4531d54b_ab08_11eb_a639_dcfb4885157drow5_col1\" class=\"data row5 col1\" >-0.02</td>\n",
       "                        <td id=\"T_4531d54b_ab08_11eb_a639_dcfb4885157drow5_col2\" class=\"data row5 col2\" >0.00</td>\n",
       "                        <td id=\"T_4531d54b_ab08_11eb_a639_dcfb4885157drow5_col3\" class=\"data row5 col3\" >-0.04</td>\n",
       "                        <td id=\"T_4531d54b_ab08_11eb_a639_dcfb4885157drow5_col4\" class=\"data row5 col4\" >-0.02</td>\n",
       "                        <td id=\"T_4531d54b_ab08_11eb_a639_dcfb4885157drow5_col5\" class=\"data row5 col5\" >1.00</td>\n",
       "                        <td id=\"T_4531d54b_ab08_11eb_a639_dcfb4885157drow5_col6\" class=\"data row5 col6\" >0.23</td>\n",
       "            </tr>\n",
       "            <tr>\n",
       "                        <th id=\"T_4531d54b_ab08_11eb_a639_dcfb4885157dlevel0_row6\" class=\"row_heading level0 row6\" >AQI(10)</th>\n",
       "                        <td id=\"T_4531d54b_ab08_11eb_a639_dcfb4885157drow6_col0\" class=\"data row6 col0\" >0.15</td>\n",
       "                        <td id=\"T_4531d54b_ab08_11eb_a639_dcfb4885157drow6_col1\" class=\"data row6 col1\" >-0.07</td>\n",
       "                        <td id=\"T_4531d54b_ab08_11eb_a639_dcfb4885157drow6_col2\" class=\"data row6 col2\" >-0.03</td>\n",
       "                        <td id=\"T_4531d54b_ab08_11eb_a639_dcfb4885157drow6_col3\" class=\"data row6 col3\" >-0.07</td>\n",
       "                        <td id=\"T_4531d54b_ab08_11eb_a639_dcfb4885157drow6_col4\" class=\"data row6 col4\" >-0.05</td>\n",
       "                        <td id=\"T_4531d54b_ab08_11eb_a639_dcfb4885157drow6_col5\" class=\"data row6 col5\" >0.23</td>\n",
       "                        <td id=\"T_4531d54b_ab08_11eb_a639_dcfb4885157drow6_col6\" class=\"data row6 col6\" >1.00</td>\n",
       "            </tr>\n",
       "    </tbody></table>"
      ],
      "text/plain": [
       "<pandas.io.formats.style.Styler at 0x176be623820>"
      ]
     },
     "execution_count": 21,
     "metadata": {},
     "output_type": "execute_result"
    }
   ],
   "source": [
    "#Visualising the correlations\n",
    "corr = md[['AirTemp [°C]','GustSpeed [km/h]','Precipitation','RelativeHumidity [%]','Wind Speed','AQI(25)','AQI(10)']].corr()\n",
    "corr.style.background_gradient(cmap='coolwarm').set_precision(2)"
   ]
  },
  {
   "cell_type": "code",
   "execution_count": 22,
   "metadata": {},
   "outputs": [
    {
     "data": {
      "text/plain": [
       "<matplotlib.axes._subplots.AxesSubplot at 0x176be5e7d60>"
      ]
     },
     "execution_count": 22,
     "metadata": {},
     "output_type": "execute_result"
    },
    {
     "data": {
      "image/png": "[encoded data removed]",
      "text/plain": [
       "<Figure size 432x288 with 1 Axes>"
      ]
     },
     "metadata": {
      "needs_background": "light"
     },
     "output_type": "display_data"
    }
   ],
   "source": [
    "#Visualising the variation of AQI and Airtemp with time\n",
    "ax = md.plot.line(x = 'Month', y = 'AQI(25)', color = 'black')\n",
    "md.plot.line(x = 'Month', y = 'AirTemp [°C]', \n",
    "                             color = 'red', title = 'Daily temperature and AQI', ax = ax)"
   ]
  },
  {
   "cell_type": "code",
   "execution_count": 23,
   "metadata": {},
   "outputs": [],
   "source": [
    "#Dropping the insignificant features\n",
    "md1=md\n",
    "\n",
    "md1=md1.drop([' pm25',' pm10'],axis=1)"
   ]
  },
  {
   "cell_type": "code",
   "execution_count": 24,
   "metadata": {},
   "outputs": [
    {
     "name": "stdout",
     "output_type": "stream",
     "text": [
      "<class 'pandas.core.frame.DataFrame'>\n",
      "Index: 519 entries, 2019-06-18 to 2021-03-14\n",
      "Data columns (total 18 columns):\n",
      " #   Column                     Non-Null Count  Dtype  \n",
      "---  ------                     --------------  -----  \n",
      " 0    o3                        519 non-null    float64\n",
      " 1    no2                       488 non-null    float64\n",
      " 2    so2                       131 non-null    float64\n",
      " 3    co                        308 non-null    float64\n",
      " 4   AirTemp [°C]               519 non-null    float64\n",
      " 5   AtmosphericPressure [hPa]  519 non-null    float64\n",
      " 6   GustSpeed [km/h]           519 non-null    float64\n",
      " 7   Precipitation              519 non-null    float64\n",
      " 8   RelativeHumidity [%]       519 non-null    float64\n",
      " 9   Solar [W/m2]               519 non-null    float64\n",
      " 10  Strike Distance            519 non-null    float64\n",
      " 11  Strikes                    519 non-null    float64\n",
      " 12  VapourPressure [hPa]       519 non-null    float64\n",
      " 13  WindDirection [°]          519 non-null    float64\n",
      " 14  Wind Speed                 519 non-null    float64\n",
      " 15  Year                       519 non-null    int64  \n",
      " 16  AQI(25)                    519 non-null    float64\n",
      " 17  AQI(10)                    519 non-null    float64\n",
      "dtypes: float64(17), int64(1)\n",
      "memory usage: 77.0+ KB\n",
      "None               o3   no2   so2   co  AirTemp [°C]  AtmosphericPressure [hPa]  \\\n",
      "Date                                                                         \n",
      "2019-06-18  14.0   9.0   NaN  1.0      6.973239                 102.175915   \n",
      "2019-06-19  12.0   9.0   4.0  1.0      8.087059                 102.524706   \n",
      "2019-06-20  17.0   7.0   3.0  1.0      6.870588                 102.590000   \n",
      "2019-06-21  17.0   8.0   1.0  1.0      8.403704                 102.954074   \n",
      "2019-06-22  15.0   5.0   3.0  2.0      7.011494                 102.954943   \n",
      "...          ...   ...   ...  ...           ...                        ...   \n",
      "2021-03-01  12.0   NaN   3.0  NaN     15.344500                 101.304500   \n",
      "2021-03-02  23.0   9.0   NaN  1.0     15.071845                 101.637607   \n",
      "2021-03-03  11.0   2.0   NaN  NaN     15.151759                 101.580625   \n",
      "2021-03-13  12.0   3.0   NaN  NaN     13.038140                 101.384493   \n",
      "2021-03-14  11.0   3.0   NaN  NaN     13.657222                 101.995492   \n",
      "\n",
      "            GustSpeed [km/h]  Precipitation  RelativeHumidity [%]  \\\n",
      "Date                                                                \n",
      "2019-06-18          3.624930       0.000000             88.112676   \n",
      "2019-06-19          2.173882       0.025294             91.105882   \n",
      "2019-06-20          1.862941       0.138941             96.564706   \n",
      "2019-06-21          2.639630       0.013457             88.172840   \n",
      "2019-06-22          1.894138       0.010345             87.620690   \n",
      "...                      ...            ...                   ...   \n",
      "2021-03-01          2.670600       0.000000             59.116667   \n",
      "2021-03-02          2.340194       0.000000             60.786325   \n",
      "2021-03-03          2.643317       0.000000             65.445312   \n",
      "2021-03-13          2.894279       0.006739             78.166667   \n",
      "2021-03-14          2.832333       0.003115             65.852459   \n",
      "\n",
      "            Solar [W/m2]  Strike Distance   Strikes  VapourPressure [hPa]  \\\n",
      "Date                                                                        \n",
      "2019-06-18     32.830986         0.436620  0.014085              0.883521   \n",
      "2019-06-19     76.470588         0.000000  0.000000              0.980824   \n",
      "2019-06-20     71.258824         0.435294  0.011765              0.961059   \n",
      "2019-06-21     63.753086         0.419753  0.012346              0.973210   \n",
      "2019-06-22     88.620690         0.275862  0.011494              0.871954   \n",
      "...                  ...              ...       ...                   ...   \n",
      "2021-03-01     47.450000         0.000000  0.000000              1.004667   \n",
      "2021-03-02     39.153846         0.000000  0.000000              1.022821   \n",
      "2021-03-03     46.617188         0.000000  0.000000              1.103906   \n",
      "2021-03-13     35.231884         0.000000  0.000000              1.169058   \n",
      "2021-03-14     43.688525         0.000000  0.000000              0.987787   \n",
      "\n",
      "            WindDirection [°]  Wind Speed  Year  AQI(25)  AQI(10)  \n",
      "Date                                                               \n",
      "2019-06-18         272.374648    1.638451  2019     80.0     20.0  \n",
      "2019-06-19         258.381176    0.936353  2019     76.0     14.0  \n",
      "2019-06-20         264.475294    0.815765  2019     92.0     16.0  \n",
      "2019-06-21         226.591358    1.156667  2019     84.0     18.0  \n",
      "2019-06-22         248.888506    0.863678  2019     72.0     16.0  \n",
      "...                       ...         ...   ...      ...      ...  \n",
      "2021-03-01         257.660500    1.113350  2021    104.0     24.0  \n",
      "2021-03-02         179.098544    0.929563  2021     52.0     64.0  \n",
      "2021-03-03         218.918090    1.110302  2021     32.0     34.0  \n",
      "2021-03-13         222.713488    1.182605  2021    116.0     24.0  \n",
      "2021-03-14         207.130000    1.044333  2021     88.0     30.0  \n",
      "\n",
      "[519 rows x 18 columns]\n"
     ]
    }
   ],
   "source": [
    "md1=md1.groupby(['Date']).mean()\n",
    "print(md1.info(),md1)\n"
   ]
  },
  {
   "cell_type": "code",
   "execution_count": 25,
   "metadata": {},
   "outputs": [
    {
     "name": "stdout",
     "output_type": "stream",
     "text": [
      "<class 'pandas.core.frame.DataFrame'>\n",
      "Index: 477 entries, 2019-06-18 to 2020-12-31\n",
      "Data columns (total 18 columns):\n",
      " #   Column                     Non-Null Count  Dtype  \n",
      "---  ------                     --------------  -----  \n",
      " 0    o3                        477 non-null    float64\n",
      " 1    no2                       454 non-null    float64\n",
      " 2    so2                       109 non-null    float64\n",
      " 3    co                        296 non-null    float64\n",
      " 4   AirTemp [°C]               477 non-null    float64\n",
      " 5   AtmosphericPressure [hPa]  477 non-null    float64\n",
      " 6   GustSpeed [km/h]           477 non-null    float64\n",
      " 7   Precipitation              477 non-null    float64\n",
      " 8   RelativeHumidity [%]       477 non-null    float64\n",
      " 9   Solar [W/m2]               477 non-null    float64\n",
      " 10  Strike Distance            477 non-null    float64\n",
      " 11  Strikes                    477 non-null    float64\n",
      " 12  VapourPressure [hPa]       477 non-null    float64\n",
      " 13  WindDirection [°]          477 non-null    float64\n",
      " 14  Wind Speed                 477 non-null    float64\n",
      " 15  Year                       477 non-null    int64  \n",
      " 16  AQI(25)                    477 non-null    float64\n",
      " 17  AQI(10)                    477 non-null    float64\n",
      "dtypes: float64(17), int64(1)\n",
      "memory usage: 70.8+ KB\n",
      "<class 'pandas.core.frame.DataFrame'>\n",
      "Index: 42 entries, 2021-01-01 to 2021-03-14\n",
      "Data columns (total 18 columns):\n",
      " #   Column                     Non-Null Count  Dtype  \n",
      "---  ------                     --------------  -----  \n",
      " 0    o3                        42 non-null     float64\n",
      " 1    no2                       34 non-null     float64\n",
      " 2    so2                       22 non-null     float64\n",
      " 3    co                        12 non-null     float64\n",
      " 4   AirTemp [°C]               42 non-null     float64\n",
      " 5   AtmosphericPressure [hPa]  42 non-null     float64\n",
      " 6   GustSpeed [km/h]           42 non-null     float64\n",
      " 7   Precipitation              42 non-null     float64\n",
      " 8   RelativeHumidity [%]       42 non-null     float64\n",
      " 9   Solar [W/m2]               42 non-null     float64\n",
      " 10  Strike Distance            42 non-null     float64\n",
      " 11  Strikes                    42 non-null     float64\n",
      " 12  VapourPressure [hPa]       42 non-null     float64\n",
      " 13  WindDirection [°]          42 non-null     float64\n",
      " 14  Wind Speed                 42 non-null     float64\n",
      " 15  Year                       42 non-null     int64  \n",
      " 16  AQI(25)                    42 non-null     float64\n",
      " 17  AQI(10)                    42 non-null     float64\n",
      "dtypes: float64(17), int64(1)\n",
      "memory usage: 6.2+ KB\n",
      "None None\n"
     ]
    }
   ],
   "source": [
    "#Splitting the Dataset into training and testing\n",
    "trdt=md1[md1['Year']<=2020]\n",
    "tsdt=md1[md1['Year']>2020]\n",
    "print(trdt.info(),tsdt.info())"
   ]
  },
  {
   "cell_type": "code",
   "execution_count": 26,
   "metadata": {},
   "outputs": [],
   "source": [
    "#Import libraries for modelling\n",
    "from sklearn.model_selection import train_test_split\n",
    "from sklearn.ensemble import RandomForestRegressor\n",
    "from matplotlib import pyplot\n",
    "from sklearn.metrics import accuracy_score\n",
    "from sklearn.metrics import r2_score\n",
    "from sklearn.metrics import mean_squared_error as mse\n",
    "from sklearn.metrics import mean_squared_error"
   ]
  },
  {
   "cell_type": "code",
   "execution_count": 27,
   "metadata": {},
   "outputs": [
    {
     "name": "stderr",
     "output_type": "stream",
     "text": [
      "<ipython-input-27-843ca021b481>:8: DataConversionWarning: A column-vector y was passed when a 1d array was expected. Please change the shape of y to (n_samples,), for example using ravel().\n",
      "  model.fit(xtrain, ytrain)\n"
     ]
    },
    {
     "name": "stdout",
     "output_type": "stream",
     "text": [
      "Feature: 0, Score: 0.09165\n",
      "Feature: 1, Score: 0.09942\n",
      "Feature: 2, Score: 0.10031\n",
      "Feature: 3, Score: 0.08160\n",
      "Feature: 4, Score: 0.05841\n",
      "Feature: 5, Score: 0.09695\n",
      "Feature: 6, Score: 0.12715\n",
      "Feature: 7, Score: 0.02693\n",
      "Feature: 8, Score: 0.02211\n",
      "Feature: 9, Score: 0.09012\n",
      "Feature: 10, Score: 0.11251\n",
      "Feature: 11, Score: 0.08657\n",
      "Feature: 12, Score: 0.00626\n"
     ]
    },
    {
     "data": {
      "image/png": "[encoded data removed]",
      "text/plain": [
       "<Figure size 432x288 with 1 Axes>"
      ]
     },
     "metadata": {
      "needs_background": "light"
     },
     "output_type": "display_data"
    },
    {
     "name": "stdout",
     "output_type": "stream",
     "text": [
      "Index([' o3', ' no2', ' so2', ' co', 'AirTemp [°C]',\n",
      "       'AtmosphericPressure [hPa]', 'GustSpeed [km/h]', 'Precipitation',\n",
      "       'RelativeHumidity [%]', 'Solar [W/m2]', 'Strike Distance', 'Strikes',\n",
      "       'VapourPressure [hPa]', 'WindDirection [°]', 'Wind Speed', 'Year',\n",
      "       'AQI(25)', 'AQI(10)'],\n",
      "      dtype='object')\n"
     ]
    }
   ],
   "source": [
    "#Finding the important features according to randomforestregressor\n",
    "ytrain=trdt[['AQI(25)']].reset_index(drop=True)\n",
    "xtrain=trdt.drop(['AQI(25)','AQI(10)',' no2',' co',' so2'],axis=1)\n",
    "ytest=tsdt[['AQI(25)']].reset_index(drop=True)\n",
    "xtest=tsdt.drop(['AQI(25)','AQI(10)',' no2',' co',' so2'],axis=1)\n",
    "#xtrain, xtest, ytrain, ytest = train_test_split(md1.drop(['AQI(25)','AQI(10)',' no2',' co',' so2'],axis=1), md1[['AQI(25)']], test_size=0.70, random_state=30)\n",
    "model = RandomForestRegressor()\n",
    "model.fit(xtrain, ytrain)\n",
    "importance = model.feature_importances_\n",
    "\n",
    "for i,v in enumerate(importance):\n",
    "    print('Feature: %0d, Score: %.5f' % (i,v))\n",
    "\n",
    "pyplot.bar([x for x in range(len(importance))], importance)\n",
    "pyplot.show()\n",
    "print(md1.columns)"
   ]
  },
  {
   "cell_type": "code",
   "execution_count": 28,
   "metadata": {},
   "outputs": [
    {
     "name": "stderr",
     "output_type": "stream",
     "text": [
      "<ipython-input-28-bf86733fc294>:7: DataConversionWarning: A column-vector y was passed when a 1d array was expected. Please change the shape of y to (n_samples,), for example using ravel().\n",
      "  model.fit(xtrain, ytrain)\n"
     ]
    },
    {
     "name": "stdout",
     "output_type": "stream",
     "text": [
      "-0.040874201523073195\n",
      "1328.9957333333334\n"
     ]
    }
   ],
   "source": [
    "#drop no2, so2, co, airtemp, atmos, precip, r humidi, str dist, str, vp, year as not relavant in this model\n",
    "xtest=xtest.drop(['AirTemp [°C]','AtmosphericPressure [hPa]','Precipitation','RelativeHumidity [%]','Solar [W/m2]', 'Strike Distance', 'Strikes',\n",
    "       'VapourPressure [hPa]','Year'],axis=1)\n",
    "xtrain=xtrain.drop(['AirTemp [°C]','AtmosphericPressure [hPa]','Precipitation','RelativeHumidity [%]','Solar [W/m2]', 'Strike Distance', 'Strikes',\n",
    "       'VapourPressure [hPa]','Year'],axis=1)\n",
    "model = RandomForestRegressor()\n",
    "model.fit(xtrain, ytrain)\n",
    "ypred = model.predict(xtest)\n",
    "\n",
    "#R2 score and mse for the model\n",
    "print(r2_score(ytest,ypred))\n",
    "print(mse(ytest,ypred))\n"
   ]
  },
  {
   "cell_type": "code",
   "execution_count": 29,
   "metadata": {},
   "outputs": [
    {
     "name": "stdout",
     "output_type": "stream",
     "text": [
      "36.45539374815932\n"
     ]
    }
   ],
   "source": [
    "#RMSE for the model\n",
    "rms = mean_squared_error(ytest, ypred, squared=False)\n",
    "print(rms)"
   ]
  }
 ],
 "metadata": {
  "kernelspec": {
   "display_name": "Python 3",
   "language": "python",
   "name": "python3"
  },
  "language_info": {
   "codemirror_mode": {
    "name": "ipython",
    "version": 3
   },
   "file_extension": ".py",
   "mimetype": "text/x-python",
   "name": "python",
   "nbconvert_exporter": "python",
   "pygments_lexer": "ipython3",
   "version": "3.8.3"
  }
 },
 "nbformat": 4,
 "nbformat_minor": 4
}
