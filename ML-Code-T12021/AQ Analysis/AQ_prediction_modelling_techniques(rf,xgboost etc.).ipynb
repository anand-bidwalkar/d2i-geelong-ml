{
 "cells": [
  {
   "cell_type": "code",
   "execution_count": 4,
   "metadata": {},
   "outputs": [],
   "source": [
    "#importing the libraries\n",
    "import pandas as pd\n",
    "import numpy as np\n",
    "import math\n",
    "from scipy import stats\n"
   ]
  },
  {
   "cell_type": "code",
   "execution_count": 107,
   "metadata": {},
   "outputs": [],
   "source": [
    "#Reading the merged csv file \n",
    "md=pd.read_csv('full_data.csv',parse_dates = ['date'])"
   ]
  },
  {
   "cell_type": "code",
   "execution_count": 108,
   "metadata": {},
   "outputs": [
    {
     "name": "stdout",
     "output_type": "stream",
     "text": [
      "<class 'pandas.core.frame.DataFrame'>\n",
      "RangeIndex: 2581 entries, 0 to 2580\n",
      "Data columns (total 24 columns):\n",
      " #   Column        Non-Null Count  Dtype         \n",
      "---  ------        --------------  -----         \n",
      " 0   Unnamed: 0    2581 non-null   int64         \n",
      " 1   date          2581 non-null   datetime64[ns]\n",
      " 2   mintemp       2581 non-null   float64       \n",
      " 3   maxtemp       2581 non-null   float64       \n",
      " 4   rainfall      2581 non-null   float64       \n",
      " 5   dir_maxgust   2581 non-null   object        \n",
      " 6   spd_maxgust   2581 non-null   float64       \n",
      " 7   time_maxgust  2581 non-null   object        \n",
      " 8   9am_temp      2581 non-null   float64       \n",
      " 9   9am_rh        2581 non-null   float64       \n",
      " 10  9am_wd        2581 non-null   object        \n",
      " 11  9am_ws        2581 non-null   float64       \n",
      " 12  9am_mslp      2581 non-null   float64       \n",
      " 13  3pm_temp      2581 non-null   float64       \n",
      " 14  3pm_rh        2581 non-null   float64       \n",
      " 15  3pm_wd        2581 non-null   object        \n",
      " 16  3pm_ws        2581 non-null   float64       \n",
      " 17  3pm_mslp      2581 non-null   float64       \n",
      " 18  pm25          2581 non-null   float64       \n",
      " 19  pm10          2581 non-null   float64       \n",
      " 20  o3            2581 non-null   float64       \n",
      " 21  no2           2581 non-null   float64       \n",
      " 22  so2           2581 non-null   float64       \n",
      " 23  co            2581 non-null   float64       \n",
      "dtypes: datetime64[ns](1), float64(18), int64(1), object(4)\n",
      "memory usage: 484.1+ KB\n"
     ]
    }
   ],
   "source": [
    "#Information and pre-processing the data\n",
    "md.info()\n",
    "md['AQI(25)']=md['pm25']*4\n",
    "md['AQI(10)']=md['pm10']*2\n",
    "md=md.drop(['time_maxgust','9am_temp','9am_rh','9am_wd','9am_ws','9am_mslp','3pm_temp','3pm_rh','3pm_wd','3pm_ws','3pm_mslp','pm25','pm10','Unnamed: 0'],axis=1)\n"
   ]
  },
  {
   "cell_type": "code",
   "execution_count": 109,
   "metadata": {},
   "outputs": [
    {
     "name": "stdout",
     "output_type": "stream",
     "text": [
      "        date  mintemp  maxtemp  rainfall dir_maxgust  spd_maxgust    o3  no2  \\\n",
      "0 2013-12-31      9.6     22.7       0.0           S         28.0   4.0  7.0   \n",
      "1 2014-01-01     12.8     26.0       0.0         NNW         59.0   9.0  1.0   \n",
      "2 2014-01-02     12.9     21.4      11.6         WSW         35.0  12.0  1.0   \n",
      "3 2014-01-03     11.1     22.3       0.2         WSW         50.0  11.0  1.0   \n",
      "4 2014-01-04     11.9     20.6       0.0         WSW         65.0   8.0  3.0   \n",
      "\n",
      "   so2   co  AQI(25)  AQI(10)  \n",
      "0  2.0  1.0    100.0     34.0  \n",
      "1  2.0  1.0    116.0     30.0  \n",
      "2  2.0  1.0    116.0     36.0  \n",
      "3  2.0  1.0    116.0     48.0  \n",
      "4  2.0  1.0    116.0     36.0  \n",
      "<class 'pandas.core.frame.DataFrame'>\n",
      "RangeIndex: 2581 entries, 0 to 2580\n",
      "Data columns (total 12 columns):\n",
      " #   Column       Non-Null Count  Dtype         \n",
      "---  ------       --------------  -----         \n",
      " 0   date         2581 non-null   datetime64[ns]\n",
      " 1   mintemp      2581 non-null   float64       \n",
      " 2   maxtemp      2581 non-null   float64       \n",
      " 3   rainfall     2581 non-null   float64       \n",
      " 4   dir_maxgust  2581 non-null   object        \n",
      " 5   spd_maxgust  2581 non-null   float64       \n",
      " 6   o3           2581 non-null   float64       \n",
      " 7   no2          2581 non-null   float64       \n",
      " 8   so2          2581 non-null   float64       \n",
      " 9   co           2581 non-null   float64       \n",
      " 10  AQI(25)      2581 non-null   float64       \n",
      " 11  AQI(10)      2581 non-null   float64       \n",
      "dtypes: datetime64[ns](1), float64(10), object(1)\n",
      "memory usage: 242.1+ KB\n"
     ]
    }
   ],
   "source": [
    "#printing the first five observations after dropping a few irrelavant (which won't be used) columns\n",
    "print(md.head())\n",
    "#printing the information\n",
    "md.info()"
   ]
  },
  {
   "cell_type": "code",
   "execution_count": 110,
   "metadata": {},
   "outputs": [
    {
     "data": {
      "text/plain": [
       "<matplotlib.axes._subplots.AxesSubplot at 0x207889ddbb0>"
      ]
     },
     "execution_count": 110,
     "metadata": {},
     "output_type": "execute_result"
    },
    {
     "data": {
      "image/png": "[encoded data removed]",
      "text/plain": [
       "<Figure size 432x288 with 1 Axes>"
      ]
     },
     "metadata": {
      "needs_background": "light"
     },
     "output_type": "display_data"
    }
   ],
   "source": [
    "#Boxplot for all the features\n",
    "md[['mintemp','maxtemp','rainfall','spd_maxgust','o3','no2','so2','co','AQI(25)','AQI(10)']].plot.box(vert = False, grid = True)\n"
   ]
  },
  {
   "cell_type": "markdown",
   "metadata": {},
   "source": [
    "Outlier removal for each feature"
   ]
  },
  {
   "cell_type": "code",
   "execution_count": 111,
   "metadata": {},
   "outputs": [
    {
     "data": {
      "text/plain": [
       "<matplotlib.axes._subplots.AxesSubplot at 0x20788b0b0a0>"
      ]
     },
     "execution_count": 111,
     "metadata": {},
     "output_type": "execute_result"
    },
    {
     "data": {
      "image/png": "[encoded data removed]",
      "text/plain": [
       "<Figure size 432x288 with 1 Axes>"
      ]
     },
     "metadata": {
      "needs_background": "light"
     },
     "output_type": "display_data"
    }
   ],
   "source": [
    "\n",
    "def outlier_treatment(datacolumn):\n",
    "    sorted(datacolumn)\n",
    "    Q1,Q3 = np.percentile(datacolumn , [25,75])\n",
    "    IQR = Q3-Q1\n",
    "    lower_range = Q1 - (1.5 * IQR)\n",
    "    upper_range = Q3 + (1.5 * IQR)\n",
    "    return lower_range,upper_range\n",
    "\n",
    "l,u = outlier_treatment(md['mintemp'])\n",
    "md.drop(md[ (md['mintemp'] > u) | (md['mintemp'] < l) ].index , inplace=True)\n",
    "md[['mintemp']].plot.box(vert=False)\n"
   ]
  },
  {
   "cell_type": "code",
   "execution_count": 112,
   "metadata": {},
   "outputs": [
    {
     "data": {
      "text/plain": [
       "<matplotlib.axes._subplots.AxesSubplot at 0x20788c7f9d0>"
      ]
     },
     "execution_count": 112,
     "metadata": {},
     "output_type": "execute_result"
    },
    {
     "data": {
      "image/png": "[encoded data removed]",
      "text/plain": [
       "<Figure size 432x288 with 1 Axes>"
      ]
     },
     "metadata": {
      "needs_background": "light"
     },
     "output_type": "display_data"
    }
   ],
   "source": [
    "l,u = outlier_treatment(md['maxtemp'])\n",
    "md.drop(md[ (md['maxtemp'] > u) | (md['maxtemp'] < l) ].index , inplace=True)\n",
    "md[['maxtemp']].plot.box(vert=False)\n",
    "\n"
   ]
  },
  {
   "cell_type": "code",
   "execution_count": 113,
   "metadata": {},
   "outputs": [
    {
     "data": {
      "text/plain": [
       "<matplotlib.axes._subplots.AxesSubplot at 0x20788cb9fa0>"
      ]
     },
     "execution_count": 113,
     "metadata": {},
     "output_type": "execute_result"
    },
    {
     "data": {
      "image/png": "[encoded data removed]",
      "text/plain": [
       "<Figure size 432x288 with 1 Axes>"
      ]
     },
     "metadata": {
      "needs_background": "light"
     },
     "output_type": "display_data"
    }
   ],
   "source": [
    "\n",
    "l,u = outlier_treatment(md['rainfall'])\n",
    "md=md[md['rainfall']>0]\n",
    "md.drop(md[ (md['rainfall'] > u) | (md['rainfall'] < l) ].index , inplace=True)\n",
    "md[['rainfall']].plot.box(vert=False)\n"
   ]
  },
  {
   "cell_type": "code",
   "execution_count": 114,
   "metadata": {},
   "outputs": [
    {
     "data": {
      "text/plain": [
       "<matplotlib.axes._subplots.AxesSubplot at 0x20788cb97f0>"
      ]
     },
     "execution_count": 114,
     "metadata": {},
     "output_type": "execute_result"
    },
    {
     "data": {
      "image/png": "[encoded data removed]",
      "text/plain": [
       "<Figure size 432x288 with 1 Axes>"
      ]
     },
     "metadata": {
      "needs_background": "light"
     },
     "output_type": "display_data"
    }
   ],
   "source": [
    "l,u = outlier_treatment(md['spd_maxgust'])\n",
    "md.drop(md[ (md['spd_maxgust'] > u) | (md['spd_maxgust'] < l) ].index , inplace=True)\n",
    "md[['spd_maxgust']].plot.box(vert=False)\n"
   ]
  },
  {
   "cell_type": "code",
   "execution_count": 115,
   "metadata": {},
   "outputs": [
    {
     "data": {
      "text/plain": [
       "<matplotlib.axes._subplots.AxesSubplot at 0x20788d61c40>"
      ]
     },
     "execution_count": 115,
     "metadata": {},
     "output_type": "execute_result"
    },
    {
     "data": {
      "image/png": "[encoded data removed]",
      "text/plain": [
       "<Figure size 432x288 with 1 Axes>"
      ]
     },
     "metadata": {
      "needs_background": "light"
     },
     "output_type": "display_data"
    }
   ],
   "source": [
    "l,u = outlier_treatment(md['o3'])\n",
    "md.drop(md[ (md['o3'] > u) | (md['o3'] < l) ].index , inplace=True)\n",
    "md[['o3']].plot.box(vert=False)\n"
   ]
  },
  {
   "cell_type": "code",
   "execution_count": 116,
   "metadata": {},
   "outputs": [
    {
     "data": {
      "text/plain": [
       "<matplotlib.axes._subplots.AxesSubplot at 0x20788daedf0>"
      ]
     },
     "execution_count": 116,
     "metadata": {},
     "output_type": "execute_result"
    },
    {
     "data": {
      "image/png": "[encoded data removed]",
      "text/plain": [
       "<Figure size 432x288 with 1 Axes>"
      ]
     },
     "metadata": {
      "needs_background": "light"
     },
     "output_type": "display_data"
    }
   ],
   "source": [
    "l,u = outlier_treatment(md['so2'])\n",
    "md.drop(md[ (md['so2'] > u) | (md['so2'] < l) ].index , inplace=True)\n",
    "md[['so2']].plot.box(vert=False)\n"
   ]
  },
  {
   "cell_type": "code",
   "execution_count": 117,
   "metadata": {},
   "outputs": [
    {
     "data": {
      "text/plain": [
       "<matplotlib.axes._subplots.AxesSubplot at 0x20788e106d0>"
      ]
     },
     "execution_count": 117,
     "metadata": {},
     "output_type": "execute_result"
    },
    {
     "data": {
      "image/png": "[encoded data removed]",
      "text/plain": [
       "<Figure size 432x288 with 1 Axes>"
      ]
     },
     "metadata": {
      "needs_background": "light"
     },
     "output_type": "display_data"
    }
   ],
   "source": [
    "l,u = outlier_treatment(md['no2'])\n",
    "md.drop(md[ (md['no2'] > u) | (md['no2'] < l) ].index , inplace=True)\n",
    "md[['no2']].plot.box(vert=False)\n"
   ]
  },
  {
   "cell_type": "code",
   "execution_count": 93,
   "metadata": {},
   "outputs": [
    {
     "data": {
      "text/plain": [
       "<matplotlib.axes._subplots.AxesSubplot at 0x20788789dc0>"
      ]
     },
     "execution_count": 93,
     "metadata": {},
     "output_type": "execute_result"
    },
    {
     "data": {
      "image/png": "[encoded data removed]",
      "text/plain": [
       "<Figure size 432x288 with 1 Axes>"
      ]
     },
     "metadata": {
      "needs_background": "light"
     },
     "output_type": "display_data"
    }
   ],
   "source": [
    "l,u = outlier_treatment(md['co'])\n",
    "md.drop(md[ (md['co'] > u) | (md['co'] < l) ].index , inplace=True)\n",
    "md[['co']].plot.box(vert=False)\n"
   ]
  },
  {
   "cell_type": "code",
   "execution_count": 118,
   "metadata": {},
   "outputs": [
    {
     "data": {
      "text/plain": [
       "<matplotlib.axes._subplots.AxesSubplot at 0x20787f1d820>"
      ]
     },
     "execution_count": 118,
     "metadata": {},
     "output_type": "execute_result"
    },
    {
     "data": {
      "image/png": "[encoded data removed]",
      "text/plain": [
       "<Figure size 432x288 with 1 Axes>"
      ]
     },
     "metadata": {
      "needs_background": "light"
     },
     "output_type": "display_data"
    }
   ],
   "source": [
    "l,u = outlier_treatment(md['AQI(25)'])\n",
    "md.drop(md[ (md['AQI(25)'] > u) | (md['AQI(25)'] < l) ].index , inplace=True)\n",
    "md[['AQI(25)']].plot.box(vert=False)\n"
   ]
  },
  {
   "cell_type": "code",
   "execution_count": 119,
   "metadata": {},
   "outputs": [
    {
     "data": {
      "text/plain": [
       "<matplotlib.axes._subplots.AxesSubplot at 0x20788b33df0>"
      ]
     },
     "execution_count": 119,
     "metadata": {},
     "output_type": "execute_result"
    },
    {
     "data": {
      "image/png": "[encoded data removed]",
      "text/plain": [
       "<Figure size 432x288 with 1 Axes>"
      ]
     },
     "metadata": {
      "needs_background": "light"
     },
     "output_type": "display_data"
    }
   ],
   "source": [
    "l,u = outlier_treatment(md['AQI(10)'])\n",
    "md.drop(md[ (md['AQI(10)'] > u) | (md['AQI(10)'] < l) ].index , inplace=True)\n",
    "md[['AQI(10)']].plot.box(vert=False)\n"
   ]
  },
  {
   "cell_type": "code",
   "execution_count": 120,
   "metadata": {},
   "outputs": [],
   "source": [
    "#exporting the outlier free csv\n",
    "md.to_csv('Outlier_free_data_BOM.csv')"
   ]
  },
  {
   "cell_type": "code",
   "execution_count": 121,
   "metadata": {},
   "outputs": [
    {
     "data": {
      "text/plain": [
       "<matplotlib.axes._subplots.AxesSubplot at 0x207889bd760>"
      ]
     },
     "execution_count": 121,
     "metadata": {},
     "output_type": "execute_result"
    },
    {
     "data": {
      "image/png": "[encoded data removed]",
      "text/plain": [
       "<Figure size 432x288 with 1 Axes>"
      ]
     },
     "metadata": {
      "needs_background": "light"
     },
     "output_type": "display_data"
    }
   ],
   "source": [
    "#Boxplot for features after removal of outliers\n",
    "md[['mintemp','maxtemp','rainfall','spd_maxgust','o3','no2','so2','co','AQI(25)','AQI(10)']].plot.box(vert = False, grid = True)\n"
   ]
  },
  {
   "cell_type": "code",
   "execution_count": 97,
   "metadata": {},
   "outputs": [],
   "source": [
    "md=md.drop(['dir_maxgust','no2','co','so2'],axis=1)"
   ]
  },
  {
   "cell_type": "code",
   "execution_count": 130,
   "metadata": {},
   "outputs": [],
   "source": [
    "#Import libraries for modelling\n",
    "from sklearn.model_selection import train_test_split\n",
    "from sklearn.ensemble import RandomForestRegressor\n",
    "from matplotlib import pyplot\n",
    "from sklearn.metrics import accuracy_score\n",
    "from sklearn.metrics import r2_score\n",
    "from sklearn.metrics import mean_squared_error as mse\n",
    "from sklearn.metrics import mean_squared_error\n",
    "import datetime as dt\n",
    "from pprint import pprint\n",
    "from sklearn.model_selection import GridSearchCV\n",
    "from sklearn.ensemble import GradientBoostingRegressor as gbr\n",
    "from xgboost import XGBRFRegressor\n",
    "from sklearn.model_selection import cross_val_score, KFold"
   ]
  },
  {
   "cell_type": "code",
   "execution_count": 99,
   "metadata": {},
   "outputs": [],
   "source": [
    "#Training and testing dataset\n",
    "trdt=md[md['date'].dt.year <= 2020]\n",
    "tsdt=md[md['date'].dt.year > 2020]\n"
   ]
  },
  {
   "cell_type": "code",
   "execution_count": 100,
   "metadata": {},
   "outputs": [
    {
     "name": "stderr",
     "output_type": "stream",
     "text": [
      "<ipython-input-100-eb87b85a10cc>:8: DataConversionWarning: A column-vector y was passed when a 1d array was expected. Please change the shape of y to (n_samples,), for example using ravel().\n",
      "  model.fit(xtrain, ytrain)\n"
     ]
    },
    {
     "name": "stdout",
     "output_type": "stream",
     "text": [
      "Feature: 0, Score: 0.30254\n",
      "Feature: 1, Score: 0.25889\n",
      "Feature: 2, Score: 0.10518\n",
      "Feature: 3, Score: 0.18165\n",
      "Feature: 4, Score: 0.15174\n"
     ]
    },
    {
     "data": {
      "image/png": "[encoded data removed]",
      "text/plain": [
       "<Figure size 432x288 with 1 Axes>"
      ]
     },
     "metadata": {
      "needs_background": "light"
     },
     "output_type": "display_data"
    },
    {
     "name": "stdout",
     "output_type": "stream",
     "text": [
      "Index(['date', 'mintemp', 'maxtemp', 'rainfall', 'spd_maxgust', 'o3',\n",
      "       'AQI(25)', 'AQI(10)'],\n",
      "      dtype='object')\n"
     ]
    }
   ],
   "source": [
    "#Finding the important features according to random forest regressor\n",
    "ytrain=trdt[['AQI(25)']]\n",
    "xtrain=trdt.drop(['AQI(25)','AQI(10)','date'],axis=1)\n",
    "ytest=tsdt[['AQI(25)']]\n",
    "xtest=tsdt.drop(['AQI(25)','AQI(10)','date'],axis=1)\n",
    "\n",
    "model = RandomForestRegressor()\n",
    "model.fit(xtrain, ytrain)\n",
    "importance = model.feature_importances_\n",
    "\n",
    "for i,v in enumerate(importance):\n",
    "    print('Feature: %0d, Score: %.5f' % (i,v))\n",
    "\n",
    "pyplot.bar([x for x in range(len(importance))], importance)\n",
    "pyplot.show()\n",
    "print(md.columns)"
   ]
  },
  {
   "cell_type": "code",
   "execution_count": 136,
   "metadata": {},
   "outputs": [
    {
     "name": "stdout",
     "output_type": "stream",
     "text": [
      "R2 Score: -1.380\n",
      "MSE: 200.981\n"
     ]
    },
    {
     "name": "stderr",
     "output_type": "stream",
     "text": [
      "<ipython-input-136-ffcc9745e40e>:8: DataConversionWarning: A column-vector y was passed when a 1d array was expected. Please change the shape of y to (n_samples,), for example using ravel().\n",
      "  model.fit(xtrain, ytrain)\n"
     ]
    }
   ],
   "source": [
    "#Model Fitting (Random Forest Regressor)\n",
    "ytrain=trdt[['AQI(10)']]\n",
    "xtrain=trdt.drop(['AQI(25)','AQI(10)','date','rainfall','maxtemp'],axis=1)\n",
    "ytest=tsdt[['AQI(10)']]\n",
    "xtest=tsdt.drop(['AQI(25)','AQI(10)','date','rainfall','maxtemp'],axis=1)\n",
    "\n",
    "model = RandomForestRegressor(random_state=22)\n",
    "model.fit(xtrain, ytrain)\n",
    "ypred = model.predict(xtest)\n",
    "\n",
    "#R2 score and mse for the model\n",
    "print('R2 Score: %.3f' %r2_score(ytest,ypred))\n",
    "print('MSE: %.3f' %mse(ytest,ypred))\n"
   ]
  },
  {
   "cell_type": "code",
   "execution_count": 137,
   "metadata": {},
   "outputs": [
    {
     "name": "stdout",
     "output_type": "stream",
     "text": [
      "RMSE:14.177\n"
     ]
    }
   ],
   "source": [
    "#RMSE for the model\n",
    "rms = mean_squared_error(ytest, ypred, squared=False)\n",
    "print('RMSE:%.3f' %rms)"
   ]
  },
  {
   "cell_type": "code",
   "execution_count": 103,
   "metadata": {},
   "outputs": [
    {
     "name": "stdout",
     "output_type": "stream",
     "text": [
      "{'bootstrap': True,\n",
      " 'ccp_alpha': 0.0,\n",
      " 'criterion': 'mse',\n",
      " 'max_depth': None,\n",
      " 'max_features': 'auto',\n",
      " 'max_leaf_nodes': None,\n",
      " 'max_samples': None,\n",
      " 'min_impurity_decrease': 0.0,\n",
      " 'min_impurity_split': None,\n",
      " 'min_samples_leaf': 1,\n",
      " 'min_samples_split': 2,\n",
      " 'min_weight_fraction_leaf': 0.0,\n",
      " 'n_estimators': 100,\n",
      " 'n_jobs': None,\n",
      " 'oob_score': False,\n",
      " 'random_state': 22,\n",
      " 'verbose': 0,\n",
      " 'warm_start': False}\n"
     ]
    }
   ],
   "source": [
    "#Parameters for the model without optimisation\n",
    "pprint(model.get_params())"
   ]
  },
  {
   "cell_type": "code",
   "execution_count": 104,
   "metadata": {},
   "outputs": [
    {
     "name": "stdout",
     "output_type": "stream",
     "text": [
      "Fitting 3 folds for each of 960 candidates, totalling 2880 fits\n"
     ]
    },
    {
     "name": "stderr",
     "output_type": "stream",
     "text": [
      "[Parallel(n_jobs=-1)]: Using backend LokyBackend with 8 concurrent workers.\n",
      "[Parallel(n_jobs=-1)]: Done  25 tasks      | elapsed:   15.9s\n",
      "[Parallel(n_jobs=-1)]: Done 146 tasks      | elapsed:   42.5s\n",
      "[Parallel(n_jobs=-1)]: Done 349 tasks      | elapsed:  1.5min\n",
      "[Parallel(n_jobs=-1)]: Done 632 tasks      | elapsed:  2.6min\n",
      "[Parallel(n_jobs=-1)]: Done 997 tasks      | elapsed:  3.9min\n",
      "[Parallel(n_jobs=-1)]: Done 1442 tasks      | elapsed:  5.6min\n",
      "[Parallel(n_jobs=-1)]: Done 1969 tasks      | elapsed:  7.1min\n",
      "[Parallel(n_jobs=-1)]: Done 2576 tasks      | elapsed:  9.0min\n",
      "[Parallel(n_jobs=-1)]: Done 2880 out of 2880 | elapsed:  9.9min finished\n",
      "C:\\Users\\shibe\\anaconda\\lib\\site-packages\\sklearn\\model_selection\\_search.py:765: DataConversionWarning: A column-vector y was passed when a 1d array was expected. Please change the shape of y to (n_samples,), for example using ravel().\n",
      "  self.best_estimator_.fit(X, y, **fit_params)\n"
     ]
    },
    {
     "name": "stdout",
     "output_type": "stream",
     "text": [
      "{'bootstrap': True, 'max_depth': 70, 'max_features': 2, 'min_samples_leaf': 5, 'min_samples_split': 14, 'n_estimators': 200}\n"
     ]
    }
   ],
   "source": [
    "\n",
    "# Create the parameter grid based on the results of random search \n",
    "param_grid = {\n",
    "    'bootstrap': [True,False],\n",
    "    'max_depth': [70,80, 90, 100, 110],\n",
    "    'max_features': [2, 3],\n",
    "    'min_samples_leaf': [3, 4, 5],\n",
    "    'min_samples_split': [8, 10, 12, 14],\n",
    "    'n_estimators': [100, 200, 300, 1000]\n",
    "}\n",
    "\n",
    "# Create a model\n",
    "model = RandomForestRegressor()\n",
    "\n",
    "# Instantiate the grid search model\n",
    "grid_search = GridSearchCV(estimator = model, param_grid = param_grid, cv = 3, n_jobs = -1, verbose = 2)\n",
    "grid_search.fit(xtrain, ytrain)\n",
    "\n",
    "# Extracting the optimised parameters\n",
    "print(grid_search.best_params_)\n",
    "\n"
   ]
  },
  {
   "cell_type": "code",
   "execution_count": 138,
   "metadata": {},
   "outputs": [
    {
     "name": "stderr",
     "output_type": "stream",
     "text": [
      "<ipython-input-138-0d6e1335ffd9>:4: DataConversionWarning: A column-vector y was passed when a 1d array was expected. Please change the shape of y to (n_samples,), for example using ravel().\n",
      "  model.fit(xtrain, ytrain)\n"
     ]
    },
    {
     "name": "stdout",
     "output_type": "stream",
     "text": [
      "R2 score: -1.000\n",
      "MSE: 168.912\n",
      "RMSE: 12.997\n"
     ]
    }
   ],
   "source": [
    "#Best model after hyperparamter optimisation \n",
    "best_model=grid_search.best_estimator_\n",
    "model = RandomForestRegressor(random_state=22,bootstrap=True,max_depth=70,max_features=2,min_samples_leaf=5,min_samples_split=14,n_estimators=200)\n",
    "model.fit(xtrain, ytrain)\n",
    "ypred = model.predict(xtest)\n",
    "#R2-score\n",
    "print('R2 score: %.3f' %r2_score(ytest,ypred))\n",
    "rms = mean_squared_error(ytest, ypred, squared=False)\n",
    "\n",
    "#MSE and RMSE\n",
    "print('MSE: %.3f' %mse(ytest,ypred))\n",
    "print('RMSE: %.3f' %rms)"
   ]
  },
  {
   "cell_type": "markdown",
   "metadata": {},
   "source": [
    "Gradient Boosting Regressor"
   ]
  },
  {
   "cell_type": "code",
   "execution_count": 139,
   "metadata": {},
   "outputs": [
    {
     "name": "stdout",
     "output_type": "stream",
     "text": [
      "R2 score: -1.496\n",
      "MSE: 210.745\n",
      "RMSE: 14.517\n"
     ]
    },
    {
     "name": "stderr",
     "output_type": "stream",
     "text": [
      "C:\\Users\\shibe\\anaconda\\lib\\site-packages\\sklearn\\utils\\validation.py:73: DataConversionWarning: A column-vector y was passed when a 1d array was expected. Please change the shape of y to (n_samples, ), for example using ravel().\n",
      "  return f(**kwargs)\n"
     ]
    }
   ],
   "source": [
    "#Gradient Boosting Regressor\n",
    "model=gbr(random_state=22)\n",
    "model.fit(xtrain, ytrain)\n",
    "ypred = model.predict(xtest)\n",
    "#R2-score\n",
    "print('R2 score: %.3f' %r2_score(ytest,ypred))\n",
    "rms = mean_squared_error(ytest, ypred, squared=False)\n",
    "\n",
    "#MSE and RMSE\n",
    "print('MSE: %.3f' %mse(ytest,ypred))\n",
    "print('RMSE: %.3f' %rms)"
   ]
  },
  {
   "cell_type": "code",
   "execution_count": null,
   "metadata": {},
   "outputs": [
    {
     "name": "stdout",
     "output_type": "stream",
     "text": [
      "Fitting 3 folds for each of 2160 candidates, totalling 6480 fits\n"
     ]
    },
    {
     "name": "stderr",
     "output_type": "stream",
     "text": [
      "[Parallel(n_jobs=-1)]: Using backend LokyBackend with 8 concurrent workers.\n",
      "[Parallel(n_jobs=-1)]: Done  25 tasks      | elapsed:    7.3s\n",
      "[Parallel(n_jobs=-1)]: Done 146 tasks      | elapsed:   12.6s\n",
      "[Parallel(n_jobs=-1)]: Done 349 tasks      | elapsed:   20.9s\n",
      "[Parallel(n_jobs=-1)]: Done 632 tasks      | elapsed:  1.0min\n",
      "[Parallel(n_jobs=-1)]: Done 997 tasks      | elapsed:  3.1min\n",
      "[Parallel(n_jobs=-1)]: Done 1442 tasks      | elapsed:  6.4min\n"
     ]
    }
   ],
   "source": [
    "\n",
    "# Create the parameter grid based on the results of random search \n",
    "param_grid = {\n",
    "    'loss': ['ls', 'lad', 'huber', 'quantile'],\n",
    "    'max_depth': [70,80, 90, 100, 110],\n",
    "    'criterion': ['friedman_mse','mse','mae'],\n",
    "    'min_samples_leaf': [3, 4, 5],\n",
    "    'min_samples_split': [8, 10, 12, 14],\n",
    "    'n_estimators': [100, 200, 300]\n",
    "}\n",
    "\n",
    "# Create a model\n",
    "model = gbr()\n",
    "\n",
    "# Instantiate the grid search model\n",
    "grid_search = GridSearchCV(estimator = model, param_grid = param_grid, cv = 3, n_jobs = -1, verbose = 2)\n",
    "grid_search.fit(xtrain, ytrain)\n",
    "\n",
    "# Extracting the optimised parameters\n",
    "print(grid_search.best_params_)\n"
   ]
  },
  {
   "cell_type": "code",
   "execution_count": 142,
   "metadata": {},
   "outputs": [
    {
     "name": "stderr",
     "output_type": "stream",
     "text": [
      "C:\\Users\\shibe\\anaconda\\lib\\site-packages\\sklearn\\utils\\validation.py:73: DataConversionWarning: A column-vector y was passed when a 1d array was expected. Please change the shape of y to (n_samples, ), for example using ravel().\n",
      "  return f(**kwargs)\n"
     ]
    },
    {
     "name": "stdout",
     "output_type": "stream",
     "text": [
      "R2 score: -1.914\n",
      "MSE: 246.028\n",
      "RMSE: 15.685\n"
     ]
    }
   ],
   "source": [
    "best_model=grid_search.best_estimator_\n",
    "model = gbr(random_state=22,criterion='mae',loss='lad',max_depth=70,min_samples_leaf=5,min_samples_split=14,n_estimators=100)\n",
    "model.fit(xtrain, ytrain)\n",
    "ypred = model.predict(xtest)\n",
    "#R2-score\n",
    "print('R2 score: %.3f' %r2_score(ytest,ypred))\n",
    "rms = mean_squared_error(ytest, ypred, squared=False)\n",
    "\n",
    "#MSE and RMSE\n",
    "print('MSE: %.3f' %mse(ytest,ypred))\n",
    "print('RMSE: %.3f' %rms)"
   ]
  },
  {
   "cell_type": "markdown",
   "metadata": {},
   "source": [
    "XGBoost"
   ]
  },
  {
   "cell_type": "code",
   "execution_count": 143,
   "metadata": {},
   "outputs": [
    {
     "name": "stdout",
     "output_type": "stream",
     "text": [
      "R2 score: -1.179\n",
      "MSE: 183.982\n",
      "RMSE: 13.564\n"
     ]
    },
    {
     "name": "stderr",
     "output_type": "stream",
     "text": [
      "C:\\Users\\shibe\\anaconda\\lib\\site-packages\\xgboost\\data.py:112: UserWarning: Use subset (sliced data) of np.ndarray is not recommended because it will generate extra copies and increase memory consumption\n",
      "  warnings.warn(\n"
     ]
    }
   ],
   "source": [
    "model = XGBRFRegressor(n_estimators=100,random_state=22)\n",
    "model.fit(xtrain, ytrain)\n",
    "ypred = model.predict(xtest)\n",
    "#R2-score\n",
    "print('R2 score: %.3f' %r2_score(ytest,ypred))\n",
    "rms = mean_squared_error(ytest, ypred, squared=False)\n",
    "\n",
    "#MSE and RMSE\n",
    "print('MSE: %.3f' %mse(ytest,ypred))\n",
    "print('RMSE: %.3f' %rms)"
   ]
  }
 ],
 "metadata": {
  "kernelspec": {
   "display_name": "Python 3",
   "language": "python",
   "name": "python3"
  },
  "language_info": {
   "codemirror_mode": {
    "name": "ipython",
    "version": 3
   },
   "file_extension": ".py",
   "mimetype": "text/x-python",
   "name": "python",
   "nbconvert_exporter": "python",
   "pygments_lexer": "ipython3",
   "version": "3.8.3"
  }
 },
 "nbformat": 4,
 "nbformat_minor": 4
}
