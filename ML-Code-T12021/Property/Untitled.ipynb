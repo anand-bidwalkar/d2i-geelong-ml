{
 "cells": [
  {
   "cell_type": "code",
   "execution_count": 3,
   "metadata": {},
   "outputs": [],
   "source": [
    "import pickle\n",
    "import os"
   ]
  },
  {
   "cell_type": "code",
   "execution_count": 6,
   "metadata": {},
   "outputs": [
    {
     "name": "stderr",
     "output_type": "stream",
     "text": [
      "C:\\Users\\bidwa\\anaconda3\\lib\\site-packages\\sklearn\\base.py:329: UserWarning: Trying to unpickle estimator StandardScaler from version 0.22.2.post1 when using version 0.23.2. This might lead to breaking code or invalid results. Use at your own risk.\n",
      "  warnings.warn(\n"
     ]
    }
   ],
   "source": [
    "\n",
    "transformer=pickle.load(open('scaler.pkl','rb'))\n"
   ]
  },
  {
   "cell_type": "code",
   "execution_count": 8,
   "metadata": {},
   "outputs": [],
   "source": [
    "from pandas import DataFrame\n",
    "\n",
    "data = [0.0, 0.0, 0.0, 0.0, 0.0, 0.0, 0.0, 0.0, 0.0, 0.0, 0.0, 0.0, 0.0, 0.0, 0.0, 1.0, 0.0, 0.0, 0.0, 0.0, 0.0, 0.0, 0.0, 0.0, 0.0, 0.0, 0.0, 0.0, 0.0, 0.0, 0.0, 1.0, 2.0, 1.0, 2.0, 1.0, 2.0, 1.0, 6.0, 20.0, 20.0, 2.0, 12.0, 1.0, 2.0, 1.0, 1.0, 2.0]\n",
    "\n",
    "df = DataFrame(data)"
   ]
  },
  {
   "cell_type": "code",
   "execution_count": 10,
   "metadata": {},
   "outputs": [],
   "source": [
    "\n",
    "\n",
    "transformed_data = transformer.fit_transform(df)"
   ]
  },
  {
   "cell_type": "code",
   "execution_count": 19,
   "metadata": {},
   "outputs": [
    {
     "data": {
      "text/plain": [
       "43"
      ]
     },
     "execution_count": 19,
     "metadata": {},
     "output_type": "execute_result"
    }
   ],
   "source": [
    "sd = [x[0] for x in transformed_data]\n",
    "\n",
    "len(gg)"
   ]
  },
  {
   "cell_type": "code",
   "execution_count": 18,
   "metadata": {},
   "outputs": [],
   "source": [
    "gg = [-0.1757514 , -0.20516039, -0.1733424 , -0.17891894, -0.15150697, -0.25129471, -0.08934747, -0.19698815, -0.0114897 , -0.17535193, -0.23453415, -0.19297634, -0.24073388, -0.17694507, -0.17008359, -0.24226433, -0.18358032, -0.14594362, -0.1114817 , -0.18396411, 4.21336863, -0.15466788, -0.17970317, -0.12025682, -0.1510505 , -0.1733424 , -0.24560518, -0.23106851, -0.13671259, -0.17813169, -0.16593038, -0.89204626, -0.15486641, 1.28186264, -1.4355897 , 1.71513181, 0.50608067, 0.33641913, -0.10485671, 0.8798558 , 0.20485536, -0.44898334, 1.61358235]"
   ]
  },
  {
   "cell_type": "code",
   "execution_count": 20,
   "metadata": {},
   "outputs": [],
   "source": [
    "sub_list = ['Armstrong Creek', 'Bell Park', 'Bell Post Hill', 'Belmont', 'BreakWater', 'Corio', 'Drumcondra',\n",
    "             'East Geelong', 'Freshwater Creek', 'Geelong', 'Geelong West', 'Grovedale', 'Hamlyn Heights', 'Herne Hill', \n",
    "              'Highton', 'Lara', 'Manifold Heights', 'Marshall', 'Mount Duneed', 'Newcomb', 'Newtown', 'Norlane', \n",
    "              'North Geelong', 'North Shore', 'RippleSide', 'South Geelong', 'St Albans Park', 'Thomson',\n",
    "               'Wandana Heights', 'Waurn Ponds', 'Whittington']\n",
    "\n",
    "def get_suburb_encoder(sub_selection):\n",
    "    sub_length = len(sub_list)\n",
    "    sub_encoder = [0 for x in range(0, sub_length)]\n",
    "    sub_encoder[int(sub_selection)] = 1\n",
    "    return sub_encoder"
   ]
  },
  {
   "cell_type": "code",
   "execution_count": 24,
   "metadata": {},
   "outputs": [],
   "source": [
    "d = []\n",
    "\n",
    "d.extend(get_suburb_encoder(1))"
   ]
  },
  {
   "cell_type": "code",
   "execution_count": 25,
   "metadata": {},
   "outputs": [
    {
     "data": {
      "text/plain": [
       "31"
      ]
     },
     "execution_count": 25,
     "metadata": {},
     "output_type": "execute_result"
    }
   ],
   "source": [
    "len(d)"
   ]
  },
  {
   "cell_type": "code",
   "execution_count": 26,
   "metadata": {},
   "outputs": [],
   "source": [
    "d.extend([1])"
   ]
  },
  {
   "cell_type": "code",
   "execution_count": 27,
   "metadata": {},
   "outputs": [
    {
     "data": {
      "text/plain": [
       "[0,\n",
       " 1,\n",
       " 0,\n",
       " 0,\n",
       " 0,\n",
       " 0,\n",
       " 0,\n",
       " 0,\n",
       " 0,\n",
       " 0,\n",
       " 0,\n",
       " 0,\n",
       " 0,\n",
       " 0,\n",
       " 0,\n",
       " 0,\n",
       " 0,\n",
       " 0,\n",
       " 0,\n",
       " 0,\n",
       " 0,\n",
       " 0,\n",
       " 0,\n",
       " 0,\n",
       " 0,\n",
       " 0,\n",
       " 0,\n",
       " 0,\n",
       " 0,\n",
       " 0,\n",
       " 0,\n",
       " 1]"
      ]
     },
     "execution_count": 27,
     "metadata": {},
     "output_type": "execute_result"
    }
   ],
   "source": [
    "d"
   ]
  },
  {
   "cell_type": "code",
   "execution_count": null,
   "metadata": {},
   "outputs": [],
   "source": []
  }
 ],
 "metadata": {
  "kernelspec": {
   "display_name": "Python 3",
   "language": "python",
   "name": "python3"
  },
  "language_info": {
   "codemirror_mode": {
    "name": "ipython",
    "version": 3
   },
   "file_extension": ".py",
   "mimetype": "text/x-python",
   "name": "python",
   "nbconvert_exporter": "python",
   "pygments_lexer": "ipython3",
   "version": "3.8.5"
  }
 },
 "nbformat": 4,
 "nbformat_minor": 4
}
