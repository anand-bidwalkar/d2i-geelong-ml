{
 "cells": [
  {
   "cell_type": "markdown",
   "metadata": {
    "colab_type": "text",
    "id": "gQhIyRIHNIhu"
   },
   "source": [
    "# Decision Tree"
   ]
  },
  {
   "cell_type": "code",
   "execution_count": 1,
   "metadata": {},
   "outputs": [],
   "source": [
    "import pandas as pd\n",
    "import numpy as np\n",
    "import matplotlib.pyplot as plt\n",
    "%matplotlib inline\n",
    "\n"
   ]
  },
  {
   "cell_type": "code",
   "execution_count": 2,
   "metadata": {},
   "outputs": [
    {
     "data": {
      "text/html": [
       "<div>\n",
       "<style scoped>\n",
       "    .dataframe tbody tr th:only-of-type {\n",
       "        vertical-align: middle;\n",
       "    }\n",
       "\n",
       "    .dataframe tbody tr th {\n",
       "        vertical-align: top;\n",
       "    }\n",
       "\n",
       "    .dataframe thead th {\n",
       "        text-align: right;\n",
       "    }\n",
       "</style>\n",
       "<table border=\"1\" class=\"dataframe\">\n",
       "  <thead>\n",
       "    <tr style=\"text-align: right;\">\n",
       "      <th></th>\n",
       "      <th>Unnamed: 0</th>\n",
       "      <th>OBJECTID</th>\n",
       "      <th>ACCIDENT_NO</th>\n",
       "      <th>ABS_CODE</th>\n",
       "      <th>ACCIDENT_STATUS</th>\n",
       "      <th>ACCIDENT_DATE</th>\n",
       "      <th>ACCIDENT_TIME</th>\n",
       "      <th>ALCOHOLTIME</th>\n",
       "      <th>ACCIDENT_TYPE</th>\n",
       "      <th>DAY_OF_WEEK</th>\n",
       "      <th>...</th>\n",
       "      <th>DEG_URBAN_ALL</th>\n",
       "      <th>LGA_NAME_ALL</th>\n",
       "      <th>REGION_NAME_ALL</th>\n",
       "      <th>SRNS</th>\n",
       "      <th>SRNS_ALL</th>\n",
       "      <th>RMA</th>\n",
       "      <th>RMA_ALL</th>\n",
       "      <th>DIVIDED</th>\n",
       "      <th>DIVIDED_ALL</th>\n",
       "      <th>STAT_DIV_NAME</th>\n",
       "    </tr>\n",
       "  </thead>\n",
       "  <tbody>\n",
       "    <tr>\n",
       "      <th>0</th>\n",
       "      <td>173</td>\n",
       "      <td>3401917.0</td>\n",
       "      <td>T20130014230</td>\n",
       "      <td>ABS to receive accident</td>\n",
       "      <td>Finished</td>\n",
       "      <td>9/7/2013</td>\n",
       "      <td>16.07.00</td>\n",
       "      <td>No</td>\n",
       "      <td>Collision with vehicle</td>\n",
       "      <td>Tuesday</td>\n",
       "      <td>...</td>\n",
       "      <td>LARGE_PROVINCIAL_CITIES</td>\n",
       "      <td>GEELONG</td>\n",
       "      <td>SOUTH WESTERN REGION</td>\n",
       "      <td>B</td>\n",
       "      <td>B</td>\n",
       "      <td>Arterial Highway</td>\n",
       "      <td>Arterial Highway</td>\n",
       "      <td>Undivided</td>\n",
       "      <td>Undiv</td>\n",
       "      <td>Country</td>\n",
       "    </tr>\n",
       "    <tr>\n",
       "      <th>1</th>\n",
       "      <td>280</td>\n",
       "      <td>3402024.0</td>\n",
       "      <td>T20130014449</td>\n",
       "      <td>ABS to receive accident</td>\n",
       "      <td>Finished</td>\n",
       "      <td>12/7/2013</td>\n",
       "      <td>15.45.00</td>\n",
       "      <td>No</td>\n",
       "      <td>Collision with vehicle</td>\n",
       "      <td>Friday</td>\n",
       "      <td>...</td>\n",
       "      <td>RURAL_VICTORIA</td>\n",
       "      <td>GEELONG</td>\n",
       "      <td>SOUTH WESTERN REGION</td>\n",
       "      <td>C</td>\n",
       "      <td>C</td>\n",
       "      <td>Arterial Other</td>\n",
       "      <td>Arterial Other,Local Road</td>\n",
       "      <td>Undivided</td>\n",
       "      <td>Undiv</td>\n",
       "      <td>Country</td>\n",
       "    </tr>\n",
       "    <tr>\n",
       "      <th>2</th>\n",
       "      <td>431</td>\n",
       "      <td>3402175.0</td>\n",
       "      <td>T20130014588</td>\n",
       "      <td>ABS to receive accident</td>\n",
       "      <td>Finished</td>\n",
       "      <td>14/7/2013</td>\n",
       "      <td>15.50.00</td>\n",
       "      <td>No</td>\n",
       "      <td>Collision with vehicle</td>\n",
       "      <td>Sunday</td>\n",
       "      <td>...</td>\n",
       "      <td>LARGE_PROVINCIAL_CITIES</td>\n",
       "      <td>GEELONG</td>\n",
       "      <td>SOUTH WESTERN REGION</td>\n",
       "      <td>B</td>\n",
       "      <td>B</td>\n",
       "      <td>Arterial Highway</td>\n",
       "      <td>Arterial Highway</td>\n",
       "      <td>Undivided</td>\n",
       "      <td>Undiv</td>\n",
       "      <td>Country</td>\n",
       "    </tr>\n",
       "    <tr>\n",
       "      <th>3</th>\n",
       "      <td>435</td>\n",
       "      <td>3402179.0</td>\n",
       "      <td>T20130014602</td>\n",
       "      <td>ABS to receive accident</td>\n",
       "      <td>Finished</td>\n",
       "      <td>14/7/2013</td>\n",
       "      <td>15.47.00</td>\n",
       "      <td>No</td>\n",
       "      <td>Collision with vehicle</td>\n",
       "      <td>Sunday</td>\n",
       "      <td>...</td>\n",
       "      <td>LARGE_PROVINCIAL_CITIES</td>\n",
       "      <td>GEELONG</td>\n",
       "      <td>SOUTH WESTERN REGION</td>\n",
       "      <td>C</td>\n",
       "      <td>C</td>\n",
       "      <td>Arterial Other</td>\n",
       "      <td>Arterial Other,Local Road</td>\n",
       "      <td>Divided</td>\n",
       "      <td>Div,Undiv</td>\n",
       "      <td>Country</td>\n",
       "    </tr>\n",
       "    <tr>\n",
       "      <th>4</th>\n",
       "      <td>485</td>\n",
       "      <td>3402229.0</td>\n",
       "      <td>T20130014788</td>\n",
       "      <td>ABS to receive accident</td>\n",
       "      <td>Finished</td>\n",
       "      <td>17/7/2013</td>\n",
       "      <td>16.47.00</td>\n",
       "      <td>No</td>\n",
       "      <td>Collision with vehicle</td>\n",
       "      <td>Wednesday</td>\n",
       "      <td>...</td>\n",
       "      <td>RURAL_VICTORIA</td>\n",
       "      <td>GEELONG</td>\n",
       "      <td>SOUTH WESTERN REGION</td>\n",
       "      <td>C</td>\n",
       "      <td>C</td>\n",
       "      <td>Arterial Other</td>\n",
       "      <td>Arterial Other,Local Road</td>\n",
       "      <td>Undivided</td>\n",
       "      <td>Undiv</td>\n",
       "      <td>Country</td>\n",
       "    </tr>\n",
       "  </tbody>\n",
       "</table>\n",
       "<p>5 rows × 64 columns</p>\n",
       "</div>"
      ],
      "text/plain": [
       "   Unnamed: 0   OBJECTID   ACCIDENT_NO                 ABS_CODE  \\\n",
       "0         173  3401917.0  T20130014230  ABS to receive accident   \n",
       "1         280  3402024.0  T20130014449  ABS to receive accident   \n",
       "2         431  3402175.0  T20130014588  ABS to receive accident   \n",
       "3         435  3402179.0  T20130014602  ABS to receive accident   \n",
       "4         485  3402229.0  T20130014788  ABS to receive accident   \n",
       "\n",
       "  ACCIDENT_STATUS ACCIDENT_DATE ACCIDENT_TIME ALCOHOLTIME  \\\n",
       "0        Finished      9/7/2013      16.07.00          No   \n",
       "1        Finished     12/7/2013      15.45.00          No   \n",
       "2        Finished     14/7/2013      15.50.00          No   \n",
       "3        Finished     14/7/2013      15.47.00          No   \n",
       "4        Finished     17/7/2013      16.47.00          No   \n",
       "\n",
       "            ACCIDENT_TYPE DAY_OF_WEEK  ...            DEG_URBAN_ALL  \\\n",
       "0  Collision with vehicle     Tuesday  ...  LARGE_PROVINCIAL_CITIES   \n",
       "1  Collision with vehicle      Friday  ...           RURAL_VICTORIA   \n",
       "2  Collision with vehicle      Sunday  ...  LARGE_PROVINCIAL_CITIES   \n",
       "3  Collision with vehicle      Sunday  ...  LARGE_PROVINCIAL_CITIES   \n",
       "4  Collision with vehicle   Wednesday  ...           RURAL_VICTORIA   \n",
       "\n",
       "  LGA_NAME_ALL       REGION_NAME_ALL SRNS SRNS_ALL               RMA  \\\n",
       "0      GEELONG  SOUTH WESTERN REGION    B        B  Arterial Highway   \n",
       "1      GEELONG  SOUTH WESTERN REGION    C        C    Arterial Other   \n",
       "2      GEELONG  SOUTH WESTERN REGION    B        B  Arterial Highway   \n",
       "3      GEELONG  SOUTH WESTERN REGION    C        C    Arterial Other   \n",
       "4      GEELONG  SOUTH WESTERN REGION    C        C    Arterial Other   \n",
       "\n",
       "                     RMA_ALL    DIVIDED  DIVIDED_ALL  STAT_DIV_NAME  \n",
       "0           Arterial Highway  Undivided        Undiv        Country  \n",
       "1  Arterial Other,Local Road  Undivided        Undiv        Country  \n",
       "2           Arterial Highway  Undivided        Undiv        Country  \n",
       "3  Arterial Other,Local Road    Divided    Div,Undiv        Country  \n",
       "4  Arterial Other,Local Road  Undivided        Undiv        Country  \n",
       "\n",
       "[5 rows x 64 columns]"
      ]
     },
     "execution_count": 2,
     "metadata": {},
     "output_type": "execute_result"
    }
   ],
   "source": [
    "df=pd.read_csv('Geelong.csv')\n",
    "df.head()\n"
   ]
  },
  {
   "cell_type": "code",
   "execution_count": 3,
   "metadata": {},
   "outputs": [
    {
     "data": {
      "text/html": [
       "<div>\n",
       "<style scoped>\n",
       "    .dataframe tbody tr th:only-of-type {\n",
       "        vertical-align: middle;\n",
       "    }\n",
       "\n",
       "    .dataframe tbody tr th {\n",
       "        vertical-align: top;\n",
       "    }\n",
       "\n",
       "    .dataframe thead th {\n",
       "        text-align: right;\n",
       "    }\n",
       "</style>\n",
       "<table border=\"1\" class=\"dataframe\">\n",
       "  <thead>\n",
       "    <tr style=\"text-align: right;\">\n",
       "      <th></th>\n",
       "      <th>Unnamed: 0</th>\n",
       "      <th>ACCIDENT_TIME</th>\n",
       "      <th>ALCOHOLTIME</th>\n",
       "      <th>ACCIDENT_TYPE</th>\n",
       "      <th>DAY_OF_WEEK</th>\n",
       "      <th>LIGHT_CONDITION</th>\n",
       "      <th>ROAD_GEOMETRY</th>\n",
       "      <th>SEVERITY</th>\n",
       "      <th>SPEED_ZONE</th>\n",
       "      <th>RUN_OFFROAD</th>\n",
       "      <th>...</th>\n",
       "      <th>ALCOHOL_RELATED</th>\n",
       "      <th>UNLICENCSED</th>\n",
       "      <th>NO_OF_VEHICLES</th>\n",
       "      <th>HEAVYVEHICLE</th>\n",
       "      <th>PASSENGERVEHICLE</th>\n",
       "      <th>MOTORCYCLE</th>\n",
       "      <th>PUBLICVEHICLE</th>\n",
       "      <th>DEG_URBAN_NAME</th>\n",
       "      <th>RMA</th>\n",
       "      <th>DIVIDED</th>\n",
       "    </tr>\n",
       "  </thead>\n",
       "  <tbody>\n",
       "    <tr>\n",
       "      <th>0</th>\n",
       "      <td>173</td>\n",
       "      <td>16.07.00</td>\n",
       "      <td>No</td>\n",
       "      <td>Collision with vehicle</td>\n",
       "      <td>Tuesday</td>\n",
       "      <td>Day</td>\n",
       "      <td>Not at intersection</td>\n",
       "      <td>Other injury accident</td>\n",
       "      <td>60 km/hr</td>\n",
       "      <td>No</td>\n",
       "      <td>...</td>\n",
       "      <td>No</td>\n",
       "      <td>0.0</td>\n",
       "      <td>3.0</td>\n",
       "      <td>0.0</td>\n",
       "      <td>3.0</td>\n",
       "      <td>0.0</td>\n",
       "      <td>0.0</td>\n",
       "      <td>LARGE_PROVINCIAL_CITIES</td>\n",
       "      <td>Arterial Highway</td>\n",
       "      <td>Undivided</td>\n",
       "    </tr>\n",
       "    <tr>\n",
       "      <th>1</th>\n",
       "      <td>280</td>\n",
       "      <td>15.45.00</td>\n",
       "      <td>No</td>\n",
       "      <td>Collision with vehicle</td>\n",
       "      <td>Friday</td>\n",
       "      <td>Day</td>\n",
       "      <td>Cross intersection</td>\n",
       "      <td>Serious injury accident</td>\n",
       "      <td>100 km/hr</td>\n",
       "      <td>No</td>\n",
       "      <td>...</td>\n",
       "      <td>No</td>\n",
       "      <td>0.0</td>\n",
       "      <td>2.0</td>\n",
       "      <td>0.0</td>\n",
       "      <td>2.0</td>\n",
       "      <td>0.0</td>\n",
       "      <td>0.0</td>\n",
       "      <td>RURAL_VICTORIA</td>\n",
       "      <td>Arterial Other</td>\n",
       "      <td>Undivided</td>\n",
       "    </tr>\n",
       "    <tr>\n",
       "      <th>2</th>\n",
       "      <td>431</td>\n",
       "      <td>15.50.00</td>\n",
       "      <td>No</td>\n",
       "      <td>Collision with vehicle</td>\n",
       "      <td>Sunday</td>\n",
       "      <td>Day</td>\n",
       "      <td>Not at intersection</td>\n",
       "      <td>Serious injury accident</td>\n",
       "      <td>60 km/hr</td>\n",
       "      <td>No</td>\n",
       "      <td>...</td>\n",
       "      <td>No</td>\n",
       "      <td>0.0</td>\n",
       "      <td>4.0</td>\n",
       "      <td>0.0</td>\n",
       "      <td>4.0</td>\n",
       "      <td>0.0</td>\n",
       "      <td>0.0</td>\n",
       "      <td>LARGE_PROVINCIAL_CITIES</td>\n",
       "      <td>Arterial Highway</td>\n",
       "      <td>Undivided</td>\n",
       "    </tr>\n",
       "    <tr>\n",
       "      <th>3</th>\n",
       "      <td>435</td>\n",
       "      <td>15.47.00</td>\n",
       "      <td>No</td>\n",
       "      <td>Collision with vehicle</td>\n",
       "      <td>Sunday</td>\n",
       "      <td>Day</td>\n",
       "      <td>Cross intersection</td>\n",
       "      <td>Other injury accident</td>\n",
       "      <td>50 km/hr</td>\n",
       "      <td>No</td>\n",
       "      <td>...</td>\n",
       "      <td>No</td>\n",
       "      <td>0.0</td>\n",
       "      <td>2.0</td>\n",
       "      <td>0.0</td>\n",
       "      <td>2.0</td>\n",
       "      <td>0.0</td>\n",
       "      <td>0.0</td>\n",
       "      <td>LARGE_PROVINCIAL_CITIES</td>\n",
       "      <td>Arterial Other</td>\n",
       "      <td>Divided</td>\n",
       "    </tr>\n",
       "    <tr>\n",
       "      <th>4</th>\n",
       "      <td>485</td>\n",
       "      <td>16.47.00</td>\n",
       "      <td>No</td>\n",
       "      <td>Collision with vehicle</td>\n",
       "      <td>Wednesday</td>\n",
       "      <td>Day</td>\n",
       "      <td>T intersection</td>\n",
       "      <td>Other injury accident</td>\n",
       "      <td>70 km/hr</td>\n",
       "      <td>No</td>\n",
       "      <td>...</td>\n",
       "      <td>No</td>\n",
       "      <td>0.0</td>\n",
       "      <td>2.0</td>\n",
       "      <td>0.0</td>\n",
       "      <td>2.0</td>\n",
       "      <td>0.0</td>\n",
       "      <td>0.0</td>\n",
       "      <td>RURAL_VICTORIA</td>\n",
       "      <td>Arterial Other</td>\n",
       "      <td>Undivided</td>\n",
       "    </tr>\n",
       "  </tbody>\n",
       "</table>\n",
       "<p>5 rows × 45 columns</p>\n",
       "</div>"
      ],
      "text/plain": [
       "   Unnamed: 0 ACCIDENT_TIME ALCOHOLTIME           ACCIDENT_TYPE DAY_OF_WEEK  \\\n",
       "0         173      16.07.00          No  Collision with vehicle     Tuesday   \n",
       "1         280      15.45.00          No  Collision with vehicle      Friday   \n",
       "2         431      15.50.00          No  Collision with vehicle      Sunday   \n",
       "3         435      15.47.00          No  Collision with vehicle      Sunday   \n",
       "4         485      16.47.00          No  Collision with vehicle   Wednesday   \n",
       "\n",
       "  LIGHT_CONDITION        ROAD_GEOMETRY                 SEVERITY SPEED_ZONE  \\\n",
       "0             Day  Not at intersection    Other injury accident   60 km/hr   \n",
       "1             Day   Cross intersection  Serious injury accident  100 km/hr   \n",
       "2             Day  Not at intersection  Serious injury accident   60 km/hr   \n",
       "3             Day   Cross intersection    Other injury accident   50 km/hr   \n",
       "4             Day       T intersection    Other injury accident   70 km/hr   \n",
       "\n",
       "  RUN_OFFROAD  ...  ALCOHOL_RELATED  UNLICENCSED NO_OF_VEHICLES HEAVYVEHICLE  \\\n",
       "0          No  ...               No          0.0            3.0          0.0   \n",
       "1          No  ...               No          0.0            2.0          0.0   \n",
       "2          No  ...               No          0.0            4.0          0.0   \n",
       "3          No  ...               No          0.0            2.0          0.0   \n",
       "4          No  ...               No          0.0            2.0          0.0   \n",
       "\n",
       "  PASSENGERVEHICLE  MOTORCYCLE  PUBLICVEHICLE           DEG_URBAN_NAME  \\\n",
       "0              3.0         0.0            0.0  LARGE_PROVINCIAL_CITIES   \n",
       "1              2.0         0.0            0.0           RURAL_VICTORIA   \n",
       "2              4.0         0.0            0.0  LARGE_PROVINCIAL_CITIES   \n",
       "3              2.0         0.0            0.0  LARGE_PROVINCIAL_CITIES   \n",
       "4              2.0         0.0            0.0           RURAL_VICTORIA   \n",
       "\n",
       "                RMA    DIVIDED  \n",
       "0  Arterial Highway  Undivided  \n",
       "1    Arterial Other  Undivided  \n",
       "2  Arterial Highway  Undivided  \n",
       "3    Arterial Other    Divided  \n",
       "4    Arterial Other  Undivided  \n",
       "\n",
       "[5 rows x 45 columns]"
      ]
     },
     "execution_count": 3,
     "metadata": {},
     "output_type": "execute_result"
    }
   ],
   "source": [
    "df1=df.drop(['OBJECTID','ACCIDENT_NO','ABS_CODE','ACCIDENT_STATUS','LGA_NAME_ALL','REGION_NAME_ALL','SRNS','SRNS_ALL','RMA_ALL','STAT_DIV_NAME','DIVIDED_ALL','DEG_URBAN_ALL','DCA_CODE','ACCIDENT_DATE','VICGRID_Y','VICGRID_X','NODE_ID','HIT_RUN_FLAG','POLICE_ATTEND'],axis='columns')\n",
    "df1.head()"
   ]
  },
  {
   "cell_type": "code",
   "execution_count": 4,
   "metadata": {},
   "outputs": [
    {
     "data": {
      "text/html": [
       "<div>\n",
       "<style scoped>\n",
       "    .dataframe tbody tr th:only-of-type {\n",
       "        vertical-align: middle;\n",
       "    }\n",
       "\n",
       "    .dataframe tbody tr th {\n",
       "        vertical-align: top;\n",
       "    }\n",
       "\n",
       "    .dataframe thead th {\n",
       "        text-align: right;\n",
       "    }\n",
       "</style>\n",
       "<table border=\"1\" class=\"dataframe\">\n",
       "  <thead>\n",
       "    <tr style=\"text-align: right;\">\n",
       "      <th></th>\n",
       "      <th>Unnamed: 0</th>\n",
       "      <th>ACCIDENT_TIME</th>\n",
       "      <th>ALCOHOLTIME</th>\n",
       "      <th>ACCIDENT_TYPE</th>\n",
       "      <th>DAY_OF_WEEK</th>\n",
       "      <th>LIGHT_CONDITION</th>\n",
       "      <th>ROAD_GEOMETRY</th>\n",
       "      <th>SEVERITY</th>\n",
       "      <th>SPEED_ZONE</th>\n",
       "      <th>RUN_OFFROAD</th>\n",
       "      <th>...</th>\n",
       "      <th>UNLICENCSED</th>\n",
       "      <th>NO_OF_VEHICLES</th>\n",
       "      <th>HEAVYVEHICLE</th>\n",
       "      <th>PASSENGERVEHICLE</th>\n",
       "      <th>MOTORCYCLE</th>\n",
       "      <th>PUBLICVEHICLE</th>\n",
       "      <th>DEG_URBAN_NAME</th>\n",
       "      <th>RMA</th>\n",
       "      <th>DIVIDED</th>\n",
       "      <th>ser_inj_or_fat</th>\n",
       "    </tr>\n",
       "  </thead>\n",
       "  <tbody>\n",
       "    <tr>\n",
       "      <th>0</th>\n",
       "      <td>173</td>\n",
       "      <td>16.07.00</td>\n",
       "      <td>No</td>\n",
       "      <td>Collision with vehicle</td>\n",
       "      <td>Tuesday</td>\n",
       "      <td>Day</td>\n",
       "      <td>Not at intersection</td>\n",
       "      <td>Other injury accident</td>\n",
       "      <td>60 km/hr</td>\n",
       "      <td>No</td>\n",
       "      <td>...</td>\n",
       "      <td>0.0</td>\n",
       "      <td>3.0</td>\n",
       "      <td>0.0</td>\n",
       "      <td>3.0</td>\n",
       "      <td>0.0</td>\n",
       "      <td>0.0</td>\n",
       "      <td>LARGE_PROVINCIAL_CITIES</td>\n",
       "      <td>Arterial Highway</td>\n",
       "      <td>Undivided</td>\n",
       "      <td>0.0</td>\n",
       "    </tr>\n",
       "    <tr>\n",
       "      <th>1</th>\n",
       "      <td>280</td>\n",
       "      <td>15.45.00</td>\n",
       "      <td>No</td>\n",
       "      <td>Collision with vehicle</td>\n",
       "      <td>Friday</td>\n",
       "      <td>Day</td>\n",
       "      <td>Cross intersection</td>\n",
       "      <td>Serious injury accident</td>\n",
       "      <td>100 km/hr</td>\n",
       "      <td>No</td>\n",
       "      <td>...</td>\n",
       "      <td>0.0</td>\n",
       "      <td>2.0</td>\n",
       "      <td>0.0</td>\n",
       "      <td>2.0</td>\n",
       "      <td>0.0</td>\n",
       "      <td>0.0</td>\n",
       "      <td>RURAL_VICTORIA</td>\n",
       "      <td>Arterial Other</td>\n",
       "      <td>Undivided</td>\n",
       "      <td>1.0</td>\n",
       "    </tr>\n",
       "    <tr>\n",
       "      <th>2</th>\n",
       "      <td>431</td>\n",
       "      <td>15.50.00</td>\n",
       "      <td>No</td>\n",
       "      <td>Collision with vehicle</td>\n",
       "      <td>Sunday</td>\n",
       "      <td>Day</td>\n",
       "      <td>Not at intersection</td>\n",
       "      <td>Serious injury accident</td>\n",
       "      <td>60 km/hr</td>\n",
       "      <td>No</td>\n",
       "      <td>...</td>\n",
       "      <td>0.0</td>\n",
       "      <td>4.0</td>\n",
       "      <td>0.0</td>\n",
       "      <td>4.0</td>\n",
       "      <td>0.0</td>\n",
       "      <td>0.0</td>\n",
       "      <td>LARGE_PROVINCIAL_CITIES</td>\n",
       "      <td>Arterial Highway</td>\n",
       "      <td>Undivided</td>\n",
       "      <td>1.0</td>\n",
       "    </tr>\n",
       "    <tr>\n",
       "      <th>3</th>\n",
       "      <td>435</td>\n",
       "      <td>15.47.00</td>\n",
       "      <td>No</td>\n",
       "      <td>Collision with vehicle</td>\n",
       "      <td>Sunday</td>\n",
       "      <td>Day</td>\n",
       "      <td>Cross intersection</td>\n",
       "      <td>Other injury accident</td>\n",
       "      <td>50 km/hr</td>\n",
       "      <td>No</td>\n",
       "      <td>...</td>\n",
       "      <td>0.0</td>\n",
       "      <td>2.0</td>\n",
       "      <td>0.0</td>\n",
       "      <td>2.0</td>\n",
       "      <td>0.0</td>\n",
       "      <td>0.0</td>\n",
       "      <td>LARGE_PROVINCIAL_CITIES</td>\n",
       "      <td>Arterial Other</td>\n",
       "      <td>Divided</td>\n",
       "      <td>0.0</td>\n",
       "    </tr>\n",
       "    <tr>\n",
       "      <th>4</th>\n",
       "      <td>485</td>\n",
       "      <td>16.47.00</td>\n",
       "      <td>No</td>\n",
       "      <td>Collision with vehicle</td>\n",
       "      <td>Wednesday</td>\n",
       "      <td>Day</td>\n",
       "      <td>T intersection</td>\n",
       "      <td>Other injury accident</td>\n",
       "      <td>70 km/hr</td>\n",
       "      <td>No</td>\n",
       "      <td>...</td>\n",
       "      <td>0.0</td>\n",
       "      <td>2.0</td>\n",
       "      <td>0.0</td>\n",
       "      <td>2.0</td>\n",
       "      <td>0.0</td>\n",
       "      <td>0.0</td>\n",
       "      <td>RURAL_VICTORIA</td>\n",
       "      <td>Arterial Other</td>\n",
       "      <td>Undivided</td>\n",
       "      <td>0.0</td>\n",
       "    </tr>\n",
       "  </tbody>\n",
       "</table>\n",
       "<p>5 rows × 46 columns</p>\n",
       "</div>"
      ],
      "text/plain": [
       "   Unnamed: 0 ACCIDENT_TIME ALCOHOLTIME           ACCIDENT_TYPE DAY_OF_WEEK  \\\n",
       "0         173      16.07.00          No  Collision with vehicle     Tuesday   \n",
       "1         280      15.45.00          No  Collision with vehicle      Friday   \n",
       "2         431      15.50.00          No  Collision with vehicle      Sunday   \n",
       "3         435      15.47.00          No  Collision with vehicle      Sunday   \n",
       "4         485      16.47.00          No  Collision with vehicle   Wednesday   \n",
       "\n",
       "  LIGHT_CONDITION        ROAD_GEOMETRY                 SEVERITY SPEED_ZONE  \\\n",
       "0             Day  Not at intersection    Other injury accident   60 km/hr   \n",
       "1             Day   Cross intersection  Serious injury accident  100 km/hr   \n",
       "2             Day  Not at intersection  Serious injury accident   60 km/hr   \n",
       "3             Day   Cross intersection    Other injury accident   50 km/hr   \n",
       "4             Day       T intersection    Other injury accident   70 km/hr   \n",
       "\n",
       "  RUN_OFFROAD  ...  UNLICENCSED  NO_OF_VEHICLES HEAVYVEHICLE PASSENGERVEHICLE  \\\n",
       "0          No  ...          0.0             3.0          0.0              3.0   \n",
       "1          No  ...          0.0             2.0          0.0              2.0   \n",
       "2          No  ...          0.0             4.0          0.0              4.0   \n",
       "3          No  ...          0.0             2.0          0.0              2.0   \n",
       "4          No  ...          0.0             2.0          0.0              2.0   \n",
       "\n",
       "  MOTORCYCLE  PUBLICVEHICLE           DEG_URBAN_NAME               RMA  \\\n",
       "0        0.0            0.0  LARGE_PROVINCIAL_CITIES  Arterial Highway   \n",
       "1        0.0            0.0           RURAL_VICTORIA    Arterial Other   \n",
       "2        0.0            0.0  LARGE_PROVINCIAL_CITIES  Arterial Highway   \n",
       "3        0.0            0.0  LARGE_PROVINCIAL_CITIES    Arterial Other   \n",
       "4        0.0            0.0           RURAL_VICTORIA    Arterial Other   \n",
       "\n",
       "     DIVIDED  ser_inj_or_fat  \n",
       "0  Undivided             0.0  \n",
       "1  Undivided             1.0  \n",
       "2  Undivided             1.0  \n",
       "3    Divided             0.0  \n",
       "4  Undivided             0.0  \n",
       "\n",
       "[5 rows x 46 columns]"
      ]
     },
     "execution_count": 4,
     "metadata": {},
     "output_type": "execute_result"
    }
   ],
   "source": [
    "df2=df1.copy()\n",
    "ser_inj_or_fat=df1['SERIOUSINJURY'] + df1['FATALITY']\n",
    "df2['ser_inj_or_fat']=ser_inj_or_fat\n",
    "df2.head()"
   ]
  },
  {
   "cell_type": "code",
   "execution_count": 5,
   "metadata": {},
   "outputs": [
    {
     "data": {
      "text/plain": [
       "(1567, 46)"
      ]
     },
     "execution_count": 5,
     "metadata": {},
     "output_type": "execute_result"
    }
   ],
   "source": [
    "df2.shape"
   ]
  },
  {
   "cell_type": "code",
   "execution_count": 6,
   "metadata": {},
   "outputs": [
    {
     "data": {
      "text/html": [
       "<div>\n",
       "<style scoped>\n",
       "    .dataframe tbody tr th:only-of-type {\n",
       "        vertical-align: middle;\n",
       "    }\n",
       "\n",
       "    .dataframe tbody tr th {\n",
       "        vertical-align: top;\n",
       "    }\n",
       "\n",
       "    .dataframe thead th {\n",
       "        text-align: right;\n",
       "    }\n",
       "</style>\n",
       "<table border=\"1\" class=\"dataframe\">\n",
       "  <thead>\n",
       "    <tr style=\"text-align: right;\">\n",
       "      <th></th>\n",
       "      <th>Unnamed: 0</th>\n",
       "      <th>ACCIDENT_TIME</th>\n",
       "      <th>ALCOHOLTIME</th>\n",
       "      <th>ACCIDENT_TYPE</th>\n",
       "      <th>DAY_OF_WEEK</th>\n",
       "      <th>LIGHT_CONDITION</th>\n",
       "      <th>ROAD_GEOMETRY</th>\n",
       "      <th>SEVERITY</th>\n",
       "      <th>SPEED_ZONE</th>\n",
       "      <th>LONGITUDE</th>\n",
       "      <th>...</th>\n",
       "      <th>UNLICENCSED</th>\n",
       "      <th>NO_OF_VEHICLES</th>\n",
       "      <th>HEAVYVEHICLE</th>\n",
       "      <th>PASSENGERVEHICLE</th>\n",
       "      <th>MOTORCYCLE</th>\n",
       "      <th>PUBLICVEHICLE</th>\n",
       "      <th>DEG_URBAN_NAME</th>\n",
       "      <th>RMA</th>\n",
       "      <th>DIVIDED</th>\n",
       "      <th>ser_inj_or_fat</th>\n",
       "    </tr>\n",
       "  </thead>\n",
       "  <tbody>\n",
       "    <tr>\n",
       "      <th>0</th>\n",
       "      <td>173</td>\n",
       "      <td>16.07.00</td>\n",
       "      <td>No</td>\n",
       "      <td>Collision with vehicle</td>\n",
       "      <td>Tuesday</td>\n",
       "      <td>Day</td>\n",
       "      <td>Not at intersection</td>\n",
       "      <td>Other injury accident</td>\n",
       "      <td>60 km/hr</td>\n",
       "      <td>144.34102</td>\n",
       "      <td>...</td>\n",
       "      <td>0.0</td>\n",
       "      <td>3.0</td>\n",
       "      <td>0.0</td>\n",
       "      <td>3.0</td>\n",
       "      <td>0.0</td>\n",
       "      <td>0.0</td>\n",
       "      <td>LARGE_PROVINCIAL_CITIES</td>\n",
       "      <td>Arterial Highway</td>\n",
       "      <td>Undivided</td>\n",
       "      <td>0.0</td>\n",
       "    </tr>\n",
       "    <tr>\n",
       "      <th>1</th>\n",
       "      <td>280</td>\n",
       "      <td>15.45.00</td>\n",
       "      <td>No</td>\n",
       "      <td>Collision with vehicle</td>\n",
       "      <td>Friday</td>\n",
       "      <td>Day</td>\n",
       "      <td>Cross intersection</td>\n",
       "      <td>Serious injury accident</td>\n",
       "      <td>100 km/hr</td>\n",
       "      <td>144.37017</td>\n",
       "      <td>...</td>\n",
       "      <td>0.0</td>\n",
       "      <td>2.0</td>\n",
       "      <td>0.0</td>\n",
       "      <td>2.0</td>\n",
       "      <td>0.0</td>\n",
       "      <td>0.0</td>\n",
       "      <td>RURAL_VICTORIA</td>\n",
       "      <td>Arterial Other</td>\n",
       "      <td>Undivided</td>\n",
       "      <td>1.0</td>\n",
       "    </tr>\n",
       "    <tr>\n",
       "      <th>2</th>\n",
       "      <td>431</td>\n",
       "      <td>15.50.00</td>\n",
       "      <td>No</td>\n",
       "      <td>Collision with vehicle</td>\n",
       "      <td>Sunday</td>\n",
       "      <td>Day</td>\n",
       "      <td>Not at intersection</td>\n",
       "      <td>Serious injury accident</td>\n",
       "      <td>60 km/hr</td>\n",
       "      <td>144.33444</td>\n",
       "      <td>...</td>\n",
       "      <td>0.0</td>\n",
       "      <td>4.0</td>\n",
       "      <td>0.0</td>\n",
       "      <td>4.0</td>\n",
       "      <td>0.0</td>\n",
       "      <td>0.0</td>\n",
       "      <td>LARGE_PROVINCIAL_CITIES</td>\n",
       "      <td>Arterial Highway</td>\n",
       "      <td>Undivided</td>\n",
       "      <td>1.0</td>\n",
       "    </tr>\n",
       "    <tr>\n",
       "      <th>3</th>\n",
       "      <td>435</td>\n",
       "      <td>15.47.00</td>\n",
       "      <td>No</td>\n",
       "      <td>Collision with vehicle</td>\n",
       "      <td>Sunday</td>\n",
       "      <td>Day</td>\n",
       "      <td>Cross intersection</td>\n",
       "      <td>Other injury accident</td>\n",
       "      <td>50 km/hr</td>\n",
       "      <td>144.35731</td>\n",
       "      <td>...</td>\n",
       "      <td>0.0</td>\n",
       "      <td>2.0</td>\n",
       "      <td>0.0</td>\n",
       "      <td>2.0</td>\n",
       "      <td>0.0</td>\n",
       "      <td>0.0</td>\n",
       "      <td>LARGE_PROVINCIAL_CITIES</td>\n",
       "      <td>Arterial Other</td>\n",
       "      <td>Divided</td>\n",
       "      <td>0.0</td>\n",
       "    </tr>\n",
       "    <tr>\n",
       "      <th>4</th>\n",
       "      <td>485</td>\n",
       "      <td>16.47.00</td>\n",
       "      <td>No</td>\n",
       "      <td>Collision with vehicle</td>\n",
       "      <td>Wednesday</td>\n",
       "      <td>Day</td>\n",
       "      <td>T intersection</td>\n",
       "      <td>Other injury accident</td>\n",
       "      <td>70 km/hr</td>\n",
       "      <td>144.36124</td>\n",
       "      <td>...</td>\n",
       "      <td>0.0</td>\n",
       "      <td>2.0</td>\n",
       "      <td>0.0</td>\n",
       "      <td>2.0</td>\n",
       "      <td>0.0</td>\n",
       "      <td>0.0</td>\n",
       "      <td>RURAL_VICTORIA</td>\n",
       "      <td>Arterial Other</td>\n",
       "      <td>Undivided</td>\n",
       "      <td>0.0</td>\n",
       "    </tr>\n",
       "  </tbody>\n",
       "</table>\n",
       "<p>5 rows × 41 columns</p>\n",
       "</div>"
      ],
      "text/plain": [
       "   Unnamed: 0 ACCIDENT_TIME ALCOHOLTIME           ACCIDENT_TYPE DAY_OF_WEEK  \\\n",
       "0         173      16.07.00          No  Collision with vehicle     Tuesday   \n",
       "1         280      15.45.00          No  Collision with vehicle      Friday   \n",
       "2         431      15.50.00          No  Collision with vehicle      Sunday   \n",
       "3         435      15.47.00          No  Collision with vehicle      Sunday   \n",
       "4         485      16.47.00          No  Collision with vehicle   Wednesday   \n",
       "\n",
       "  LIGHT_CONDITION        ROAD_GEOMETRY                 SEVERITY SPEED_ZONE  \\\n",
       "0             Day  Not at intersection    Other injury accident   60 km/hr   \n",
       "1             Day   Cross intersection  Serious injury accident  100 km/hr   \n",
       "2             Day  Not at intersection  Serious injury accident   60 km/hr   \n",
       "3             Day   Cross intersection    Other injury accident   50 km/hr   \n",
       "4             Day       T intersection    Other injury accident   70 km/hr   \n",
       "\n",
       "   LONGITUDE  ...  UNLICENCSED NO_OF_VEHICLES HEAVYVEHICLE  PASSENGERVEHICLE  \\\n",
       "0  144.34102  ...          0.0            3.0          0.0               3.0   \n",
       "1  144.37017  ...          0.0            2.0          0.0               2.0   \n",
       "2  144.33444  ...          0.0            4.0          0.0               4.0   \n",
       "3  144.35731  ...          0.0            2.0          0.0               2.0   \n",
       "4  144.36124  ...          0.0            2.0          0.0               2.0   \n",
       "\n",
       "   MOTORCYCLE  PUBLICVEHICLE           DEG_URBAN_NAME               RMA  \\\n",
       "0         0.0            0.0  LARGE_PROVINCIAL_CITIES  Arterial Highway   \n",
       "1         0.0            0.0           RURAL_VICTORIA    Arterial Other   \n",
       "2         0.0            0.0  LARGE_PROVINCIAL_CITIES  Arterial Highway   \n",
       "3         0.0            0.0  LARGE_PROVINCIAL_CITIES    Arterial Other   \n",
       "4         0.0            0.0           RURAL_VICTORIA    Arterial Other   \n",
       "\n",
       "     DIVIDED  ser_inj_or_fat  \n",
       "0  Undivided             0.0  \n",
       "1  Undivided             1.0  \n",
       "2  Undivided             1.0  \n",
       "3    Divided             0.0  \n",
       "4  Undivided             0.0  \n",
       "\n",
       "[5 rows x 41 columns]"
      ]
     },
     "execution_count": 6,
     "metadata": {},
     "output_type": "execute_result"
    }
   ],
   "source": [
    "df3=df2.drop(['FATALITY','SERIOUSINJURY','INJ_OR_FATAL','NODE_TYPE','RUN_OFFROAD'],axis='columns')\n",
    "df3.head()"
   ]
  },
  {
   "cell_type": "code",
   "execution_count": 7,
   "metadata": {},
   "outputs": [
    {
     "name": "stdout",
     "output_type": "stream",
     "text": [
      "<class 'pandas.core.frame.DataFrame'>\n",
      "RangeIndex: 1567 entries, 0 to 1566\n",
      "Data columns (total 41 columns):\n",
      " #   Column             Non-Null Count  Dtype  \n",
      "---  ------             --------------  -----  \n",
      " 0   Unnamed: 0         1567 non-null   int64  \n",
      " 1   ACCIDENT_TIME      1567 non-null   object \n",
      " 2   ALCOHOLTIME        1567 non-null   object \n",
      " 3   ACCIDENT_TYPE      1567 non-null   object \n",
      " 4   DAY_OF_WEEK        1567 non-null   object \n",
      " 5   LIGHT_CONDITION    1567 non-null   object \n",
      " 6   ROAD_GEOMETRY      1567 non-null   object \n",
      " 7   SEVERITY           1567 non-null   object \n",
      " 8   SPEED_ZONE         1567 non-null   object \n",
      " 9   LONGITUDE          1567 non-null   float64\n",
      " 10  LATITUDE           1567 non-null   float64\n",
      " 11  LGA_NAME           1567 non-null   object \n",
      " 12  REGION_NAME        1567 non-null   object \n",
      " 13  TOTAL_PERSONS      1567 non-null   float64\n",
      " 14  OTHERINJURY        1567 non-null   float64\n",
      " 15  NONINJURED         1567 non-null   float64\n",
      " 16  MALES              1567 non-null   float64\n",
      " 17  FEMALES            1567 non-null   float64\n",
      " 18  BICYCLIST          1567 non-null   float64\n",
      " 19  PASSENGER          1567 non-null   float64\n",
      " 20  DRIVER             1567 non-null   float64\n",
      " 21  PEDESTRIAN         1567 non-null   float64\n",
      " 22  PILLION            1567 non-null   float64\n",
      " 23  MOTORIST           1567 non-null   float64\n",
      " 24  UNKNOWN            1567 non-null   float64\n",
      " 25  PED_CYCLIST_5_12   1567 non-null   float64\n",
      " 26  PED_CYCLIST_13_18  1567 non-null   float64\n",
      " 27  OLD_PEDESTRIAN     1567 non-null   float64\n",
      " 28  OLD_DRIVER         1567 non-null   float64\n",
      " 29  YOUNG_DRIVER       1567 non-null   float64\n",
      " 30  ALCOHOL_RELATED    1567 non-null   object \n",
      " 31  UNLICENCSED        1567 non-null   float64\n",
      " 32  NO_OF_VEHICLES     1567 non-null   float64\n",
      " 33  HEAVYVEHICLE       1567 non-null   float64\n",
      " 34  PASSENGERVEHICLE   1567 non-null   float64\n",
      " 35  MOTORCYCLE         1567 non-null   float64\n",
      " 36  PUBLICVEHICLE      1567 non-null   float64\n",
      " 37  DEG_URBAN_NAME     1567 non-null   object \n",
      " 38  RMA                1567 non-null   object \n",
      " 39  DIVIDED            1567 non-null   object \n",
      " 40  ser_inj_or_fat     1567 non-null   float64\n",
      "dtypes: float64(26), int64(1), object(14)\n",
      "memory usage: 502.1+ KB\n"
     ]
    }
   ],
   "source": [
    "df3.info()\n"
   ]
  },
  {
   "cell_type": "code",
   "execution_count": 8,
   "metadata": {},
   "outputs": [
    {
     "data": {
      "text/plain": [
       "0    True\n",
       "1    True\n",
       "2    True\n",
       "3    True\n",
       "4    True\n",
       "Name: DEG_URBAN_NAME, dtype: bool"
      ]
     },
     "execution_count": 8,
     "metadata": {},
     "output_type": "execute_result"
    }
   ],
   "source": [
    "Small_towns=df3.DEG_URBAN_NAME !='SMALL_TOWNS'\n",
    "Small_towns.head()"
   ]
  },
  {
   "cell_type": "code",
   "execution_count": 9,
   "metadata": {},
   "outputs": [
    {
     "data": {
      "text/plain": [
       "(1565, 41)"
      ]
     },
     "execution_count": 9,
     "metadata": {},
     "output_type": "execute_result"
    }
   ],
   "source": [
    "df4=df3[Small_towns]\n",
    "df4.shape\n",
    "        \n"
   ]
  },
  {
   "cell_type": "code",
   "execution_count": 10,
   "metadata": {},
   "outputs": [
    {
     "data": {
      "text/plain": [
       "0    True\n",
       "1    True\n",
       "2    True\n",
       "3    True\n",
       "4    True\n",
       "Name: DEG_URBAN_NAME, dtype: bool"
      ]
     },
     "execution_count": 10,
     "metadata": {},
     "output_type": "execute_result"
    }
   ],
   "source": [
    "small_cities=df4.DEG_URBAN_NAME !='SMALL_CITIES'\n",
    "small_cities.head()"
   ]
  },
  {
   "cell_type": "code",
   "execution_count": 11,
   "metadata": {},
   "outputs": [
    {
     "data": {
      "text/plain": [
       "(1513, 41)"
      ]
     },
     "execution_count": 11,
     "metadata": {},
     "output_type": "execute_result"
    }
   ],
   "source": [
    "df5=df4[small_cities]\n",
    "df5.shape"
   ]
  },
  {
   "cell_type": "code",
   "execution_count": 12,
   "metadata": {},
   "outputs": [
    {
     "data": {
      "text/plain": [
       "0    True\n",
       "1    True\n",
       "2    True\n",
       "3    True\n",
       "4    True\n",
       "Name: DEG_URBAN_NAME, dtype: bool"
      ]
     },
     "execution_count": 12,
     "metadata": {},
     "output_type": "execute_result"
    }
   ],
   "source": [
    "towns=df5.DEG_URBAN_NAME !='TOWNS'\n",
    "towns.head()"
   ]
  },
  {
   "cell_type": "code",
   "execution_count": 13,
   "metadata": {},
   "outputs": [
    {
     "data": {
      "text/plain": [
       "(1460, 41)"
      ]
     },
     "execution_count": 13,
     "metadata": {},
     "output_type": "execute_result"
    }
   ],
   "source": [
    "df6=df5[towns]\n",
    "df6.shape"
   ]
  },
  {
   "cell_type": "code",
   "execution_count": 14,
   "metadata": {},
   "outputs": [
    {
     "data": {
      "text/plain": [
       "0    True\n",
       "1    True\n",
       "2    True\n",
       "3    True\n",
       "4    True\n",
       "Name: SPEED_ZONE, dtype: bool"
      ]
     },
     "execution_count": 14,
     "metadata": {},
     "output_type": "execute_result"
    }
   ],
   "source": [
    "unknown_speed=df6.SPEED_ZONE !='Not known'\n",
    "unknown_speed.head()"
   ]
  },
  {
   "cell_type": "code",
   "execution_count": 15,
   "metadata": {},
   "outputs": [
    {
     "data": {
      "text/plain": [
       "(1433, 41)"
      ]
     },
     "execution_count": 15,
     "metadata": {},
     "output_type": "execute_result"
    }
   ],
   "source": [
    "df7=df6[unknown_speed]\n",
    "df7.shape"
   ]
  },
  {
   "cell_type": "code",
   "execution_count": null,
   "metadata": {},
   "outputs": [],
   "source": []
  },
  {
   "cell_type": "code",
   "execution_count": 16,
   "metadata": {},
   "outputs": [
    {
     "data": {
      "text/plain": [
       "0    True\n",
       "1    True\n",
       "2    True\n",
       "3    True\n",
       "4    True\n",
       "Name: SPEED_ZONE, dtype: bool"
      ]
     },
     "execution_count": 16,
     "metadata": {},
     "output_type": "execute_result"
    }
   ],
   "source": [
    "ninety_speed=df7.SPEED_ZONE !='90 km/hr'\n",
    "ninety_speed.head()\n"
   ]
  },
  {
   "cell_type": "code",
   "execution_count": 17,
   "metadata": {},
   "outputs": [
    {
     "data": {
      "text/plain": [
       "(1429, 41)"
      ]
     },
     "execution_count": 17,
     "metadata": {},
     "output_type": "execute_result"
    }
   ],
   "source": [
    "df8=df7[ninety_speed]\n",
    "df8.shape"
   ]
  },
  {
   "cell_type": "code",
   "execution_count": 18,
   "metadata": {},
   "outputs": [
    {
     "data": {
      "text/plain": [
       "0    True\n",
       "1    True\n",
       "2    True\n",
       "3    True\n",
       "4    True\n",
       "Name: SPEED_ZONE, dtype: bool"
      ]
     },
     "execution_count": 18,
     "metadata": {},
     "output_type": "execute_result"
    }
   ],
   "source": [
    "forty_speed=df8.SPEED_ZONE !='40 km/hr'\n",
    "forty_speed.head()"
   ]
  },
  {
   "cell_type": "code",
   "execution_count": 19,
   "metadata": {},
   "outputs": [
    {
     "data": {
      "text/plain": [
       "(1408, 41)"
      ]
     },
     "execution_count": 19,
     "metadata": {},
     "output_type": "execute_result"
    }
   ],
   "source": [
    "df9=df8[forty_speed]\n",
    "df9.shape"
   ]
  },
  {
   "cell_type": "code",
   "execution_count": 20,
   "metadata": {},
   "outputs": [
    {
     "data": {
      "text/plain": [
       "0    True\n",
       "1    True\n",
       "2    True\n",
       "3    True\n",
       "4    True\n",
       "Name: SPEED_ZONE, dtype: bool"
      ]
     },
     "execution_count": 20,
     "metadata": {},
     "output_type": "execute_result"
    }
   ],
   "source": [
    "Camping_ground=df9.SPEED_ZONE!='Camping grounds or off road'\n",
    "Camping_ground.head()"
   ]
  },
  {
   "cell_type": "code",
   "execution_count": 21,
   "metadata": {},
   "outputs": [
    {
     "data": {
      "text/plain": [
       "(1405, 41)"
      ]
     },
     "execution_count": 21,
     "metadata": {},
     "output_type": "execute_result"
    }
   ],
   "source": [
    "df10=df9[Camping_ground]\n",
    "df10.shape"
   ]
  },
  {
   "cell_type": "code",
   "execution_count": 22,
   "metadata": {},
   "outputs": [
    {
     "data": {
      "text/plain": [
       "0    True\n",
       "1    True\n",
       "2    True\n",
       "3    True\n",
       "4    True\n",
       "Name: SPEED_ZONE, dtype: bool"
      ]
     },
     "execution_count": 22,
     "metadata": {},
     "output_type": "execute_result"
    }
   ],
   "source": [
    "other_speed=df10.SPEED_ZONE!='Other speed limit'\n",
    "other_speed.head()\n"
   ]
  },
  {
   "cell_type": "code",
   "execution_count": 23,
   "metadata": {},
   "outputs": [
    {
     "data": {
      "text/plain": [
       "(1404, 41)"
      ]
     },
     "execution_count": 23,
     "metadata": {},
     "output_type": "execute_result"
    }
   ],
   "source": [
    "df11=df10[other_speed]\n",
    "df11.shape"
   ]
  },
  {
   "cell_type": "code",
   "execution_count": 24,
   "metadata": {},
   "outputs": [
    {
     "data": {
      "text/plain": [
       "0    True\n",
       "1    True\n",
       "2    True\n",
       "3    True\n",
       "4    True\n",
       "Name: ROAD_GEOMETRY, dtype: bool"
      ]
     },
     "execution_count": 24,
     "metadata": {},
     "output_type": "execute_result"
    }
   ],
   "source": [
    "unknown_geometry=df11.ROAD_GEOMETRY!='Unknown'\n",
    "unknown_geometry.head()"
   ]
  },
  {
   "cell_type": "code",
   "execution_count": 25,
   "metadata": {},
   "outputs": [
    {
     "data": {
      "text/plain": [
       "(1403, 41)"
      ]
     },
     "execution_count": 25,
     "metadata": {},
     "output_type": "execute_result"
    }
   ],
   "source": [
    "df12=df11[unknown_geometry]\n",
    "df12.shape"
   ]
  },
  {
   "cell_type": "code",
   "execution_count": 26,
   "metadata": {},
   "outputs": [
    {
     "data": {
      "text/plain": [
       "0    True\n",
       "1    True\n",
       "2    True\n",
       "3    True\n",
       "4    True\n",
       "Name: ROAD_GEOMETRY, dtype: bool"
      ]
     },
     "execution_count": 26,
     "metadata": {},
     "output_type": "execute_result"
    }
   ],
   "source": [
    "y_intersection=df12.ROAD_GEOMETRY!='y intersection'\n",
    "y_intersection.head()"
   ]
  },
  {
   "cell_type": "code",
   "execution_count": 27,
   "metadata": {},
   "outputs": [
    {
     "data": {
      "text/plain": [
       "(1403, 41)"
      ]
     },
     "execution_count": 27,
     "metadata": {},
     "output_type": "execute_result"
    }
   ],
   "source": [
    "df13=df12[y_intersection]\n",
    "df13.shape"
   ]
  },
  {
   "cell_type": "code",
   "execution_count": 28,
   "metadata": {},
   "outputs": [
    {
     "data": {
      "text/plain": [
       "0    True\n",
       "1    True\n",
       "2    True\n",
       "3    True\n",
       "4    True\n",
       "Name: ACCIDENT_TYPE, dtype: bool"
      ]
     },
     "execution_count": 28,
     "metadata": {},
     "output_type": "execute_result"
    }
   ],
   "source": [
    "animal_hit=df13.ACCIDENT_TYPE!='Struck animal'\n",
    "animal_hit.head()"
   ]
  },
  {
   "cell_type": "code",
   "execution_count": 29,
   "metadata": {},
   "outputs": [
    {
     "data": {
      "text/plain": [
       "(1398, 41)"
      ]
     },
     "execution_count": 29,
     "metadata": {},
     "output_type": "execute_result"
    }
   ],
   "source": [
    "df14=df13[animal_hit]\n",
    "df14.shape"
   ]
  },
  {
   "cell_type": "code",
   "execution_count": 30,
   "metadata": {},
   "outputs": [
    {
     "data": {
      "text/plain": [
       "0    True\n",
       "1    True\n",
       "2    True\n",
       "3    True\n",
       "4    True\n",
       "Name: ACCIDENT_TYPE, dtype: bool"
      ]
     },
     "execution_count": 30,
     "metadata": {},
     "output_type": "execute_result"
    }
   ],
   "source": [
    "fall_from_vehicle=df14.ACCIDENT_TYPE!='Fall from or in moving vehicle'\n",
    "fall_from_vehicle.head()"
   ]
  },
  {
   "cell_type": "code",
   "execution_count": 31,
   "metadata": {},
   "outputs": [
    {
     "data": {
      "text/plain": [
       "(1396, 41)"
      ]
     },
     "execution_count": 31,
     "metadata": {},
     "output_type": "execute_result"
    }
   ],
   "source": [
    "df15=df14[fall_from_vehicle]\n",
    "df15.shape"
   ]
  },
  {
   "cell_type": "code",
   "execution_count": 32,
   "metadata": {},
   "outputs": [
    {
     "data": {
      "text/plain": [
       "0    True\n",
       "1    True\n",
       "2    True\n",
       "3    True\n",
       "4    True\n",
       "Name: ACCIDENT_TYPE, dtype: bool"
      ]
     },
     "execution_count": 32,
     "metadata": {},
     "output_type": "execute_result"
    }
   ],
   "source": [
    "collision_with_other=df15.ACCIDENT_TYPE!='collision with some other object'\n",
    "collision_with_other.head()\n"
   ]
  },
  {
   "cell_type": "code",
   "execution_count": 33,
   "metadata": {},
   "outputs": [
    {
     "data": {
      "text/plain": [
       "(1393, 41)"
      ]
     },
     "execution_count": 33,
     "metadata": {},
     "output_type": "execute_result"
    }
   ],
   "source": [
    "df16=df15[collision_with_other]\n",
    "df16.shape"
   ]
  },
  {
   "cell_type": "code",
   "execution_count": 34,
   "metadata": {},
   "outputs": [
    {
     "data": {
      "text/plain": [
       "0    True\n",
       "1    True\n",
       "2    True\n",
       "3    True\n",
       "4    True\n",
       "Name: LIGHT_CONDITION, dtype: bool"
      ]
     },
     "execution_count": 34,
     "metadata": {},
     "output_type": "execute_result"
    }
   ],
   "source": [
    "dark_street_unknown=df16.LIGHT_CONDITION!='Dark Street lights unknown'\n",
    "dark_street_unknown.head()\n"
   ]
  },
  {
   "cell_type": "code",
   "execution_count": 35,
   "metadata": {},
   "outputs": [
    {
     "data": {
      "text/plain": [
       "(1388, 41)"
      ]
     },
     "execution_count": 35,
     "metadata": {},
     "output_type": "execute_result"
    }
   ],
   "source": [
    "df17=df16[dark_street_unknown]\n",
    "df17.shape"
   ]
  },
  {
   "cell_type": "code",
   "execution_count": 36,
   "metadata": {},
   "outputs": [
    {
     "data": {
      "text/plain": [
       "0    True\n",
       "1    True\n",
       "2    True\n",
       "3    True\n",
       "4    True\n",
       "Name: LIGHT_CONDITION, dtype: bool"
      ]
     },
     "execution_count": 36,
     "metadata": {},
     "output_type": "execute_result"
    }
   ],
   "source": [
    "unk=df17.LIGHT_CONDITION!='Unk.'\n",
    "unk.head()"
   ]
  },
  {
   "cell_type": "code",
   "execution_count": 37,
   "metadata": {},
   "outputs": [
    {
     "data": {
      "text/plain": [
       "(1359, 41)"
      ]
     },
     "execution_count": 37,
     "metadata": {},
     "output_type": "execute_result"
    }
   ],
   "source": [
    "df18=df17[unk]\n",
    "df18.shape"
   ]
  },
  {
   "cell_type": "code",
   "execution_count": 38,
   "metadata": {},
   "outputs": [
    {
     "data": {
      "text/plain": [
       "0    True\n",
       "1    True\n",
       "2    True\n",
       "3    True\n",
       "4    True\n",
       "Name: LIGHT_CONDITION, dtype: bool"
      ]
     },
     "execution_count": 38,
     "metadata": {},
     "output_type": "execute_result"
    }
   ],
   "source": [
    "dark_street_off=df18.LIGHT_CONDITION!='Dark Street lights off'\n",
    "dark_street_off.head()"
   ]
  },
  {
   "cell_type": "code",
   "execution_count": 39,
   "metadata": {},
   "outputs": [
    {
     "data": {
      "text/plain": [
       "(1357, 41)"
      ]
     },
     "execution_count": 39,
     "metadata": {},
     "output_type": "execute_result"
    }
   ],
   "source": [
    "df19=df18[dark_street_off]\n",
    "df19.shape"
   ]
  },
  {
   "cell_type": "code",
   "execution_count": 40,
   "metadata": {},
   "outputs": [
    {
     "data": {
      "text/plain": [
       "(1357, 33)"
      ]
     },
     "execution_count": 40,
     "metadata": {},
     "output_type": "execute_result"
    }
   ],
   "source": [
    "df20=df19.drop(['UNKNOWN','ALCOHOL_RELATED','ACCIDENT_TIME','TOTAL_PERSONS','MALES','FEMALES','LGA_NAME','REGION_NAME'],axis='columns')\n",
    "df20.shape"
   ]
  },
  {
   "cell_type": "code",
   "execution_count": 41,
   "metadata": {},
   "outputs": [
    {
     "data": {
      "text/html": [
       "<div>\n",
       "<style scoped>\n",
       "    .dataframe tbody tr th:only-of-type {\n",
       "        vertical-align: middle;\n",
       "    }\n",
       "\n",
       "    .dataframe tbody tr th {\n",
       "        vertical-align: top;\n",
       "    }\n",
       "\n",
       "    .dataframe thead th {\n",
       "        text-align: right;\n",
       "    }\n",
       "</style>\n",
       "<table border=\"1\" class=\"dataframe\">\n",
       "  <thead>\n",
       "    <tr style=\"text-align: right;\">\n",
       "      <th></th>\n",
       "      <th>Unnamed: 0</th>\n",
       "      <th>ALCOHOLTIME</th>\n",
       "      <th>ACCIDENT_TYPE</th>\n",
       "      <th>DAY_OF_WEEK</th>\n",
       "      <th>LIGHT_CONDITION</th>\n",
       "      <th>ROAD_GEOMETRY</th>\n",
       "      <th>SEVERITY</th>\n",
       "      <th>SPEED_ZONE</th>\n",
       "      <th>LONGITUDE</th>\n",
       "      <th>LATITUDE</th>\n",
       "      <th>...</th>\n",
       "      <th>YOUNG_DRIVER</th>\n",
       "      <th>UNLICENCSED</th>\n",
       "      <th>NO_OF_VEHICLES</th>\n",
       "      <th>HEAVYVEHICLE</th>\n",
       "      <th>PASSENGERVEHICLE</th>\n",
       "      <th>MOTORCYCLE</th>\n",
       "      <th>PUBLICVEHICLE</th>\n",
       "      <th>DEG_URBAN_NAME</th>\n",
       "      <th>DIVIDED</th>\n",
       "      <th>ser_inj_or_fat</th>\n",
       "    </tr>\n",
       "    <tr>\n",
       "      <th>RMA</th>\n",
       "      <th></th>\n",
       "      <th></th>\n",
       "      <th></th>\n",
       "      <th></th>\n",
       "      <th></th>\n",
       "      <th></th>\n",
       "      <th></th>\n",
       "      <th></th>\n",
       "      <th></th>\n",
       "      <th></th>\n",
       "      <th></th>\n",
       "      <th></th>\n",
       "      <th></th>\n",
       "      <th></th>\n",
       "      <th></th>\n",
       "      <th></th>\n",
       "      <th></th>\n",
       "      <th></th>\n",
       "      <th></th>\n",
       "      <th></th>\n",
       "      <th></th>\n",
       "    </tr>\n",
       "  </thead>\n",
       "  <tbody>\n",
       "    <tr>\n",
       "      <th>Arterial Highway</th>\n",
       "      <td>596</td>\n",
       "      <td>596</td>\n",
       "      <td>596</td>\n",
       "      <td>596</td>\n",
       "      <td>596</td>\n",
       "      <td>596</td>\n",
       "      <td>596</td>\n",
       "      <td>596</td>\n",
       "      <td>596</td>\n",
       "      <td>596</td>\n",
       "      <td>...</td>\n",
       "      <td>596</td>\n",
       "      <td>596</td>\n",
       "      <td>596</td>\n",
       "      <td>596</td>\n",
       "      <td>596</td>\n",
       "      <td>596</td>\n",
       "      <td>596</td>\n",
       "      <td>596</td>\n",
       "      <td>596</td>\n",
       "      <td>596</td>\n",
       "    </tr>\n",
       "    <tr>\n",
       "      <th>Arterial Other</th>\n",
       "      <td>661</td>\n",
       "      <td>661</td>\n",
       "      <td>661</td>\n",
       "      <td>661</td>\n",
       "      <td>661</td>\n",
       "      <td>661</td>\n",
       "      <td>661</td>\n",
       "      <td>661</td>\n",
       "      <td>661</td>\n",
       "      <td>661</td>\n",
       "      <td>...</td>\n",
       "      <td>661</td>\n",
       "      <td>661</td>\n",
       "      <td>661</td>\n",
       "      <td>661</td>\n",
       "      <td>661</td>\n",
       "      <td>661</td>\n",
       "      <td>661</td>\n",
       "      <td>661</td>\n",
       "      <td>661</td>\n",
       "      <td>661</td>\n",
       "    </tr>\n",
       "    <tr>\n",
       "      <th>Freeway</th>\n",
       "      <td>100</td>\n",
       "      <td>100</td>\n",
       "      <td>100</td>\n",
       "      <td>100</td>\n",
       "      <td>100</td>\n",
       "      <td>100</td>\n",
       "      <td>100</td>\n",
       "      <td>100</td>\n",
       "      <td>100</td>\n",
       "      <td>100</td>\n",
       "      <td>...</td>\n",
       "      <td>100</td>\n",
       "      <td>100</td>\n",
       "      <td>100</td>\n",
       "      <td>100</td>\n",
       "      <td>100</td>\n",
       "      <td>100</td>\n",
       "      <td>100</td>\n",
       "      <td>100</td>\n",
       "      <td>100</td>\n",
       "      <td>100</td>\n",
       "    </tr>\n",
       "  </tbody>\n",
       "</table>\n",
       "<p>3 rows × 32 columns</p>\n",
       "</div>"
      ],
      "text/plain": [
       "                  Unnamed: 0  ALCOHOLTIME  ACCIDENT_TYPE  DAY_OF_WEEK  \\\n",
       "RMA                                                                     \n",
       "Arterial Highway         596          596            596          596   \n",
       "Arterial Other           661          661            661          661   \n",
       "Freeway                  100          100            100          100   \n",
       "\n",
       "                  LIGHT_CONDITION  ROAD_GEOMETRY  SEVERITY  SPEED_ZONE  \\\n",
       "RMA                                                                      \n",
       "Arterial Highway              596            596       596         596   \n",
       "Arterial Other                661            661       661         661   \n",
       "Freeway                       100            100       100         100   \n",
       "\n",
       "                  LONGITUDE  LATITUDE  ...  YOUNG_DRIVER  UNLICENCSED  \\\n",
       "RMA                                    ...                              \n",
       "Arterial Highway        596       596  ...           596          596   \n",
       "Arterial Other          661       661  ...           661          661   \n",
       "Freeway                 100       100  ...           100          100   \n",
       "\n",
       "                  NO_OF_VEHICLES  HEAVYVEHICLE  PASSENGERVEHICLE  MOTORCYCLE  \\\n",
       "RMA                                                                            \n",
       "Arterial Highway             596           596               596         596   \n",
       "Arterial Other               661           661               661         661   \n",
       "Freeway                      100           100               100         100   \n",
       "\n",
       "                  PUBLICVEHICLE  DEG_URBAN_NAME  DIVIDED  ser_inj_or_fat  \n",
       "RMA                                                                       \n",
       "Arterial Highway            596             596      596             596  \n",
       "Arterial Other              661             661      661             661  \n",
       "Freeway                     100             100      100             100  \n",
       "\n",
       "[3 rows x 32 columns]"
      ]
     },
     "execution_count": 41,
     "metadata": {},
     "output_type": "execute_result"
    }
   ],
   "source": [
    "df20.groupby('RMA').count()"
   ]
  },
  {
   "cell_type": "code",
   "execution_count": 42,
   "metadata": {},
   "outputs": [],
   "source": [
    "df21=df20.copy()\n"
   ]
  },
  {
   "cell_type": "code",
   "execution_count": 43,
   "metadata": {},
   "outputs": [
    {
     "data": {
      "text/plain": [
       "(1357, 31)"
      ]
     },
     "execution_count": 43,
     "metadata": {},
     "output_type": "execute_result"
    }
   ],
   "source": [
    "df22=df21.drop(['LONGITUDE','LATITUDE'],axis='columns')\n",
    "df22.shape"
   ]
  },
  {
   "cell_type": "code",
   "execution_count": 44,
   "metadata": {
    "scrolled": true
   },
   "outputs": [
    {
     "data": {
      "text/plain": [
       "Index(['Unnamed: 0', 'ALCOHOLTIME', 'ACCIDENT_TYPE', 'DAY_OF_WEEK',\n",
       "       'LIGHT_CONDITION', 'ROAD_GEOMETRY', 'SEVERITY', 'SPEED_ZONE',\n",
       "       'OTHERINJURY', 'NONINJURED', 'BICYCLIST', 'PASSENGER', 'DRIVER',\n",
       "       'PEDESTRIAN', 'PILLION', 'MOTORIST', 'PED_CYCLIST_5_12',\n",
       "       'PED_CYCLIST_13_18', 'OLD_PEDESTRIAN', 'OLD_DRIVER', 'YOUNG_DRIVER',\n",
       "       'UNLICENCSED', 'NO_OF_VEHICLES', 'HEAVYVEHICLE', 'PASSENGERVEHICLE',\n",
       "       'MOTORCYCLE', 'PUBLICVEHICLE', 'DEG_URBAN_NAME', 'RMA', 'DIVIDED',\n",
       "       'ser_inj_or_fat'],\n",
       "      dtype='object')"
      ]
     },
     "execution_count": 44,
     "metadata": {},
     "output_type": "execute_result"
    }
   ],
   "source": [
    "df22.columns"
   ]
  },
  {
   "cell_type": "code",
   "execution_count": 45,
   "metadata": {},
   "outputs": [
    {
     "data": {
      "text/html": [
       "<div>\n",
       "<style scoped>\n",
       "    .dataframe tbody tr th:only-of-type {\n",
       "        vertical-align: middle;\n",
       "    }\n",
       "\n",
       "    .dataframe tbody tr th {\n",
       "        vertical-align: top;\n",
       "    }\n",
       "\n",
       "    .dataframe thead th {\n",
       "        text-align: right;\n",
       "    }\n",
       "</style>\n",
       "<table border=\"1\" class=\"dataframe\">\n",
       "  <thead>\n",
       "    <tr style=\"text-align: right;\">\n",
       "      <th></th>\n",
       "      <th>Unnamed: 0</th>\n",
       "      <th>ACCIDENT_TYPE</th>\n",
       "      <th>DAY_OF_WEEK</th>\n",
       "      <th>LIGHT_CONDITION</th>\n",
       "      <th>ROAD_GEOMETRY</th>\n",
       "      <th>SEVERITY</th>\n",
       "      <th>SPEED_ZONE</th>\n",
       "      <th>OTHERINJURY</th>\n",
       "      <th>NONINJURED</th>\n",
       "      <th>BICYCLIST</th>\n",
       "      <th>...</th>\n",
       "      <th>UNLICENCSED</th>\n",
       "      <th>NO_OF_VEHICLES</th>\n",
       "      <th>HEAVYVEHICLE</th>\n",
       "      <th>PASSENGERVEHICLE</th>\n",
       "      <th>MOTORCYCLE</th>\n",
       "      <th>PUBLICVEHICLE</th>\n",
       "      <th>DEG_URBAN_NAME</th>\n",
       "      <th>RMA</th>\n",
       "      <th>DIVIDED</th>\n",
       "      <th>ser_inj_or_fat</th>\n",
       "    </tr>\n",
       "    <tr>\n",
       "      <th>ALCOHOLTIME</th>\n",
       "      <th></th>\n",
       "      <th></th>\n",
       "      <th></th>\n",
       "      <th></th>\n",
       "      <th></th>\n",
       "      <th></th>\n",
       "      <th></th>\n",
       "      <th></th>\n",
       "      <th></th>\n",
       "      <th></th>\n",
       "      <th></th>\n",
       "      <th></th>\n",
       "      <th></th>\n",
       "      <th></th>\n",
       "      <th></th>\n",
       "      <th></th>\n",
       "      <th></th>\n",
       "      <th></th>\n",
       "      <th></th>\n",
       "      <th></th>\n",
       "      <th></th>\n",
       "    </tr>\n",
       "  </thead>\n",
       "  <tbody>\n",
       "    <tr>\n",
       "      <th>No</th>\n",
       "      <td>882</td>\n",
       "      <td>882</td>\n",
       "      <td>882</td>\n",
       "      <td>882</td>\n",
       "      <td>882</td>\n",
       "      <td>882</td>\n",
       "      <td>882</td>\n",
       "      <td>882</td>\n",
       "      <td>882</td>\n",
       "      <td>882</td>\n",
       "      <td>...</td>\n",
       "      <td>882</td>\n",
       "      <td>882</td>\n",
       "      <td>882</td>\n",
       "      <td>882</td>\n",
       "      <td>882</td>\n",
       "      <td>882</td>\n",
       "      <td>882</td>\n",
       "      <td>882</td>\n",
       "      <td>882</td>\n",
       "      <td>882</td>\n",
       "    </tr>\n",
       "    <tr>\n",
       "      <th>Yes</th>\n",
       "      <td>475</td>\n",
       "      <td>475</td>\n",
       "      <td>475</td>\n",
       "      <td>475</td>\n",
       "      <td>475</td>\n",
       "      <td>475</td>\n",
       "      <td>475</td>\n",
       "      <td>475</td>\n",
       "      <td>475</td>\n",
       "      <td>475</td>\n",
       "      <td>...</td>\n",
       "      <td>475</td>\n",
       "      <td>475</td>\n",
       "      <td>475</td>\n",
       "      <td>475</td>\n",
       "      <td>475</td>\n",
       "      <td>475</td>\n",
       "      <td>475</td>\n",
       "      <td>475</td>\n",
       "      <td>475</td>\n",
       "      <td>475</td>\n",
       "    </tr>\n",
       "  </tbody>\n",
       "</table>\n",
       "<p>2 rows × 30 columns</p>\n",
       "</div>"
      ],
      "text/plain": [
       "             Unnamed: 0  ACCIDENT_TYPE  DAY_OF_WEEK  LIGHT_CONDITION  \\\n",
       "ALCOHOLTIME                                                            \n",
       "No                  882            882          882              882   \n",
       "Yes                 475            475          475              475   \n",
       "\n",
       "             ROAD_GEOMETRY  SEVERITY  SPEED_ZONE  OTHERINJURY  NONINJURED  \\\n",
       "ALCOHOLTIME                                                                 \n",
       "No                     882       882         882          882         882   \n",
       "Yes                    475       475         475          475         475   \n",
       "\n",
       "             BICYCLIST  ...  UNLICENCSED  NO_OF_VEHICLES  HEAVYVEHICLE  \\\n",
       "ALCOHOLTIME             ...                                              \n",
       "No                 882  ...          882             882           882   \n",
       "Yes                475  ...          475             475           475   \n",
       "\n",
       "             PASSENGERVEHICLE  MOTORCYCLE  PUBLICVEHICLE  DEG_URBAN_NAME  RMA  \\\n",
       "ALCOHOLTIME                                                                     \n",
       "No                        882         882            882             882  882   \n",
       "Yes                       475         475            475             475  475   \n",
       "\n",
       "             DIVIDED  ser_inj_or_fat  \n",
       "ALCOHOLTIME                           \n",
       "No               882             882  \n",
       "Yes              475             475  \n",
       "\n",
       "[2 rows x 30 columns]"
      ]
     },
     "execution_count": 45,
     "metadata": {},
     "output_type": "execute_result"
    }
   ],
   "source": [
    "df22.groupby('ALCOHOLTIME').count()"
   ]
  },
  {
   "cell_type": "code",
   "execution_count": 46,
   "metadata": {},
   "outputs": [],
   "source": [
    "from sklearn.preprocessing import LabelEncoder\n",
    "le_ALCOHOLTIME=LabelEncoder()\n",
    "le_ACCIDENT_TYPE=LabelEncoder()\n",
    "le_DAY_OF_WEEK=LabelEncoder()\n",
    "le_LIGHT_CONDITION=LabelEncoder()\n",
    "le_ROAD_GEOMETRY=LabelEncoder()\n",
    "le_SEVERITY=LabelEncoder()\n",
    "le_SPEED_ZONE=LabelEncoder()\n",
    "le_DEG_URBAN_NAME=LabelEncoder()\n",
    "le_RMA=LabelEncoder()\n",
    "le_DIVIDED=LabelEncoder()"
   ]
  },
  {
   "cell_type": "code",
   "execution_count": 47,
   "metadata": {},
   "outputs": [
    {
     "data": {
      "text/html": [
       "<div>\n",
       "<style scoped>\n",
       "    .dataframe tbody tr th:only-of-type {\n",
       "        vertical-align: middle;\n",
       "    }\n",
       "\n",
       "    .dataframe tbody tr th {\n",
       "        vertical-align: top;\n",
       "    }\n",
       "\n",
       "    .dataframe thead th {\n",
       "        text-align: right;\n",
       "    }\n",
       "</style>\n",
       "<table border=\"1\" class=\"dataframe\">\n",
       "  <thead>\n",
       "    <tr style=\"text-align: right;\">\n",
       "      <th></th>\n",
       "      <th>Unnamed: 0</th>\n",
       "      <th>ALCOHOLTIME</th>\n",
       "      <th>ACCIDENT_TYPE</th>\n",
       "      <th>DAY_OF_WEEK</th>\n",
       "      <th>LIGHT_CONDITION</th>\n",
       "      <th>ROAD_GEOMETRY</th>\n",
       "      <th>SEVERITY</th>\n",
       "      <th>SPEED_ZONE</th>\n",
       "      <th>OTHERINJURY</th>\n",
       "      <th>NONINJURED</th>\n",
       "      <th>...</th>\n",
       "      <th>UNLICENCSED</th>\n",
       "      <th>NO_OF_VEHICLES</th>\n",
       "      <th>HEAVYVEHICLE</th>\n",
       "      <th>PASSENGERVEHICLE</th>\n",
       "      <th>MOTORCYCLE</th>\n",
       "      <th>PUBLICVEHICLE</th>\n",
       "      <th>DEG_URBAN_NAME</th>\n",
       "      <th>RMA</th>\n",
       "      <th>DIVIDED</th>\n",
       "      <th>ser_inj_or_fat</th>\n",
       "    </tr>\n",
       "  </thead>\n",
       "  <tbody>\n",
       "    <tr>\n",
       "      <th>0</th>\n",
       "      <td>173</td>\n",
       "      <td>0</td>\n",
       "      <td>1</td>\n",
       "      <td>5</td>\n",
       "      <td>2</td>\n",
       "      <td>2</td>\n",
       "      <td>1</td>\n",
       "      <td>2</td>\n",
       "      <td>1.0</td>\n",
       "      <td>2.0</td>\n",
       "      <td>...</td>\n",
       "      <td>0.0</td>\n",
       "      <td>3.0</td>\n",
       "      <td>0.0</td>\n",
       "      <td>3.0</td>\n",
       "      <td>0.0</td>\n",
       "      <td>0.0</td>\n",
       "      <td>0</td>\n",
       "      <td>0</td>\n",
       "      <td>1</td>\n",
       "      <td>0.0</td>\n",
       "    </tr>\n",
       "    <tr>\n",
       "      <th>1</th>\n",
       "      <td>280</td>\n",
       "      <td>0</td>\n",
       "      <td>1</td>\n",
       "      <td>0</td>\n",
       "      <td>2</td>\n",
       "      <td>0</td>\n",
       "      <td>2</td>\n",
       "      <td>0</td>\n",
       "      <td>1.0</td>\n",
       "      <td>1.0</td>\n",
       "      <td>...</td>\n",
       "      <td>0.0</td>\n",
       "      <td>2.0</td>\n",
       "      <td>0.0</td>\n",
       "      <td>2.0</td>\n",
       "      <td>0.0</td>\n",
       "      <td>0.0</td>\n",
       "      <td>1</td>\n",
       "      <td>1</td>\n",
       "      <td>1</td>\n",
       "      <td>1.0</td>\n",
       "    </tr>\n",
       "    <tr>\n",
       "      <th>2</th>\n",
       "      <td>431</td>\n",
       "      <td>0</td>\n",
       "      <td>1</td>\n",
       "      <td>3</td>\n",
       "      <td>2</td>\n",
       "      <td>2</td>\n",
       "      <td>2</td>\n",
       "      <td>2</td>\n",
       "      <td>0.0</td>\n",
       "      <td>3.0</td>\n",
       "      <td>...</td>\n",
       "      <td>0.0</td>\n",
       "      <td>4.0</td>\n",
       "      <td>0.0</td>\n",
       "      <td>4.0</td>\n",
       "      <td>0.0</td>\n",
       "      <td>0.0</td>\n",
       "      <td>0</td>\n",
       "      <td>0</td>\n",
       "      <td>1</td>\n",
       "      <td>1.0</td>\n",
       "    </tr>\n",
       "    <tr>\n",
       "      <th>3</th>\n",
       "      <td>435</td>\n",
       "      <td>0</td>\n",
       "      <td>1</td>\n",
       "      <td>3</td>\n",
       "      <td>2</td>\n",
       "      <td>0</td>\n",
       "      <td>1</td>\n",
       "      <td>1</td>\n",
       "      <td>1.0</td>\n",
       "      <td>1.0</td>\n",
       "      <td>...</td>\n",
       "      <td>0.0</td>\n",
       "      <td>2.0</td>\n",
       "      <td>0.0</td>\n",
       "      <td>2.0</td>\n",
       "      <td>0.0</td>\n",
       "      <td>0.0</td>\n",
       "      <td>0</td>\n",
       "      <td>1</td>\n",
       "      <td>0</td>\n",
       "      <td>0.0</td>\n",
       "    </tr>\n",
       "    <tr>\n",
       "      <th>4</th>\n",
       "      <td>485</td>\n",
       "      <td>0</td>\n",
       "      <td>1</td>\n",
       "      <td>6</td>\n",
       "      <td>2</td>\n",
       "      <td>3</td>\n",
       "      <td>1</td>\n",
       "      <td>3</td>\n",
       "      <td>1.0</td>\n",
       "      <td>1.0</td>\n",
       "      <td>...</td>\n",
       "      <td>0.0</td>\n",
       "      <td>2.0</td>\n",
       "      <td>0.0</td>\n",
       "      <td>2.0</td>\n",
       "      <td>0.0</td>\n",
       "      <td>0.0</td>\n",
       "      <td>1</td>\n",
       "      <td>1</td>\n",
       "      <td>1</td>\n",
       "      <td>0.0</td>\n",
       "    </tr>\n",
       "  </tbody>\n",
       "</table>\n",
       "<p>5 rows × 31 columns</p>\n",
       "</div>"
      ],
      "text/plain": [
       "   Unnamed: 0  ALCOHOLTIME  ACCIDENT_TYPE  DAY_OF_WEEK  LIGHT_CONDITION  \\\n",
       "0         173            0              1            5                2   \n",
       "1         280            0              1            0                2   \n",
       "2         431            0              1            3                2   \n",
       "3         435            0              1            3                2   \n",
       "4         485            0              1            6                2   \n",
       "\n",
       "   ROAD_GEOMETRY  SEVERITY  SPEED_ZONE  OTHERINJURY  NONINJURED  ...  \\\n",
       "0              2         1           2          1.0         2.0  ...   \n",
       "1              0         2           0          1.0         1.0  ...   \n",
       "2              2         2           2          0.0         3.0  ...   \n",
       "3              0         1           1          1.0         1.0  ...   \n",
       "4              3         1           3          1.0         1.0  ...   \n",
       "\n",
       "   UNLICENCSED  NO_OF_VEHICLES  HEAVYVEHICLE  PASSENGERVEHICLE  MOTORCYCLE  \\\n",
       "0          0.0             3.0           0.0               3.0         0.0   \n",
       "1          0.0             2.0           0.0               2.0         0.0   \n",
       "2          0.0             4.0           0.0               4.0         0.0   \n",
       "3          0.0             2.0           0.0               2.0         0.0   \n",
       "4          0.0             2.0           0.0               2.0         0.0   \n",
       "\n",
       "   PUBLICVEHICLE  DEG_URBAN_NAME  RMA  DIVIDED  ser_inj_or_fat  \n",
       "0            0.0               0    0        1             0.0  \n",
       "1            0.0               1    1        1             1.0  \n",
       "2            0.0               0    0        1             1.0  \n",
       "3            0.0               0    1        0             0.0  \n",
       "4            0.0               1    1        1             0.0  \n",
       "\n",
       "[5 rows x 31 columns]"
      ]
     },
     "execution_count": 47,
     "metadata": {},
     "output_type": "execute_result"
    }
   ],
   "source": [
    "df22['ALCOHOLTIME']=le_ALCOHOLTIME.fit_transform(df22['ALCOHOLTIME'])\n",
    "df22['ACCIDENT_TYPE']=le_ACCIDENT_TYPE.fit_transform(df22['ACCIDENT_TYPE'])\n",
    "df22['DAY_OF_WEEK']=le_DAY_OF_WEEK.fit_transform(df22['DAY_OF_WEEK'])\n",
    "df22['LIGHT_CONDITION']=le_LIGHT_CONDITION.fit_transform(df22['LIGHT_CONDITION'])\n",
    "df22['ROAD_GEOMETRY']=le_ROAD_GEOMETRY.fit_transform(df22['ROAD_GEOMETRY'])\n",
    "df22['SEVERITY']=le_SEVERITY.fit_transform(df22['SEVERITY'])\n",
    "df22['SPEED_ZONE']=le_SPEED_ZONE.fit_transform(df22['SPEED_ZONE'])\n",
    "df22['DEG_URBAN_NAME']=le_DEG_URBAN_NAME.fit_transform(df22['DEG_URBAN_NAME'])\n",
    "df22['RMA']=le_RMA.fit_transform(df22['RMA'])\n",
    "df22['DIVIDED']=le_DIVIDED.fit_transform(df22['DIVIDED'])\n",
    "df22.head()"
   ]
  },
  {
   "cell_type": "code",
   "execution_count": 48,
   "metadata": {},
   "outputs": [],
   "source": [
    "x=df22.drop(['SEVERITY'],axis='columns')\n",
    "y=df22['SEVERITY']"
   ]
  },
  {
   "cell_type": "code",
   "execution_count": 49,
   "metadata": {},
   "outputs": [],
   "source": [
    "from sklearn.model_selection import train_test_split\n",
    "x_train,x_test,y_train,y_test=train_test_split(x,y,train_size=0.8,random_state=10)"
   ]
  },
  {
   "cell_type": "code",
   "execution_count": 50,
   "metadata": {},
   "outputs": [],
   "source": [
    "from sklearn.ensemble import RandomForestClassifier\n",
    "rf=RandomForestClassifier(n_estimators=10)"
   ]
  },
  {
   "cell_type": "code",
   "execution_count": 51,
   "metadata": {},
   "outputs": [
    {
     "data": {
      "text/plain": [
       "0.9779411764705882"
      ]
     },
     "execution_count": 51,
     "metadata": {},
     "output_type": "execute_result"
    }
   ],
   "source": [
    "rf.fit(x_train,y_train)\n",
    "rf.score(x_test,y_test)"
   ]
  },
  {
   "cell_type": "code",
   "execution_count": 52,
   "metadata": {},
   "outputs": [
    {
     "name": "stdout",
     "output_type": "stream",
     "text": [
      "0.04411764705882353\n"
     ]
    }
   ],
   "source": [
    "from sklearn.metrics import mean_absolute_error\n",
    "y_pred=rf.predict(x_test)\n",
    "print (mean_absolute_error(y_test, y_pred))"
   ]
  },
  {
   "cell_type": "code",
   "execution_count": 53,
   "metadata": {},
   "outputs": [
    {
     "name": "stdout",
     "output_type": "stream",
     "text": [
      "              precision    recall  f1-score   support\n",
      "\n",
      "           0       0.00      0.00      0.00         6\n",
      "           1       1.00      1.00      1.00       178\n",
      "           2       0.94      1.00      0.97        88\n",
      "\n",
      "    accuracy                           0.98       272\n",
      "   macro avg       0.65      0.67      0.66       272\n",
      "weighted avg       0.96      0.98      0.97       272\n",
      "\n"
     ]
    },
    {
     "name": "stderr",
     "output_type": "stream",
     "text": [
      "/Users/Talha/opt/anaconda3/lib/python3.8/site-packages/sklearn/metrics/_classification.py:1221: UndefinedMetricWarning: Precision and F-score are ill-defined and being set to 0.0 in labels with no predicted samples. Use `zero_division` parameter to control this behavior.\n",
      "  _warn_prf(average, modifier, msg_start, len(result))\n"
     ]
    }
   ],
   "source": [
    "from sklearn.metrics import classification_report\n",
    "print(classification_report(y_test,y_pred))"
   ]
  },
  {
   "cell_type": "markdown",
   "metadata": {
    "colab_type": "text",
    "id": "gQhIyRIHNIhu"
   },
   "source": [
    "# Logistic Regression"
   ]
  },
  {
   "cell_type": "code",
   "execution_count": 54,
   "metadata": {},
   "outputs": [
    {
     "name": "stdout",
     "output_type": "stream",
     "text": [
      "\tTop Absolute Correlations\n",
      "\n",
      "MOTORIST  MOTORCYCLE          1.000000\n",
      "DRIVER    PASSENGERVEHICLE    0.983269\n",
      "          NO_OF_VEHICLES      0.959908\n",
      "dtype: float64\n",
      "SEVERITY            1.000000\n",
      "OTHERINJURY         0.528141\n",
      "NONINJURED          0.131988\n",
      "DRIVER              0.136554\n",
      "MOTORIST            0.132504\n",
      "NO_OF_VEHICLES      0.123283\n",
      "PASSENGERVEHICLE    0.143194\n",
      "MOTORCYCLE          0.132504\n",
      "DEG_URBAN_NAME      0.145988\n",
      "ser_inj_or_fat      0.752192\n",
      "Name: SEVERITY, dtype: float64 \n",
      "\n",
      "The feature that has the most correlation with SEVERITY =  1.0 \n",
      "\n"
     ]
    }
   ],
   "source": [
    "Correlation = df22.corr()\n",
    "Correlation.style.background_gradient(cmap='rainbow')\n",
    "\n",
    "def get_redundant_pairs(df):\n",
    "    pairs_to_drop = set()\n",
    "    cols = df.columns\n",
    "    for i in range(0, df.shape[1]):\n",
    "        for j in range(0, i+1):\n",
    "            pairs_to_drop.add((cols[i], cols[j]))\n",
    "    return pairs_to_drop\n",
    "\n",
    "def get_top_abs_correlations(df, n=5):\n",
    "    au_corr = df.corr().abs().unstack()\n",
    "    labels_to_drop = get_redundant_pairs(df)\n",
    "    au_corr = au_corr.drop(labels=labels_to_drop).sort_values(ascending=False)\n",
    "    return au_corr[0:n]\n",
    "\n",
    "print(\"\\tTop Absolute Correlations\\n\")\n",
    "print(get_top_abs_correlations(Correlation, 3))\n",
    "\n",
    "Target_Variable = abs(Correlation[\"SEVERITY\"])\n",
    "#Selecting highly correlated features with pressure\n",
    "RF = Target_Variable[Target_Variable > 0.1]\n",
    "print (RF,\"\\n\")\n",
    "relevant_features = np.max(RF)\n",
    "print (\"The feature that has the most correlation with SEVERITY = \", relevant_features, \"\\n\")"
   ]
  },
  {
   "cell_type": "code",
   "execution_count": 55,
   "metadata": {},
   "outputs": [],
   "source": [
    "from sklearn.linear_model import LogisticRegression\n",
    "from sklearn.preprocessing import StandardScaler, PolynomialFeatures\n",
    "\n",
    "Feats_Log = StandardScaler().fit_transform(x)\n",
    "Features_Log = PolynomialFeatures(degree=2).fit_transform(Feats_Log)\n",
    "\n",
    "X_train_Logstc, X_test_Logstc, y_train_Logstc, y_test_Logstc = train_test_split(Features_Log, y, train_size=0.8, random_state=5)"
   ]
  },
  {
   "cell_type": "code",
   "execution_count": 56,
   "metadata": {},
   "outputs": [
    {
     "name": "stdout",
     "output_type": "stream",
     "text": [
      "Accuracy of the model is =  96.32352941176471 %\n",
      "\n"
     ]
    }
   ],
   "source": [
    "#Solver lbfgs basically means replicating the smaller class until you have as many samples as in the larger one,\n",
    "Logistic_Model = LogisticRegression(solver='lbfgs', max_iter=1000).fit(X_train_Logstc, y_train_Logstc)\n",
    "pred_with_Logistic = (Logistic_Model.predict_proba(X_test_Logstc)[:,1] >= 0.45).astype(int)\n",
    "\n",
    "print (\"Accuracy of the model is = \", (Logistic_Model.score(X_test_Logstc, y_test_Logstc))*100,\"%\\n\")"
   ]
  },
  {
   "cell_type": "code",
   "execution_count": 57,
   "metadata": {},
   "outputs": [
    {
     "name": "stdout",
     "output_type": "stream",
     "text": [
      "Accuracy of the model is =  -0.6800212595341026 %\n",
      "\n"
     ]
    }
   ],
   "source": [
    "from sklearn import linear_model\n",
    "Lass = linear_model.ElasticNet(random_state=0)\n",
    "Lass.fit(X_train_Logstc, y_train_Logstc)\n",
    "pred_with_Lasso= Lass.predict(X_test_Logstc)\n",
    "print (\"Accuracy of the model is = \", (Lass.score(X_test_Logstc, y_test_Logstc))*100,\"%\\n\")"
   ]
  },
  {
   "cell_type": "code",
   "execution_count": 58,
   "metadata": {},
   "outputs": [
    {
     "name": "stdout",
     "output_type": "stream",
     "text": [
      "\n",
      "Confusion Matrix:\n",
      "[[  4   0   0]\n",
      " [  2 187   0]\n",
      " [ 78   1   0]]\n",
      "==========================================================\n",
      "==========================================================\n",
      "\n",
      "\tTest performance using Precision and recall\n",
      "\n",
      "              precision    recall  f1-score   support\n",
      "\n",
      "       Other       0.05      1.00      0.09         4\n",
      "      Severe       0.99      0.99      0.99       189\n",
      "       Fatal       0.00      0.00      0.00        79\n",
      "\n",
      "    accuracy                           0.70       272\n",
      "   macro avg       0.35      0.66      0.36       272\n",
      "weighted avg       0.69      0.70      0.69       272\n",
      "\n",
      "==========================================================\n"
     ]
    },
    {
     "name": "stderr",
     "output_type": "stream",
     "text": [
      "/Users/Talha/opt/anaconda3/lib/python3.8/site-packages/sklearn/metrics/_classification.py:1221: UndefinedMetricWarning: Precision and F-score are ill-defined and being set to 0.0 in labels with no predicted samples. Use `zero_division` parameter to control this behavior.\n",
      "  _warn_prf(average, modifier, msg_start, len(result))\n"
     ]
    }
   ],
   "source": [
    "from sklearn.metrics import precision_recall_fscore_support as score\n",
    "from sklearn.metrics import confusion_matrix\n",
    "from sklearn.metrics import classification_report\n",
    "\n",
    "print (\"\\nConfusion Matrix:\")\n",
    "cm = confusion_matrix(y_test_Logstc, pred_with_Logistic)\n",
    "print(cm)\n",
    "print (\"==========================================================\")\n",
    "\n",
    "target_names = ['Other', 'Severe', 'Fatal']\n",
    "print (\"==========================================================\")\n",
    "print (\"\\n\\tTest performance using Precision and recall\\n\")\n",
    "print(classification_report(y_test_Logstc, pred_with_Logistic, target_names=target_names))\n",
    "print (\"==========================================================\")"
   ]
  },
  {
   "cell_type": "code",
   "execution_count": 59,
   "metadata": {},
   "outputs": [
    {
     "name": "stdout",
     "output_type": "stream",
     "text": [
      "Accuracy of the Decision Tree model is =  97.79411764705883 %\n",
      "\n",
      "Accuracy of the Logistic model is =  96.32352941176471 %\n",
      "\n"
     ]
    }
   ],
   "source": [
    "print (\"Accuracy of the Decision Tree model is = \",rf.score(x_test,y_test)*100,\"%\\n\")\n",
    "print (\"Accuracy of the Logistic model is = \", (Logistic_Model.score(X_test_Logstc, y_test_Logstc))*100,\"%\\n\")"
   ]
  },
  {
   "cell_type": "code",
   "execution_count": 60,
   "metadata": {},
   "outputs": [],
   "source": [
    "# Linear Regression\n",
    "\n",
    "# Feats = df22[['OTHERINJURY', 'NONINJURED', 'DRIVER', 'MOTORIST', 'NO_OF_VEHICLES', 'PASSENGERVEHICLE', 'MOTORCYCLE', 'DEG_URBAN_NAME', 'ser_inj_or_fat' ]]\n",
    "\n",
    "# x_train_,x_test_,y_train_,y_test_=train_test_split(Feats,y,train_size=0.8,random_state=10)\n",
    "# from sklearn.linear_model import LinearRegression\n",
    "# Linear_Model = LinearRegression().fit(x_train_, y_train_)\n",
    "\n",
    "# from sklearn.metrics import mean_absolute_error\n",
    "# from  matplotlib import pyplot \n",
    "\n",
    "# y_pred_ = Linear_Model.predict(x_test_)\n",
    "# print (\"The Mean Absolute Error of the Model = \", mean_absolute_error(y_test_, y_pred_))\n",
    "# print (\"Accuracy of the Linear Model = \", Linear_Model.score(x_test_, y_test))"
   ]
  },
  {
   "cell_type": "code",
   "execution_count": null,
   "metadata": {},
   "outputs": [],
   "source": []
  }
 ],
 "metadata": {
  "kernelspec": {
   "display_name": "Python 3",
   "language": "python",
   "name": "python3"
  },
  "language_info": {
   "codemirror_mode": {
    "name": "ipython",
    "version": 3
   },
   "file_extension": ".py",
   "mimetype": "text/x-python",
   "name": "python",
   "nbconvert_exporter": "python",
   "pygments_lexer": "ipython3",
   "version": "3.8.3"
  }
 },
 "nbformat": 4,
 "nbformat_minor": 4
}
