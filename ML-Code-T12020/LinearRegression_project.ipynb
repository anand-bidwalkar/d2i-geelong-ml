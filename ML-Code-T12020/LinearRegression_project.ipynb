{
  "nbformat": 4,
  "nbformat_minor": 0,
  "metadata": {
    "colab": {
      "name": "LinearRegression_project.ipynb",
      "provenance": []
    },
    "kernelspec": {
      "name": "python3",
      "display_name": "Python 3"
    }
  },
  "cells": [
    {
      "cell_type": "code",
      "metadata": {
        "id": "TjZuBK1b-x8y",
        "colab_type": "code",
        "colab": {}
      },
      "source": [
        "import pandas as pd\n",
        "from sklearn.linear_model import LinearRegression\n",
        "from sklearn.model_selection import train_test_split\n",
        "from sklearn.metrics import mean_squared_error,r2_score\n",
        "import numpy as np\n",
        "import pickle\n",
        "import matplotlib.pyplot as plt\n"
      ],
      "execution_count": 0,
      "outputs": []
    },
    {
      "cell_type": "code",
      "metadata": {
        "id": "W3oQmPx3AKep",
        "colab_type": "code",
        "colab": {}
      },
      "source": [
        "model = pickle.load(open('LinearRegressionModel.sav','rb'))"
      ],
      "execution_count": 0,
      "outputs": []
    },
    {
      "cell_type": "code",
      "metadata": {
        "id": "MDgWh7SFUuSQ",
        "colab_type": "code",
        "colab": {
          "base_uri": "https://localhost:8080/",
          "height": 141
        },
        "outputId": "e374e009-6c50-40ce-f0c2-e3d20ae3a77b"
      },
      "source": [
        "mergedData = pd.read_csv('mergeded_clean.csv')\n",
        "mergedData.keys()"
      ],
      "execution_count": 69,
      "outputs": [
        {
          "output_type": "execute_result",
          "data": {
            "text/plain": [
              "Index(['grs_zones', 'lga11_name', 'id_areas', 'settlement', '2011_population',\n",
              "       '2016_population', '2021_population', '2026_population',\n",
              "       '2031_population', '2036_population', '2041_population',\n",
              "       '2046_population', '2051_population', '2011_dwellings',\n",
              "       '2016_dwellings', '2021_dwellings', '2026_dwellings', '2031_dwellings',\n",
              "       '2036_dwellings', '2041_dwellings', '2046_dwellings', '2051_dwellings'],\n",
              "      dtype='object')"
            ]
          },
          "metadata": {
            "tags": []
          },
          "execution_count": 69
        }
      ]
    },
    {
      "cell_type": "code",
      "metadata": {
        "id": "6OE899nqBQBJ",
        "colab_type": "code",
        "colab": {}
      },
      "source": [
        "#for prediction\n",
        "def make_prediction(dataset,year_to_predict,regression_model):\n",
        "  print(dataset.keys())\n",
        "  temp_dataset = dataset.copy()\n",
        "  temp_dataset['year'] = year_to_predict\n",
        "  predicted_data = regression_model.predict(temp_dataset)\n",
        "  ratio = find_population_per_dwelling_ratio(dataset,predicted_data,year_to_predict)\n",
        "  #determine_surplus_or_deficiency(ratio)\n",
        "  plot_graph(dataset,predicted_data)\n",
        "  ##Coefficient of determination (r**2) calculation\n",
        "  #col_name = year_to_predict+'_dwellings'\n",
        "  #print(\"r2 Score : {}\".format(mergedData[col_name],predicted_data))\n",
        "  print(\"Ratio of poplation per dwelling in year {} : {}\".format(year_to_predict,ratio))"
      ],
      "execution_count": 0,
      "outputs": []
    },
    {
      "cell_type": "code",
      "metadata": {
        "id": "dn3gk7oiPrz0",
        "colab_type": "code",
        "colab": {}
      },
      "source": [
        "def plot_graph(dataset,predicted_data):\n",
        "  plt.title(label=\"population vs Predicted Dwelling\")\n",
        "  plt.plot(dataset[year_to_predict],predicted_data)\n",
        "  #plt.plot(mergedData['2051_population'],mergedData['2051_dwellings'])\n",
        "  plt.show()"
      ],
      "execution_count": 0,
      "outputs": []
    },
    {
      "cell_type": "code",
      "metadata": {
        "id": "xt4gApn3Cna-",
        "colab_type": "code",
        "colab": {}
      },
      "source": [
        "def find_population_per_dwelling_ratio(dataset,predicted_data,year):\n",
        "  population_per_dwelling = []\n",
        "  for population,dwelling in zip(dataset[year],predicted_data):\n",
        "    population_per_dwelling.append(population/dwelling)\n",
        "\n",
        "  return np.mean(population_per_dwelling)"
      ],
      "execution_count": 0,
      "outputs": []
    },
    {
      "cell_type": "code",
      "metadata": {
        "id": "JFPQn-xBGVux",
        "colab_type": "code",
        "colab": {}
      },
      "source": [
        "def determine_surplus_or_deficiency(predicted_ratio)"
      ],
      "execution_count": 0,
      "outputs": []
    },
    {
      "cell_type": "code",
      "metadata": {
        "id": "RZ6MkvFOA5qq",
        "colab_type": "code",
        "colab": {
          "base_uri": "https://localhost:8080/",
          "height": 316
        },
        "outputId": "0a3bece3-100c-4016-db6d-da9706b3ca31"
      },
      "source": [
        "year_to_predict = '2051'\n",
        "to_predict = pd.read_csv('testDataset.csv')\n",
        "make_prediction(to_predict,year_to_predict,model)"
      ],
      "execution_count": 91,
      "outputs": [
        {
          "output_type": "stream",
          "text": [
            "Index(['grs_zones', '2051'], dtype='object')\n"
          ],
          "name": "stdout"
        },
        {
          "output_type": "display_data",
          "data": {
            "image/png": "[encoded data removed]",
            "text/plain": [
              "<Figure size 432x288 with 1 Axes>"
            ]
          },
          "metadata": {
            "tags": []
          }
        },
        {
          "output_type": "stream",
          "text": [
            "Ratio of poplation per dwelling in year 2051 : 1.9093936401419327\n"
          ],
          "name": "stdout"
        }
      ]
    }
  ]
}