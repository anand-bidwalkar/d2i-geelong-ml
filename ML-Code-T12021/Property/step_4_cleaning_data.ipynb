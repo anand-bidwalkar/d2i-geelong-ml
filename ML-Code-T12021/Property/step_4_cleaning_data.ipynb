{
  "nbformat": 4,
  "nbformat_minor": 0,
  "metadata": {
    "colab": {
      "name": "Cleaning.ipynb",
      "private_outputs": true,
      "provenance": [],
      "collapsed_sections": []
    },
    "kernelspec": {
      "name": "python3",
      "display_name": "Python 3"
    },
    "language_info": {
      "name": "python"
    }
  },
  "cells": [
    {
      "cell_type": "code",
      "metadata": {
        "id": "UEcqnN2P5wJu"
      },
      "source": [
        "folder_path = \"drive/MyDrive/SIT764/Property/data/\""
      ],
      "execution_count": null,
      "outputs": []
    },
    {
      "cell_type": "code",
      "metadata": {
        "id": "3LnpTwUt26wt"
      },
      "source": [
        "!ls {folder_path}"
      ],
      "execution_count": null,
      "outputs": []
    },
    {
      "cell_type": "code",
      "metadata": {
        "id": "nzALBEKR3AZl"
      },
      "source": [
        "df = pd.read_csv(folder_path + \"add_feature.csv\")"
      ],
      "execution_count": null,
      "outputs": []
    },
    {
      "cell_type": "code",
      "metadata": {
        "id": "4Le7joxtgnMy"
      },
      "source": [
        "df.head()"
      ],
      "execution_count": null,
      "outputs": []
    },
    {
      "cell_type": "code",
      "metadata": {
        "id": "MblGUA3p-i2i"
      },
      "source": [
        "#Keep the important features\n",
        "df = df[[\"Suburb\", \"Suburb_Code\", \"Land Size SQM\", \"Building Size SQM\", \"Bedrooms\", \"Toilets\", \"Car\",  \"School\", \"Shop\", \"Restaurant\", \"Station\", \"Park\", \"Hospital\",\"Rent Amount PW\", \"Auction\", \"Last Sell Date\", \"Last Sell Price\", \"Sell Date\", \"Sell Price\"]]"
      ],
      "execution_count": null,
      "outputs": []
    },
    {
      "cell_type": "markdown",
      "metadata": {
        "id": "XVLSSfmMSnQB"
      },
      "source": [
        "# Change format"
      ]
    },
    {
      "cell_type": "code",
      "metadata": {
        "id": "pl_TCuwbN75q"
      },
      "source": [
        "#Convert format of rent amount from string to number\n",
        "def rent_amount(x):\n",
        "  if x == x:\n",
        "    x = x.replace(\",\", \"\")\n",
        "  return x\n",
        "\n",
        "# Remove some wrong values\n",
        "df = df[df['Rent Amount PW'] != \"FFE\"]\n",
        "df = df[df['Rent Amount PW'] != \"ent\"]\n",
        "df = df[df['Rent Amount PW'] != \"ist\"]\n",
        "df = df[df['Rent Amount PW'] !=  \"nvesto\" ]\n",
        "df = df[df['Rent Amount PW'] !=  \"o\" ]\n",
        "df = df[df['Rent Amount PW'] !=  \"ayi\" ]\n",
        "df = df[df['Rent Amount PW'] !=  \"otenti\" ]\n",
        "\n",
        "df['Rent Amount PW'] = df['Rent Amount PW'].apply(rent_amount)\n",
        "df['Rent Amount PW'] = pd.to_numeric(df['Rent Amount PW'])\n",
        "df['Rent Amount PW']\n"
      ],
      "execution_count": null,
      "outputs": []
    },
    {
      "cell_type": "code",
      "metadata": {
        "id": "Y7h0w9p5YqHD"
      },
      "source": [
        "#Convert format of Land Size SQM from string to number\n",
        "def size(x):\n",
        "  if x == x:\n",
        "    x = x.replace(\",\", \"\")\n",
        "  return x\n",
        "\n",
        "#Remove some wrong values\n",
        "df = df[df[\"Land Size SQM\"] != \"&\"]\n",
        "df = df[df[\"Land Size SQM\"] != \"bedroom\"]\n",
        "df = df[df[\"Land Size SQM\"] != \"industrial\"]\n",
        "\n",
        "df['Land Size SQM'] = df['Land Size SQM'].apply(size)\n",
        "df[\"Land Size SQM\"] = pd.to_numeric(df[\"Land Size SQM\"])\n",
        "df[\"Land Size SQM\"]"
      ],
      "execution_count": null,
      "outputs": []
    },
    {
      "cell_type": "code",
      "metadata": {
        "id": "G1JnnNVdGbEJ"
      },
      "source": [
        "#Convert format of Sell Date from string to datetime\n",
        "df[\"Sell Date\"] = pd.to_datetime(df[\"Sell Date\"], infer_datetime_format=True)\n",
        "df[\"Sell Date\"]"
      ],
      "execution_count": null,
      "outputs": []
    },
    {
      "cell_type": "code",
      "metadata": {
        "id": "Cur2IeZ1knte"
      },
      "source": [
        "#Convert format of Last Sell Date from string to datetime\n",
        "df[\"Last Sell Date\"] = pd.to_datetime(df[\"Last Sell Date\"], infer_datetime_format=True)\n",
        "df[\"Last Sell Date\"]"
      ],
      "execution_count": null,
      "outputs": []
    },
    {
      "cell_type": "markdown",
      "metadata": {
        "id": "AOwe9ztyk2qo"
      },
      "source": [
        "# Fill NAs"
      ]
    },
    {
      "cell_type": "code",
      "metadata": {
        "id": "0RZcE6OJk7Hp"
      },
      "source": [
        "#Count NAs each column\n",
        "df.isnull().sum(axis = 0)"
      ],
      "execution_count": null,
      "outputs": []
    },
    {
      "cell_type": "code",
      "metadata": {
        "id": "wOtTutFQlEg8"
      },
      "source": [
        "#Fill and Size SQM by mean\n",
        "df[\"Land Size SQM\"] = df['Land Size SQM'].fillna(df['Land Size SQM'].mean())\n",
        "df[\"Land Size SQM\"]"
      ],
      "execution_count": null,
      "outputs": []
    },
    {
      "cell_type": "code",
      "metadata": {
        "id": "mXbeKrYFk-iy"
      },
      "source": [
        "#Fill Building Size SQM by mean\n",
        "df[\"Building Size SQM\"] = df['Building Size SQM'].fillna(df['Building Size SQM'].mean())\n",
        "df[\"Building Size SQM\"]"
      ],
      "execution_count": null,
      "outputs": []
    },
    {
      "cell_type": "code",
      "metadata": {
        "id": "Sjm2p6cBlsBj"
      },
      "source": [
        "df[df[\"Bedrooms\"] == None]"
      ],
      "execution_count": null,
      "outputs": []
    },
    {
      "cell_type": "code",
      "metadata": {
        "id": "5dPC_WzVlQrZ"
      },
      "source": [
        "#Fill Bedrooms by mode\n",
        "df[\"Bedrooms\"] = df['Bedrooms'].fillna(df['Bedrooms'].mode()[0])"
      ],
      "execution_count": null,
      "outputs": []
    },
    {
      "cell_type": "code",
      "metadata": {
        "id": "JANeKl52mqYg"
      },
      "source": [
        "#Fill Toilets by mode\n",
        "df[\"Toilets\"] = df['Toilets'].fillna(df['Toilets'].mode()[0])\n",
        "df[\"Toilets\"]"
      ],
      "execution_count": null,
      "outputs": []
    },
    {
      "cell_type": "code",
      "metadata": {
        "id": "U8vuDQfzm5uh"
      },
      "source": [
        "#Fill car by mode\n",
        "df[\"Car\"] = df[\"Car\"].fillna(df[\"Car\"].mode()[0])\n",
        "df[\"Car\"]"
      ],
      "execution_count": null,
      "outputs": []
    },
    {
      "cell_type": "code",
      "metadata": {
        "id": "zXD4utAhNOoh"
      },
      "source": [
        "#Fill Last sell price by mean\n",
        "df['Last Sell Price'] = df['Last Sell Price'].fillna(df['Last Sell Price'].mean())\n",
        "df['Last Sell Price']"
      ],
      "execution_count": null,
      "outputs": []
    },
    {
      "cell_type": "code",
      "metadata": {
        "id": "OLPg8_scnWwP"
      },
      "source": [
        "#Fill Rent Amount PW\n",
        "df['Rent Amount PW'] = df['Rent Amount PW'].fillna(df['Rent Amount PW'].mean(), )\n",
        "df['Rent Amount PW']"
      ],
      "execution_count": null,
      "outputs": []
    },
    {
      "cell_type": "code",
      "metadata": {
        "id": "Xv6QcV_gNjiX"
      },
      "source": [
        "#Fill Auction by 0\n",
        "df[\"Auction\"] = df['Auction'].fillna(0)\n",
        "df[\"Auction\"]"
      ],
      "execution_count": null,
      "outputs": []
    },
    {
      "cell_type": "code",
      "metadata": {
        "id": "Ol7zuuxHnpd5"
      },
      "source": [
        "#Count NAs each column\n",
        "df.isnull().sum(axis = 0)"
      ],
      "execution_count": null,
      "outputs": []
    },
    {
      "cell_type": "code",
      "metadata": {
        "id": "lpPDdoHUiFnj"
      },
      "source": [
        "df.info()"
      ],
      "execution_count": null,
      "outputs": []
    },
    {
      "cell_type": "code",
      "metadata": {
        "id": "LCEdxgQbbPDn"
      },
      "source": [
        "df.to_csv(folder_path + f\"cleaning_data.csv\",index=False)"
      ],
      "execution_count": null,
      "outputs": []
    }
  ]
}