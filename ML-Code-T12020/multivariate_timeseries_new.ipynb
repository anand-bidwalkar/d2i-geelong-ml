{
  "nbformat": 4,
  "nbformat_minor": 0,
  "metadata": {
    "kernelspec": {
      "display_name": "Python 3",
      "language": "python",
      "name": "python3"
    },
    "language_info": {
      "codemirror_mode": {
        "name": "ipython",
        "version": 3
      },
      "file_extension": ".py",
      "mimetype": "text/x-python",
      "name": "python",
      "nbconvert_exporter": "python",
      "pygments_lexer": "ipython3",
      "version": "3.7.6"
    },
    "colab": {
      "name": "multivariate_timeseries_new.ipynb",
      "provenance": [],
      "collapsed_sections": []
    }
  },
  "cells": [
    {
      "cell_type": "code",
      "metadata": {
        "id": "f3oGxi0yA5wV",
        "colab_type": "code",
        "colab": {}
      },
      "source": [
        "import pandas as pd\n",
        "import numpy as np\n",
        "import matplotlib.pylab as plt\n",
        "%matplotlib inline\n",
        "from datetime import datetime\n",
        "import math"
      ],
      "execution_count": 0,
      "outputs": []
    },
    {
      "cell_type": "code",
      "metadata": {
        "id": "oivWxup6A5wm",
        "colab_type": "code",
        "outputId": "c6a79042-84db-48be-a367-1df5b87a2b1d",
        "colab": {
          "base_uri": "https://localhost:8080/",
          "height": 173
        }
      },
      "source": [
        "df = pd.read_csv('Dataforforcast.csv')\n",
        "#del df['Unnamed: 6']\n",
        "df['Year'] = df['Year'].astype(str).str.strip()\n",
        "df.head()"
      ],
      "execution_count": 0,
      "outputs": [
        {
          "output_type": "execute_result",
          "data": {
            "text/html": [
              "<div>\n",
              "<style scoped>\n",
              "    .dataframe tbody tr th:only-of-type {\n",
              "        vertical-align: middle;\n",
              "    }\n",
              "\n",
              "    .dataframe tbody tr th {\n",
              "        vertical-align: top;\n",
              "    }\n",
              "\n",
              "    .dataframe thead th {\n",
              "        text-align: right;\n",
              "    }\n",
              "</style>\n",
              "<table border=\"1\" class=\"dataframe\">\n",
              "  <thead>\n",
              "    <tr style=\"text-align: right;\">\n",
              "      <th></th>\n",
              "      <th>Year</th>\n",
              "      <th>Population</th>\n",
              "      <th>Dwellings</th>\n",
              "      <th>Employed</th>\n",
              "      <th>Unemployed</th>\n",
              "      <th>Train</th>\n",
              "    </tr>\n",
              "  </thead>\n",
              "  <tbody>\n",
              "    <tr>\n",
              "      <th>0</th>\n",
              "      <td>2001</td>\n",
              "      <td>4940</td>\n",
              "      <td>2515</td>\n",
              "      <td>1727</td>\n",
              "      <td>112</td>\n",
              "      <td>74</td>\n",
              "    </tr>\n",
              "    <tr>\n",
              "      <th>1</th>\n",
              "      <td>2006</td>\n",
              "      <td>4952</td>\n",
              "      <td>2541</td>\n",
              "      <td>2183</td>\n",
              "      <td>126</td>\n",
              "      <td>113</td>\n",
              "    </tr>\n",
              "    <tr>\n",
              "      <th>2</th>\n",
              "      <td>2011</td>\n",
              "      <td>5309</td>\n",
              "      <td>2747</td>\n",
              "      <td>2360</td>\n",
              "      <td>138</td>\n",
              "      <td>138</td>\n",
              "    </tr>\n",
              "    <tr>\n",
              "      <th>3</th>\n",
              "      <td>2016</td>\n",
              "      <td>5769</td>\n",
              "      <td>3072</td>\n",
              "      <td>2478</td>\n",
              "      <td>145</td>\n",
              "      <td>184</td>\n",
              "    </tr>\n",
              "  </tbody>\n",
              "</table>\n",
              "</div>"
            ],
            "text/plain": [
              "   Year  Population  Dwellings  Employed  Unemployed  Train\n",
              "0  2001        4940       2515      1727         112     74\n",
              "1  2006        4952       2541      2183         126    113\n",
              "2  2011        5309       2747      2360         138    138\n",
              "3  2016        5769       3072      2478         145    184"
            ]
          },
          "metadata": {
            "tags": []
          },
          "execution_count": 102
        }
      ]
    },
    {
      "cell_type": "code",
      "metadata": {
        "id": "qDmaHW4jA5w0",
        "colab_type": "code",
        "colab": {}
      },
      "source": [
        "a = []\n",
        "for i in range(len(df['Year'])):\n",
        "    a.append('31-12-'+df['Year'][i])\n"
      ],
      "execution_count": 0,
      "outputs": []
    },
    {
      "cell_type": "code",
      "metadata": {
        "id": "QuBaB8luA5w8",
        "colab_type": "code",
        "colab": {}
      },
      "source": [
        "df['date'] = pd.DataFrame(a)\n",
        "df['date'] = pd.to_datetime(df['date'])"
      ],
      "execution_count": 0,
      "outputs": []
    },
    {
      "cell_type": "code",
      "metadata": {
        "id": "eBhdIRvGA5xC",
        "colab_type": "code",
        "colab": {}
      },
      "source": [
        "data = df.drop(['date'], axis=1)\n",
        "data.index = df.date"
      ],
      "execution_count": 0,
      "outputs": []
    },
    {
      "cell_type": "code",
      "metadata": {
        "id": "KFD-U_kxA5xI",
        "colab_type": "code",
        "colab": {}
      },
      "source": [
        "del data['Year']\n",
        "train = data[:int(0.8*(len(data)))]\n",
        "valid = data[int(0.2*(len(data))):]"
      ],
      "execution_count": 0,
      "outputs": []
    },
    {
      "cell_type": "code",
      "metadata": {
        "id": "xjfxBImXA5xO",
        "colab_type": "code",
        "outputId": "0bb54129-7156-442e-a6cf-6733d5473b84",
        "colab": {
          "base_uri": "https://localhost:8080/",
          "height": 204
        }
      },
      "source": [
        "valid"
      ],
      "execution_count": 0,
      "outputs": [
        {
          "output_type": "execute_result",
          "data": {
            "text/html": [
              "<div>\n",
              "<style scoped>\n",
              "    .dataframe tbody tr th:only-of-type {\n",
              "        vertical-align: middle;\n",
              "    }\n",
              "\n",
              "    .dataframe tbody tr th {\n",
              "        vertical-align: top;\n",
              "    }\n",
              "\n",
              "    .dataframe thead th {\n",
              "        text-align: right;\n",
              "    }\n",
              "</style>\n",
              "<table border=\"1\" class=\"dataframe\">\n",
              "  <thead>\n",
              "    <tr style=\"text-align: right;\">\n",
              "      <th></th>\n",
              "      <th>Population</th>\n",
              "      <th>Dwellings</th>\n",
              "      <th>Employed</th>\n",
              "      <th>Unemployed</th>\n",
              "      <th>Train</th>\n",
              "    </tr>\n",
              "    <tr>\n",
              "      <th>date</th>\n",
              "      <th></th>\n",
              "      <th></th>\n",
              "      <th></th>\n",
              "      <th></th>\n",
              "      <th></th>\n",
              "    </tr>\n",
              "  </thead>\n",
              "  <tbody>\n",
              "    <tr>\n",
              "      <th>2001-12-31</th>\n",
              "      <td>4940</td>\n",
              "      <td>2515</td>\n",
              "      <td>1727</td>\n",
              "      <td>112</td>\n",
              "      <td>74</td>\n",
              "    </tr>\n",
              "    <tr>\n",
              "      <th>2006-12-31</th>\n",
              "      <td>4952</td>\n",
              "      <td>2541</td>\n",
              "      <td>2183</td>\n",
              "      <td>126</td>\n",
              "      <td>113</td>\n",
              "    </tr>\n",
              "    <tr>\n",
              "      <th>2011-12-31</th>\n",
              "      <td>5309</td>\n",
              "      <td>2747</td>\n",
              "      <td>2360</td>\n",
              "      <td>138</td>\n",
              "      <td>138</td>\n",
              "    </tr>\n",
              "    <tr>\n",
              "      <th>2016-12-31</th>\n",
              "      <td>5769</td>\n",
              "      <td>3072</td>\n",
              "      <td>2478</td>\n",
              "      <td>145</td>\n",
              "      <td>184</td>\n",
              "    </tr>\n",
              "  </tbody>\n",
              "</table>\n",
              "</div>"
            ],
            "text/plain": [
              "            Population  Dwellings  Employed  Unemployed  Train\n",
              "date                                                          \n",
              "2001-12-31        4940       2515      1727         112     74\n",
              "2006-12-31        4952       2541      2183         126    113\n",
              "2011-12-31        5309       2747      2360         138    138\n",
              "2016-12-31        5769       3072      2478         145    184"
            ]
          },
          "metadata": {
            "tags": []
          },
          "execution_count": 107
        }
      ]
    },
    {
      "cell_type": "code",
      "metadata": {
        "id": "3tGL8bvyA5xX",
        "colab_type": "code",
        "colab": {}
      },
      "source": [
        "from statsmodels.tsa.vector_ar.var_model import VAR"
      ],
      "execution_count": 0,
      "outputs": []
    },
    {
      "cell_type": "code",
      "metadata": {
        "id": "_Hh5Fnc_A5xb",
        "colab_type": "code",
        "outputId": "fe774cc9-b556-4590-e407-baf19ef53462",
        "colab": {
          "base_uri": "https://localhost:8080/",
          "height": 71
        }
      },
      "source": [
        "model = VAR(endog=train)\n",
        "model_fit = model.fit()"
      ],
      "execution_count": 0,
      "outputs": [
        {
          "output_type": "stream",
          "text": [
            "/usr/local/lib/python3.6/dist-packages/statsmodels/tsa/base/tsa_model.py:165: ValueWarning: No frequency information was provided, so inferred frequency 5A-DEC will be used.\n",
            "  % freq, ValueWarning)\n"
          ],
          "name": "stderr"
        }
      ]
    },
    {
      "cell_type": "code",
      "metadata": {
        "id": "WOaA72tJA5xe",
        "colab_type": "code",
        "outputId": "232c24a9-4741-4cbf-cf62-602cf0fe7003",
        "colab": {
          "base_uri": "https://localhost:8080/",
          "height": 51
        }
      },
      "source": [
        "prediction = model_fit.forecast(model_fit.y, steps=len(valid))"
      ],
      "execution_count": 0,
      "outputs": [
        {
          "output_type": "stream",
          "text": [
            "/usr/local/lib/python3.6/dist-packages/statsmodels/base/wrapper.py:35: FutureWarning: y is a deprecated alias for endog, will be removed in version 0.11.0\n",
            "  obj = getattr(results, attr)\n"
          ],
          "name": "stderr"
        }
      ]
    },
    {
      "cell_type": "code",
      "metadata": {
        "id": "-YoXfXi0A5xh",
        "colab_type": "code",
        "outputId": "6a40ee3f-9544-41cc-d63a-c2b093b3eb90",
        "colab": {
          "base_uri": "https://localhost:8080/",
          "height": 153
        }
      },
      "source": [
        "prediction"
      ],
      "execution_count": 0,
      "outputs": [
        {
          "output_type": "execute_result",
          "data": {
            "text/plain": [
              "array([[5714.61636407, 2957.72570259, 2541.03932137,  148.65213339,\n",
              "         149.17162742],\n",
              "       [6152.07528792, 3184.17378422, 2735.5852772 ,  160.03562103,\n",
              "         160.61416901],\n",
              "       [6623.05373008, 3427.94265074, 2945.01182589,  172.2874622 ,\n",
              "         172.9110176 ],\n",
              "       [7130.08957738, 3690.37296874, 3170.4707874 ,  185.47714177,\n",
              "         186.14846096]])"
            ]
          },
          "metadata": {
            "tags": []
          },
          "execution_count": 111
        }
      ]
    },
    {
      "cell_type": "code",
      "metadata": {
        "id": "p0QHsURNHXUz",
        "colab_type": "code",
        "colab": {}
      },
      "source": [
        "#df2 = [(2021, \"2021-12-31 00:00:00\"), (2026, \"2026-12-31 00:00:00\"), (2031, \"2031-12-31 00:00:00\"), (2036, \"2036-12-31 00:00:00\")]\n",
        "#for i in range (len(prediction)):\n",
        "#  l = []\n",
        "#  l = prediction[i].tolist()\n",
        "  #l.insert()\n",
        "  #print(df2[i])\n",
        "#  l.insert(0, df2[i][0])\n",
        "  # print(l)\n",
        "#  l.insert(6, df2[i][1])\n",
        "#  print(l)\n",
        "#  df = df.append(l, ignore_index = False)\n",
        "# df\n",
        "#print(l)\n",
        "\n"
      ],
      "execution_count": 0,
      "outputs": []
    },
    {
      "cell_type": "code",
      "metadata": {
        "id": "zpzeIBa3h8fB",
        "colab_type": "code",
        "outputId": "434252b8-96c7-46f2-e073-2278e64c9052",
        "colab": {
          "base_uri": "https://localhost:8080/",
          "height": 204
        }
      },
      "source": [
        "df = df.append({\"Year\" : 2021, \"Population\" : 5714, \"Dwellings\" : 2957, \"Employed\" : 2541, \"Unemployed\" : 148, \"Train\" : 149, \"date\" : \"2021-12-31\"}, ignore_index = True)\n",
        "df"
      ],
      "execution_count": 0,
      "outputs": [
        {
          "output_type": "execute_result",
          "data": {
            "text/html": [
              "<div>\n",
              "<style scoped>\n",
              "    .dataframe tbody tr th:only-of-type {\n",
              "        vertical-align: middle;\n",
              "    }\n",
              "\n",
              "    .dataframe tbody tr th {\n",
              "        vertical-align: top;\n",
              "    }\n",
              "\n",
              "    .dataframe thead th {\n",
              "        text-align: right;\n",
              "    }\n",
              "</style>\n",
              "<table border=\"1\" class=\"dataframe\">\n",
              "  <thead>\n",
              "    <tr style=\"text-align: right;\">\n",
              "      <th></th>\n",
              "      <th>Year</th>\n",
              "      <th>Population</th>\n",
              "      <th>Dwellings</th>\n",
              "      <th>Employed</th>\n",
              "      <th>Unemployed</th>\n",
              "      <th>Train</th>\n",
              "      <th>date</th>\n",
              "    </tr>\n",
              "  </thead>\n",
              "  <tbody>\n",
              "    <tr>\n",
              "      <th>0</th>\n",
              "      <td>2001</td>\n",
              "      <td>4940</td>\n",
              "      <td>2515</td>\n",
              "      <td>1727</td>\n",
              "      <td>112</td>\n",
              "      <td>74</td>\n",
              "      <td>2001-12-31 00:00:00</td>\n",
              "    </tr>\n",
              "    <tr>\n",
              "      <th>1</th>\n",
              "      <td>2006</td>\n",
              "      <td>4952</td>\n",
              "      <td>2541</td>\n",
              "      <td>2183</td>\n",
              "      <td>126</td>\n",
              "      <td>113</td>\n",
              "      <td>2006-12-31 00:00:00</td>\n",
              "    </tr>\n",
              "    <tr>\n",
              "      <th>2</th>\n",
              "      <td>2011</td>\n",
              "      <td>5309</td>\n",
              "      <td>2747</td>\n",
              "      <td>2360</td>\n",
              "      <td>138</td>\n",
              "      <td>138</td>\n",
              "      <td>2011-12-31 00:00:00</td>\n",
              "    </tr>\n",
              "    <tr>\n",
              "      <th>3</th>\n",
              "      <td>2016</td>\n",
              "      <td>5769</td>\n",
              "      <td>3072</td>\n",
              "      <td>2478</td>\n",
              "      <td>145</td>\n",
              "      <td>184</td>\n",
              "      <td>2016-12-31 00:00:00</td>\n",
              "    </tr>\n",
              "    <tr>\n",
              "      <th>4</th>\n",
              "      <td>2021</td>\n",
              "      <td>5714</td>\n",
              "      <td>2957</td>\n",
              "      <td>2541</td>\n",
              "      <td>148</td>\n",
              "      <td>149</td>\n",
              "      <td>2021-12-31</td>\n",
              "    </tr>\n",
              "  </tbody>\n",
              "</table>\n",
              "</div>"
            ],
            "text/plain": [
              "   Year  Population  Dwellings  ...  Unemployed  Train                 date\n",
              "0  2001        4940       2515  ...         112     74  2001-12-31 00:00:00\n",
              "1  2006        4952       2541  ...         126    113  2006-12-31 00:00:00\n",
              "2  2011        5309       2747  ...         138    138  2011-12-31 00:00:00\n",
              "3  2016        5769       3072  ...         145    184  2016-12-31 00:00:00\n",
              "4  2021        5714       2957  ...         148    149           2021-12-31\n",
              "\n",
              "[5 rows x 7 columns]"
            ]
          },
          "metadata": {
            "tags": []
          },
          "execution_count": 113
        }
      ]
    },
    {
      "cell_type": "code",
      "metadata": {
        "id": "zKAHhS-AlMbl",
        "colab_type": "code",
        "outputId": "f44379c3-84fc-4924-97c1-ddd65a85a07f",
        "colab": {
          "base_uri": "https://localhost:8080/",
          "height": 235
        }
      },
      "source": [
        "df = df.append({\"Year\" : 2026, \"Population\" : 6152, \"Dwellings\" : 3184, \"Employed\" : 2735, \"Unemployed\" : 160, \"Train\" : 160, \"date\" : \"2026-12-31\"}, ignore_index = True)\n",
        "df"
      ],
      "execution_count": 0,
      "outputs": [
        {
          "output_type": "execute_result",
          "data": {
            "text/html": [
              "<div>\n",
              "<style scoped>\n",
              "    .dataframe tbody tr th:only-of-type {\n",
              "        vertical-align: middle;\n",
              "    }\n",
              "\n",
              "    .dataframe tbody tr th {\n",
              "        vertical-align: top;\n",
              "    }\n",
              "\n",
              "    .dataframe thead th {\n",
              "        text-align: right;\n",
              "    }\n",
              "</style>\n",
              "<table border=\"1\" class=\"dataframe\">\n",
              "  <thead>\n",
              "    <tr style=\"text-align: right;\">\n",
              "      <th></th>\n",
              "      <th>Year</th>\n",
              "      <th>Population</th>\n",
              "      <th>Dwellings</th>\n",
              "      <th>Employed</th>\n",
              "      <th>Unemployed</th>\n",
              "      <th>Train</th>\n",
              "      <th>date</th>\n",
              "    </tr>\n",
              "  </thead>\n",
              "  <tbody>\n",
              "    <tr>\n",
              "      <th>0</th>\n",
              "      <td>2001</td>\n",
              "      <td>4940</td>\n",
              "      <td>2515</td>\n",
              "      <td>1727</td>\n",
              "      <td>112</td>\n",
              "      <td>74</td>\n",
              "      <td>2001-12-31 00:00:00</td>\n",
              "    </tr>\n",
              "    <tr>\n",
              "      <th>1</th>\n",
              "      <td>2006</td>\n",
              "      <td>4952</td>\n",
              "      <td>2541</td>\n",
              "      <td>2183</td>\n",
              "      <td>126</td>\n",
              "      <td>113</td>\n",
              "      <td>2006-12-31 00:00:00</td>\n",
              "    </tr>\n",
              "    <tr>\n",
              "      <th>2</th>\n",
              "      <td>2011</td>\n",
              "      <td>5309</td>\n",
              "      <td>2747</td>\n",
              "      <td>2360</td>\n",
              "      <td>138</td>\n",
              "      <td>138</td>\n",
              "      <td>2011-12-31 00:00:00</td>\n",
              "    </tr>\n",
              "    <tr>\n",
              "      <th>3</th>\n",
              "      <td>2016</td>\n",
              "      <td>5769</td>\n",
              "      <td>3072</td>\n",
              "      <td>2478</td>\n",
              "      <td>145</td>\n",
              "      <td>184</td>\n",
              "      <td>2016-12-31 00:00:00</td>\n",
              "    </tr>\n",
              "    <tr>\n",
              "      <th>4</th>\n",
              "      <td>2021</td>\n",
              "      <td>5714</td>\n",
              "      <td>2957</td>\n",
              "      <td>2541</td>\n",
              "      <td>148</td>\n",
              "      <td>149</td>\n",
              "      <td>2021-12-31</td>\n",
              "    </tr>\n",
              "    <tr>\n",
              "      <th>5</th>\n",
              "      <td>2026</td>\n",
              "      <td>6152</td>\n",
              "      <td>3184</td>\n",
              "      <td>2735</td>\n",
              "      <td>160</td>\n",
              "      <td>160</td>\n",
              "      <td>2026-12-31</td>\n",
              "    </tr>\n",
              "  </tbody>\n",
              "</table>\n",
              "</div>"
            ],
            "text/plain": [
              "   Year  Population  Dwellings  ...  Unemployed  Train                 date\n",
              "0  2001        4940       2515  ...         112     74  2001-12-31 00:00:00\n",
              "1  2006        4952       2541  ...         126    113  2006-12-31 00:00:00\n",
              "2  2011        5309       2747  ...         138    138  2011-12-31 00:00:00\n",
              "3  2016        5769       3072  ...         145    184  2016-12-31 00:00:00\n",
              "4  2021        5714       2957  ...         148    149           2021-12-31\n",
              "5  2026        6152       3184  ...         160    160           2026-12-31\n",
              "\n",
              "[6 rows x 7 columns]"
            ]
          },
          "metadata": {
            "tags": []
          },
          "execution_count": 114
        }
      ]
    },
    {
      "cell_type": "code",
      "metadata": {
        "id": "VvLz09K-ljXS",
        "colab_type": "code",
        "outputId": "4415c2aa-d297-4d42-8942-29e16e00d34c",
        "colab": {
          "base_uri": "https://localhost:8080/",
          "height": 266
        }
      },
      "source": [
        "df = df.append({\"Year\" : 2031, \"Population\" : 6623, \"Dwellings\" : 3427, \"Employed\" : 2945, \"Unemployed\" : 172, \"Train\" : 172, \"date\" : \"2031-12-31\"}, ignore_index = True)\n",
        "df"
      ],
      "execution_count": 0,
      "outputs": [
        {
          "output_type": "execute_result",
          "data": {
            "text/html": [
              "<div>\n",
              "<style scoped>\n",
              "    .dataframe tbody tr th:only-of-type {\n",
              "        vertical-align: middle;\n",
              "    }\n",
              "\n",
              "    .dataframe tbody tr th {\n",
              "        vertical-align: top;\n",
              "    }\n",
              "\n",
              "    .dataframe thead th {\n",
              "        text-align: right;\n",
              "    }\n",
              "</style>\n",
              "<table border=\"1\" class=\"dataframe\">\n",
              "  <thead>\n",
              "    <tr style=\"text-align: right;\">\n",
              "      <th></th>\n",
              "      <th>Year</th>\n",
              "      <th>Population</th>\n",
              "      <th>Dwellings</th>\n",
              "      <th>Employed</th>\n",
              "      <th>Unemployed</th>\n",
              "      <th>Train</th>\n",
              "      <th>date</th>\n",
              "    </tr>\n",
              "  </thead>\n",
              "  <tbody>\n",
              "    <tr>\n",
              "      <th>0</th>\n",
              "      <td>2001</td>\n",
              "      <td>4940</td>\n",
              "      <td>2515</td>\n",
              "      <td>1727</td>\n",
              "      <td>112</td>\n",
              "      <td>74</td>\n",
              "      <td>2001-12-31 00:00:00</td>\n",
              "    </tr>\n",
              "    <tr>\n",
              "      <th>1</th>\n",
              "      <td>2006</td>\n",
              "      <td>4952</td>\n",
              "      <td>2541</td>\n",
              "      <td>2183</td>\n",
              "      <td>126</td>\n",
              "      <td>113</td>\n",
              "      <td>2006-12-31 00:00:00</td>\n",
              "    </tr>\n",
              "    <tr>\n",
              "      <th>2</th>\n",
              "      <td>2011</td>\n",
              "      <td>5309</td>\n",
              "      <td>2747</td>\n",
              "      <td>2360</td>\n",
              "      <td>138</td>\n",
              "      <td>138</td>\n",
              "      <td>2011-12-31 00:00:00</td>\n",
              "    </tr>\n",
              "    <tr>\n",
              "      <th>3</th>\n",
              "      <td>2016</td>\n",
              "      <td>5769</td>\n",
              "      <td>3072</td>\n",
              "      <td>2478</td>\n",
              "      <td>145</td>\n",
              "      <td>184</td>\n",
              "      <td>2016-12-31 00:00:00</td>\n",
              "    </tr>\n",
              "    <tr>\n",
              "      <th>4</th>\n",
              "      <td>2021</td>\n",
              "      <td>5714</td>\n",
              "      <td>2957</td>\n",
              "      <td>2541</td>\n",
              "      <td>148</td>\n",
              "      <td>149</td>\n",
              "      <td>2021-12-31</td>\n",
              "    </tr>\n",
              "    <tr>\n",
              "      <th>5</th>\n",
              "      <td>2026</td>\n",
              "      <td>6152</td>\n",
              "      <td>3184</td>\n",
              "      <td>2735</td>\n",
              "      <td>160</td>\n",
              "      <td>160</td>\n",
              "      <td>2026-12-31</td>\n",
              "    </tr>\n",
              "    <tr>\n",
              "      <th>6</th>\n",
              "      <td>2031</td>\n",
              "      <td>6623</td>\n",
              "      <td>3427</td>\n",
              "      <td>2945</td>\n",
              "      <td>172</td>\n",
              "      <td>172</td>\n",
              "      <td>2031-12-31</td>\n",
              "    </tr>\n",
              "  </tbody>\n",
              "</table>\n",
              "</div>"
            ],
            "text/plain": [
              "   Year  Population  Dwellings  ...  Unemployed  Train                 date\n",
              "0  2001        4940       2515  ...         112     74  2001-12-31 00:00:00\n",
              "1  2006        4952       2541  ...         126    113  2006-12-31 00:00:00\n",
              "2  2011        5309       2747  ...         138    138  2011-12-31 00:00:00\n",
              "3  2016        5769       3072  ...         145    184  2016-12-31 00:00:00\n",
              "4  2021        5714       2957  ...         148    149           2021-12-31\n",
              "5  2026        6152       3184  ...         160    160           2026-12-31\n",
              "6  2031        6623       3427  ...         172    172           2031-12-31\n",
              "\n",
              "[7 rows x 7 columns]"
            ]
          },
          "metadata": {
            "tags": []
          },
          "execution_count": 115
        }
      ]
    },
    {
      "cell_type": "code",
      "metadata": {
        "id": "PwAltPbfl37L",
        "colab_type": "code",
        "outputId": "02aa8f74-620f-4e10-ddd3-fd18504934a3",
        "colab": {
          "base_uri": "https://localhost:8080/",
          "height": 266
        }
      },
      "source": [
        "df.drop([\"date\"], axis = 1)"
      ],
      "execution_count": 0,
      "outputs": [
        {
          "output_type": "execute_result",
          "data": {
            "text/html": [
              "<div>\n",
              "<style scoped>\n",
              "    .dataframe tbody tr th:only-of-type {\n",
              "        vertical-align: middle;\n",
              "    }\n",
              "\n",
              "    .dataframe tbody tr th {\n",
              "        vertical-align: top;\n",
              "    }\n",
              "\n",
              "    .dataframe thead th {\n",
              "        text-align: right;\n",
              "    }\n",
              "</style>\n",
              "<table border=\"1\" class=\"dataframe\">\n",
              "  <thead>\n",
              "    <tr style=\"text-align: right;\">\n",
              "      <th></th>\n",
              "      <th>Year</th>\n",
              "      <th>Population</th>\n",
              "      <th>Dwellings</th>\n",
              "      <th>Employed</th>\n",
              "      <th>Unemployed</th>\n",
              "      <th>Train</th>\n",
              "    </tr>\n",
              "  </thead>\n",
              "  <tbody>\n",
              "    <tr>\n",
              "      <th>0</th>\n",
              "      <td>2001</td>\n",
              "      <td>4940</td>\n",
              "      <td>2515</td>\n",
              "      <td>1727</td>\n",
              "      <td>112</td>\n",
              "      <td>74</td>\n",
              "    </tr>\n",
              "    <tr>\n",
              "      <th>1</th>\n",
              "      <td>2006</td>\n",
              "      <td>4952</td>\n",
              "      <td>2541</td>\n",
              "      <td>2183</td>\n",
              "      <td>126</td>\n",
              "      <td>113</td>\n",
              "    </tr>\n",
              "    <tr>\n",
              "      <th>2</th>\n",
              "      <td>2011</td>\n",
              "      <td>5309</td>\n",
              "      <td>2747</td>\n",
              "      <td>2360</td>\n",
              "      <td>138</td>\n",
              "      <td>138</td>\n",
              "    </tr>\n",
              "    <tr>\n",
              "      <th>3</th>\n",
              "      <td>2016</td>\n",
              "      <td>5769</td>\n",
              "      <td>3072</td>\n",
              "      <td>2478</td>\n",
              "      <td>145</td>\n",
              "      <td>184</td>\n",
              "    </tr>\n",
              "    <tr>\n",
              "      <th>4</th>\n",
              "      <td>2021</td>\n",
              "      <td>5714</td>\n",
              "      <td>2957</td>\n",
              "      <td>2541</td>\n",
              "      <td>148</td>\n",
              "      <td>149</td>\n",
              "    </tr>\n",
              "    <tr>\n",
              "      <th>5</th>\n",
              "      <td>2026</td>\n",
              "      <td>6152</td>\n",
              "      <td>3184</td>\n",
              "      <td>2735</td>\n",
              "      <td>160</td>\n",
              "      <td>160</td>\n",
              "    </tr>\n",
              "    <tr>\n",
              "      <th>6</th>\n",
              "      <td>2031</td>\n",
              "      <td>6623</td>\n",
              "      <td>3427</td>\n",
              "      <td>2945</td>\n",
              "      <td>172</td>\n",
              "      <td>172</td>\n",
              "    </tr>\n",
              "  </tbody>\n",
              "</table>\n",
              "</div>"
            ],
            "text/plain": [
              "   Year  Population  Dwellings  Employed  Unemployed  Train\n",
              "0  2001        4940       2515      1727         112     74\n",
              "1  2006        4952       2541      2183         126    113\n",
              "2  2011        5309       2747      2360         138    138\n",
              "3  2016        5769       3072      2478         145    184\n",
              "4  2021        5714       2957      2541         148    149\n",
              "5  2026        6152       3184      2735         160    160\n",
              "6  2031        6623       3427      2945         172    172"
            ]
          },
          "metadata": {
            "tags": []
          },
          "execution_count": 117
        }
      ]
    }
  ]
}