{
  "nbformat": 4,
  "nbformat_minor": 0,
  "metadata": {
    "colab": {
      "name": "ML model.ipynb",
      "provenance": []
    },
    "kernelspec": {
      "display_name": "Python 3",
      "language": "python",
      "name": "python3"
    },
    "language_info": {
      "codemirror_mode": {
        "name": "ipython",
        "version": 3
      },
      "file_extension": ".py",
      "mimetype": "text/x-python",
      "name": "python",
      "nbconvert_exporter": "python",
      "pygments_lexer": "ipython3",
      "version": "3.7.4"
    }
  },
  "cells": [
    {
      "cell_type": "code",
      "metadata": {
        "colab_type": "code",
        "id": "2Y7Rv9DDiA4b",
        "outputId": "747878ec-361a-44ed-e509-dbf992ddea7e",
        "colab": {
          "base_uri": "https://localhost:8080/",
          "height": 72
        }
      },
      "source": [
        "import pandas as pd\n",
        "import numpy as np\n",
        "import matplotlib.pyplot as plt\n",
        "import seaborn as sns\n",
        "import sklearn\n",
        "import scipy\n",
        "from sklearn.metrics import classification_report,accuracy_score\n",
        "from sklearn.ensemble import IsolationForest\n",
        "from sklearn.neighbors import LocalOutlierFactor\n",
        "from sklearn.svm import OneClassSVM\n",
        "from sklearn.model_selection import train_test_split\n",
        "from sklearn.ensemble import RandomForestClassifier\n",
        "from sklearn.metrics import accuracy_score\n",
        "from sklearn.feature_selection import VarianceThreshold\n",
        "from pylab import rcParams\n",
        "rcParams['figure.figsize']= 14,8\n",
        "random_seed=42\n",
        "LABELS=[\"Present\",\"not present\"] "
      ],
      "execution_count": 1,
      "outputs": [
        {
          "output_type": "stream",
          "text": [
            "/usr/local/lib/python3.6/dist-packages/statsmodels/tools/_testing.py:19: FutureWarning: pandas.util.testing is deprecated. Use the functions in the public API at pandas.testing instead.\n",
            "  import pandas.util.testing as tm\n"
          ],
          "name": "stderr"
        }
      ]
    },
    {
      "cell_type": "code",
      "metadata": {
        "colab_type": "code",
        "id": "mOe3YLzyj3y6",
        "outputId": "9d096299-8436-4c46-fcdf-8f6ce6f3fcb8",
        "colab": {
          "base_uri": "https://localhost:8080/",
          "height": 217
        }
      },
      "source": [
        "df=pd.read_csv('geelongbuiltenv with Geographic location (1).csv')\n",
        "df.head()"
      ],
      "execution_count": 0,
      "outputs": [
        {
          "output_type": "execute_result",
          "data": {
            "text/html": [
              "<div>\n",
              "<style scoped>\n",
              "    .dataframe tbody tr th:only-of-type {\n",
              "        vertical-align: middle;\n",
              "    }\n",
              "\n",
              "    .dataframe tbody tr th {\n",
              "        vertical-align: top;\n",
              "    }\n",
              "\n",
              "    .dataframe thead th {\n",
              "        text-align: right;\n",
              "    }\n",
              "</style>\n",
              "<table border=\"1\" class=\"dataframe\">\n",
              "  <thead>\n",
              "    <tr style=\"text-align: right;\">\n",
              "      <th></th>\n",
              "      <th>LUM</th>\n",
              "      <th>LUMquintile</th>\n",
              "      <th>TrainDistThresh</th>\n",
              "      <th>BusDistThresh</th>\n",
              "      <th>BusPres</th>\n",
              "      <th>AccUtDestPres</th>\n",
              "      <th>AccUtDestPresquintile</th>\n",
              "      <th>AccUtDestDist</th>\n",
              "      <th>AccUtDestDistquintile</th>\n",
              "      <th>SprtLeiDens</th>\n",
              "      <th>...</th>\n",
              "      <th>ActCenDistquintile</th>\n",
              "      <th>TobPopDensp1000</th>\n",
              "      <th>TobPopDensp1000quintile</th>\n",
              "      <th>TobTobVendDist</th>\n",
              "      <th>TobTobVendDistquintile</th>\n",
              "      <th>RatioTrailsToRoads</th>\n",
              "      <th>RatioTrailsToRoadsquintile</th>\n",
              "      <th>Latitude</th>\n",
              "      <th>Longitude</th>\n",
              "      <th>TrainPres</th>\n",
              "    </tr>\n",
              "  </thead>\n",
              "  <tbody>\n",
              "    <tr>\n",
              "      <td>0</td>\n",
              "      <td>0.418636</td>\n",
              "      <td>4</td>\n",
              "      <td>0</td>\n",
              "      <td>1</td>\n",
              "      <td>1</td>\n",
              "      <td>2</td>\n",
              "      <td>2</td>\n",
              "      <td>2</td>\n",
              "      <td>2</td>\n",
              "      <td>0.000000</td>\n",
              "      <td>...</td>\n",
              "      <td>4</td>\n",
              "      <td>0.419933</td>\n",
              "      <td>2</td>\n",
              "      <td>775.371825</td>\n",
              "      <td>3</td>\n",
              "      <td>0.063443</td>\n",
              "      <td>2</td>\n",
              "      <td>-38.1567</td>\n",
              "      <td>144.5551</td>\n",
              "      <td>0</td>\n",
              "    </tr>\n",
              "    <tr>\n",
              "      <td>1</td>\n",
              "      <td>0.512726</td>\n",
              "      <td>4</td>\n",
              "      <td>1</td>\n",
              "      <td>1</td>\n",
              "      <td>1</td>\n",
              "      <td>7</td>\n",
              "      <td>5</td>\n",
              "      <td>7</td>\n",
              "      <td>5</td>\n",
              "      <td>0.000000</td>\n",
              "      <td>...</td>\n",
              "      <td>1</td>\n",
              "      <td>2.996704</td>\n",
              "      <td>4</td>\n",
              "      <td>315.721995</td>\n",
              "      <td>1</td>\n",
              "      <td>0.025997</td>\n",
              "      <td>1</td>\n",
              "      <td>-38.1333</td>\n",
              "      <td>144.3500</td>\n",
              "      <td>0</td>\n",
              "    </tr>\n",
              "    <tr>\n",
              "      <td>2</td>\n",
              "      <td>0.209689</td>\n",
              "      <td>2</td>\n",
              "      <td>0</td>\n",
              "      <td>1</td>\n",
              "      <td>1</td>\n",
              "      <td>5</td>\n",
              "      <td>3</td>\n",
              "      <td>4</td>\n",
              "      <td>4</td>\n",
              "      <td>0.020258</td>\n",
              "      <td>...</td>\n",
              "      <td>2</td>\n",
              "      <td>2.670940</td>\n",
              "      <td>4</td>\n",
              "      <td>746.243079</td>\n",
              "      <td>2</td>\n",
              "      <td>0.135687</td>\n",
              "      <td>3</td>\n",
              "      <td>-38.1700</td>\n",
              "      <td>144.3960</td>\n",
              "      <td>0</td>\n",
              "    </tr>\n",
              "    <tr>\n",
              "      <td>3</td>\n",
              "      <td>0.847546</td>\n",
              "      <td>5</td>\n",
              "      <td>1</td>\n",
              "      <td>1</td>\n",
              "      <td>1</td>\n",
              "      <td>7</td>\n",
              "      <td>5</td>\n",
              "      <td>7</td>\n",
              "      <td>5</td>\n",
              "      <td>0.037318</td>\n",
              "      <td>...</td>\n",
              "      <td>1</td>\n",
              "      <td>9.479434</td>\n",
              "      <td>5</td>\n",
              "      <td>316.179185</td>\n",
              "      <td>1</td>\n",
              "      <td>0.172038</td>\n",
              "      <td>3</td>\n",
              "      <td>-38.1674</td>\n",
              "      <td>144.3658</td>\n",
              "      <td>1</td>\n",
              "    </tr>\n",
              "    <tr>\n",
              "      <td>4</td>\n",
              "      <td>0.307938</td>\n",
              "      <td>3</td>\n",
              "      <td>0</td>\n",
              "      <td>1</td>\n",
              "      <td>1</td>\n",
              "      <td>3</td>\n",
              "      <td>2</td>\n",
              "      <td>4</td>\n",
              "      <td>3</td>\n",
              "      <td>0.000000</td>\n",
              "      <td>...</td>\n",
              "      <td>1</td>\n",
              "      <td>0.329327</td>\n",
              "      <td>2</td>\n",
              "      <td>669.341899</td>\n",
              "      <td>2</td>\n",
              "      <td>0.157551</td>\n",
              "      <td>3</td>\n",
              "      <td>-38.1200</td>\n",
              "      <td>144.3200</td>\n",
              "      <td>0</td>\n",
              "    </tr>\n",
              "  </tbody>\n",
              "</table>\n",
              "<p>5 rows × 40 columns</p>\n",
              "</div>"
            ],
            "text/plain": [
              "        LUM  LUMquintile  TrainDistThresh  BusDistThresh  BusPres  \\\n",
              "0  0.418636            4                0              1        1   \n",
              "1  0.512726            4                1              1        1   \n",
              "2  0.209689            2                0              1        1   \n",
              "3  0.847546            5                1              1        1   \n",
              "4  0.307938            3                0              1        1   \n",
              "\n",
              "   AccUtDestPres  AccUtDestPresquintile  AccUtDestDist  AccUtDestDistquintile  \\\n",
              "0              2                      2              2                      2   \n",
              "1              7                      5              7                      5   \n",
              "2              5                      3              4                      4   \n",
              "3              7                      5              7                      5   \n",
              "4              3                      2              4                      3   \n",
              "\n",
              "   SprtLeiDens  ...  ActCenDistquintile  TobPopDensp1000  \\\n",
              "0     0.000000  ...                   4         0.419933   \n",
              "1     0.000000  ...                   1         2.996704   \n",
              "2     0.020258  ...                   2         2.670940   \n",
              "3     0.037318  ...                   1         9.479434   \n",
              "4     0.000000  ...                   1         0.329327   \n",
              "\n",
              "   TobPopDensp1000quintile  TobTobVendDist  TobTobVendDistquintile  \\\n",
              "0                        2      775.371825                       3   \n",
              "1                        4      315.721995                       1   \n",
              "2                        4      746.243079                       2   \n",
              "3                        5      316.179185                       1   \n",
              "4                        2      669.341899                       2   \n",
              "\n",
              "   RatioTrailsToRoads  RatioTrailsToRoadsquintile  Latitude  Longitude  \\\n",
              "0            0.063443                           2  -38.1567   144.5551   \n",
              "1            0.025997                           1  -38.1333   144.3500   \n",
              "2            0.135687                           3  -38.1700   144.3960   \n",
              "3            0.172038                           3  -38.1674   144.3658   \n",
              "4            0.157551                           3  -38.1200   144.3200   \n",
              "\n",
              "   TrainPres  \n",
              "0          0  \n",
              "1          0  \n",
              "2          0  \n",
              "3          1  \n",
              "4          0  \n",
              "\n",
              "[5 rows x 40 columns]"
            ]
          },
          "metadata": {
            "tags": []
          },
          "execution_count": 2
        }
      ]
    },
    {
      "cell_type": "code",
      "metadata": {
        "colab_type": "code",
        "id": "0k8gU8RqkQLr",
        "outputId": "b853bf4d-b8ec-4b4b-8df1-7a9e8d0f1f6e",
        "colab": {
          "base_uri": "https://localhost:8080/",
          "height": 852
        }
      },
      "source": [
        "df.info()\n"
      ],
      "execution_count": 0,
      "outputs": [
        {
          "output_type": "stream",
          "text": [
            "<class 'pandas.core.frame.DataFrame'>\n",
            "RangeIndex: 46 entries, 0 to 45\n",
            "Data columns (total 40 columns):\n",
            "LUM                           46 non-null float64\n",
            "LUMquintile                   46 non-null int64\n",
            "TrainDistThresh               46 non-null int64\n",
            "BusDistThresh                 46 non-null int64\n",
            "BusPres                       46 non-null int64\n",
            "AccUtDestPres                 46 non-null int64\n",
            "AccUtDestPresquintile         46 non-null int64\n",
            "AccUtDestDist                 46 non-null int64\n",
            "AccUtDestDistquintile         46 non-null int64\n",
            "SprtLeiDens                   46 non-null float64\n",
            "SprtLeiDensquintile           46 non-null int64\n",
            "SprtLeiDist                   46 non-null float64\n",
            "SprtLeiDistquintile           46 non-null int64\n",
            "POSDist                       46 non-null float64\n",
            "POSDistquintile               46 non-null int64\n",
            "POSAreaPct                    46 non-null float64\n",
            "POSAreaPctquintile            46 non-null int64\n",
            "TakeawayDens                  46 non-null float64\n",
            "TakeawayDensquintile          46 non-null int64\n",
            "TakeawayDist                  46 non-null float64\n",
            "TakeawayDistquintile          46 non-null int64\n",
            "HealthyFoodDensity            46 non-null float64\n",
            "HealthyFoodDensityquintile    46 non-null int64\n",
            "HealthyFoodDist               46 non-null float64\n",
            "HealthyFoodDistquintile       46 non-null int64\n",
            "GrossDwlDens                  46 non-null float64\n",
            "GrossDwlDensquintile          46 non-null int64\n",
            "StrtConn                      46 non-null float64\n",
            "StrtConnquintile              46 non-null int64\n",
            "ActCenDist                    46 non-null float64\n",
            "ActCenDistquintile            46 non-null int64\n",
            "TobPopDensp1000               46 non-null float64\n",
            "TobPopDensp1000quintile       46 non-null int64\n",
            "TobTobVendDist                46 non-null float64\n",
            "TobTobVendDistquintile        46 non-null int64\n",
            "RatioTrailsToRoads            46 non-null float64\n",
            "RatioTrailsToRoadsquintile    46 non-null int64\n",
            "Latitude                      46 non-null float64\n",
            "Longitude                     46 non-null float64\n",
            "TrainPres                     46 non-null int64\n",
            "dtypes: float64(17), int64(23)\n",
            "memory usage: 14.5 KB\n"
          ],
          "name": "stdout"
        }
      ]
    },
    {
      "cell_type": "code",
      "metadata": {
        "colab_type": "code",
        "id": "JR5oU1nsk-uN",
        "outputId": "6f92c485-1dd5-4ee9-aab7-d20921527e9a",
        "colab": {
          "base_uri": "https://localhost:8080/",
          "height": 52
        }
      },
      "source": [
        "#creating dependent and independent attributes\n",
        "columns=df.columns.tolist()\n",
        "columns=[c for c in columns if c not in ['TrainPres']]\n",
        "target='TrainPres'\n",
        "state=np.random.RandomState(42)\n",
        "x=df[columns]\n",
        "y=df[target]\n",
        "x_outliers=state.uniform(low=0,high=1,size=(x.shape[0],x.shape[1]))\n",
        "print(x.shape)\n",
        "print(y.shape)"
      ],
      "execution_count": 0,
      "outputs": [
        {
          "output_type": "stream",
          "text": [
            "(46, 39)\n",
            "(46,)\n"
          ],
          "name": "stdout"
        }
      ]
    },
    {
      "cell_type": "code",
      "metadata": {
        "colab_type": "code",
        "id": "Z0B5r3t-pcZR",
        "outputId": "9b233ec0-19e0-4a3c-9369-1c6401af8091",
        "colab": {
          "base_uri": "https://localhost:8080/",
          "height": 34
        }
      },
      "source": [
        "df.isnull().values.any()"
      ],
      "execution_count": 0,
      "outputs": [
        {
          "output_type": "execute_result",
          "data": {
            "text/plain": [
              "False"
            ]
          },
          "metadata": {
            "tags": []
          },
          "execution_count": 5
        }
      ]
    },
    {
      "cell_type": "code",
      "metadata": {
        "colab_type": "code",
        "id": "o8ef-MZCwJsn",
        "outputId": "619645ca-1332-4c29-f63e-9e52796d9425",
        "colab": {
          "base_uri": "https://localhost:8080/",
          "height": 531
        }
      },
      "source": [
        "count_TrainPres=pd.value_counts(df['TrainPres'],sort =True)\n",
        "count_TrainPres.plot(kind='bar',rot=0)\n",
        "plt.title('train station prediction')\n",
        "plt.xticks(range(2),LABELS)\n",
        "plt.xlabel('TrainPres')\n",
        "plt.ylabel('Frequency')\n"
      ],
      "execution_count": 0,
      "outputs": [
        {
          "output_type": "execute_result",
          "data": {
            "text/plain": [
              "Text(0, 0.5, 'Frequency')"
            ]
          },
          "metadata": {
            "tags": []
          },
          "execution_count": 6
        },
        {
          "output_type": "display_data",
          "data": {
            "image/png": "[encoded data removed]",
            "text/plain": [
              "<Figure size 432x288 with 1 Axes>"
            ]
          },
          "metadata": {
            "tags": [],
            "needs_background": "light"
          }
        }
      ]
    },
    {
      "cell_type": "markdown",
      "metadata": {
        "colab_type": "text",
        "id": "M-SQG-C-iYdf"
      },
      "source": [
        ""
      ]
    },
    {
      "cell_type": "code",
      "metadata": {
        "colab_type": "code",
        "id": "8PNelu6byBcv",
        "outputId": "20592bbc-f372-4a14-d004-b3b42772b3aa",
        "colab": {
          "base_uri": "https://localhost:8080/",
          "height": 34
        }
      },
      "source": [
        "notpresent=df[df['TrainPres']==0]\n",
        "present=df[df['TrainPres']==1]\n",
        "print(notpresent.shape,present.shape)"
      ],
      "execution_count": 0,
      "outputs": [
        {
          "output_type": "stream",
          "text": [
            "(38, 40) (8, 40)\n"
          ],
          "name": "stdout"
        }
      ]
    },
    {
      "cell_type": "code",
      "metadata": {
        "colab_type": "code",
        "id": "NugOPxHPyvg2",
        "outputId": "d956557e-24ed-4375-e8f8-9f8bd37f2f33",
        "colab": {
          "base_uri": "https://localhost:8080/",
          "height": 107
        }
      },
      "source": [
        "from imblearn.combine import SMOTETomek\n"
      ],
      "execution_count": 0,
      "outputs": [
        {
          "output_type": "stream",
          "text": [
            "Using TensorFlow backend.\n"
          ],
          "name": "stderr"
        }
      ]
    },
    {
      "cell_type": "code",
      "metadata": {
        "colab_type": "code",
        "id": "23VnlS9Jz39E",
        "outputId": "08bd61ee-29b7-45ad-bb62-0fa47554e46a",
        "colab": {
          "base_uri": "https://localhost:8080/",
          "height": 125
        }
      },
      "source": [
        "##oversampling\n",
        "smk=SMOTETomek(random_state=42)\n",
        "x_res,y_res=smk.fit_sample(x,y)\n",
        "x_res.shape,y_res.shape\n"
      ],
      "execution_count": 0,
      "outputs": [
        {
          "output_type": "execute_result",
          "data": {
            "text/plain": [
              "((68, 39), (68,))"
            ]
          },
          "metadata": {
            "tags": []
          },
          "execution_count": 9
        }
      ]
    },
    {
      "cell_type": "code",
      "metadata": {
        "colab_type": "code",
        "id": "HcnHXeyX0uK2",
        "outputId": "28eb25b7-e0a0-4119-955c-fde236f3eb0b",
        "colab": {
          "base_uri": "https://localhost:8080/",
          "height": 52
        }
      },
      "source": [
        "from collections import Counter\n",
        "print('orginal dataset shape{}'.format(Counter(y)))\n",
        "print('resampled dataset shape{}'.format(Counter(y_res)))"
      ],
      "execution_count": 0,
      "outputs": [
        {
          "output_type": "stream",
          "text": [
            "orginal dataset shapeCounter({0: 38, 1: 8})\n",
            "resampled dataset shapeCounter({0: 34, 1: 34})\n"
          ],
          "name": "stdout"
        }
      ]
    },
    {
      "cell_type": "code",
      "metadata": {
        "colab_type": "code",
        "id": "dLHG5VyM3y-S",
        "outputId": "443451cb-5ce4-4472-d2a4-75c9e98d8d08",
        "colab": {
          "base_uri": "https://localhost:8080/",
          "height": 90
        }
      },
      "source": [
        "#Random oversampling\n",
        "from imblearn.over_sampling import RandomOverSampler\n",
        "os=RandomOverSampler()\n",
        "x_train_res,y_train_res=os.fit_sample(x,y)\n",
        "x_train_res.shape,y_train_res.shape"
      ],
      "execution_count": 0,
      "outputs": [
        {
          "output_type": "execute_result",
          "data": {
            "text/plain": [
              "((76, 39), (76,))"
            ]
          },
          "metadata": {
            "tags": []
          },
          "execution_count": 13
        }
      ]
    },
    {
      "cell_type": "code",
      "metadata": {
        "id": "OZnn3Z3t7Qjk",
        "colab_type": "code",
        "colab": {},
        "outputId": "48605d8f-8c64-4258-b9b7-b3245df29874"
      },
      "source": [
        "print(x_train_res)\n",
        "\n"
      ],
      "execution_count": 0,
      "outputs": [
        {
          "output_type": "stream",
          "text": [
            "         LUM  LUMquintile  TrainDistThresh  BusDistThresh  BusPres  \\\n",
            "0   0.418636            4                0              1        1   \n",
            "1   0.512726            4                1              1        1   \n",
            "2   0.209689            2                0              1        1   \n",
            "3   0.847546            5                1              1        1   \n",
            "4   0.307938            3                0              1        1   \n",
            "..       ...          ...              ...            ...      ...   \n",
            "71  0.847546            5                1              1        1   \n",
            "72  0.503964            4                0              1        1   \n",
            "73  0.533334            5                1              1        1   \n",
            "74  0.205386            2                1              0        1   \n",
            "75  0.205386            2                1              0        1   \n",
            "\n",
            "    AccUtDestPres  AccUtDestPresquintile  AccUtDestDist  \\\n",
            "0               2                      2              2   \n",
            "1               7                      5              7   \n",
            "2               5                      3              4   \n",
            "3               7                      5              7   \n",
            "4               3                      2              4   \n",
            "..            ...                    ...            ...   \n",
            "71              7                      5              7   \n",
            "72              6                      4              5   \n",
            "73              8                      5              6   \n",
            "74              7                      5              2   \n",
            "75              7                      5              2   \n",
            "\n",
            "    AccUtDestDistquintile  SprtLeiDens  ...    ActCenDist  ActCenDistquintile  \\\n",
            "0                       2     0.000000  ...  21768.170070                   4   \n",
            "1                       5     0.000000  ...   1812.155338                   1   \n",
            "2                       4     0.020258  ...   5267.718643                   2   \n",
            "3                       5     0.037318  ...   1663.495404                   1   \n",
            "4                       3     0.000000  ...   4325.191244                   1   \n",
            "..                    ...          ...  ...           ...                 ...   \n",
            "71                      5     0.037318  ...   1663.495404                   1   \n",
            "72                      4     0.007471  ...   7262.991040                   3   \n",
            "73                      5     0.019016  ...   7280.750816                   3   \n",
            "74                      5     0.009711  ...   8640.036685                   3   \n",
            "75                      5     0.009711  ...   8640.036685                   3   \n",
            "\n",
            "    TobPopDensp1000  TobPopDensp1000quintile  TobTobVendDist  \\\n",
            "0          0.419933                        2      775.371825   \n",
            "1          2.996704                        4      315.721995   \n",
            "2          2.670940                        4      746.243079   \n",
            "3          9.479434                        5      316.179185   \n",
            "4          0.329327                        2      669.341899   \n",
            "..              ...                      ...             ...   \n",
            "71         9.479434                        5      316.179185   \n",
            "72         1.595320                        4      534.844319   \n",
            "73         0.877358                        3      792.878963   \n",
            "74         0.577951                        2     1362.216799   \n",
            "75         0.577951                        2     1362.216799   \n",
            "\n",
            "    TobTobVendDistquintile  RatioTrailsToRoads  RatioTrailsToRoadsquintile  \\\n",
            "0                        3            0.063443                           2   \n",
            "1                        1            0.025997                           1   \n",
            "2                        2            0.135687                           3   \n",
            "3                        1            0.172038                           3   \n",
            "4                        2            0.157551                           3   \n",
            "..                     ...                 ...                         ...   \n",
            "71                       1            0.172038                           3   \n",
            "72                       2            0.157992                           3   \n",
            "73                       3            0.166972                           3   \n",
            "74                       4            0.181499                           4   \n",
            "75                       4            0.181499                           4   \n",
            "\n",
            "    Latitude  Longitude  \n",
            "0   -38.1567   144.5551  \n",
            "1   -38.1333   144.3500  \n",
            "2   -38.1700   144.3960  \n",
            "3   -38.1674   144.3658  \n",
            "4   -38.1200   144.3200  \n",
            "..       ...        ...  \n",
            "71  -38.1674   144.3658  \n",
            "72  -38.0741   144.3586  \n",
            "73  -38.2000   144.3500  \n",
            "74  -38.0229   144.3964  \n",
            "75  -38.0229   144.3964  \n",
            "\n",
            "[76 rows x 39 columns]\n"
          ],
          "name": "stdout"
        }
      ]
    },
    {
      "cell_type": "code",
      "metadata": {
        "id": "8ZpvOUie7Qjp",
        "colab_type": "code",
        "colab": {},
        "outputId": "cd6b5c1d-229d-479c-919f-536f5443a60a"
      },
      "source": [
        "print(y_train_res)"
      ],
      "execution_count": 0,
      "outputs": [
        {
          "output_type": "stream",
          "text": [
            "0     0\n",
            "1     0\n",
            "2     0\n",
            "3     1\n",
            "4     0\n",
            "     ..\n",
            "71    1\n",
            "72    1\n",
            "73    1\n",
            "74    1\n",
            "75    1\n",
            "Name: TrainPres, Length: 76, dtype: int64\n"
          ],
          "name": "stdout"
        }
      ]
    },
    {
      "cell_type": "code",
      "metadata": {
        "colab_type": "code",
        "id": "kE9NVW70f2SD",
        "colab": {}
      },
      "source": [
        "X_train_res_df = pd.DataFrame(x_train_res,columns=x.columns)"
      ],
      "execution_count": 0,
      "outputs": []
    },
    {
      "cell_type": "code",
      "metadata": {
        "colab_type": "code",
        "id": "04Vya-AR5HFu",
        "outputId": "e85eaa3b-713e-4af2-db46-033ef9d45116",
        "colab": {
          "base_uri": "https://localhost:8080/",
          "height": 52
        }
      },
      "source": [
        "print('orginal dataset shape{}'.format(Counter(y)))\n",
        "print('resampled dataset shape{}'.format(Counter(y_train_res)))"
      ],
      "execution_count": 0,
      "outputs": [
        {
          "output_type": "stream",
          "text": [
            "orginal dataset shapeCounter({0: 38, 1: 8})\n",
            "resampled dataset shapeCounter({0: 38, 1: 38})\n"
          ],
          "name": "stdout"
        }
      ]
    },
    {
      "cell_type": "code",
      "metadata": {
        "colab_type": "code",
        "id": "UEoFFV-ylkt6",
        "outputId": "4f5bc0f5-dec9-42d0-b89a-cc6faa44985d",
        "colab": {
          "base_uri": "https://localhost:8080/",
          "height": 217
        }
      },
      "source": [
        "X_train_res_df.head()"
      ],
      "execution_count": 0,
      "outputs": [
        {
          "output_type": "execute_result",
          "data": {
            "text/html": [
              "<div>\n",
              "<style scoped>\n",
              "    .dataframe tbody tr th:only-of-type {\n",
              "        vertical-align: middle;\n",
              "    }\n",
              "\n",
              "    .dataframe tbody tr th {\n",
              "        vertical-align: top;\n",
              "    }\n",
              "\n",
              "    .dataframe thead th {\n",
              "        text-align: right;\n",
              "    }\n",
              "</style>\n",
              "<table border=\"1\" class=\"dataframe\">\n",
              "  <thead>\n",
              "    <tr style=\"text-align: right;\">\n",
              "      <th></th>\n",
              "      <th>LUM</th>\n",
              "      <th>LUMquintile</th>\n",
              "      <th>TrainDistThresh</th>\n",
              "      <th>BusDistThresh</th>\n",
              "      <th>BusPres</th>\n",
              "      <th>AccUtDestPres</th>\n",
              "      <th>AccUtDestPresquintile</th>\n",
              "      <th>AccUtDestDist</th>\n",
              "      <th>AccUtDestDistquintile</th>\n",
              "      <th>SprtLeiDens</th>\n",
              "      <th>...</th>\n",
              "      <th>ActCenDist</th>\n",
              "      <th>ActCenDistquintile</th>\n",
              "      <th>TobPopDensp1000</th>\n",
              "      <th>TobPopDensp1000quintile</th>\n",
              "      <th>TobTobVendDist</th>\n",
              "      <th>TobTobVendDistquintile</th>\n",
              "      <th>RatioTrailsToRoads</th>\n",
              "      <th>RatioTrailsToRoadsquintile</th>\n",
              "      <th>Latitude</th>\n",
              "      <th>Longitude</th>\n",
              "    </tr>\n",
              "  </thead>\n",
              "  <tbody>\n",
              "    <tr>\n",
              "      <td>0</td>\n",
              "      <td>0.418636</td>\n",
              "      <td>4</td>\n",
              "      <td>0</td>\n",
              "      <td>1</td>\n",
              "      <td>1</td>\n",
              "      <td>2</td>\n",
              "      <td>2</td>\n",
              "      <td>2</td>\n",
              "      <td>2</td>\n",
              "      <td>0.000000</td>\n",
              "      <td>...</td>\n",
              "      <td>21768.170070</td>\n",
              "      <td>4</td>\n",
              "      <td>0.419933</td>\n",
              "      <td>2</td>\n",
              "      <td>775.371825</td>\n",
              "      <td>3</td>\n",
              "      <td>0.063443</td>\n",
              "      <td>2</td>\n",
              "      <td>-38.1567</td>\n",
              "      <td>144.5551</td>\n",
              "    </tr>\n",
              "    <tr>\n",
              "      <td>1</td>\n",
              "      <td>0.512726</td>\n",
              "      <td>4</td>\n",
              "      <td>1</td>\n",
              "      <td>1</td>\n",
              "      <td>1</td>\n",
              "      <td>7</td>\n",
              "      <td>5</td>\n",
              "      <td>7</td>\n",
              "      <td>5</td>\n",
              "      <td>0.000000</td>\n",
              "      <td>...</td>\n",
              "      <td>1812.155338</td>\n",
              "      <td>1</td>\n",
              "      <td>2.996704</td>\n",
              "      <td>4</td>\n",
              "      <td>315.721995</td>\n",
              "      <td>1</td>\n",
              "      <td>0.025997</td>\n",
              "      <td>1</td>\n",
              "      <td>-38.1333</td>\n",
              "      <td>144.3500</td>\n",
              "    </tr>\n",
              "    <tr>\n",
              "      <td>2</td>\n",
              "      <td>0.209689</td>\n",
              "      <td>2</td>\n",
              "      <td>0</td>\n",
              "      <td>1</td>\n",
              "      <td>1</td>\n",
              "      <td>5</td>\n",
              "      <td>3</td>\n",
              "      <td>4</td>\n",
              "      <td>4</td>\n",
              "      <td>0.020258</td>\n",
              "      <td>...</td>\n",
              "      <td>5267.718643</td>\n",
              "      <td>2</td>\n",
              "      <td>2.670940</td>\n",
              "      <td>4</td>\n",
              "      <td>746.243079</td>\n",
              "      <td>2</td>\n",
              "      <td>0.135687</td>\n",
              "      <td>3</td>\n",
              "      <td>-38.1700</td>\n",
              "      <td>144.3960</td>\n",
              "    </tr>\n",
              "    <tr>\n",
              "      <td>3</td>\n",
              "      <td>0.847546</td>\n",
              "      <td>5</td>\n",
              "      <td>1</td>\n",
              "      <td>1</td>\n",
              "      <td>1</td>\n",
              "      <td>7</td>\n",
              "      <td>5</td>\n",
              "      <td>7</td>\n",
              "      <td>5</td>\n",
              "      <td>0.037318</td>\n",
              "      <td>...</td>\n",
              "      <td>1663.495404</td>\n",
              "      <td>1</td>\n",
              "      <td>9.479434</td>\n",
              "      <td>5</td>\n",
              "      <td>316.179185</td>\n",
              "      <td>1</td>\n",
              "      <td>0.172038</td>\n",
              "      <td>3</td>\n",
              "      <td>-38.1674</td>\n",
              "      <td>144.3658</td>\n",
              "    </tr>\n",
              "    <tr>\n",
              "      <td>4</td>\n",
              "      <td>0.307938</td>\n",
              "      <td>3</td>\n",
              "      <td>0</td>\n",
              "      <td>1</td>\n",
              "      <td>1</td>\n",
              "      <td>3</td>\n",
              "      <td>2</td>\n",
              "      <td>4</td>\n",
              "      <td>3</td>\n",
              "      <td>0.000000</td>\n",
              "      <td>...</td>\n",
              "      <td>4325.191244</td>\n",
              "      <td>1</td>\n",
              "      <td>0.329327</td>\n",
              "      <td>2</td>\n",
              "      <td>669.341899</td>\n",
              "      <td>2</td>\n",
              "      <td>0.157551</td>\n",
              "      <td>3</td>\n",
              "      <td>-38.1200</td>\n",
              "      <td>144.3200</td>\n",
              "    </tr>\n",
              "  </tbody>\n",
              "</table>\n",
              "<p>5 rows × 39 columns</p>\n",
              "</div>"
            ],
            "text/plain": [
              "        LUM  LUMquintile  TrainDistThresh  BusDistThresh  BusPres  \\\n",
              "0  0.418636            4                0              1        1   \n",
              "1  0.512726            4                1              1        1   \n",
              "2  0.209689            2                0              1        1   \n",
              "3  0.847546            5                1              1        1   \n",
              "4  0.307938            3                0              1        1   \n",
              "\n",
              "   AccUtDestPres  AccUtDestPresquintile  AccUtDestDist  AccUtDestDistquintile  \\\n",
              "0              2                      2              2                      2   \n",
              "1              7                      5              7                      5   \n",
              "2              5                      3              4                      4   \n",
              "3              7                      5              7                      5   \n",
              "4              3                      2              4                      3   \n",
              "\n",
              "   SprtLeiDens  ...    ActCenDist  ActCenDistquintile  TobPopDensp1000  \\\n",
              "0     0.000000  ...  21768.170070                   4         0.419933   \n",
              "1     0.000000  ...   1812.155338                   1         2.996704   \n",
              "2     0.020258  ...   5267.718643                   2         2.670940   \n",
              "3     0.037318  ...   1663.495404                   1         9.479434   \n",
              "4     0.000000  ...   4325.191244                   1         0.329327   \n",
              "\n",
              "   TobPopDensp1000quintile  TobTobVendDist  TobTobVendDistquintile  \\\n",
              "0                        2      775.371825                       3   \n",
              "1                        4      315.721995                       1   \n",
              "2                        4      746.243079                       2   \n",
              "3                        5      316.179185                       1   \n",
              "4                        2      669.341899                       2   \n",
              "\n",
              "   RatioTrailsToRoads  RatioTrailsToRoadsquintile  Latitude  Longitude  \n",
              "0            0.063443                           2  -38.1567   144.5551  \n",
              "1            0.025997                           1  -38.1333   144.3500  \n",
              "2            0.135687                           3  -38.1700   144.3960  \n",
              "3            0.172038                           3  -38.1674   144.3658  \n",
              "4            0.157551                           3  -38.1200   144.3200  \n",
              "\n",
              "[5 rows x 39 columns]"
            ]
          },
          "metadata": {
            "tags": []
          },
          "execution_count": 16
        }
      ]
    },
    {
      "cell_type": "code",
      "metadata": {
        "id": "RzmJHOQt7Qj9",
        "colab_type": "code",
        "colab": {},
        "outputId": "069f2701-fed1-4edd-e40a-89d1d125d4d4"
      },
      "source": [
        "from sklearn.neighbors import KNeighborsClassifier\n",
        "from sklearn import preprocessing\n",
        "from sklearn import svm\n",
        "knn = KNeighborsClassifier()\n",
        "knn.fit(x_train_res,y_train_res)\n",
        "#Train the model using the training sets\n",
        "knn.predict(X_train_res_df)\n",
        "knn.score(x_train_res,y_train_res)\n",
        "actual = knn.predict(x_train_res) \n",
        "predicted = knn.predict(X_train_res_df) \n",
        "print(len(predicted))\n",
        "results = confusion_matrix(actual, predicted) \n",
        "print(knn.predict(X_train_res_df))  \n",
        "print(knn.score(x_train_res,y_train_res))\n",
        "print('Confusion Matrix :')\n",
        "print(results) \n",
        "print ('Accuracy Score :')\n",
        "print(accuracy_score(actual, predicted)) \n",
        "print ('Report : ')\n",
        "print (classification_report(actual, predicted))\n",
        "print(title)\n",
        "print('SCATTER PLOT')\n",
        "plt.scatter(x_train_res.iloc[:,37],y_train_res)\n",
        "plt.show()"
      ],
      "execution_count": 0,
      "outputs": [
        {
          "output_type": "stream",
          "text": [
            "76\n",
            "[1 1 0 1 0 0 0 1 0 1 1 0 0 0 0 0 0 1 1 0 1 0 1 1 0 0 0 1 1 0 0 0 0 0 0 0 0\n",
            " 0 0 0 0 0 0 0 0 1 1 1 1 1 1 0 1 1 1 1 1 1 1 1 1 1 1 1 1 1 1 1 1 1 1 1 1 1\n",
            " 1 1]\n",
            "0.881578947368421\n",
            "Confusion Matrix :\n",
            "[[33  0]\n",
            " [ 0 43]]\n",
            "Accuracy Score :\n",
            "1.0\n",
            "Report : \n",
            "              precision    recall  f1-score   support\n",
            "\n",
            "           0       1.00      1.00      1.00        33\n",
            "           1       1.00      1.00      1.00        43\n",
            "\n",
            "    accuracy                           1.00        76\n",
            "   macro avg       1.00      1.00      1.00        76\n",
            "weighted avg       1.00      1.00      1.00        76\n",
            "\n",
            "Confusion matrix, without normalization\n",
            "SCATTER PLOT\n"
          ],
          "name": "stdout"
        },
        {
          "output_type": "display_data",
          "data": {
            "image/png": "[encoded data removed]",
            "text/plain": [
              "<Figure size 432x288 with 1 Axes>"
            ]
          },
          "metadata": {
            "tags": [],
            "needs_background": "light"
          }
        }
      ]
    },
    {
      "cell_type": "code",
      "metadata": {
        "id": "SfH2PXGJ7QkC",
        "colab_type": "code",
        "colab": {},
        "outputId": "c988493b-74e4-42b8-c30b-2930aa51e26d"
      },
      "source": [
        "## SVM\n",
        "from sklearn.metrics import plot_confusion_matrix\n",
        "from sklearn.metrics import confusion_matrix \n",
        "from sklearn.metrics import accuracy_score \n",
        "from sklearn.metrics import classification_report \n",
        "clf = svm.SVC()\n",
        "clf.fit(x_train_res,y_train_res)\n",
        "clf.predict(X_train_res_df)\n",
        "clf.score(x_train_res,y_train_res)\n",
        "actual = clf.predict(x_train_res) \n",
        "predicted = clf.predict(X_train_res_df) \n",
        "results = confusion_matrix(actual, predicted) \n",
        "print(clf.predict(X_train_res_df))  \n",
        "print(clf.score(x_train_res,y_train_res))\n",
        "print('Confusion Matrix :')\n",
        "print(results) \n",
        "print ('Accuracy Score :')\n",
        "print(accuracy_score(actual, predicted)) \n",
        "print ('Report : ')\n",
        "print (classification_report(actual, predicted))\n",
        "print(title)\n",
        "print('SCATTER PLOT')\n",
        "plt.scatter(x_train_res.iloc[:,23],y_train_res)\n",
        "plt.show()"
      ],
      "execution_count": 0,
      "outputs": [
        {
          "output_type": "stream",
          "text": [
            "[0 1 1 1 1 1 1 1 1 1 0 1 1 1 0 0 0 1 1 1 1 1 1 1 1 0 1 0 1 0 0 0 0 0 0 0 0\n",
            " 1 0 1 0 0 0 0 0 0 1 1 1 1 1 0 1 0 1 0 1 1 1 1 1 1 1 1 1 1 0 1 1 1 1 1 1 1\n",
            " 1 1]\n",
            "0.6842105263157895\n",
            "Confusion Matrix :\n",
            "[[26  0]\n",
            " [ 0 50]]\n",
            "Accuracy Score :\n",
            "1.0\n",
            "Report : \n",
            "              precision    recall  f1-score   support\n",
            "\n",
            "           0       1.00      1.00      1.00        26\n",
            "           1       1.00      1.00      1.00        50\n",
            "\n",
            "    accuracy                           1.00        76\n",
            "   macro avg       1.00      1.00      1.00        76\n",
            "weighted avg       1.00      1.00      1.00        76\n",
            "\n",
            "Confusion matrix, without normalization\n",
            "SCATTER PLOT\n"
          ],
          "name": "stdout"
        },
        {
          "output_type": "display_data",
          "data": {
            "image/png": "[encoded data removed]",
            "text/plain": [
              "<Figure size 432x288 with 1 Axes>"
            ]
          },
          "metadata": {
            "tags": [],
            "needs_background": "light"
          }
        }
      ]
    },
    {
      "cell_type": "code",
      "metadata": {
        "id": "033jlljr7QkH",
        "colab_type": "code",
        "colab": {}
      },
      "source": [
        ""
      ],
      "execution_count": 0,
      "outputs": []
    }
  ]
}